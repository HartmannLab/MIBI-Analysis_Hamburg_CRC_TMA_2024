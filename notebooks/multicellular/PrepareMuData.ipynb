{
 "cells": [
  {
   "cell_type": "markdown",
   "metadata": {},
   "source": [
    "## Prepare MuData object\n",
    "We want to prepare a MuData object where the different views represent the different cell types profiled, each row is one sample (patient) and each column is one feature derived from the MIBI images and previously used to predict cancer stage (see *StageXGB.ipynb*)."
   ]
  },
  {
   "cell_type": "code",
   "execution_count": 1,
   "metadata": {},
   "outputs": [
    {
     "name": "stderr",
     "output_type": "stream",
     "text": [
      "/home/loan/miniforge3/envs/liana/lib/python3.11/site-packages/tqdm/auto.py:21: TqdmWarning: IProgress not found. Please update jupyter and ipywidgets. See https://ipywidgets.readthedocs.io/en/stable/user_install.html\n",
      "  from .autonotebook import tqdm as notebook_tqdm\n"
     ]
    }
   ],
   "source": [
    "import pandas as pd\n",
    "import numpy as np\n",
    "import muon as mu\n",
    "import scanpy as sc\n",
    "from time import ctime"
   ]
  },
  {
   "cell_type": "markdown",
   "metadata": {},
   "source": [
    "## 1 – Cell type composition\n",
    "As we now stratify data per cell type, this will lead to a single value per FOV in each view: the corresponding proportion of cells belonging to this paerticular type."
   ]
  },
  {
   "cell_type": "code",
   "execution_count": 2,
   "metadata": {},
   "outputs": [
    {
     "name": "stderr",
     "output_type": "stream",
     "text": [
      "/tmp/ipykernel_4098791/1000358550.py:1: DtypeWarning: Columns (39,40,41,42,43,44,45,46,48,49,52,53,54,55,56,57,58,59,60,61,62,63,65,66,68) have mixed types. Specify dtype option on import or set low_memory=False.\n",
      "  cell_table = pd.read_csv(\"../../data/cell_table_with_types_stage.csv\",\n"
     ]
    }
   ],
   "source": [
    "cell_table = pd.read_csv(\"../../data/cell_table_with_types_stage.csv\", \n",
    "                         index_col = 0)"
   ]
  },
  {
   "cell_type": "code",
   "execution_count": 3,
   "metadata": {},
   "outputs": [],
   "source": [
    "metab_markers = ['CA9', 'CD98', 'CytC', 'MCT1', 'ASCT2', 'LDH', 'GS', 'GLS', 'ATP5A', 'CS', 'PKM2', 'GLUT1', 'ARG1', 'CPT1A', 'Ki67']\n",
    "\n",
    "# Only metabolic markers for cancer/epithelial cells\n",
    "df = cell_table.loc[cell_table.consensus == \"Cancer_cell\",metab_markers] \n",
    "meta = cell_table.loc[cell_table.consensus == \"Cancer_cell\",[\"Stage\",\"fov\"]]\n",
    "\n",
    "# A few FOVs show only few epithelial cells and might only add noise to the analysis\n",
    "sparse_epi_fovs = meta.fov.value_counts()[meta.fov.value_counts() <= 20].index\n",
    "df = df.loc[~meta.fov.isin(sparse_epi_fovs)]\n",
    "meta = meta.loc[~meta.fov.isin(sparse_epi_fovs)]\n",
    "\n",
    "# Only keep well-annotated stages\n",
    "epithelial_subset = meta[\"Stage\"].isin([\"Colon-no.\", \"pT1\", \"pT2\", \"pT3\", \"pT4\"]).values\n",
    "\n",
    "df_per_fov = df.copy()\n",
    "df_per_fov[\"fov\"] = meta[\"fov\"] \n",
    "df_per_fov = df_per_fov.loc[epithelial_subset].groupby(\"fov\").mean()\n",
    "meta_per_fov = meta.loc[epithelial_subset].groupby(\"fov\").first()"
   ]
  },
  {
   "cell_type": "code",
   "execution_count": 4,
   "metadata": {},
   "outputs": [
    {
     "data": {
      "text/plain": [
       "consensus\n",
       "APC                  0.801418\n",
       "B_cell               0.189125\n",
       "CAF                  0.959811\n",
       "CD163_Macrophage     0.879433\n",
       "CD4_Tcell            0.943262\n",
       "CD68_Macrophage      0.950355\n",
       "CD8_Tcell            0.869976\n",
       "Cancer_cell          1.000000\n",
       "Endothelial_cell     0.983452\n",
       "Monocyte             0.992908\n",
       "NK_cell              0.782506\n",
       "Neutrophil           0.808511\n",
       "Other_immune_cell    0.983452\n",
       "T_reg_cell           0.652482\n",
       "Unclear              1.000000\n",
       "dtype: float64"
      ]
     },
     "execution_count": 4,
     "metadata": {},
     "output_type": "execute_result"
    }
   ],
   "source": [
    "cell_type_proportions = cell_table.groupby(\"fov\")[\"consensus\"].value_counts().unstack().fillna(0)\n",
    "# Normalize by the number of cells in each FOV\n",
    "cell_type_proportions = cell_type_proportions.div(cell_type_proportions.sum(axis=1), axis=0)\n",
    "# Match to metadata and kept FOVs\n",
    "cell_type_proportions = cell_type_proportions.loc[meta_per_fov.index]\n",
    "# Some types are only present in a minority of FOVs\n",
    "(cell_type_proportions > 0).sum(axis='rows')/len(cell_type_proportions)"
   ]
  },
  {
   "cell_type": "code",
   "execution_count": 5,
   "metadata": {},
   "outputs": [],
   "source": [
    "# We redefine more balanced classes\n",
    "types_of_interest = dict(\n",
    "    Other_immune_cell = [\"APC\", \"B_cell\", \"Neutrophil\", \"Other_immune_cell\"],\n",
    "    Fibroblast = [\"CAF\"],\n",
    "    Macrophage = [\"CD163_Macrophage\", \"CD68_Macrophage\"],\n",
    "    CD4_lymphocyte = [\"CD4_Tcell\", \"T_reg_cell\"],\n",
    "    Epithelial_cell = [\"Cancer_cell\"],\n",
    "    Endothelial_cell = [\"Endothelial_cell\"],\n",
    "    Monocyte = [\"Monocyte\"],\n",
    "    Cytotoxic_lymphocyte = [\"NK_cell\", \"CD8_Tcell\"],\n",
    ")"
   ]
  },
  {
   "cell_type": "markdown",
   "metadata": {},
   "source": [
    "Could be stored as AnnData directly:\n",
    "```Python\n",
    "features_ad = {}\n",
    "for type in types_of_interest.keys():\n",
    "    features_ad[type] = mu.AnnData(cell_type_proportions.loc[:,types_of_interest[type]].sum(axis=1).to_numpy().reshape(-1, 1))\n",
    "    # Keep track of the name of the features and observations\n",
    "    features_ad[type].obs.index = cell_type_proportions.index.to_list()\n",
    "    features_ad[type].var.index = [\"Proportion\"]\n",
    "```\n",
    "Alternatively, we keep each cell-type dataset as a `DataFrame` to easily join additional features in the following sections."
   ]
  },
  {
   "cell_type": "code",
   "execution_count": 6,
   "metadata": {},
   "outputs": [],
   "source": [
    "features_ad = {}\n",
    "for type in types_of_interest.keys():\n",
    "    features_ad[type] = pd.DataFrame(cell_type_proportions.loc[:,types_of_interest[type]].sum(axis=1).to_numpy().reshape(-1, 1),\n",
    "                                     index = cell_type_proportions.index.to_list(),\n",
    "                                     columns = [\"proportion\"])"
   ]
  },
  {
   "cell_type": "markdown",
   "metadata": {},
   "source": [
    "## 2 – Metabolic clusters"
   ]
  },
  {
   "cell_type": "markdown",
   "metadata": {},
   "source": [
    "Note that the metabolic clusters are defined per cell type, and that they are computed over the whole dataset, and not limited to the predictive models cross-validation inner fold, so even for cancer cells, the result will be different than the clusters previously described."
   ]
  },
  {
   "cell_type": "code",
   "execution_count": 7,
   "metadata": {},
   "outputs": [
    {
     "name": "stdout",
     "output_type": "stream",
     "text": [
      "Fri Jan 31 17:52:35 2025 – Processing Other_immune_cell\n"
     ]
    },
    {
     "name": "stderr",
     "output_type": "stream",
     "text": [
      "/home/loan/miniforge3/envs/liana/lib/python3.11/site-packages/anndata/_core/aligned_df.py:68: ImplicitModificationWarning: Transforming to str index.\n",
      "  warnings.warn(\"Transforming to str index.\", ImplicitModificationWarning)\n",
      "/home/loan/miniforge3/envs/liana/lib/python3.11/site-packages/numba/np/ufunc/parallel.py:371: NumbaWarning: The TBB threading layer requires TBB version 2021 update 6 or later i.e., TBB_INTERFACE_VERSION >= 12060. Found TBB_INTERFACE_VERSION = 12050. The TBB threading layer is disabled.\n",
      "  warnings.warn(problem)\n",
      "/tmp/ipykernel_4098791/1634018587.py:16: FutureWarning: In the future, the default backend for leiden will be igraph instead of leidenalg.\n",
      "\n",
      " To achieve the future defaults please pass: flavor=\"igraph\" and n_iterations=2.  directed must also be False to work with igraph's implementation.\n",
      "  sc.tl.leiden(ad, resolution=resolution)\n"
     ]
    },
    {
     "name": "stdout",
     "output_type": "stream",
     "text": [
      "Fri Jan 31 17:53:00 2025 – Processing Fibroblast\n"
     ]
    },
    {
     "name": "stderr",
     "output_type": "stream",
     "text": [
      "/home/loan/miniforge3/envs/liana/lib/python3.11/site-packages/anndata/_core/aligned_df.py:68: ImplicitModificationWarning: Transforming to str index.\n",
      "  warnings.warn(\"Transforming to str index.\", ImplicitModificationWarning)\n"
     ]
    },
    {
     "name": "stdout",
     "output_type": "stream",
     "text": [
      "Fri Jan 31 17:53:33 2025 – Processing Macrophage\n"
     ]
    },
    {
     "name": "stderr",
     "output_type": "stream",
     "text": [
      "/home/loan/miniforge3/envs/liana/lib/python3.11/site-packages/anndata/_core/aligned_df.py:68: ImplicitModificationWarning: Transforming to str index.\n",
      "  warnings.warn(\"Transforming to str index.\", ImplicitModificationWarning)\n"
     ]
    },
    {
     "name": "stdout",
     "output_type": "stream",
     "text": [
      "Fri Jan 31 17:53:36 2025 – Processing CD4_lymphocyte\n"
     ]
    },
    {
     "name": "stderr",
     "output_type": "stream",
     "text": [
      "/home/loan/miniforge3/envs/liana/lib/python3.11/site-packages/anndata/_core/aligned_df.py:68: ImplicitModificationWarning: Transforming to str index.\n",
      "  warnings.warn(\"Transforming to str index.\", ImplicitModificationWarning)\n"
     ]
    },
    {
     "name": "stdout",
     "output_type": "stream",
     "text": [
      "Fri Jan 31 17:53:39 2025 – Processing Epithelial_cell\n"
     ]
    },
    {
     "name": "stderr",
     "output_type": "stream",
     "text": [
      "/home/loan/miniforge3/envs/liana/lib/python3.11/site-packages/anndata/_core/aligned_df.py:68: ImplicitModificationWarning: Transforming to str index.\n",
      "  warnings.warn(\"Transforming to str index.\", ImplicitModificationWarning)\n"
     ]
    },
    {
     "name": "stdout",
     "output_type": "stream",
     "text": [
      "Fri Jan 31 17:56:54 2025 – Processing Endothelial_cell\n"
     ]
    },
    {
     "name": "stderr",
     "output_type": "stream",
     "text": [
      "/home/loan/miniforge3/envs/liana/lib/python3.11/site-packages/anndata/_core/aligned_df.py:68: ImplicitModificationWarning: Transforming to str index.\n",
      "  warnings.warn(\"Transforming to str index.\", ImplicitModificationWarning)\n"
     ]
    },
    {
     "name": "stdout",
     "output_type": "stream",
     "text": [
      "Fri Jan 31 17:57:01 2025 – Processing Monocyte\n"
     ]
    },
    {
     "name": "stderr",
     "output_type": "stream",
     "text": [
      "/home/loan/miniforge3/envs/liana/lib/python3.11/site-packages/anndata/_core/aligned_df.py:68: ImplicitModificationWarning: Transforming to str index.\n",
      "  warnings.warn(\"Transforming to str index.\", ImplicitModificationWarning)\n"
     ]
    },
    {
     "name": "stdout",
     "output_type": "stream",
     "text": [
      "Fri Jan 31 17:57:06 2025 – Processing Cytotoxic_lymphocyte\n"
     ]
    },
    {
     "name": "stderr",
     "output_type": "stream",
     "text": [
      "/home/loan/miniforge3/envs/liana/lib/python3.11/site-packages/anndata/_core/aligned_df.py:68: ImplicitModificationWarning: Transforming to str index.\n",
      "  warnings.warn(\"Transforming to str index.\", ImplicitModificationWarning)\n"
     ]
    }
   ],
   "source": [
    "# Use class to define local scope and run the code directly\n",
    "class Scope:\n",
    "    # Step 0: Define parameters\n",
    "    n_neighbors = 5\n",
    "    resolution = 0.23\n",
    "\n",
    "    for type in types_of_interest.keys():\n",
    "        print(f\"{ctime()} – Processing {type}\")\n",
    "        # Step 1: Extract relevant cell data\n",
    "        X = cell_table.loc[cell_table.consensus.isin(types_of_interest[type]),metab_markers+[\"fov\"]]\n",
    "        X = X.loc[X.fov.isin(df_per_fov.index)]\n",
    "\n",
    "        # Step 2: Define metabolic clusters\n",
    "        ad = mu.AnnData(X.drop(columns=[\"fov\"]))\n",
    "        sc.pp.neighbors(ad, n_neighbors=n_neighbors)\n",
    "        sc.tl.leiden(ad, resolution=resolution)\n",
    "        ad.obs.leiden = ad.obs.leiden.values.astype(int)\n",
    "\n",
    "        # Step 3: Aggregate per FOV\n",
    "        fov_cluster_composition = pd.DataFrame(ad.obs.leiden.values, columns=[\"Cluster\"])\n",
    "        fov_cluster_composition[\"fov\"] = (\n",
    "            X[\"fov\"].values\n",
    "        )\n",
    "        fov_cluster_composition = (\n",
    "            fov_cluster_composition.groupby(\"fov\")[\"Cluster\"].value_counts().unstack().fillna(0)\n",
    "        )\n",
    "        # Normalize by the number of cells in each FOV\n",
    "        fov_cluster_composition = (\n",
    "            fov_cluster_composition.div(fov_cluster_composition.sum(axis=1), axis=0)\n",
    "        )\n",
    "        fov_cluster_composition.columns = [f\"metabolic_cluster_{col}\" for col in fov_cluster_composition.columns]\n",
    "\n",
    "        # Step 4: Store results in multi-feature DataFrame object\n",
    "        features_ad[type] = features_ad[type].join(fov_cluster_composition)"
   ]
  },
  {
   "cell_type": "markdown",
   "metadata": {},
   "source": [
    "## 3 – MISTy features\n",
    "In a FOV, is the cell type a good predictor of another cell type?"
   ]
  },
  {
   "cell_type": "code",
   "execution_count": 8,
   "metadata": {},
   "outputs": [
    {
     "name": "stderr",
     "output_type": "stream",
     "text": [
      "/home/loan/miniforge3/envs/liana/lib/python3.11/site-packages/numpy/core/fromnumeric.py:86: FutureWarning: The behavior of DataFrame.sum with axis=None is deprecated, in a future version this will reduce over both axes and return a scalar. To retain the old behavior, pass axis=0 (or do not pass axis)\n",
      "  return reduction(axis=axis, out=out, **passkwargs)\n"
     ]
    }
   ],
   "source": [
    "misty_features_raw = pd.read_csv(\"../../data/misty_lineage_features.csv\", index_col=0)\n",
    "# Subset to top 100 most common features\n",
    "misty_features = misty_features_raw.iloc[:,np.argsort(-np.sum(misty_features_raw > 0))[:100]]"
   ]
  },
  {
   "cell_type": "code",
   "execution_count": 9,
   "metadata": {},
   "outputs": [],
   "source": [
    "for type, subtypes in types_of_interest.items():\n",
    "    for subtype in subtypes:\n",
    "        # Get only columns of `misty_features` that correspond to interactions of subtypes\n",
    "        features_ad[type] = features_ad[type].join(misty_features.loc[:,misty_features.columns.str.contains(f\"_l.{subtype}\")])\n",
    "        features_ad[type] = features_ad[type].join(misty_features.loc[:,misty_features.columns.str.contains(f\"_p.{subtype}\")])"
   ]
  },
  {
   "cell_type": "markdown",
   "metadata": {},
   "source": [
    "## 4 – Kasumi features\n",
    "Kasumi results are not defined at the level of individual cells nor stratified by cell types and are not included in the factor analysis. "
   ]
  },
  {
   "cell_type": "markdown",
   "metadata": {},
   "source": [
    "## 5 – Morphological features"
   ]
  },
  {
   "cell_type": "code",
   "execution_count": 10,
   "metadata": {},
   "outputs": [
    {
     "name": "stdout",
     "output_type": "stream",
     "text": [
      "Fri Jan 31 17:57:08 2025 – Processing Other_immune_cell\n",
      "Fri Jan 31 17:57:08 2025 – Processing Fibroblast\n",
      "Fri Jan 31 17:57:08 2025 – Processing Macrophage\n",
      "Fri Jan 31 17:57:08 2025 – Processing CD4_lymphocyte\n",
      "Fri Jan 31 17:57:08 2025 – Processing Epithelial_cell\n",
      "Fri Jan 31 17:57:08 2025 – Processing Endothelial_cell\n",
      "Fri Jan 31 17:57:08 2025 – Processing Monocyte\n",
      "Fri Jan 31 17:57:08 2025 – Processing Cytotoxic_lymphocyte\n"
     ]
    }
   ],
   "source": [
    "# Use class to define local scope and run the code directly\n",
    "class Scope:\n",
    "    # Step 0: Define parameters\n",
    "    morpho_features = ['eccentricity', 'perimeter', 'area']\n",
    "\n",
    "    for type in types_of_interest.keys():\n",
    "        print(f\"{ctime()} – Processing {type}\")\n",
    "        # Step 1: Extract relevant cell data\n",
    "        X = cell_table.loc[cell_table.consensus.isin(types_of_interest[type]),morpho_features+[\"fov\"]]\n",
    "        X = X.loc[X.fov.isin(df_per_fov.index)]\n",
    "\n",
    "        # Step 2: Aggregate per FOV\n",
    "        df_morpho_per_fov = X.groupby(\"fov\").mean().join(X.groupby(\"fov\").std(), rsuffix=\"_std\")\n",
    "\n",
    "        # Step 3: Store results in multi-feature DataFrame object\n",
    "        features_ad[type] = features_ad[type].join(df_morpho_per_fov)"
   ]
  },
  {
   "cell_type": "markdown",
   "metadata": {},
   "source": [
    "## 6 – Additional features\n",
    "More cell-type-level features could be included, such as mean and variance of functional markers relevant for a cell type.  \n",
    "This can be an interesting time to include PD1 (T cells), STING1 and PDL1 (all?).  \n",
    "For all cell types, we could include Ki67, MSH2, MSH6.\n",
    "What about DCN?"
   ]
  },
  {
   "cell_type": "code",
   "execution_count": 11,
   "metadata": {},
   "outputs": [
    {
     "name": "stdout",
     "output_type": "stream",
     "text": [
      "Fri Jan 31 17:57:08 2025 – Expression in Other_immune_cell\n",
      "0.07829730542952233\n",
      "Fri Jan 31 17:57:08 2025 – Expression in Fibroblast\n",
      "0.02036398851607919\n",
      "Fri Jan 31 17:57:08 2025 – Expression in Macrophage\n",
      "0.07754504306914248\n",
      "Fri Jan 31 17:57:08 2025 – Expression in CD4_lymphocyte\n",
      "0.21412038656954321\n",
      "Fri Jan 31 17:57:08 2025 – Expression in Epithelial_cell\n",
      "0.09137567799882322\n",
      "Fri Jan 31 17:57:08 2025 – Expression in Endothelial_cell\n",
      "0.06979465511900515\n",
      "Fri Jan 31 17:57:08 2025 – Expression in Monocyte\n",
      "0.05747557888268267\n",
      "Fri Jan 31 17:57:08 2025 – Expression in Cytotoxic_lymphocyte\n",
      "0.1618491228117907\n"
     ]
    }
   ],
   "source": [
    "for type in types_of_interest.keys():\n",
    "    print(f\"{ctime()} – Expression in {type}\")\n",
    "    print(cell_table.loc[cell_table.consensus.isin(types_of_interest[type]),\"PD1\"].mean())"
   ]
  },
  {
   "cell_type": "code",
   "execution_count": 12,
   "metadata": {},
   "outputs": [
    {
     "name": "stdout",
     "output_type": "stream",
     "text": [
      "Fri Jan 31 17:57:08 2025 – Expression in Other_immune_cell\n",
      "0.12091111463322718\n",
      "Fri Jan 31 17:57:08 2025 – Expression in Fibroblast\n",
      "0.030203571452527413\n",
      "Fri Jan 31 17:57:08 2025 – Expression in Macrophage\n",
      "0.16249753025669383\n",
      "Fri Jan 31 17:57:08 2025 – Expression in CD4_lymphocyte\n",
      "0.11350441258574195\n",
      "Fri Jan 31 17:57:08 2025 – Expression in Epithelial_cell\n",
      "0.06635339089230838\n",
      "Fri Jan 31 17:57:08 2025 – Expression in Endothelial_cell\n",
      "0.08904043214021373\n",
      "Fri Jan 31 17:57:08 2025 – Expression in Monocyte\n",
      "0.12649067323902882\n",
      "Fri Jan 31 17:57:08 2025 – Expression in Cytotoxic_lymphocyte\n",
      "0.09267511686315565\n"
     ]
    }
   ],
   "source": [
    "for type in types_of_interest.keys():\n",
    "    print(f\"{ctime()} – Expression in {type}\")\n",
    "    print(cell_table.loc[cell_table.consensus.isin(types_of_interest[type]),\"PDL1\"].mean())"
   ]
  },
  {
   "cell_type": "code",
   "execution_count": 13,
   "metadata": {},
   "outputs": [
    {
     "name": "stdout",
     "output_type": "stream",
     "text": [
      "Fri Jan 31 17:57:08 2025 – Expression in Other_immune_cell\n",
      "0.14291770399929662\n",
      "Fri Jan 31 17:57:09 2025 – Expression in Fibroblast\n",
      "0.046669879899428376\n",
      "Fri Jan 31 17:57:09 2025 – Expression in Macrophage\n",
      "0.1779816841313718\n",
      "Fri Jan 31 17:57:09 2025 – Expression in CD4_lymphocyte\n",
      "0.1330325918971477\n",
      "Fri Jan 31 17:57:09 2025 – Expression in Epithelial_cell\n",
      "0.07340557715989628\n",
      "Fri Jan 31 17:57:09 2025 – Expression in Endothelial_cell\n",
      "0.1021410369765828\n",
      "Fri Jan 31 17:57:09 2025 – Expression in Monocyte\n",
      "0.17149666072296801\n",
      "Fri Jan 31 17:57:09 2025 – Expression in Cytotoxic_lymphocyte\n",
      "0.10927458079883498\n"
     ]
    }
   ],
   "source": [
    "for type in types_of_interest.keys():\n",
    "    print(f\"{ctime()} – Expression in {type}\")\n",
    "    print(cell_table.loc[cell_table.consensus.isin(types_of_interest[type]),\"PDL1\"].std())"
   ]
  },
  {
   "cell_type": "code",
   "execution_count": 14,
   "metadata": {},
   "outputs": [
    {
     "name": "stdout",
     "output_type": "stream",
     "text": [
      "Fri Jan 31 17:57:09 2025 – Expression in Other_immune_cell\n",
      "0.22799981269187136\n",
      "Fri Jan 31 17:57:09 2025 – Expression in Fibroblast\n",
      "0.1344997992812595\n",
      "Fri Jan 31 17:57:09 2025 – Expression in Macrophage\n",
      "0.36416741189387775\n",
      "Fri Jan 31 17:57:09 2025 – Expression in CD4_lymphocyte\n",
      "0.3708812559006673\n",
      "Fri Jan 31 17:57:09 2025 – Expression in Epithelial_cell\n",
      "0.1997073624666894\n",
      "Fri Jan 31 17:57:09 2025 – Expression in Endothelial_cell\n",
      "0.3575580239285345\n",
      "Fri Jan 31 17:57:09 2025 – Expression in Monocyte\n",
      "0.2982399147082395\n",
      "Fri Jan 31 17:57:09 2025 – Expression in Cytotoxic_lymphocyte\n",
      "0.221863044902187\n"
     ]
    }
   ],
   "source": [
    "for type in types_of_interest.keys():\n",
    "    print(f\"{ctime()} – Expression in {type}\")\n",
    "    print(cell_table.loc[cell_table.consensus.isin(types_of_interest[type]),\"STING1\"].mean())"
   ]
  },
  {
   "cell_type": "markdown",
   "metadata": {},
   "source": [
    "## 7 – Compile and export"
   ]
  },
  {
   "cell_type": "code",
   "execution_count": 15,
   "metadata": {},
   "outputs": [
    {
     "name": "stdout",
     "output_type": "stream",
     "text": [
      "Fri Jan 31 17:57:09 2025 – Visualizing Other_immune_cell\n",
      "     proportion  metabolic_cluster_0  metabolic_cluster_1  \\\n",
      "A1a    0.016150             0.040000             0.000000   \n",
      "A1c    0.042797             0.042254             0.774648   \n",
      "A1d    0.065589             0.028986             0.115942   \n",
      "A1e    0.031785             0.230769             0.134615   \n",
      "A1f    0.041812             0.020833             0.270833   \n",
      "\n",
      "     metabolic_cluster_2  metabolic_cluster_3  metabolic_cluster_4  \\\n",
      "A1a             0.000000             0.600000             0.000000   \n",
      "A1c             0.014085             0.084507             0.000000   \n",
      "A1d             0.043478             0.420290             0.000000   \n",
      "A1e             0.384615             0.076923             0.000000   \n",
      "A1f             0.083333             0.333333             0.041667   \n",
      "\n",
      "     metabolic_cluster_5  metabolic_cluster_6  metabolic_cluster_7  \\\n",
      "A1a             0.360000             0.000000             0.000000   \n",
      "A1c             0.028169             0.056338             0.000000   \n",
      "A1d             0.318841             0.057971             0.014493   \n",
      "A1e             0.134615             0.019231             0.019231   \n",
      "A1f             0.104167             0.145833             0.000000   \n",
      "\n",
      "     metabolic_cluster_8  ...  paraview.120_p.Other_immune_cell_Monocyte  \\\n",
      "A1a                  0.0  ...                                        0.0   \n",
      "A1c                  0.0  ...                                        0.0   \n",
      "A1d                  0.0  ...                                        0.0   \n",
      "A1e                  0.0  ...                                        0.0   \n",
      "A1f                  0.0  ...                                        0.0   \n",
      "\n",
      "     paraview.120_p.Other_immune_cell_Endothelial_cell  \\\n",
      "A1a                                                0.0   \n",
      "A1c                                                0.0   \n",
      "A1d                                                0.0   \n",
      "A1e                                                0.0   \n",
      "A1f                                                0.0   \n",
      "\n",
      "     paraview.120_p.Other_immune_cell_CD4_Tcell  \\\n",
      "A1a                                         0.0   \n",
      "A1c                                         0.0   \n",
      "A1d                                         0.0   \n",
      "A1e                                         0.0   \n",
      "A1f                                         0.0   \n",
      "\n",
      "     paraview.120_p.Other_immune_cell_CD8_Tcell  eccentricity  perimeter  \\\n",
      "A1a                                    1.006692      0.636296  75.747988   \n",
      "A1c                                    0.000000      0.643797  71.124123   \n",
      "A1d                                    0.000000      0.615755  80.630363   \n",
      "A1e                                    0.000000      0.632240  79.102157   \n",
      "A1f                                    0.000000      0.603880  77.428076   \n",
      "\n",
      "           area  eccentricity_std  perimeter_std    area_std  \n",
      "A1a  402.440000          0.117561      18.655115  175.601604  \n",
      "A1c  360.577465          0.152861      22.193104  201.004525  \n",
      "A1d  447.159420          0.159020      23.840905  236.160254  \n",
      "A1e  427.096154          0.157598      20.063969  205.696260  \n",
      "A1f  407.583333          0.153694      17.785147  177.068785  \n",
      "\n",
      "[5 rows x 33 columns]\n",
      "Fri Jan 31 17:57:09 2025 – Visualizing Fibroblast\n",
      "     proportion  metabolic_cluster_0  metabolic_cluster_1  \\\n",
      "A1a    0.007106             0.000000             0.000000   \n",
      "A1c    0.039180             0.015385             0.661538   \n",
      "A1d    0.065589             0.014493             0.202899   \n",
      "A1e    0.053790             0.068182             0.147727   \n",
      "A1f    0.012195             0.000000             0.071429   \n",
      "\n",
      "     metabolic_cluster_2  metabolic_cluster_3  metabolic_cluster_4  \\\n",
      "A1a             0.636364             0.090909             0.272727   \n",
      "A1c             0.215385             0.000000             0.000000   \n",
      "A1d             0.739130             0.000000             0.028986   \n",
      "A1e             0.602273             0.079545             0.079545   \n",
      "A1f             0.928571             0.000000             0.000000   \n",
      "\n",
      "     metabolic_cluster_5  metabolic_cluster_6  metabolic_cluster_7  \\\n",
      "A1a             0.000000                  0.0                  0.0   \n",
      "A1c             0.107692                  0.0                  0.0   \n",
      "A1d             0.014493                  0.0                  0.0   \n",
      "A1e             0.022727                  0.0                  0.0   \n",
      "A1f             0.000000                  0.0                  0.0   \n",
      "\n",
      "     juxtaview.40_l.CAF_CAF  ...  paraview.120_p.CAF_Endothelial_cell  \\\n",
      "A1a                2.906951  ...                                  0.0   \n",
      "A1c                3.171733  ...                                  0.0   \n",
      "A1d                2.471668  ...                                  0.0   \n",
      "A1e                3.088748  ...                                  0.0   \n",
      "A1f                0.000000  ...                                  0.0   \n",
      "\n",
      "     paraview.120_p.CAF_CD4_Tcell  paraview.120_p.CAF_Monocyte  \\\n",
      "A1a                      1.114899                          0.0   \n",
      "A1c                      1.989703                          0.0   \n",
      "A1d                      0.000000                          0.0   \n",
      "A1e                      0.000000                          0.0   \n",
      "A1f                      0.000000                          0.0   \n",
      "\n",
      "     paraview.120_p.CAF_CD163_Macrophage  eccentricity  perimeter        area  \\\n",
      "A1a                             0.000000      0.584151  54.753306  215.818182   \n",
      "A1c                             1.517601      0.645446  77.358603  403.953846   \n",
      "A1d                             0.000000      0.621192  80.847770  458.782609   \n",
      "A1e                             0.000000      0.680879  72.772286  359.579545   \n",
      "A1f                             0.000000      0.590116  69.630465  353.357143   \n",
      "\n",
      "     eccentricity_std  perimeter_std    area_std  \n",
      "A1a          0.175262      11.578851   91.807209  \n",
      "A1c          0.147562      21.063130  199.113852  \n",
      "A1d          0.178395      23.386045  238.030267  \n",
      "A1e          0.136888      16.131668  145.192597  \n",
      "A1f          0.109563      20.738059  208.094877  \n",
      "\n",
      "[5 rows x 29 columns]\n",
      "Fri Jan 31 17:57:09 2025 – Visualizing Macrophage\n",
      "     proportion  metabolic_cluster_0  metabolic_cluster_1  \\\n",
      "A1a    0.002584               0.0000             0.000000   \n",
      "A1c    0.025316               0.0000             0.095238   \n",
      "A1d    0.015209               0.0625             0.500000   \n",
      "A1e    0.009780               0.1875             0.625000   \n",
      "A1f    0.004355               0.0000             0.200000   \n",
      "\n",
      "     metabolic_cluster_2  metabolic_cluster_3  metabolic_cluster_4  \\\n",
      "A1a             1.000000             0.000000                  0.0   \n",
      "A1c             0.142857             0.761905                  0.0   \n",
      "A1d             0.250000             0.187500                  0.0   \n",
      "A1e             0.187500             0.000000                  0.0   \n",
      "A1f             0.800000             0.000000                  0.0   \n",
      "\n",
      "     metabolic_cluster_5  metabolic_cluster_6  metabolic_cluster_7  \\\n",
      "A1a                  0.0                  0.0                  0.0   \n",
      "A1c                  0.0                  0.0                  0.0   \n",
      "A1d                  0.0                  0.0                  0.0   \n",
      "A1e                  0.0                  0.0                  0.0   \n",
      "A1f                  0.0                  0.0                  0.0   \n",
      "\n",
      "     juxtaview.40_l.CD163_Macrophage_CD163_Macrophage  ...  \\\n",
      "A1a                                          0.000000  ...   \n",
      "A1c                                          1.755182  ...   \n",
      "A1d                                          2.028987  ...   \n",
      "A1e                                          3.210283  ...   \n",
      "A1f                                          0.000000  ...   \n",
      "\n",
      "     paraview.120_p.CD68_Macrophage_Other_immune_cell  \\\n",
      "A1a                                               0.0   \n",
      "A1c                                               0.0   \n",
      "A1d                                               0.0   \n",
      "A1e                                               0.0   \n",
      "A1f                                               0.0   \n",
      "\n",
      "     paraview.120_p.CD68_Macrophage_Endothelial_cell  \\\n",
      "A1a                                         0.000000   \n",
      "A1c                                         0.000000   \n",
      "A1d                                         0.000000   \n",
      "A1e                                         1.463056   \n",
      "A1f                                         0.000000   \n",
      "\n",
      "     paraview.120_p.CD68_Macrophage_Monocyte  \\\n",
      "A1a                                      0.0   \n",
      "A1c                                      0.0   \n",
      "A1d                                      0.0   \n",
      "A1e                                      0.0   \n",
      "A1f                                      0.0   \n",
      "\n",
      "     paraview.120_p.CD68_Macrophage_CD163_Macrophage  eccentricity  perimeter  \\\n",
      "A1a                                              0.0      0.617140  83.985543   \n",
      "A1c                                              0.0      0.647995  75.920144   \n",
      "A1d                                              0.0      0.649667  70.440363   \n",
      "A1e                                              0.0      0.620809  76.575009   \n",
      "A1f                                              0.0      0.691160  82.962446   \n",
      "\n",
      "           area  eccentricity_std  perimeter_std    area_std  \n",
      "A1a  473.500000          0.209019      46.253031  400.713946  \n",
      "A1c  406.357143          0.122281      18.196135  178.860188  \n",
      "A1d  343.187500          0.139003      14.171722  122.643233  \n",
      "A1e  427.562500          0.134707      23.233776  248.700347  \n",
      "A1f  463.400000          0.126296      27.396494  261.653015  \n",
      "\n",
      "[5 rows x 28 columns]\n",
      "Fri Jan 31 17:57:09 2025 – Visualizing CD4_lymphocyte\n",
      "     proportion  metabolic_cluster_0  metabolic_cluster_1  \\\n",
      "A1a    0.004522             0.142857             0.000000   \n",
      "A1c    0.001808             0.666667             0.333333   \n",
      "A1d    0.003802             0.750000             0.000000   \n",
      "A1e    0.014670             0.791667             0.125000   \n",
      "A1f    0.031359             0.888889             0.000000   \n",
      "\n",
      "     metabolic_cluster_2  metabolic_cluster_3  metabolic_cluster_4  \\\n",
      "A1a             0.571429             0.000000             0.285714   \n",
      "A1c             0.000000             0.000000             0.000000   \n",
      "A1d             0.250000             0.000000             0.000000   \n",
      "A1e             0.000000             0.041667             0.041667   \n",
      "A1f             0.111111             0.000000             0.000000   \n",
      "\n",
      "     metabolic_cluster_5  metabolic_cluster_6  \\\n",
      "A1a                  0.0                  0.0   \n",
      "A1c                  0.0                  0.0   \n",
      "A1d                  0.0                  0.0   \n",
      "A1e                  0.0                  0.0   \n",
      "A1f                  0.0                  0.0   \n",
      "\n",
      "     juxtaview.40_l.CD4_Tcell_CD4_Tcell  \\\n",
      "A1a                            0.000000   \n",
      "A1c                            0.000000   \n",
      "A1d                            0.000000   \n",
      "A1e                            1.680759   \n",
      "A1f                            0.000000   \n",
      "\n",
      "     juxtaview.40_l.CD4_Tcell_Other_immune_cell  ...  \\\n",
      "A1a                                     0.00000  ...   \n",
      "A1c                                     0.00000  ...   \n",
      "A1d                                     0.00000  ...   \n",
      "A1e                                     0.00000  ...   \n",
      "A1f                                     2.90362  ...   \n",
      "\n",
      "     paraview.120_p.CD4_Tcell_CD4_Tcell  \\\n",
      "A1a                            0.000000   \n",
      "A1c                            2.338014   \n",
      "A1d                            0.000000   \n",
      "A1e                            0.000000   \n",
      "A1f                            1.723341   \n",
      "\n",
      "     paraview.120_p.CD4_Tcell_Endothelial_cell  \\\n",
      "A1a                                        0.0   \n",
      "A1c                                        0.0   \n",
      "A1d                                        0.0   \n",
      "A1e                                        0.0   \n",
      "A1f                                        0.0   \n",
      "\n",
      "     paraview.120_p.CD4_Tcell_Monocyte  paraview.120_p.CD4_Tcell_Cancer_cell  \\\n",
      "A1a                           0.000000                              0.000000   \n",
      "A1c                           0.000000                              0.000000   \n",
      "A1d                           0.000000                              0.000000   \n",
      "A1e                           0.000000                              0.000000   \n",
      "A1f                           1.185308                              2.109132   \n",
      "\n",
      "     eccentricity  perimeter        area  eccentricity_std  perimeter_std  \\\n",
      "A1a      0.581355  65.171872  314.714286          0.128060      13.077039   \n",
      "A1c      0.666106  80.607792  440.333333          0.047469       4.783570   \n",
      "A1d      0.538646  62.466252  293.750000          0.132122      19.727343   \n",
      "A1e      0.615152  69.047850  328.083333          0.137102      14.451953   \n",
      "A1f      0.623642  70.150347  336.944444          0.140736      13.644321   \n",
      "\n",
      "       area_std  \n",
      "A1a  115.195073  \n",
      "A1c   49.662192  \n",
      "A1d  154.961017  \n",
      "A1e  136.107348  \n",
      "A1f  122.938764  \n",
      "\n",
      "[5 rows x 21 columns]\n",
      "Fri Jan 31 17:57:09 2025 – Visualizing Epithelial_cell\n",
      "     proportion  metabolic_cluster_0  metabolic_cluster_1  \\\n",
      "A1a    0.832041             0.001553             0.000000   \n",
      "A1c    0.690175             0.019214             0.000000   \n",
      "A1d    0.658745             0.050505             0.002886   \n",
      "A1e    0.722494             0.904399             0.003384   \n",
      "A1f    0.743902             0.021077             0.000000   \n",
      "\n",
      "     metabolic_cluster_2  metabolic_cluster_3  metabolic_cluster_4  \\\n",
      "A1a             0.000000             0.933230             0.054348   \n",
      "A1c             0.006987             0.923144             0.048035   \n",
      "A1d             0.002886             0.819625             0.121212   \n",
      "A1e             0.000846             0.053299             0.024535   \n",
      "A1f             0.010539             0.864169             0.101874   \n",
      "\n",
      "     metabolic_cluster_5  metabolic_cluster_6  metabolic_cluster_7  \\\n",
      "A1a             0.000000                  0.0             0.000000   \n",
      "A1c             0.000000                  0.0             0.000000   \n",
      "A1d             0.000000                  0.0             0.001443   \n",
      "A1e             0.009306                  0.0             0.000846   \n",
      "A1f             0.000000                  0.0             0.000000   \n",
      "\n",
      "     metabolic_cluster_8  ...  paraview.120_p.Cancer_cell_Other_immune_cell  \\\n",
      "A1a             0.000000  ...                                           0.0   \n",
      "A1c             0.000873  ...                                           0.0   \n",
      "A1d             0.001443  ...                                           0.0   \n",
      "A1e             0.000000  ...                                           0.0   \n",
      "A1f             0.000000  ...                                           0.0   \n",
      "\n",
      "     paraview.120_p.Cancer_cell_Neutrophil  \\\n",
      "A1a                               2.214751   \n",
      "A1c                               0.940029   \n",
      "A1d                               0.000000   \n",
      "A1e                               0.000000   \n",
      "A1f                               0.000000   \n",
      "\n",
      "     paraview.120_p.Cancer_cell_CD8_Tcell  paraview.120_p.Cancer_cell_APC  \\\n",
      "A1a                                   0.0                             0.0   \n",
      "A1c                                   0.0                             0.0   \n",
      "A1d                                   0.0                             0.0   \n",
      "A1e                                   0.0                             0.0   \n",
      "A1f                                   0.0                             0.0   \n",
      "\n",
      "     eccentricity  perimeter        area  eccentricity_std  perimeter_std  \\\n",
      "A1a      0.655064  81.047730  437.998447          0.151213      22.872714   \n",
      "A1c      0.669182  85.014164  472.985153          0.156898      23.530579   \n",
      "A1d      0.656248  87.496020  512.177489          0.149307      23.282794   \n",
      "A1e      0.651638  74.637103  372.342640          0.149512      19.756903   \n",
      "A1f      0.680126  87.718571  499.855972          0.145635      24.588762   \n",
      "\n",
      "       area_std  \n",
      "A1a  223.593596  \n",
      "A1c  235.614742  \n",
      "A1d  248.930421  \n",
      "A1e  178.567416  \n",
      "A1f  253.867952  \n",
      "\n",
      "[5 rows x 59 columns]\n",
      "Fri Jan 31 17:57:09 2025 – Visualizing Endothelial_cell\n",
      "     proportion  metabolic_cluster_0  metabolic_cluster_1  \\\n",
      "A1a    0.014858             0.043478             0.956522   \n",
      "A1c    0.011453             0.210526             0.684211   \n",
      "A1d    0.062738             0.090909             0.863636   \n",
      "A1e    0.036064             0.186441             0.542373   \n",
      "A1f    0.019164             0.000000             0.772727   \n",
      "\n",
      "     metabolic_cluster_2  metabolic_cluster_3  metabolic_cluster_4  \\\n",
      "A1a             0.000000                  0.0                  0.0   \n",
      "A1c             0.105263                  0.0                  0.0   \n",
      "A1d             0.045455                  0.0                  0.0   \n",
      "A1e             0.237288                  0.0                  0.0   \n",
      "A1f             0.227273                  0.0                  0.0   \n",
      "\n",
      "     metabolic_cluster_5  metabolic_cluster_6  metabolic_cluster_7  \\\n",
      "A1a             0.000000                  0.0                  0.0   \n",
      "A1c             0.000000                  0.0                  0.0   \n",
      "A1d             0.000000                  0.0                  0.0   \n",
      "A1e             0.033898                  0.0                  0.0   \n",
      "A1f             0.000000                  0.0                  0.0   \n",
      "\n",
      "     metabolic_cluster_8  ...  paraview.120_p.Endothelial_cell_CD4_Tcell  \\\n",
      "A1a                  0.0  ...                                   1.457079   \n",
      "A1c                  0.0  ...                                   0.000000   \n",
      "A1d                  0.0  ...                                   0.000000   \n",
      "A1e                  0.0  ...                                   1.468665   \n",
      "A1f                  0.0  ...                                   0.000000   \n",
      "\n",
      "     paraview.120_p.Endothelial_cell_CD163_Macrophage  \\\n",
      "A1a                                          0.000000   \n",
      "A1c                                          0.000000   \n",
      "A1d                                          1.031117   \n",
      "A1e                                          0.000000   \n",
      "A1f                                          0.000000   \n",
      "\n",
      "     paraview.120_p.Endothelial_cell_Monocyte  \\\n",
      "A1a                                       0.0   \n",
      "A1c                                       0.0   \n",
      "A1d                                       0.0   \n",
      "A1e                                       0.0   \n",
      "A1f                                       0.0   \n",
      "\n",
      "     paraview.120_p.Endothelial_cell_CD68_Macrophage  eccentricity  perimeter  \\\n",
      "A1a                                         0.000000      0.616435  72.652712   \n",
      "A1c                                         0.000000      0.677067  85.532257   \n",
      "A1d                                         0.000000      0.649069  87.183151   \n",
      "A1e                                         1.317608      0.694476  80.504784   \n",
      "A1f                                         0.000000      0.639480  74.530697   \n",
      "\n",
      "           area  eccentricity_std  perimeter_std    area_std  \n",
      "A1a  376.739130          0.160251      17.837634  166.791982  \n",
      "A1c  468.578947          0.147589      14.584813  179.584185  \n",
      "A1d  517.181818          0.166765      23.199960  237.342266  \n",
      "A1e  428.508475          0.141383      20.591234  198.957401  \n",
      "A1f  385.772727          0.144396      20.085339  190.294241  \n",
      "\n",
      "[5 rows x 30 columns]\n",
      "Fri Jan 31 17:57:09 2025 – Visualizing Monocyte\n",
      "     proportion  metabolic_cluster_0  metabolic_cluster_1  \\\n",
      "A1a    0.001938             0.000000             1.000000   \n",
      "A1c    0.024111             0.800000             0.075000   \n",
      "A1d    0.030418             0.187500             0.562500   \n",
      "A1e    0.004890             0.125000             0.125000   \n",
      "A1f    0.046167             0.113208             0.622642   \n",
      "\n",
      "     metabolic_cluster_2  metabolic_cluster_3  metabolic_cluster_4  \\\n",
      "A1a             0.000000             0.000000             0.000000   \n",
      "A1c             0.100000             0.000000             0.025000   \n",
      "A1d             0.250000             0.000000             0.000000   \n",
      "A1e             0.750000             0.000000             0.000000   \n",
      "A1f             0.169811             0.037736             0.056604   \n",
      "\n",
      "     metabolic_cluster_5  juxtaview.40_l.Monocyte_Monocyte  \\\n",
      "A1a                  0.0                          0.000000   \n",
      "A1c                  0.0                          0.000000   \n",
      "A1d                  0.0                          0.000000   \n",
      "A1e                  0.0                          1.486980   \n",
      "A1f                  0.0                          1.585004   \n",
      "\n",
      "     juxtaview.40_l.Monocyte_CD68_Macrophage  \\\n",
      "A1a                                 0.000000   \n",
      "A1c                                 0.000000   \n",
      "A1d                                 1.146911   \n",
      "A1e                                 0.000000   \n",
      "A1f                                 0.000000   \n",
      "\n",
      "     juxtaview.40_l.Monocyte_Other_immune_cell  ...  \\\n",
      "A1a                                        0.0  ...   \n",
      "A1c                                        0.0  ...   \n",
      "A1d                                        0.0  ...   \n",
      "A1e                                        0.0  ...   \n",
      "A1f                                        0.0  ...   \n",
      "\n",
      "     paraview.120_p.Monocyte_Cancer_cell  \\\n",
      "A1a                             0.000000   \n",
      "A1c                             1.585286   \n",
      "A1d                             0.000000   \n",
      "A1e                             0.000000   \n",
      "A1f                             1.453176   \n",
      "\n",
      "     paraview.120_p.Monocyte_CD68_Macrophage  \\\n",
      "A1a                                 0.000000   \n",
      "A1c                                 2.004246   \n",
      "A1d                                 0.000000   \n",
      "A1e                                 0.000000   \n",
      "A1f                                 0.000000   \n",
      "\n",
      "     paraview.120_p.Monocyte_Other_immune_cell  \\\n",
      "A1a                                   0.000000   \n",
      "A1c                                   0.000000   \n",
      "A1d                                   0.000000   \n",
      "A1e                                   0.938942   \n",
      "A1f                                   0.000000   \n",
      "\n",
      "     paraview.120_p.Monocyte_CD163_Macrophage  eccentricity  perimeter  \\\n",
      "A1a                                       0.0      0.605427  69.388841   \n",
      "A1c                                       0.0      0.617014  77.584781   \n",
      "A1d                                       0.0      0.602962  77.037096   \n",
      "A1e                                       0.0      0.672304  60.443281   \n",
      "A1f                                       0.0      0.648257  77.782041   \n",
      "\n",
      "           area  eccentricity_std  perimeter_std    area_std  \n",
      "A1a  351.666667          0.069956      19.606001  166.836247  \n",
      "A1c  423.225000          0.131157      20.621998  192.516731  \n",
      "A1d  423.593750          0.150476      24.414454  233.800281  \n",
      "A1e  260.375000          0.129407      15.229446  119.695969  \n",
      "A1f  415.471698          0.128458      17.889642  184.338589  \n",
      "\n",
      "[5 rows x 25 columns]\n",
      "Fri Jan 31 17:57:09 2025 – Visualizing Cytotoxic_lymphocyte\n",
      "     proportion  metabolic_cluster_0  metabolic_cluster_1  \\\n",
      "A1a    0.005814             0.000000             0.111111   \n",
      "A1c    0.011453             0.157895             0.578947   \n",
      "A1d    0.005703             0.333333             0.000000   \n",
      "A1e    0.026284             0.441860             0.465116   \n",
      "A1f    0.012195             0.357143             0.642857   \n",
      "\n",
      "     metabolic_cluster_2  metabolic_cluster_3  metabolic_cluster_4  \\\n",
      "A1a                  0.0             0.888889                  0.0   \n",
      "A1c                  0.0             0.052632                  0.0   \n",
      "A1d                  0.0             0.333333                  0.0   \n",
      "A1e                  0.0             0.000000                  0.0   \n",
      "A1f                  0.0             0.000000                  0.0   \n",
      "\n",
      "     metabolic_cluster_5  metabolic_cluster_6  juxtaview.40_l.NK_cell_NK_cell  \\\n",
      "A1a             0.000000             0.000000                         0.00000   \n",
      "A1c             0.000000             0.210526                         1.85566   \n",
      "A1d             0.000000             0.333333                         0.00000   \n",
      "A1e             0.093023             0.000000                         0.00000   \n",
      "A1f             0.000000             0.000000                         0.00000   \n",
      "\n",
      "     paraview.120_p.NK_cell_NK_cell  juxtaview.40_l.CD8_Tcell_CD8_Tcell  \\\n",
      "A1a                             0.0                            0.000000   \n",
      "A1c                             0.0                            0.000000   \n",
      "A1d                             0.0                            0.000000   \n",
      "A1e                             0.0                            3.050497   \n",
      "A1f                             0.0                            0.000000   \n",
      "\n",
      "     paraview.120_p.CD8_Tcell_CD8_Tcell  paraview.120_p.CD8_Tcell_CD4_Tcell  \\\n",
      "A1a                            0.904290                                 0.0   \n",
      "A1c                            0.000000                                 0.0   \n",
      "A1d                            3.134526                                 0.0   \n",
      "A1e                            0.000000                                 0.0   \n",
      "A1f                            0.000000                                 0.0   \n",
      "\n",
      "     eccentricity  perimeter        area  eccentricity_std  perimeter_std  \\\n",
      "A1a      0.639223  69.492055  326.666667          0.188140      11.787276   \n",
      "A1c      0.624919  73.676739  372.368421          0.147371      13.527230   \n",
      "A1d      0.697461  80.540789  440.000000          0.045490      19.569078   \n",
      "A1e      0.590601  68.634644  331.441860          0.156343      18.412262   \n",
      "A1f      0.571714  79.239095  423.857143          0.206362      21.030591   \n",
      "\n",
      "       area_std  \n",
      "A1a   93.300589  \n",
      "A1c  133.712050  \n",
      "A1d  183.512397  \n",
      "A1e  186.149620  \n",
      "A1f  217.094045  \n"
     ]
    }
   ],
   "source": [
    "# Visualize the results\n",
    "for type in types_of_interest.keys():\n",
    "    print(f\"{ctime()} – Visualizing {type}\")\n",
    "    print(features_ad[type].head())"
   ]
  },
  {
   "cell_type": "code",
   "execution_count": 16,
   "metadata": {},
   "outputs": [
    {
     "name": "stderr",
     "output_type": "stream",
     "text": [
      "/home/loan/miniforge3/envs/liana/lib/python3.11/site-packages/mudata/_core/mudata.py:1531: FutureWarning: From 0.4 .update() will not pull obs/var columns from individual modalities by default anymore. Set mudata.set_options(pull_on_update=False) to adopt the new behaviour, which will become the default. Use new pull_obs/pull_var and push_obs/push_var methods for more flexibility.\n",
      "  self._update_attr(\"var\", axis=0, join_common=join_common)\n",
      "/home/loan/miniforge3/envs/liana/lib/python3.11/site-packages/mudata/_core/mudata.py:931: UserWarning: Cannot join columns with the same name because var_names are intersecting.\n",
      "  warnings.warn(\n",
      "/home/loan/miniforge3/envs/liana/lib/python3.11/site-packages/mudata/_core/mudata.py:1429: FutureWarning: From 0.4 .update() will not pull obs/var columns from individual modalities by default anymore. Set mudata.set_options(pull_on_update=False) to adopt the new behaviour, which will become the default. Use new pull_obs/pull_var and push_obs/push_var methods for more flexibility.\n",
      "  self._update_attr(\"obs\", axis=1, join_common=join_common)\n"
     ]
    }
   ],
   "source": [
    "mdata = mu.MuData({k:mu.AnnData(v) for k,v in features_ad.items()})"
   ]
  },
  {
   "cell_type": "code",
   "execution_count": 17,
   "metadata": {},
   "outputs": [],
   "source": [
    "# Keep track of clinical metadata\n",
    "assert np.all(meta_per_fov.index == mdata.obs.index)\n",
    "mdata.obs[\"Stage\"] = meta_per_fov.Stage"
   ]
  },
  {
   "cell_type": "code",
   "execution_count": 18,
   "metadata": {},
   "outputs": [
    {
     "name": "stderr",
     "output_type": "stream",
     "text": [
      "/home/loan/miniforge3/envs/liana/lib/python3.11/site-packages/mudata/_core/mudata.py:1531: FutureWarning: From 0.4 .update() will not pull obs/var columns from individual modalities by default anymore. Set mudata.set_options(pull_on_update=False) to adopt the new behaviour, which will become the default. Use new pull_obs/pull_var and push_obs/push_var methods for more flexibility.\n",
      "  self._update_attr(\"var\", axis=0, join_common=join_common)\n",
      "/home/loan/miniforge3/envs/liana/lib/python3.11/site-packages/mudata/_core/mudata.py:1429: FutureWarning: From 0.4 .update() will not pull obs/var columns from individual modalities by default anymore. Set mudata.set_options(pull_on_update=False) to adopt the new behaviour, which will become the default. Use new pull_obs/pull_var and push_obs/push_var methods for more flexibility.\n",
      "  self._update_attr(\"obs\", axis=1, join_common=join_common)\n"
     ]
    }
   ],
   "source": [
    "mdata.write_h5mu(\"../../data/celltype_features.h5mu\")"
   ]
  },
  {
   "cell_type": "markdown",
   "metadata": {},
   "source": []
  }
 ],
 "metadata": {
  "kernelspec": {
   "display_name": "liana",
   "language": "python",
   "name": "python3"
  },
  "language_info": {
   "codemirror_mode": {
    "name": "ipython",
    "version": 3
   },
   "file_extension": ".py",
   "mimetype": "text/x-python",
   "name": "python",
   "nbconvert_exporter": "python",
   "pygments_lexer": "ipython3",
   "version": "3.11.9"
  }
 },
 "nbformat": 4,
 "nbformat_minor": 2
}
