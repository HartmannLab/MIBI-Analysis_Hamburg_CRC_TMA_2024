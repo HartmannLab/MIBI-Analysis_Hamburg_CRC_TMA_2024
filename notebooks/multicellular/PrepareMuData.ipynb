{
 "cells": [
  {
   "cell_type": "markdown",
   "metadata": {},
   "source": [
    "## Prepare MuData object\n",
    "We want to prepare a MuData object where the different views represent the different cell types profiled, each row is one sample (patient) and each column is one feature derived from the MIBI images and previously used to predict cancer stage (see *StageXGB.ipynb*)."
   ]
  },
  {
   "cell_type": "code",
   "execution_count": 1,
   "metadata": {},
   "outputs": [
    {
     "name": "stderr",
     "output_type": "stream",
     "text": [
      "/home/loan/miniforge3/envs/liana/lib/python3.11/site-packages/tqdm/auto.py:21: TqdmWarning: IProgress not found. Please update jupyter and ipywidgets. See https://ipywidgets.readthedocs.io/en/stable/user_install.html\n",
      "  from .autonotebook import tqdm as notebook_tqdm\n"
     ]
    }
   ],
   "source": [
    "import pandas as pd\n",
    "import numpy as np\n",
    "import muon as mu\n",
    "import scanpy as sc\n",
    "from time import ctime"
   ]
  },
  {
   "cell_type": "markdown",
   "metadata": {},
   "source": [
    "## 1 – Cell type composition\n",
    "As we now stratify data per cell type, this will lead to a single value per FOV in each view: the corresponding proportion of cells belonging to this paerticular type."
   ]
  },
  {
   "cell_type": "code",
   "execution_count": 10,
   "metadata": {},
   "outputs": [
    {
     "name": "stderr",
     "output_type": "stream",
     "text": [
      "/tmp/ipykernel_128132/1000358550.py:1: DtypeWarning: Columns (39,40,41,42,43,44,45,46,48,49,52,53,54,55,56,57,58,59,60,61,62,63,65,66,68) have mixed types. Specify dtype option on import or set low_memory=False.\n",
      "  cell_table = pd.read_csv(\"../../data/cell_table_with_types_stage.csv\",\n"
     ]
    }
   ],
   "source": [
    "cell_table = pd.read_csv(\"../../data/cell_table_with_types_stage.csv\", \n",
    "                         index_col = 0)"
   ]
  },
  {
   "cell_type": "code",
   "execution_count": 3,
   "metadata": {},
   "outputs": [],
   "source": [
    "metab_markers = ['CA9', 'CD98', 'CytC', 'MCT1', 'ASCT2', 'LDH', 'GS', 'GLS', 'ATP5A', 'CS', 'PKM2', 'GLUT1', 'ARG1', 'CPT1A', 'Ki67']\n",
    "\n",
    "# Only metabolic markers for cancer/epithelial cells\n",
    "df = cell_table.loc[cell_table.consensus == \"Cancer_cell\",metab_markers] \n",
    "meta = cell_table.loc[cell_table.consensus == \"Cancer_cell\",[\"Stage\",\"fov\"]]\n",
    "\n",
    "# A few FOVs show only few epithelial cells and might only add noise to the analysis\n",
    "sparse_epi_fovs = meta.fov.value_counts()[meta.fov.value_counts() <= 20].index\n",
    "df = df.loc[~meta.fov.isin(sparse_epi_fovs)]\n",
    "meta = meta.loc[~meta.fov.isin(sparse_epi_fovs)]\n",
    "\n",
    "# Only keep well-annotated stages\n",
    "epithelial_subset = meta[\"Stage\"].isin([\"Colon-no.\", \"pT1\", \"pT2\", \"pT3\", \"pT4\"]).values\n",
    "\n",
    "df_per_fov = df.copy()\n",
    "df_per_fov[\"fov\"] = meta[\"fov\"] \n",
    "df_per_fov = df_per_fov.loc[epithelial_subset].groupby(\"fov\").mean()\n",
    "meta_per_fov = meta.loc[epithelial_subset].groupby(\"fov\").first()"
   ]
  },
  {
   "cell_type": "code",
   "execution_count": 5,
   "metadata": {},
   "outputs": [
    {
     "data": {
      "text/plain": [
       "consensus\n",
       "APC                  0.801418\n",
       "B_cell               0.189125\n",
       "CAF                  0.959811\n",
       "CD163_Macrophage     0.879433\n",
       "CD4_Tcell            0.943262\n",
       "CD68_Macrophage      0.950355\n",
       "CD8_Tcell            0.869976\n",
       "Cancer_cell          1.000000\n",
       "Endothelial_cell     0.983452\n",
       "Monocyte             0.992908\n",
       "NK_cell              0.782506\n",
       "Neutrophil           0.808511\n",
       "Other_immune_cell    0.983452\n",
       "T_reg_cell           0.652482\n",
       "Unclear              1.000000\n",
       "dtype: float64"
      ]
     },
     "execution_count": 5,
     "metadata": {},
     "output_type": "execute_result"
    }
   ],
   "source": [
    "cell_type_proportions = cell_table.groupby(\"fov\")[\"consensus\"].value_counts().unstack().fillna(0)\n",
    "# Normalize by the number of cells in each FOV\n",
    "cell_type_proportions = cell_type_proportions.div(cell_type_proportions.sum(axis=1), axis=0)\n",
    "# Match to metadata and kept FOVs\n",
    "cell_type_proportions = cell_type_proportions.loc[meta_per_fov.index]\n",
    "# Some types are only present in a minority of FOVs\n",
    "(cell_type_proportions > 0).sum(axis='rows')/len(cell_type_proportions)"
   ]
  },
  {
   "cell_type": "code",
   "execution_count": 6,
   "metadata": {},
   "outputs": [],
   "source": [
    "# We redefine more balanced classes\n",
    "types_of_interest = dict(\n",
    "    Other_immune_cell = [\"APC\", \"B_cell\", \"Neutrophil\", \"Other_immune_cell\"],\n",
    "    Fibroblast = [\"CAF\"],\n",
    "    Macrophage = [\"CD163_Macrophage\", \"CD68_Macrophage\"],\n",
    "    CD4_lymphocyte = [\"CD4_Tcell\", \"T_reg_cell\"],\n",
    "    Epithelial_cell = [\"Cancer_cell\"],\n",
    "    Endothelial_cell = [\"Endothelial_cell\"],\n",
    "    Monocyte = [\"Monocyte\"],\n",
    "    Cytotoxic_lymphocyte = [\"NK_cell\", \"CD8_Tcell\"],\n",
    ")"
   ]
  },
  {
   "cell_type": "markdown",
   "metadata": {},
   "source": [
    "Could be stored as AnnData directly:\n",
    "```Python\n",
    "features_ad = {}\n",
    "for type in types_of_interest.keys():\n",
    "    features_ad[type] = mu.AnnData(cell_type_proportions.loc[:,types_of_interest[type]].sum(axis=1).to_numpy().reshape(-1, 1))\n",
    "    # Keep track of the name of the features and observations\n",
    "    features_ad[type].obs.index = cell_type_proportions.index.to_list()\n",
    "    features_ad[type].var.index = [\"Proportion\"]\n",
    "```\n",
    "Alternatively, we keep each cell-type dataset as a `DataFrame` to easily join additional features in the following sections."
   ]
  },
  {
   "cell_type": "code",
   "execution_count": 7,
   "metadata": {},
   "outputs": [],
   "source": [
    "features_ad = {}\n",
    "for type in types_of_interest.keys():\n",
    "    features_ad[type] = pd.DataFrame(cell_type_proportions.loc[:,types_of_interest[type]].sum(axis=1).to_numpy().reshape(-1, 1),\n",
    "                                     index = cell_type_proportions.index.to_list(),\n",
    "                                     columns = [\"proportion\"])"
   ]
  },
  {
   "cell_type": "markdown",
   "metadata": {},
   "source": [
    "## 2 – Metabolic markers"
   ]
  },
  {
   "cell_type": "code",
   "execution_count": 13,
   "metadata": {},
   "outputs": [],
   "source": [
    "for type in types_of_interest.keys():\n",
    "    features_ad[type] = features_ad[type].join(\n",
    "        cell_table.loc[cell_table.consensus.isin(types_of_interest[type]),metab_markers].groupby(cell_table['fov']).median())"
   ]
  },
  {
   "cell_type": "markdown",
   "metadata": {},
   "source": [
    "## 3 – MISTy features\n",
    "In a FOV, is the cell type a good predictor of another cell type?"
   ]
  },
  {
   "cell_type": "code",
   "execution_count": 14,
   "metadata": {},
   "outputs": [
    {
     "name": "stderr",
     "output_type": "stream",
     "text": [
      "/home/loan/miniforge3/envs/liana/lib/python3.11/site-packages/numpy/core/fromnumeric.py:86: FutureWarning: The behavior of DataFrame.sum with axis=None is deprecated, in a future version this will reduce over both axes and return a scalar. To retain the old behavior, pass axis=0 (or do not pass axis)\n",
      "  return reduction(axis=axis, out=out, **passkwargs)\n"
     ]
    }
   ],
   "source": [
    "misty_features_raw = pd.read_csv(\"../../data/misty_lineage_features.csv\", index_col=0)\n",
    "# Subset to top 100 most common features\n",
    "misty_features = misty_features_raw.iloc[:,np.argsort(-np.sum(misty_features_raw > 0))[:100]]"
   ]
  },
  {
   "cell_type": "code",
   "execution_count": 15,
   "metadata": {},
   "outputs": [],
   "source": [
    "for type, subtypes in types_of_interest.items():\n",
    "    for subtype in subtypes:\n",
    "        # Get only columns of `misty_features` that correspond to interactions of subtypes\n",
    "        features_ad[type] = features_ad[type].join(misty_features.loc[:,misty_features.columns.str.contains(f\"_l.{subtype}\")])\n",
    "        features_ad[type] = features_ad[type].join(misty_features.loc[:,misty_features.columns.str.contains(f\"_p.{subtype}\")])"
   ]
  },
  {
   "cell_type": "markdown",
   "metadata": {},
   "source": [
    "## 4 – Kasumi features\n",
    "Kasumi results are not defined at the level of individual cells nor stratified by cell types and are not included in the factor analysis. "
   ]
  },
  {
   "cell_type": "markdown",
   "metadata": {},
   "source": [
    "## 5 – Morphological features"
   ]
  },
  {
   "cell_type": "code",
   "execution_count": 16,
   "metadata": {},
   "outputs": [
    {
     "name": "stdout",
     "output_type": "stream",
     "text": [
      "Tue Jun 10 15:41:31 2025 – Processing Other_immune_cell\n",
      "Tue Jun 10 15:41:31 2025 – Processing Fibroblast\n",
      "Tue Jun 10 15:41:31 2025 – Processing Macrophage\n",
      "Tue Jun 10 15:41:31 2025 – Processing CD4_lymphocyte\n",
      "Tue Jun 10 15:41:31 2025 – Processing Epithelial_cell\n",
      "Tue Jun 10 15:41:31 2025 – Processing Endothelial_cell\n",
      "Tue Jun 10 15:41:31 2025 – Processing Monocyte\n",
      "Tue Jun 10 15:41:31 2025 – Processing Cytotoxic_lymphocyte\n"
     ]
    }
   ],
   "source": [
    "# Use class to define local scope and run the code directly\n",
    "class Scope:\n",
    "    # Step 0: Define parameters\n",
    "    morpho_features = ['eccentricity', 'perimeter', 'area']\n",
    "\n",
    "    for type in types_of_interest.keys():\n",
    "        print(f\"{ctime()} – Processing {type}\")\n",
    "        # Step 1: Extract relevant cell data\n",
    "        X = cell_table.loc[cell_table.consensus.isin(types_of_interest[type]),morpho_features+[\"fov\"]]\n",
    "        X = X.loc[X.fov.isin(df_per_fov.index)]\n",
    "\n",
    "        # Step 2: Aggregate per FOV\n",
    "        df_morpho_per_fov = X.groupby(\"fov\").mean().join(X.groupby(\"fov\").std(), rsuffix=\"_std\")\n",
    "\n",
    "        # Step 3: Store results in multi-feature DataFrame object\n",
    "        features_ad[type] = features_ad[type].join(df_morpho_per_fov)"
   ]
  },
  {
   "cell_type": "code",
   "execution_count": 26,
   "metadata": {},
   "outputs": [
    {
     "name": "stdout",
     "output_type": "stream",
     "text": [
      "Other_immune_cell 0.0070921985815602835\n",
      "Fibroblast 0.04018912529550828\n",
      "Macrophage 0.01182033096926714\n",
      "CD4_lymphocyte 0.04964539007092199\n",
      "Epithelial_cell 0.0\n",
      "Endothelial_cell 0.016548463356973995\n",
      "Monocyte 0.0070921985815602835\n",
      "Cytotoxic_lymphocyte 0.0591016548463357\n"
     ]
    }
   ],
   "source": [
    "# Percentage of samples with missing values in each cell type\n",
    "for typ in features_ad:\n",
    "    print(typ, features_ad[typ].area.isna().sum() / len(features_ad[typ]))"
   ]
  },
  {
   "cell_type": "markdown",
   "metadata": {},
   "source": [
    "## 6 – Compile and export"
   ]
  },
  {
   "cell_type": "code",
   "execution_count": 11,
   "metadata": {},
   "outputs": [
    {
     "name": "stdout",
     "output_type": "stream",
     "text": [
      "Wed Apr 23 13:09:20 2025 – Visualizing Other_immune_cell\n",
      "     proportion       CA9      CD98      CytC      MCT1     ASCT2       LDH  \\\n",
      "A1a    0.016150  0.029697  0.153992  0.003456  0.000967  0.052040  0.014728   \n",
      "A1c    0.042797  0.241808  0.029671  0.005882  0.199735  0.035947  0.156672   \n",
      "A1d    0.065589  0.080167  0.188568  0.003726  0.039115  0.122691  0.068015   \n",
      "A1e    0.031785  0.071631  0.211533  0.072472  0.028754  0.091640  0.100465   \n",
      "A1f    0.041812  0.070783  0.116316  0.004614  0.051783  0.048986  0.151857   \n",
      "\n",
      "           GS       GLS     ATP5A  ...  \\\n",
      "A1a  0.108009  0.013618  0.018946  ...   \n",
      "A1c  0.056366  0.027748  0.054056  ...   \n",
      "A1d  0.117775  0.030195  0.022767  ...   \n",
      "A1e  0.166585  0.053973  0.074810  ...   \n",
      "A1f  0.074441  0.031381  0.036152  ...   \n",
      "\n",
      "     paraview.120_p.Other_immune_cell_Monocyte  \\\n",
      "A1a                                        0.0   \n",
      "A1c                                        0.0   \n",
      "A1d                                        0.0   \n",
      "A1e                                        0.0   \n",
      "A1f                                        0.0   \n",
      "\n",
      "     paraview.120_p.Other_immune_cell_Endothelial_cell  \\\n",
      "A1a                                                0.0   \n",
      "A1c                                                0.0   \n",
      "A1d                                                0.0   \n",
      "A1e                                                0.0   \n",
      "A1f                                                0.0   \n",
      "\n",
      "     paraview.120_p.Other_immune_cell_CD4_Tcell  \\\n",
      "A1a                                         0.0   \n",
      "A1c                                         0.0   \n",
      "A1d                                         0.0   \n",
      "A1e                                         0.0   \n",
      "A1f                                         0.0   \n",
      "\n",
      "     paraview.120_p.Other_immune_cell_CD8_Tcell  eccentricity  perimeter  \\\n",
      "A1a                                    1.006692      0.636296  75.747988   \n",
      "A1c                                    0.000000      0.643797  71.124123   \n",
      "A1d                                    0.000000      0.615755  80.630363   \n",
      "A1e                                    0.000000      0.632240  79.102157   \n",
      "A1f                                    0.000000      0.603880  77.428076   \n",
      "\n",
      "           area  eccentricity_std  perimeter_std    area_std  \n",
      "A1a  402.440000          0.117561      18.655115  175.601604  \n",
      "A1c  360.577465          0.152861      22.193104  201.004525  \n",
      "A1d  447.159420          0.159020      23.840905  236.160254  \n",
      "A1e  427.096154          0.157598      20.063969  205.696260  \n",
      "A1f  407.583333          0.153694      17.785147  177.068785  \n",
      "\n",
      "[5 rows x 36 columns]\n",
      "Wed Apr 23 13:09:20 2025 – Visualizing Fibroblast\n",
      "     proportion       CA9      CD98      CytC      MCT1     ASCT2       LDH  \\\n",
      "A1a    0.007106  0.026891  0.024709  0.002187  0.000310  0.034204  0.009486   \n",
      "A1c    0.039180  0.055538  0.043669  0.008439  0.010393  0.043476  0.108664   \n",
      "A1d    0.065589  0.034869  0.035003  0.004776  0.006826  0.027704  0.048813   \n",
      "A1e    0.053790  0.041025  0.032033  0.016201  0.003384  0.019997  0.041191   \n",
      "A1f    0.012195  0.040068  0.047834  0.004105  0.011702  0.031514  0.088381   \n",
      "\n",
      "           GS       GLS     ATP5A  ...  paraview.120_p.CAF_Endothelial_cell  \\\n",
      "A1a  0.024981  0.010147  0.017090  ...                                  0.0   \n",
      "A1c  0.054616  0.050395  0.043939  ...                                  0.0   \n",
      "A1d  0.050194  0.042989  0.030682  ...                                  0.0   \n",
      "A1e  0.048082  0.027470  0.065035  ...                                  0.0   \n",
      "A1f  0.049245  0.026777  0.016993  ...                                  0.0   \n",
      "\n",
      "     paraview.120_p.CAF_CD4_Tcell  paraview.120_p.CAF_Monocyte  \\\n",
      "A1a                      1.114899                          0.0   \n",
      "A1c                      1.989703                          0.0   \n",
      "A1d                      0.000000                          0.0   \n",
      "A1e                      0.000000                          0.0   \n",
      "A1f                      0.000000                          0.0   \n",
      "\n",
      "     paraview.120_p.CAF_CD163_Macrophage  eccentricity  perimeter        area  \\\n",
      "A1a                             0.000000      0.584151  54.753306  215.818182   \n",
      "A1c                             1.517601      0.645446  77.358603  403.953846   \n",
      "A1d                             0.000000      0.621192  80.847770  458.782609   \n",
      "A1e                             0.000000      0.680879  72.772286  359.579545   \n",
      "A1f                             0.000000      0.590116  69.630465  353.357143   \n",
      "\n",
      "     eccentricity_std  perimeter_std    area_std  \n",
      "A1a          0.175262      11.578851   91.807209  \n",
      "A1c          0.147562      21.063130  199.113852  \n",
      "A1d          0.178395      23.386045  238.030267  \n",
      "A1e          0.136888      16.131668  145.192597  \n",
      "A1f          0.109563      20.738059  208.094877  \n",
      "\n",
      "[5 rows x 36 columns]\n",
      "Wed Apr 23 13:09:20 2025 – Visualizing Macrophage\n",
      "     proportion       CA9      CD98      CytC      MCT1     ASCT2       LDH  \\\n",
      "A1a    0.002584  0.025226  0.180436  0.003735  0.001076  0.075477  0.019335   \n",
      "A1c    0.025316  0.041276  0.095896  0.005081  0.024497  0.021083  0.158193   \n",
      "A1d    0.015209  0.054334  0.256856  0.012457  0.024123  0.098775  0.097326   \n",
      "A1e    0.009780  0.046054  0.224173  0.057831  0.021240  0.047748  0.097941   \n",
      "A1f    0.004355  0.043716  0.159489  0.004603  0.013897  0.033601  0.148034   \n",
      "\n",
      "           GS       GLS     ATP5A  ...  \\\n",
      "A1a  0.078573  0.015530  0.043187  ...   \n",
      "A1c  0.217860  0.032417  0.031379  ...   \n",
      "A1d  0.302429  0.052845  0.057366  ...   \n",
      "A1e  0.250483  0.047820  0.068740  ...   \n",
      "A1f  0.147880  0.032369  0.036531  ...   \n",
      "\n",
      "     paraview.120_p.CD68_Macrophage_Other_immune_cell  \\\n",
      "A1a                                               0.0   \n",
      "A1c                                               0.0   \n",
      "A1d                                               0.0   \n",
      "A1e                                               0.0   \n",
      "A1f                                               0.0   \n",
      "\n",
      "     paraview.120_p.CD68_Macrophage_Endothelial_cell  \\\n",
      "A1a                                         0.000000   \n",
      "A1c                                         0.000000   \n",
      "A1d                                         0.000000   \n",
      "A1e                                         1.463056   \n",
      "A1f                                         0.000000   \n",
      "\n",
      "     paraview.120_p.CD68_Macrophage_Monocyte  \\\n",
      "A1a                                      0.0   \n",
      "A1c                                      0.0   \n",
      "A1d                                      0.0   \n",
      "A1e                                      0.0   \n",
      "A1f                                      0.0   \n",
      "\n",
      "     paraview.120_p.CD68_Macrophage_CD163_Macrophage  eccentricity  perimeter  \\\n",
      "A1a                                              0.0      0.617140  83.985543   \n",
      "A1c                                              0.0      0.647995  75.920144   \n",
      "A1d                                              0.0      0.649667  70.440363   \n",
      "A1e                                              0.0      0.620809  76.575009   \n",
      "A1f                                              0.0      0.691160  82.962446   \n",
      "\n",
      "           area  eccentricity_std  perimeter_std    area_std  \n",
      "A1a  473.500000          0.209019      46.253031  400.713946  \n",
      "A1c  406.357143          0.122281      18.196135  178.860188  \n",
      "A1d  343.187500          0.139003      14.171722  122.643233  \n",
      "A1e  427.562500          0.134707      23.233776  248.700347  \n",
      "A1f  463.400000          0.126296      27.396494  261.653015  \n",
      "\n",
      "[5 rows x 35 columns]\n",
      "Wed Apr 23 13:09:20 2025 – Visualizing CD4_lymphocyte\n",
      "     proportion       CA9      CD98      CytC      MCT1     ASCT2       LDH  \\\n",
      "A1a    0.004522  0.030599  0.107300  0.002417  0.002617  0.062727  0.011283   \n",
      "A1c    0.001808  0.078143  0.122135  0.004835  0.027632  0.020827  0.144425   \n",
      "A1d    0.003802  0.063679  0.187007  0.004696  0.013817  0.064986  0.085063   \n",
      "A1e    0.014670  0.063190  0.170273  0.054600  0.031973  0.065457  0.116325   \n",
      "A1f    0.031359  0.049471  0.102203  0.002332  0.017391  0.032656  0.126794   \n",
      "\n",
      "           GS       GLS     ATP5A  ...  paraview.120_p.CD4_Tcell_CD4_Tcell  \\\n",
      "A1a  0.061049  0.016657  0.004264  ...                            0.000000   \n",
      "A1c  0.099771  0.048674  0.026182  ...                            2.338014   \n",
      "A1d  0.123037  0.081505  0.030168  ...                            0.000000   \n",
      "A1e  0.154685  0.063317  0.148866  ...                            0.000000   \n",
      "A1f  0.072043  0.042017  0.022902  ...                            1.723341   \n",
      "\n",
      "     paraview.120_p.CD4_Tcell_Endothelial_cell  \\\n",
      "A1a                                        0.0   \n",
      "A1c                                        0.0   \n",
      "A1d                                        0.0   \n",
      "A1e                                        0.0   \n",
      "A1f                                        0.0   \n",
      "\n",
      "     paraview.120_p.CD4_Tcell_Monocyte  paraview.120_p.CD4_Tcell_Cancer_cell  \\\n",
      "A1a                           0.000000                              0.000000   \n",
      "A1c                           0.000000                              0.000000   \n",
      "A1d                           0.000000                              0.000000   \n",
      "A1e                           0.000000                              0.000000   \n",
      "A1f                           1.185308                              2.109132   \n",
      "\n",
      "     eccentricity  perimeter        area  eccentricity_std  perimeter_std  \\\n",
      "A1a      0.581355  65.171872  314.714286          0.128060      13.077039   \n",
      "A1c      0.666106  80.607792  440.333333          0.047469       4.783570   \n",
      "A1d      0.538646  62.466252  293.750000          0.132122      19.727343   \n",
      "A1e      0.615152  69.047850  328.083333          0.137102      14.451953   \n",
      "A1f      0.623642  70.150347  336.944444          0.140736      13.644321   \n",
      "\n",
      "       area_std  \n",
      "A1a  115.195073  \n",
      "A1c   49.662192  \n",
      "A1d  154.961017  \n",
      "A1e  136.107348  \n",
      "A1f  122.938764  \n",
      "\n",
      "[5 rows x 29 columns]\n",
      "Wed Apr 23 13:09:20 2025 – Visualizing Epithelial_cell\n",
      "     proportion       CA9      CD98      CytC      MCT1     ASCT2       LDH  \\\n",
      "A1a    0.832041  0.050395  0.068161  0.029648  0.004392  0.127246  0.014701   \n",
      "A1c    0.690175  0.102050  0.075665  0.014408  0.019525  0.121512  0.320069   \n",
      "A1d    0.658745  0.072676  0.343380  0.055538  0.076003  0.247583  0.169621   \n",
      "A1e    0.722494  0.090947  0.108906  0.232537  0.047957  0.100427  0.102520   \n",
      "A1f    0.743902  0.073491  0.160888  0.021976  0.066151  0.073856  0.229596   \n",
      "\n",
      "           GS       GLS     ATP5A  ...  \\\n",
      "A1a  0.033637  0.058093  0.063228  ...   \n",
      "A1c  0.048014  0.141766  0.066487  ...   \n",
      "A1d  0.226320  0.154620  0.058336  ...   \n",
      "A1e  0.114494  0.117474  0.196684  ...   \n",
      "A1f  0.070221  0.064912  0.087477  ...   \n",
      "\n",
      "     paraview.120_p.Cancer_cell_Other_immune_cell  \\\n",
      "A1a                                           0.0   \n",
      "A1c                                           0.0   \n",
      "A1d                                           0.0   \n",
      "A1e                                           0.0   \n",
      "A1f                                           0.0   \n",
      "\n",
      "     paraview.120_p.Cancer_cell_Neutrophil  \\\n",
      "A1a                               2.214751   \n",
      "A1c                               0.940029   \n",
      "A1d                               0.000000   \n",
      "A1e                               0.000000   \n",
      "A1f                               0.000000   \n",
      "\n",
      "     paraview.120_p.Cancer_cell_CD8_Tcell  paraview.120_p.Cancer_cell_APC  \\\n",
      "A1a                                   0.0                             0.0   \n",
      "A1c                                   0.0                             0.0   \n",
      "A1d                                   0.0                             0.0   \n",
      "A1e                                   0.0                             0.0   \n",
      "A1f                                   0.0                             0.0   \n",
      "\n",
      "     eccentricity  perimeter        area  eccentricity_std  perimeter_std  \\\n",
      "A1a      0.655064  81.047730  437.998447          0.151213      22.872714   \n",
      "A1c      0.669182  85.014164  472.985153          0.156898      23.530579   \n",
      "A1d      0.656248  87.496020  512.177489          0.149307      23.282794   \n",
      "A1e      0.651638  74.637103  372.342640          0.149512      19.756903   \n",
      "A1f      0.680126  87.718571  499.855972          0.145635      24.588762   \n",
      "\n",
      "       area_std  \n",
      "A1a  223.593596  \n",
      "A1c  235.614742  \n",
      "A1d  248.930421  \n",
      "A1e  178.567416  \n",
      "A1f  253.867952  \n",
      "\n",
      "[5 rows x 45 columns]\n",
      "Wed Apr 23 13:09:20 2025 – Visualizing Endothelial_cell\n",
      "     proportion       CA9      CD98      CytC      MCT1     ASCT2       LDH  \\\n",
      "A1a    0.014858  0.026585  0.022489  0.000904  0.001124  0.009074  0.014585   \n",
      "A1c    0.011453  0.045288  0.030191  0.016248  0.008524  0.029981  0.108908   \n",
      "A1d    0.062738  0.050735  0.021494  0.004376  0.008343  0.023246  0.056358   \n",
      "A1e    0.036064  0.054700  0.095595  0.062175  0.024173  0.047655  0.104845   \n",
      "A1f    0.019164  0.046994  0.080938  0.004877  0.018712  0.047296  0.088506   \n",
      "\n",
      "           GS       GLS     ATP5A  ...  \\\n",
      "A1a  0.018156  0.017582  0.012462  ...   \n",
      "A1c  0.040325  0.098361  0.050969  ...   \n",
      "A1d  0.042156  0.048829  0.025813  ...   \n",
      "A1e  0.097732  0.090672  0.134646  ...   \n",
      "A1f  0.075403  0.043541  0.032878  ...   \n",
      "\n",
      "     paraview.120_p.Endothelial_cell_CD4_Tcell  \\\n",
      "A1a                                   1.457079   \n",
      "A1c                                   0.000000   \n",
      "A1d                                   0.000000   \n",
      "A1e                                   1.468665   \n",
      "A1f                                   0.000000   \n",
      "\n",
      "     paraview.120_p.Endothelial_cell_CD163_Macrophage  \\\n",
      "A1a                                          0.000000   \n",
      "A1c                                          0.000000   \n",
      "A1d                                          1.031117   \n",
      "A1e                                          0.000000   \n",
      "A1f                                          0.000000   \n",
      "\n",
      "     paraview.120_p.Endothelial_cell_Monocyte  \\\n",
      "A1a                                       0.0   \n",
      "A1c                                       0.0   \n",
      "A1d                                       0.0   \n",
      "A1e                                       0.0   \n",
      "A1f                                       0.0   \n",
      "\n",
      "     paraview.120_p.Endothelial_cell_CD68_Macrophage  eccentricity  perimeter  \\\n",
      "A1a                                         0.000000      0.616435  72.652712   \n",
      "A1c                                         0.000000      0.677067  85.532257   \n",
      "A1d                                         0.000000      0.649069  87.183151   \n",
      "A1e                                         1.317608      0.694476  80.504784   \n",
      "A1f                                         0.000000      0.639480  74.530697   \n",
      "\n",
      "           area  eccentricity_std  perimeter_std    area_std  \n",
      "A1a  376.739130          0.160251      17.837634  166.791982  \n",
      "A1c  468.578947          0.147589      14.584813  179.584185  \n",
      "A1d  517.181818          0.166765      23.199960  237.342266  \n",
      "A1e  428.508475          0.141383      20.591234  198.957401  \n",
      "A1f  385.772727          0.144396      20.085339  190.294241  \n",
      "\n",
      "[5 rows x 34 columns]\n",
      "Wed Apr 23 13:09:20 2025 – Visualizing Monocyte\n",
      "     proportion       CA9      CD98      CytC      MCT1     ASCT2       LDH  \\\n",
      "A1a    0.001938  0.032391  0.035731  0.002939  0.000160  0.008700  0.009687   \n",
      "A1c    0.024111  0.042925  0.096706  0.004816  0.021816  0.021462  0.147368   \n",
      "A1d    0.030418  0.049616  0.165326  0.002379  0.022229  0.107944  0.068436   \n",
      "A1e    0.004890  0.097331  0.333497  0.045870  0.039223  0.105407  0.114393   \n",
      "A1f    0.046167  0.047007  0.112574  0.003761  0.018633  0.040204  0.113116   \n",
      "\n",
      "           GS       GLS     ATP5A  ...  paraview.120_p.Monocyte_Cancer_cell  \\\n",
      "A1a  0.032267  0.008471  0.003346  ...                             0.000000   \n",
      "A1c  0.123697  0.039630  0.033623  ...                             1.585286   \n",
      "A1d  0.142430  0.027235  0.026940  ...                             0.000000   \n",
      "A1e  0.270989  0.071967  0.056334  ...                             0.000000   \n",
      "A1f  0.111639  0.036994  0.030897  ...                             1.453176   \n",
      "\n",
      "     paraview.120_p.Monocyte_CD68_Macrophage  \\\n",
      "A1a                                 0.000000   \n",
      "A1c                                 2.004246   \n",
      "A1d                                 0.000000   \n",
      "A1e                                 0.000000   \n",
      "A1f                                 0.000000   \n",
      "\n",
      "     paraview.120_p.Monocyte_Other_immune_cell  \\\n",
      "A1a                                   0.000000   \n",
      "A1c                                   0.000000   \n",
      "A1d                                   0.000000   \n",
      "A1e                                   0.938942   \n",
      "A1f                                   0.000000   \n",
      "\n",
      "     paraview.120_p.Monocyte_CD163_Macrophage  eccentricity  perimeter  \\\n",
      "A1a                                       0.0      0.605427  69.388841   \n",
      "A1c                                       0.0      0.617014  77.584781   \n",
      "A1d                                       0.0      0.602962  77.037096   \n",
      "A1e                                       0.0      0.672304  60.443281   \n",
      "A1f                                       0.0      0.648257  77.782041   \n",
      "\n",
      "           area  eccentricity_std  perimeter_std    area_std  \n",
      "A1a  351.666667          0.069956      19.606001  166.836247  \n",
      "A1c  423.225000          0.131157      20.621998  192.516731  \n",
      "A1d  423.593750          0.150476      24.414454  233.800281  \n",
      "A1e  260.375000          0.129407      15.229446  119.695969  \n",
      "A1f  415.471698          0.128458      17.889642  184.338589  \n",
      "\n",
      "[5 rows x 34 columns]\n",
      "Wed Apr 23 13:09:20 2025 – Visualizing Cytotoxic_lymphocyte\n",
      "     proportion       CA9      CD98      CytC      MCT1     ASCT2       LDH  \\\n",
      "A1a    0.005814  0.036842  0.178509  0.003162  0.003831  0.144803  0.020783   \n",
      "A1c    0.011453  0.060310  0.088774  0.010983  0.012937  0.045501  0.121743   \n",
      "A1d    0.005703  0.057824  0.240932  0.016031  0.023987  0.096522  0.157511   \n",
      "A1e    0.026284  0.089448  0.189561  0.156771  0.049539  0.125033  0.123331   \n",
      "A1f    0.012195  0.058936  0.131489  0.004456  0.028794  0.042252  0.138554   \n",
      "\n",
      "           GS       GLS     ATP5A  ...  paraview.120_p.NK_cell_NK_cell  \\\n",
      "A1a  0.088115  0.021429  0.019631  ...                             0.0   \n",
      "A1c  0.059592  0.062709  0.060811  ...                             0.0   \n",
      "A1d  0.211135  0.095505  0.032094  ...                             0.0   \n",
      "A1e  0.140389  0.107358  0.155498  ...                             0.0   \n",
      "A1f  0.073029  0.047211  0.030614  ...                             0.0   \n",
      "\n",
      "     juxtaview.40_l.CD8_Tcell_CD8_Tcell  paraview.120_p.CD8_Tcell_CD8_Tcell  \\\n",
      "A1a                            0.000000                            0.904290   \n",
      "A1c                            0.000000                            0.000000   \n",
      "A1d                            0.000000                            3.134526   \n",
      "A1e                            3.050497                            0.000000   \n",
      "A1f                            0.000000                            0.000000   \n",
      "\n",
      "     paraview.120_p.CD8_Tcell_CD4_Tcell  eccentricity  perimeter        area  \\\n",
      "A1a                                 0.0      0.639223  69.492055  326.666667   \n",
      "A1c                                 0.0      0.624919  73.676739  372.368421   \n",
      "A1d                                 0.0      0.697461  80.540789  440.000000   \n",
      "A1e                                 0.0      0.590601  68.634644  331.441860   \n",
      "A1f                                 0.0      0.571714  79.239095  423.857143   \n",
      "\n",
      "     eccentricity_std  perimeter_std    area_std  \n",
      "A1a          0.188140      11.787276   93.300589  \n",
      "A1c          0.147371      13.527230  133.712050  \n",
      "A1d          0.045490      19.569078  183.512397  \n",
      "A1e          0.156343      18.412262  186.149620  \n",
      "A1f          0.206362      21.030591  217.094045  \n",
      "\n",
      "[5 rows x 27 columns]\n"
     ]
    }
   ],
   "source": [
    "# Visualize the results\n",
    "for type in types_of_interest.keys():\n",
    "    print(f\"{ctime()} – Visualizing {type}\")\n",
    "    print(features_ad[type].head())"
   ]
  },
  {
   "cell_type": "code",
   "execution_count": 12,
   "metadata": {},
   "outputs": [
    {
     "name": "stderr",
     "output_type": "stream",
     "text": [
      "/home/loan/miniforge3/envs/liana/lib/python3.11/site-packages/mudata/_core/mudata.py:1531: FutureWarning: From 0.4 .update() will not pull obs/var columns from individual modalities by default anymore. Set mudata.set_options(pull_on_update=False) to adopt the new behaviour, which will become the default. Use new pull_obs/pull_var and push_obs/push_var methods for more flexibility.\n",
      "  self._update_attr(\"var\", axis=0, join_common=join_common)\n",
      "/home/loan/miniforge3/envs/liana/lib/python3.11/site-packages/mudata/_core/mudata.py:931: UserWarning: Cannot join columns with the same name because var_names are intersecting.\n",
      "  warnings.warn(\n",
      "/home/loan/miniforge3/envs/liana/lib/python3.11/site-packages/mudata/_core/mudata.py:1429: FutureWarning: From 0.4 .update() will not pull obs/var columns from individual modalities by default anymore. Set mudata.set_options(pull_on_update=False) to adopt the new behaviour, which will become the default. Use new pull_obs/pull_var and push_obs/push_var methods for more flexibility.\n",
      "  self._update_attr(\"obs\", axis=1, join_common=join_common)\n"
     ]
    }
   ],
   "source": [
    "mdata = mu.MuData({k:mu.AnnData(v) for k,v in features_ad.items()})"
   ]
  },
  {
   "cell_type": "code",
   "execution_count": 13,
   "metadata": {},
   "outputs": [],
   "source": [
    "# Keep track of clinical metadata\n",
    "assert np.all(meta_per_fov.index == mdata.obs.index)\n",
    "mdata.obs[\"Stage\"] = meta_per_fov.Stage"
   ]
  },
  {
   "cell_type": "code",
   "execution_count": 14,
   "metadata": {},
   "outputs": [
    {
     "name": "stderr",
     "output_type": "stream",
     "text": [
      "/home/loan/miniforge3/envs/liana/lib/python3.11/site-packages/mudata/_core/mudata.py:1531: FutureWarning: From 0.4 .update() will not pull obs/var columns from individual modalities by default anymore. Set mudata.set_options(pull_on_update=False) to adopt the new behaviour, which will become the default. Use new pull_obs/pull_var and push_obs/push_var methods for more flexibility.\n",
      "  self._update_attr(\"var\", axis=0, join_common=join_common)\n",
      "/home/loan/miniforge3/envs/liana/lib/python3.11/site-packages/mudata/_core/mudata.py:1429: FutureWarning: From 0.4 .update() will not pull obs/var columns from individual modalities by default anymore. Set mudata.set_options(pull_on_update=False) to adopt the new behaviour, which will become the default. Use new pull_obs/pull_var and push_obs/push_var methods for more flexibility.\n",
      "  self._update_attr(\"obs\", axis=1, join_common=join_common)\n"
     ]
    }
   ],
   "source": [
    "mdata.write_h5mu(\"../../data/celltype_features.h5mu\")"
   ]
  },
  {
   "cell_type": "markdown",
   "metadata": {},
   "source": [
    "## 7 – Additional features\n",
    "More cell-type-level features could be included, such as mean and variance of functional markers relevant for a cell type.  \n",
    "This can be an interesting time to include PD1 (T cells), STING1 and PDL1 (all?).  \n",
    "For all cell types, we could include Ki67, MSH2, MSH6.\n",
    "What about DCN? Images are low-intensity and noisy and considered uninformative."
   ]
  },
  {
   "cell_type": "code",
   "execution_count": 15,
   "metadata": {},
   "outputs": [
    {
     "name": "stdout",
     "output_type": "stream",
     "text": [
      "Wed Apr 23 13:09:25 2025 – Expression in Other_immune_cell\n",
      "0.07829730542952233\n",
      "Wed Apr 23 13:09:25 2025 – Expression in Fibroblast\n",
      "0.02036398851607919\n",
      "Wed Apr 23 13:09:25 2025 – Expression in Macrophage\n",
      "0.07754504306914248\n",
      "Wed Apr 23 13:09:25 2025 – Expression in CD4_lymphocyte\n",
      "0.21412038656954321\n",
      "Wed Apr 23 13:09:25 2025 – Expression in Epithelial_cell\n",
      "0.09137567799882322\n",
      "Wed Apr 23 13:09:25 2025 – Expression in Endothelial_cell\n",
      "0.06979465511900515\n",
      "Wed Apr 23 13:09:25 2025 – Expression in Monocyte\n",
      "0.05747557888268267\n",
      "Wed Apr 23 13:09:25 2025 – Expression in Cytotoxic_lymphocyte\n",
      "0.1618491228117907\n"
     ]
    }
   ],
   "source": [
    "for type in types_of_interest.keys():\n",
    "    print(f\"{ctime()} – Expression in {type}\")\n",
    "    print(cell_table.loc[cell_table.consensus.isin(types_of_interest[type]),\"PD1\"].mean())"
   ]
  },
  {
   "cell_type": "code",
   "execution_count": 16,
   "metadata": {},
   "outputs": [],
   "source": [
    "for type in [\"CD4_lymphocyte\", \"Cytotoxic_lymphocyte\"]:\n",
    "    features_ad[type] = features_ad[type].join(\n",
    "        cell_table.loc[cell_table.consensus.isin(types_of_interest[type]),\"PD1\"].groupby(cell_table['fov']).median())"
   ]
  },
  {
   "cell_type": "code",
   "execution_count": 17,
   "metadata": {},
   "outputs": [
    {
     "name": "stdout",
     "output_type": "stream",
     "text": [
      "Wed Apr 23 13:09:26 2025 – Expression in Other_immune_cell\n",
      "0.12091111463322718\n",
      "Wed Apr 23 13:09:26 2025 – Expression in Fibroblast\n",
      "0.030203571452527413\n",
      "Wed Apr 23 13:09:26 2025 – Expression in Macrophage\n",
      "0.16249753025669383\n",
      "Wed Apr 23 13:09:26 2025 – Expression in CD4_lymphocyte\n",
      "0.11350441258574195\n",
      "Wed Apr 23 13:09:26 2025 – Expression in Epithelial_cell\n",
      "0.06635339089230838\n",
      "Wed Apr 23 13:09:26 2025 – Expression in Endothelial_cell\n",
      "0.08904043214021373\n",
      "Wed Apr 23 13:09:26 2025 – Expression in Monocyte\n",
      "0.12649067323902882\n",
      "Wed Apr 23 13:09:26 2025 – Expression in Cytotoxic_lymphocyte\n",
      "0.09267511686315565\n"
     ]
    }
   ],
   "source": [
    "for type in types_of_interest.keys():\n",
    "    print(f\"{ctime()} – Expression in {type}\")\n",
    "    print(cell_table.loc[cell_table.consensus.isin(types_of_interest[type]),\"PDL1\"].mean())"
   ]
  },
  {
   "cell_type": "code",
   "execution_count": 18,
   "metadata": {},
   "outputs": [
    {
     "name": "stdout",
     "output_type": "stream",
     "text": [
      "Wed Apr 23 13:09:27 2025 – Expression in Other_immune_cell\n",
      "0.14291770399929662\n",
      "Wed Apr 23 13:09:27 2025 – Expression in Fibroblast\n",
      "0.046669879899428376\n",
      "Wed Apr 23 13:09:27 2025 – Expression in Macrophage\n",
      "0.1779816841313718\n",
      "Wed Apr 23 13:09:27 2025 – Expression in CD4_lymphocyte\n",
      "0.1330325918971477\n",
      "Wed Apr 23 13:09:27 2025 – Expression in Epithelial_cell\n",
      "0.07340557715989628\n",
      "Wed Apr 23 13:09:27 2025 – Expression in Endothelial_cell\n",
      "0.1021410369765828\n",
      "Wed Apr 23 13:09:27 2025 – Expression in Monocyte\n",
      "0.17149666072296801\n",
      "Wed Apr 23 13:09:27 2025 – Expression in Cytotoxic_lymphocyte\n",
      "0.10927458079883498\n"
     ]
    }
   ],
   "source": [
    "for type in types_of_interest.keys():\n",
    "    print(f\"{ctime()} – Expression in {type}\")\n",
    "    print(cell_table.loc[cell_table.consensus.isin(types_of_interest[type]),\"PDL1\"].std())"
   ]
  },
  {
   "cell_type": "code",
   "execution_count": 19,
   "metadata": {},
   "outputs": [],
   "source": [
    "for type in types_of_interest.keys():\n",
    "    if type in [\"CD4_lymphocyte\", \"Cytotoxic_lymphocyte\"]:\n",
    "        # Skip T cells\n",
    "        continue\n",
    "    features_ad[type] = features_ad[type].join(\n",
    "        cell_table.loc[cell_table.consensus.isin(types_of_interest[type]),\"PDL1\"].groupby(cell_table['fov']).median())"
   ]
  },
  {
   "cell_type": "code",
   "execution_count": 20,
   "metadata": {},
   "outputs": [
    {
     "name": "stdout",
     "output_type": "stream",
     "text": [
      "Wed Apr 23 13:09:30 2025 – Expression in Other_immune_cell\n",
      "0.22799981269187136\n",
      "Wed Apr 23 13:09:30 2025 – Expression in Fibroblast\n",
      "0.1344997992812595\n",
      "Wed Apr 23 13:09:30 2025 – Expression in Macrophage\n",
      "0.36416741189387775\n",
      "Wed Apr 23 13:09:30 2025 – Expression in CD4_lymphocyte\n",
      "0.3708812559006673\n",
      "Wed Apr 23 13:09:30 2025 – Expression in Epithelial_cell\n",
      "0.1997073624666894\n",
      "Wed Apr 23 13:09:30 2025 – Expression in Endothelial_cell\n",
      "0.3575580239285345\n",
      "Wed Apr 23 13:09:30 2025 – Expression in Monocyte\n",
      "0.2982399147082395\n",
      "Wed Apr 23 13:09:30 2025 – Expression in Cytotoxic_lymphocyte\n",
      "0.221863044902187\n"
     ]
    }
   ],
   "source": [
    "for type in types_of_interest.keys():\n",
    "    print(f\"{ctime()} – Expression in {type}\")\n",
    "    print(cell_table.loc[cell_table.consensus.isin(types_of_interest[type]),\"STING1\"].mean())"
   ]
  },
  {
   "cell_type": "code",
   "execution_count": 21,
   "metadata": {},
   "outputs": [],
   "source": [
    "for type in types_of_interest.keys():\n",
    "    features_ad[type] = features_ad[type].join(\n",
    "        cell_table.loc[cell_table.consensus.isin(types_of_interest[type]),[\"STING1\", \"MSH2\", \"MSH6\"]].groupby(cell_table['fov']).median())"
   ]
  },
  {
   "cell_type": "code",
   "execution_count": 22,
   "metadata": {},
   "outputs": [
    {
     "name": "stderr",
     "output_type": "stream",
     "text": [
      "/home/loan/miniforge3/envs/liana/lib/python3.11/site-packages/mudata/_core/mudata.py:1531: FutureWarning: From 0.4 .update() will not pull obs/var columns from individual modalities by default anymore. Set mudata.set_options(pull_on_update=False) to adopt the new behaviour, which will become the default. Use new pull_obs/pull_var and push_obs/push_var methods for more flexibility.\n",
      "  self._update_attr(\"var\", axis=0, join_common=join_common)\n",
      "/home/loan/miniforge3/envs/liana/lib/python3.11/site-packages/mudata/_core/mudata.py:931: UserWarning: Cannot join columns with the same name because var_names are intersecting.\n",
      "  warnings.warn(\n",
      "/home/loan/miniforge3/envs/liana/lib/python3.11/site-packages/mudata/_core/mudata.py:1429: FutureWarning: From 0.4 .update() will not pull obs/var columns from individual modalities by default anymore. Set mudata.set_options(pull_on_update=False) to adopt the new behaviour, which will become the default. Use new pull_obs/pull_var and push_obs/push_var methods for more flexibility.\n",
      "  self._update_attr(\"obs\", axis=1, join_common=join_common)\n",
      "/home/loan/miniforge3/envs/liana/lib/python3.11/site-packages/mudata/_core/mudata.py:1531: FutureWarning: From 0.4 .update() will not pull obs/var columns from individual modalities by default anymore. Set mudata.set_options(pull_on_update=False) to adopt the new behaviour, which will become the default. Use new pull_obs/pull_var and push_obs/push_var methods for more flexibility.\n",
      "  self._update_attr(\"var\", axis=0, join_common=join_common)\n",
      "/home/loan/miniforge3/envs/liana/lib/python3.11/site-packages/mudata/_core/mudata.py:1429: FutureWarning: From 0.4 .update() will not pull obs/var columns from individual modalities by default anymore. Set mudata.set_options(pull_on_update=False) to adopt the new behaviour, which will become the default. Use new pull_obs/pull_var and push_obs/push_var methods for more flexibility.\n",
      "  self._update_attr(\"obs\", axis=1, join_common=join_common)\n"
     ]
    }
   ],
   "source": [
    "# Assemble into MuData\n",
    "mdata = mu.MuData({k:mu.AnnData(v) for k,v in features_ad.items()})\n",
    "# Keep track of clinical metadata\n",
    "assert np.all(meta_per_fov.index == mdata.obs.index)\n",
    "mdata.obs[\"Stage\"] = meta_per_fov.Stage\n",
    "# Export to h5mu, including functional markers\n",
    "mdata.write_h5mu(\"../../data/celltype_features_with_functional_markers.h5mu\")"
   ]
  },
  {
   "cell_type": "markdown",
   "metadata": {},
   "source": []
  }
 ],
 "metadata": {
  "kernelspec": {
   "display_name": "liana",
   "language": "python",
   "name": "python3"
  },
  "language_info": {
   "codemirror_mode": {
    "name": "ipython",
    "version": 3
   },
   "file_extension": ".py",
   "mimetype": "text/x-python",
   "name": "python",
   "nbconvert_exporter": "python",
   "pygments_lexer": "ipython3",
   "version": "3.11.9"
  }
 },
 "nbformat": 4,
 "nbformat_minor": 2
}
