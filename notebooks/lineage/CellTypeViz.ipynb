{
 "cells": [
  {
   "cell_type": "markdown",
   "metadata": {},
   "source": [
    "# Explore annotated cell types\n",
    "Corresponds to fig 2 and sfig 2 in draft."
   ]
  },
  {
   "cell_type": "code",
   "execution_count": null,
   "metadata": {},
   "outputs": [],
   "source": [
    "import os\n",
    "import numpy as np\n",
    "import anndata as ad\n",
    "import pandas as pd\n",
    "import scanpy as sc\n",
    "from plotnine import *"
   ]
  },
  {
   "cell_type": "code",
   "execution_count": null,
   "metadata": {},
   "outputs": [],
   "source": [
    "adata = ad.read_h5ad('../../data/adata_consensus_cell_types.h5ad')"
   ]
  },
  {
   "cell_type": "code",
   "execution_count": null,
   "metadata": {},
   "outputs": [],
   "source": [
    "adata.var_names"
   ]
  },
  {
   "cell_type": "code",
   "execution_count": null,
   "metadata": {},
   "outputs": [],
   "source": [
    "adata.X.shape"
   ]
  },
  {
   "cell_type": "code",
   "execution_count": null,
   "metadata": {},
   "outputs": [],
   "source": [
    "579011 - 90917"
   ]
  },
  {
   "cell_type": "code",
   "execution_count": null,
   "metadata": {},
   "outputs": [],
   "source": [
    "adata.obs.annotation_consensus.value_counts()"
   ]
  },
  {
   "cell_type": "code",
   "execution_count": null,
   "metadata": {},
   "outputs": [],
   "source": [
    "markers_t = ['SMA', 'CD31', 'CD163', 'CD68', 'CD8', 'CD45', 'PanCK', 'MPO', 'CD7'] + [\"CD3e\", \"CD8\", 'CD7', \"CD14\", \"MPO\",'CD20', 'CD68', \"CD163\", \"HLADRa\"]"
   ]
  },
  {
   "cell_type": "markdown",
   "metadata": {},
   "source": [
    "## Display clusters"
   ]
  },
  {
   "cell_type": "code",
   "execution_count": null,
   "metadata": {},
   "outputs": [],
   "source": [
    "sc.settings.verbosity = 1  # verbosity: errors (0), warnings (1), info (2), hints (3)\n",
    "sc.settings.set_figure_params(dpi=150, facecolor=\"white\")"
   ]
  },
  {
   "cell_type": "code",
   "execution_count": null,
   "metadata": {},
   "outputs": [],
   "source": [
    "sc.pp.neighbors(adata, n_neighbors=10, n_pcs=40)\n",
    "sc.tl.umap(adata)"
   ]
  },
  {
   "cell_type": "code",
   "execution_count": null,
   "metadata": {},
   "outputs": [],
   "source": [
    "# Display all markers used to generate UMAP\n",
    "# Note that scanpy does not save in the file at the path provided but enforce its own relative path structure\n",
    "sc.pl.umap(adata, color=adata.var_names, color_map=\"plasma_r\", save='/fig2/umap_lineage_markers.pdf')"
   ]
  },
  {
   "cell_type": "code",
   "execution_count": null,
   "metadata": {},
   "outputs": [],
   "source": [
    "# Display curated cell types\n",
    "sc.pl.umap(adata, color=\"annotation_consensus\")"
   ]
  },
  {
   "cell_type": "code",
   "execution_count": null,
   "metadata": {},
   "outputs": [],
   "source": [
    "# Display curated cell types, excluding unclear cells\n",
    "sc.pl.umap(adata[adata.obs[\"consensus\"] != \"Unclear\"], color=\"annotation_consensus\", save='/fig2/umap_types.pdf')"
   ]
  },
  {
   "cell_type": "code",
   "execution_count": null,
   "metadata": {},
   "outputs": [],
   "source": [
    "# Display the expression levels in each cureated cell type\n",
    "sc.pl.dotplot(adata, adata.var_names, groupby=\"annotation_consensus\", dendrogram=False, standard_scale=\"var\")"
   ]
  },
  {
   "cell_type": "code",
   "execution_count": null,
   "metadata": {},
   "outputs": [],
   "source": [
    "# Group rows by cell type and compute median expression\n",
    "df = pd.DataFrame(adata.X, columns=adata.var_names)\n",
    "df[\"cell_type\"] = adata.obs[\"annotation_consensus\"].values\n",
    "df = df.groupby(\"cell_type\").median().T\n",
    "# Note: z-score transformations just look more noisy\n",
    "# Drop unclear cells for figure (actually low for all markers)\n",
    "df = df.drop(\"Unclear\", axis=1)\n",
    "\n",
    "# Manual rearrangement of cell types and markers\n",
    "# to display positive markers on the diagonal\n",
    "cell_types_ordered = [\n",
    "    'T_reg_cell', 'CD4_Tcell', 'CD8_Tcell', 'NK_cell',\n",
    "    'B_cell', 'CD68_Macrophage', 'CD163_Macrophage', \n",
    "    'Other_immune_cell', 'Monocyte', 'APC', \n",
    "    \"Neutrophil\", \"Cancer_cell\", \"Endothelial_cell\", \"CAF\",\n",
    "\n",
    "]\n",
    "markers_ordered = [\n",
    "    \"SMA\", \"CD31\",  \"PanCK\", \"MPO\",\n",
    "    'HLADRa','CD14', 'CD163', 'CD68', 'CD20',  \n",
    "    'CD8', \"CD4\", 'FoxP3', 'CD7', \"CD3e\", \"CD45\",\n",
    "]\n",
    "assert set(df.index) == set(markers_ordered)\n",
    "assert set(df.columns) == set(cell_types_ordered)\n",
    "# Reorder the DataFrame\n",
    "df_ordered = df.melt(ignore_index=False).reset_index()\n",
    "df_ordered[\"cell_type\"] = pd.Categorical(df_ordered[\"cell_type\"], categories=cell_types_ordered, ordered=True)\n",
    "df_ordered[\"index\"] = pd.Categorical(df_ordered[\"index\"], categories=markers_ordered, ordered=True)\n",
    "\n",
    "# Display as heatmap\n",
    "gp = (\n",
    "    ggplot(df_ordered, aes(x=\"index\", y=\"cell_type\")) \n",
    "    + geom_tile(aes(fill=\"value\")) \n",
    "    + theme_classic() \n",
    "    + theme(axis_text_x=element_text(angle=90)) \n",
    "    + labs(y=\"Cell type\", x=\"Lineage marker\", fill=\"Median\\nexpression\") \n",
    "    # + coord_equal()\n",
    "    # Use reverted plasma color palette\n",
    "    + scale_fill_gradientn(colors = [\"#EFF822\", \"#CC4977\",\"#0F0782\"])\n",
    ")\n",
    "ggsave(gp, \"../../figures/fig2/heatmap_lineage_markers.pdf\", width = 6, height = 4)\n",
    "gp"
   ]
  },
  {
   "cell_type": "code",
   "execution_count": null,
   "metadata": {},
   "outputs": [],
   "source": [
    "from plotnine import *\n",
    "import matplotlib as mpl\n",
    "colors = mpl.rcParams[\"axes.prop_cycle\"]\n",
    "colors = [x[\"color\"] for x in list(colors)]"
   ]
  },
  {
   "cell_type": "code",
   "execution_count": null,
   "metadata": {},
   "outputs": [],
   "source": [
    "sub_ad = adata[adata.obs[\"consensus\"] != \"Unclear\"]\n",
    "sub_ad = pd.concat([sub_ad.to_df(), sub_ad.obs], axis = 1)\n",
    "for marker in adata.var_names:\n",
    "    gp = (ggplot(sub_ad, aes(x = \"annotation_consensus\", fill = \"annotation_consensus\", y = marker)) \n",
    "    + geom_violin(style=\"right\", scale=\"width\", width = 1.25) \n",
    "    # Use stat_summary to compute and plot the median for each group\n",
    "    + stat_summary(fun_y=np.median, geom='point', color='white', size=2)\n",
    "    + theme_classic() \n",
    "    + coord_flip()\n",
    "    # + coord_fixed()\n",
    "    + scale_fill_manual(values = colors)\n",
    "    + theme(legend_position = \"none\")\n",
    "    + labs(y = f\"{marker} expression\", x = \"Cell type\"))\n",
    "    ggsave(gp, f\"../../figures/fig2/violin_{marker}_celltype.pdf\", width = 3.5, height = 3.5)"
   ]
  },
  {
   "cell_type": "code",
   "execution_count": null,
   "metadata": {},
   "outputs": [],
   "source": [
    "adata.obs.annotation_consensus.value_counts()"
   ]
  },
  {
   "cell_type": "code",
   "execution_count": null,
   "metadata": {},
   "outputs": [],
   "source": [
    "# Re-order cell types by abundance\n",
    "adata.obs[\"ordered_annotation_consensus\"] = adata.obs[\"annotation_consensus\"].cat.reorder_categories(\n",
    "    adata.obs[\"annotation_consensus\"].value_counts().index.to_list(),\n",
    "    ordered=True\n",
    ")\n",
    "\n",
    "# Display as bar chart\n",
    "\n",
    "gp = (\n",
    "    ggplot(adata.obs, aes(x=\"ordered_annotation_consensus\", fill=\"annotation_consensus\")) \n",
    "    + geom_bar() \n",
    "    + theme_classic() \n",
    "    + scale_fill_manual(values = colors)\n",
    "    + coord_flip()\n",
    "    # + scale_y_log10()\n",
    "    + labs(x=\"Cell type\", y=\"Number of cells\")\n",
    "    + guides(fill=False)\n",
    ")\n",
    "ggsave(gp, \"../../figures/fig2/absolute_cell_counts.pdf\", width = 3, height = 4)\n",
    "gp"
   ]
  },
  {
   "cell_type": "code",
   "execution_count": null,
   "metadata": {},
   "outputs": [],
   "source": [
    "# Create a new data frame with the proportion of each curated cell type per FOV\n",
    "proportion_per_fov = pd.crosstab(adata.obs[\"fov\"], adata.obs[\"annotation_consensus\"], normalize=\"index\")\n",
    "\n",
    "# Sort the FOVs by the proportion of \"Cancer_cell\" in descending order\n",
    "proportion_per_fov.index = pd.CategoricalIndex(proportion_per_fov.index, \n",
    "                                          categories=proportion_per_fov.loc[:, \"Cancer_cell\"].sort_values(ascending=False).index.to_list(),\n",
    "                                          ordered=True)\n",
    "\n",
    "# Convert to long format\n",
    "proportion_per_fov_long = proportion_per_fov.melt(var_name=\"annotation_consensus\", value_name=\"proportion\", ignore_index=False).reset_index()\n",
    "\n",
    "# Display the proportion of each curated cell type per FOV as stacked barplots\n",
    "gp = (\n",
    "    ggplot(proportion_per_fov_long, aes(x=\"fov\", y=\"proportion\", fill=\"annotation_consensus\")) +\n",
    "    geom_bar(stat=\"identity\") +\n",
    "    coord_flip() +\n",
    "    theme_minimal() +\n",
    "    labs(x=\"Field of view\", y=\"Proportion\", fill=\"Cell type\", title=\"Cell type composition per FOV\") +\n",
    "    theme(axis_text_y=element_blank(), axis_title_x=element_text(margin={'t': 10}))\n",
    ")\n",
    "\n",
    "# ggsave(gp, \"proportion_per_fov.pdf\")\n",
    "gp"
   ]
  },
  {
   "cell_type": "code",
   "execution_count": null,
   "metadata": {},
   "outputs": [],
   "source": [
    "proportion_per_fov_long.annotation_consensus = pd.Categorical(proportion_per_fov_long.annotation_consensus)\n",
    "proportion_per_fov_long.annotation_consensus.cat.remove_unused_categories()"
   ]
  },
  {
   "cell_type": "code",
   "execution_count": null,
   "metadata": {},
   "outputs": [],
   "source": [
    "# Repeat the same analysis but excluding the \"Unclear\" labelled cells\n",
    "clear_obs = adata.obs.loc[adata.obs.annotation_consensus != \"Unclear\"]\n",
    "\n",
    "# Create a new data frame with the proportion of each curated cell type per FOV\n",
    "proportion_per_fov = pd.crosstab(clear_obs[\"fov\"], clear_obs[\"annotation_consensus\"], normalize=\"index\")\n",
    "\n",
    "# Sort the FOVs by the proportion of \"Cancer_cell\" in descending order\n",
    "proportion_per_fov.index = pd.CategoricalIndex(proportion_per_fov.index, \n",
    "                                          categories=proportion_per_fov.loc[:, \"Cancer_cell\"].sort_values(ascending=False).index.to_list(),\n",
    "                                          ordered=True)\n",
    "\n",
    "# Convert to long format\n",
    "proportion_per_fov_long = proportion_per_fov.melt(var_name=\"annotation_consensus\", value_name=\"proportion\", ignore_index=False).reset_index()\n",
    "# Drop unused levels\n",
    "proportion_per_fov_long.annotation_consensus = pd.Categorical(proportion_per_fov_long.annotation_consensus)\n",
    "proportion_per_fov_long.annotation_consensus = proportion_per_fov_long.annotation_consensus.cat.remove_unused_categories()\n",
    "\n",
    "# Display the proportion of each curated cell type per FOV as stacked barplots\n",
    "gp = (\n",
    "    ggplot(proportion_per_fov_long, aes(x=\"fov\", y=\"proportion\", fill=\"annotation_consensus\")) +\n",
    "    geom_bar(stat=\"identity\") +\n",
    "    coord_flip(ylim = [0, 1], xlim = [0,1]) +\n",
    "    theme_minimal() +\n",
    "    scale_fill_manual(values = colors) +\n",
    "    labs(x=\"Sample\", y=\"Proportion\", fill=\"Cell type\") +\n",
    "    theme(axis_text_y=element_blank(), axis_title_x=element_text(margin={'t': 10}), panel_background = element_blank())\n",
    ")\n",
    "\n",
    "# ggsave(gp, \"figures/fig2/proportion_per_fov_no_unclear.pdf\")\n",
    "gp\n"
   ]
  },
  {
   "cell_type": "code",
   "execution_count": null,
   "metadata": {},
   "outputs": [],
   "source": [
    "# Now, we want to split FOVs based on whether they correspond to patients or healthy donors\n",
    "clini = pd.read_csv(\"../../data/summary_clinical_data_modified.csv\", index_col=2)\n",
    "\n",
    "# Convert to long format\n",
    "proportion_per_fov_long = proportion_per_fov.melt(var_name=\"annotation_consensus\", value_name=\"proportion\", ignore_index=False).reset_index()\n",
    "# Drop unused levels\n",
    "proportion_per_fov_long.annotation_consensus = pd.Categorical(proportion_per_fov_long.annotation_consensus)\n",
    "proportion_per_fov_long.annotation_consensus = proportion_per_fov_long.annotation_consensus.cat.remove_unused_categories()\n",
    "# Store the original categorical information\n",
    "proportion_per_fov_long.fov = pd.Categorical(proportion_per_fov_long.fov)\n",
    "original_categories = proportion_per_fov_long.fov.cat.categories\n",
    "original_ordered_status = proportion_per_fov_long.fov.cat.ordered\n",
    "# Merge with clinical data\n",
    "proportion_per_fov_long = pd.merge(proportion_per_fov_long, clini, left_on=\"fov\", right_index=True, how='left')\n",
    "# Restore the categorical nature and order\n",
    "proportion_per_fov_long['fov'] = pd.Categorical(proportion_per_fov_long['fov'], categories=original_categories, ordered=original_ordered_status)\n",
    "# Categories need to be re-ordered\n",
    "proportion_per_fov_long[\"pT\"] = proportion_per_fov_long[\"pT group\"].astype(\"category\")\n",
    "gp = (\n",
    "    ggplot(proportion_per_fov_long, aes(x=\"fov\", y=\"proportion\", fill=\"annotation_consensus\")) +\n",
    "    geom_bar(stat=\"identity\") +\n",
    "    coord_flip(ylim = [0, 1], xlim = [0,1]) +\n",
    "    theme_minimal() +\n",
    "    scale_fill_manual(values = colors) +\n",
    "    labs(x=\"Field of view\", y=\"Proportion\", fill=\"Cell type\") +\n",
    "    theme(axis_text_y=element_blank(), axis_title_x=element_text(margin={'t': 10}), panel_background = element_blank())\n",
    ")\n",
    "gp + facet_wrap('~pT') + theme_classic()\n",
    "# Conclusion: adding info about tumor stage would not visually contribute to the plot"
   ]
  },
  {
   "cell_type": "code",
   "execution_count": null,
   "metadata": {},
   "outputs": [],
   "source": [
    "proportion_per_fov_long[\"tumor\"] = [x in clini.index for x in proportion_per_fov_long.fov]\n",
    "# Samples on E1 and E2 lines are SCT samples and neither normal nor tumor\n",
    "proportion_per_fov_long.loc[[(\"E1\" in x) or (\"E2\" in x) for x in proportion_per_fov_long[\"fov\"]], \"tumor\"] = pd.NA\n",
    "\n",
    "# Display the proportion of each curated cell type per FOV as stacked barplots\n",
    "gp = (\n",
    "    ggplot(proportion_per_fov_long, aes(x=\"fov\", y=\"proportion\", fill=\"annotation_consensus\")) +\n",
    "    geom_bar(stat=\"identity\") +\n",
    "    coord_flip() +\n",
    "    theme_minimal() +\n",
    "    facet_wrap(\"~tumor\") +\n",
    "    labs(x=\"Field of view\", y=\"Proportion\", fill=\"Cell type\", title=\"Cell type composition per FOV\") +\n",
    "    theme(axis_text_y=element_blank(), axis_title_x=element_text(margin={'t': 10}))\n",
    ")\n",
    "\n",
    "# ggsave(gp, \"proportion_per_fov_no_unclear_stratified.pdf\")\n",
    "gp + theme_classic()"
   ]
  },
  {
   "cell_type": "code",
   "execution_count": null,
   "metadata": {},
   "outputs": [],
   "source": [
    "x = proportion_per_fov_long[[x == False for x in proportion_per_fov_long.tumor if x is not pd.NA]]\n",
    "x[x.annotation_consensus == \"Cancer_cell\"]"
   ]
  },
  {
   "cell_type": "code",
   "execution_count": null,
   "metadata": {},
   "outputs": [],
   "source": [
    "# Median proportion of each cell type per FOV, grouped by tumor status\n",
    "proportion_per_fov_long.groupby([\"tumor\", \"annotation_consensus\"]).proportion.median()"
   ]
  },
  {
   "cell_type": "code",
   "execution_count": null,
   "metadata": {},
   "outputs": [],
   "source": [
    "data = pd.crosstab(adata.obs[\"fov\"], adata.obs[\"annotation_consensus\"], normalize=\"index\").values\n",
    "data[data == 0] = np.min(data[data != 0])/10\n",
    "\n",
    "# Function to perform ALR transformation\n",
    "def alr_transform(data):\n",
    "    reference = data[:, -1].reshape(-1, 1)\n",
    "    alr_data = np.log(data[:, :-1] / reference)\n",
    "    return alr_data\n",
    "\n",
    "# Function to perform inverse ALR transformation\n",
    "def alr_inverse_transform(alr_data, reference):\n",
    "    data = np.exp(alr_data)\n",
    "    data = np.hstack((data, np.ones((data.shape[0], 1))))\n",
    "    data = data * reference\n",
    "    return data\n",
    "\n",
    "# EM algorithm for zero imputation\n",
    "def lr_em(data, max_iter=100, tol=1e-6):\n",
    "    for _ in range(max_iter):\n",
    "        alr_data = alr_transform(data)\n",
    "        mean = np.nanmean(alr_data, axis=0)\n",
    "        cov = np.nan_to_num(np.cov(alr_data, rowvar=False))\n",
    "        imputed_data = np.random.multivariate_normal(mean, cov, size=data.shape[0])\n",
    "        imputed_data = alr_inverse_transform(imputed_data, data[:, -1].reshape(-1, 1))\n",
    "        data[data == 1e-6] = imputed_data[data == 1e-6]\n",
    "        if np.linalg.norm(data - imputed_data) < tol:\n",
    "            break\n",
    "    return data\n",
    "\n",
    "# Apply lrEM algorithm\n",
    "imputed_data = lr_em(data)\n",
    "\n",
    "# CLR transformation\n",
    "def clr_transformation(data):\n",
    "    geometric_mean = np.exp(np.mean(np.log(data), axis=1)).reshape(-1, 1)\n",
    "    clr_data = np.log(data / geometric_mean)\n",
    "    return clr_data\n",
    "\n",
    "clr_data = clr_transformation(imputed_data)\n",
    "clr_labels = proportion_per_fov_long.tumor"
   ]
  },
  {
   "cell_type": "code",
   "execution_count": null,
   "metadata": {},
   "outputs": [],
   "source": [
    "# Display clr transformed data as violin plots for each cell type, comparing tumor and non-tumor FOVs\n",
    "clr_df = pd.DataFrame(clr_data, columns=adata.obs[\"annotation_consensus\"].cat.categories.to_list())\n",
    "clr_df[\"tumor\"] = clr_labels\n",
    "clr_df = clr_df.melt(id_vars=\"tumor\", var_name=\"cell_type\", value_name=\"clr_value\")\n",
    "gp = (\n",
    "    ggplot(clr_df, aes(x=\"cell_type\", y=\"clr_value\", fill=\"tumor\")) +\n",
    "    geom_violin(scale=\"width\") +\n",
    "    stat_summary(fun_y=np.median, geom='point', color='white', size=2) +\n",
    "    coord_flip() +\n",
    "    theme_classic() +\n",
    "    labs(x=\"Cell type\", y=\"CLR transformed value\", fill=\"Tumor status\") +\n",
    "    theme(legend_position=\"top\")\n",
    ")\n",
    "gp"
   ]
  },
  {
   "cell_type": "code",
   "execution_count": null,
   "metadata": {},
   "outputs": [],
   "source": [
    "# Count values and do not discard NAs\n",
    "proportion_per_fov_long.tumor.value_counts(dropna=False)\n",
    "clr_df[\"tumor\"].value_counts(dropna=False)"
   ]
  },
  {
   "cell_type": "code",
   "execution_count": null,
   "metadata": {},
   "outputs": [],
   "source": [
    "from statsmodels.multivariate.manova import MANOVA\n",
    "# Assuming clr_data is a DataFrame and clr_labels is a Series or list\n",
    "df = pd.DataFrame(clr_data)\n",
    "# Add column names\n",
    "df.columns = adata.obs[\"annotation_consensus\"].cat.categories.to_list()\n",
    "# Filter irrelevant columns (not biological interpretation)\n",
    "df = df.iloc[:, :-3]\n",
    "# Add labels to the DataFrame\n",
    "df['labels'] = clr_labels  \n",
    "# Ignore SCT samples (labels = NA)\n",
    "df = df.loc[df['labels'].notna()]\n",
    "\n",
    "# Perform MANOVA\n",
    "covar = ' + '.join([x for x in df.columns if x != \"labels\"])\n",
    "maov = MANOVA.from_formula(f'{covar} ~ labels', data=df)\n",
    "print(maov.mv_test())"
   ]
  },
  {
   "cell_type": "code",
   "execution_count": null,
   "metadata": {},
   "outputs": [],
   "source": [
    "# Display clr transformed data as violin plots for each cell type, comparing tumor and non-tumor FOVs\n",
    "clr_df = pd.DataFrame(clr_data, columns=adata.obs[\"annotation_consensus\"].cat.categories.to_list())\n",
    "clr_df[\"tumor\"] = clr_labels\n",
    "# Ignore SCT samples (tumor = NA)\n",
    "clr_df = clr_df.loc[clr_df[\"tumor\"].notna()]\n",
    "clr_df = clr_df.melt(id_vars=\"tumor\", var_name=\"cell_type\", value_name=\"clr_value\")\n",
    "# Exclude uninterpretable cell types / keep only immune cells\n",
    "excluded_types = [\"Cancer_cell\", \"Unclear\", \"Endothelial_cell\", \"CAF\"]\n",
    "clr_df = clr_df.loc[~clr_df.cell_type.isin(excluded_types)]\n",
    "\n",
    "gp = (\n",
    "    ggplot(clr_df, aes(x=\"cell_type\", y=\"clr_value\", fill=\"tumor\")) +\n",
    "    geom_violin(scale=\"width\") +\n",
    "    stat_summary(fun_y=np.median, geom='point', color='white', size=2) +\n",
    "    coord_flip() +\n",
    "    theme_classic() +\n",
    "    scale_fill_brewer(type=\"qual\") +\n",
    "    labs(x=\"Cell type\", y=\"CLR transformed value\", fill=\"Tumor status\") +\n",
    "    theme(legend_position=\"top\")\n",
    ")\n",
    "gp"
   ]
  },
  {
   "cell_type": "code",
   "execution_count": null,
   "metadata": {},
   "outputs": [],
   "source": [
    "from scipy.stats import mannwhitneyu\n",
    "from statsmodels.stats.multitest import multipletests\n",
    "p_values = []\n",
    "for cell_type in clr_df.cell_type.unique():\n",
    "    cell_type_df = clr_df.loc[clr_df.cell_type == cell_type,:]\n",
    "    cell_type_df.tumor = pd.Series(cell_type_df.tumor, dtype=\"bool\")\n",
    "    u, p_value = mannwhitneyu(cell_type_df.loc[cell_type_df.tumor, \"clr_value\"], \n",
    "                              cell_type_df.loc[~cell_type_df.tumor, \"clr_value\"])\n",
    "    print(f\"{cell_type}: Mann-Whitney U: {u}, p-value: {p_value}\")\n",
    "    p_values.append(p_value)\n",
    "    \n",
    "# BH FDR correction\n",
    "_, p_values_corrected, _, _ = multipletests(p_values, method=\"fdr_bh\")\n",
    "for cell_type, p_value in zip(clr_df.cell_type.unique(), p_values_corrected):\n",
    "    print(f\"Cell type: {cell_type}, FDR: {p_value}\")"
   ]
  },
  {
   "cell_type": "code",
   "execution_count": null,
   "metadata": {},
   "outputs": [],
   "source": [
    "clr_df_sig = pd.DataFrame({\"cell_type\": clr_df.cell_type.unique(),\n",
    "              \"significant\": [(\"< 0.005\" if x < 0.005 else (\"< 0.05\" if x < 0.05 else \"\")) for x in p_values_corrected],\n",
    "              \"clr_value\": 5,\n",
    "              })\n",
    "gp = gp + geom_label(fill = \"#ffffffaa\", data=clr_df_sig, mapping = aes(label=\"significant\"), size=8)\n",
    "ggsave(gp, \"../../figures/fig2/clr_violin_status.pdf\")\n",
    "gp"
   ]
  },
  {
   "cell_type": "code",
   "execution_count": null,
   "metadata": {},
   "outputs": [],
   "source": [
    "clr_df = pd.DataFrame(clr_data, columns=adata.obs[\"annotation_consensus\"].cat.categories.to_list())\n",
    "clr_df[\"Annot\"] = proportion_per_fov_long.loc[:,[\"fov\"]].join(clini, on = \"fov\")[\"pT group\"]\n",
    "clr_df = clr_df.melt(id_vars=\"Annot\", var_name=\"cell_type\", value_name=\"clr_value\")\n",
    "# Only display patients with known pT status\n",
    "clr_df = clr_df.loc[~pd.isna(clr_df.Annot)]\n",
    "# Exclude uninterpretable cell types / keep only immune cells\n",
    "excluded_types = [\"Cancer_cell\", \"Unclear\", \"Endothelial_cell\", \"CAF\"]\n",
    "clr_df = clr_df.loc[~clr_df.cell_type.isin(excluded_types)]\n",
    "gp = (\n",
    "    ggplot(clr_df, aes(x=\"cell_type\", y=\"clr_value\", fill=\"Annot\")) +\n",
    "    geom_violin(scale=\"width\") +\n",
    "    stat_summary(fun_y=np.median, geom='point', color='white', size=2) +\n",
    "    coord_flip() +\n",
    "    theme_classic() +\n",
    "    scale_fill_brewer(palette=\"Purples\") +\n",
    "    labs(x=\"Cell type\", y=\"CLR transformed value\", fill = \"T staging\") +\n",
    "    theme(legend_position=\"top\")\n",
    ")\n",
    "ggsave(gp, \"../../figures/fig2/clr_violin_pt.pdf\")\n",
    "gp"
   ]
  },
  {
   "cell_type": "code",
   "execution_count": null,
   "metadata": {},
   "outputs": [],
   "source": [
    "from scipy.stats import kendalltau\n",
    "from statsmodels.stats.multitest import multipletests\n",
    "\n",
    "p_values = []\n",
    "for cell_type in clr_df.cell_type.unique():\n",
    "    tau, p_value = kendalltau(clr_df.loc[clr_df.cell_type == cell_type, \"clr_value\"], \n",
    "                              [int(x[2]) for x in clr_df.loc[clr_df.cell_type == cell_type, \"Annot\"]])\n",
    "    p_values.append(p_value)\n",
    "\n",
    "# BH FDR correction\n",
    "_, p_values_corrected, _, _ = multipletests(p_values, method=\"fdr_bh\")\n",
    "for cell_type, p_value in zip(clr_df.cell_type.unique(), p_values_corrected):\n",
    "    print(f\"Cell type: {cell_type}, FDR: {p_value}\")\n",
    "\n",
    "clr_df_sig = pd.DataFrame({\"cell_type\": clr_df.cell_type.unique(),\n",
    "              \"significant\": [(\"< 0.0005\" if x < 0.0005 else \"< 0.005\" if x < 0.005 \n",
    "                               else (\"< 0.05\" if x < 0.05 else \"\")) for x in p_values_corrected],\n",
    "              \"clr_value\": 5,\n",
    "              })\n",
    "gp = gp + geom_label(fill = \"#ffffffaa\", data=clr_df_sig, mapping = aes(label=\"significant\"), size=8)\n",
    "ggsave(gp, \"../../figures/fig2/clr_violin_pt.pdf\")\n",
    "gp"
   ]
  },
  {
   "cell_type": "code",
   "execution_count": null,
   "metadata": {},
   "outputs": [],
   "source": [
    "# Which FOVs are in each node stage?\n",
    "clini['pN'] = pd.NA\n",
    "n0fovs = clini['pN raw'].str.contains('pN0', na=False)\n",
    "n1fovs = clini['pN raw'].str.contains('pN1', na=False)\n",
    "n2fovs = clini['pN raw'].str.contains('pN2', na=False)\n",
    "clini.loc[n0fovs, 'pN'] = 'pN0'\n",
    "clini.loc[n1fovs, 'pN'] = 'pN1'\n",
    "clini.loc[n2fovs, 'pN'] = 'pN2'\n",
    "clini.pN.value_counts(dropna=False)"
   ]
  },
  {
   "cell_type": "code",
   "execution_count": null,
   "metadata": {},
   "outputs": [],
   "source": [
    "clr_df = pd.DataFrame(clr_data, columns=adata.obs[\"annotation_consensus\"].cat.categories.to_list())\n",
    "clr_df[\"Annot\"] = proportion_per_fov_long.loc[:,[\"fov\"]].join(clini, on = \"fov\")['pN']\n",
    "clr_df = clr_df.melt(id_vars=\"Annot\", var_name=\"cell_type\", value_name=\"clr_value\")\n",
    "# Only display patients with known pT status\n",
    "clr_df = clr_df.loc[~pd.isna(clr_df.Annot)]\n",
    "# Exclude uninterpretable cell types / keep only immune cells\n",
    "excluded_types = [\"Cancer_cell\", \"Unclear\", \"Endothelial_cell\", \"CAF\"]\n",
    "clr_df = clr_df.loc[~clr_df.cell_type.isin(excluded_types)]\n",
    "gp = (\n",
    "    ggplot(clr_df, aes(x=\"cell_type\", y=\"clr_value\", fill=\"Annot\")) +\n",
    "    geom_violin(scale=\"width\") +\n",
    "    stat_summary(fun_y=np.median, geom='point', color='white', size=2) +\n",
    "    coord_flip() +\n",
    "    theme_classic() +\n",
    "    scale_fill_brewer(palette=\"Greens\") +\n",
    "    labs(x=\"Cell type\", y=\"CLR transformed value\", fill = \"N staging\") +\n",
    "    theme(legend_position=\"top\")\n",
    ")\n",
    "ggsave(gp, \"../../figures/fig2/clr_violin_pn.pdf\")\n",
    "gp"
   ]
  },
  {
   "cell_type": "code",
   "execution_count": null,
   "metadata": {},
   "outputs": [],
   "source": [
    "p_values = []\n",
    "for cell_type in clr_df.cell_type.unique():\n",
    "    tau, p_value = kendalltau(clr_df.loc[clr_df.cell_type == cell_type, \"clr_value\"], \n",
    "                              [int(x[2]) for x in clr_df.loc[clr_df.cell_type == cell_type, \"Annot\"]])\n",
    "    p_values.append(p_value)\n",
    "\n",
    "# BH FDR correction\n",
    "_, p_values_corrected, _, _ = multipletests(p_values, method=\"fdr_bh\")\n",
    "for cell_type, p_value in zip(clr_df.cell_type.unique(), p_values_corrected):\n",
    "    print(f\"Cell type: {cell_type}, FDR: {p_value}\")\n",
    "\n",
    "\n",
    "clr_df_sig = pd.DataFrame({\"cell_type\": clr_df.cell_type.unique(),\n",
    "              \"significant\": [(\"< 0.0005\" if x < 0.0005 else \"< 0.005\" if x < 0.005 \n",
    "                               else (\"< 0.05\" if x < 0.05 else \"\")) for x in p_values_corrected],\n",
    "              \"clr_value\": 5,\n",
    "              })\n",
    "gp = gp + geom_label(fill = \"#ffffffaa\", data=clr_df_sig, mapping = aes(label=\"significant\"), size=8)\n",
    "ggsave(gp, \"../../figures/fig2/clr_violin_pn.pdf\")\n",
    "gp"
   ]
  },
  {
   "cell_type": "code",
   "execution_count": null,
   "metadata": {},
   "outputs": [],
   "source": [
    "clr_df = pd.DataFrame(clr_data, columns=adata.obs[\"annotation_consensus\"].cat.categories.to_list())\n",
    "clr_df[\"Annot\"] = proportion_per_fov_long.loc[:,[\"fov\"]].join(clini, on = \"fov\")['MSI gesamt RED']\n",
    "# Rename MSI status levels\n",
    "clr_df[\"Annot\"] = clr_df[\"Annot\"].replace({\"stabil\": \"stable\", \"instabil\": \"unstable\"})\n",
    "clr_df = clr_df.melt(id_vars=\"Annot\", var_name=\"cell_type\", value_name=\"clr_value\")\n",
    "# Only display patients with known pT status\n",
    "clr_df = clr_df.loc[~pd.isna(clr_df.Annot)]\n",
    "# Exclude uninterpretable cell types / keep only immune cells\n",
    "excluded_types = [\"Cancer_cell\", \"Unclear\", \"Endothelial_cell\", \"CAF\"]\n",
    "clr_df = clr_df.loc[~clr_df.cell_type.isin(excluded_types)]\n",
    "gp = (\n",
    "    ggplot(clr_df, aes(x=\"cell_type\", y=\"clr_value\", fill=\"Annot\")) +\n",
    "    geom_violin(scale=\"width\") +\n",
    "    stat_summary(fun_y=np.median, geom='point', color='white', size=2) +\n",
    "    coord_flip() +\n",
    "    theme_classic() +\n",
    "    scale_fill_brewer(palette=\"Reds\") +\n",
    "    labs(x=\"Cell type\", y=\"CLR transformed value\", fill = \"MSI\") +\n",
    "    theme(legend_position=\"top\")\n",
    ")\n",
    "ggsave(gp, \"../../figures/fig2/clr_violin_msi.pdf\")\n",
    "gp"
   ]
  },
  {
   "cell_type": "code",
   "execution_count": null,
   "metadata": {},
   "outputs": [],
   "source": [
    "# Proportion of cancer cells per FOV\n",
    "pc = proportion_per_fov.loc[:, \"Cancer_cell\"]\n",
    "\n",
    "# Proportion of immune cells per FOV\n",
    "pi = proportion_per_fov.loc[:, [\"APC\", \"B_cell\", \"CD4_Tcell\", \"CD8_Tcell\", \"CD68_Macrophage\", \"CD163_Macrophage\", \n",
    "                           \"Monocyte\", \"NK_cell\", \"Neutrophil\", \"Other_immune_cell\", \"T_reg_cell\"]].sum(axis=1)\n",
    "\n",
    "immune_ratio_df = pd.DataFrame((pi / pc)).join(clini.loc[:,'MSI gesamt RED'], on = \"fov\")\n",
    "immune_ratio_df.columns = [\"Ratio\", \"MSI\"]\n",
    "immune_ratio_df[\"MSI\"] = immune_ratio_df[\"MSI\"].replace({\"stabil\": \"stable\", \"instabil\": \"unstable\"})\n",
    "immune_ratio_df[\"Ratio\"] = np.log2(immune_ratio_df[\"Ratio\"])\n",
    "\n",
    "# Drop missing MS status\n",
    "immune_ratio_df = immune_ratio_df.loc[~immune_ratio_df.MSI.isna(),:]\n",
    "# Drop infinite ratios (lacking immune or cancer cells)\n",
    "immune_ratio_df = immune_ratio_df.loc[~np.isinf(immune_ratio_df.Ratio),:]\n",
    "\n",
    "u, p_value = mannwhitneyu(immune_ratio_df.loc[immune_ratio_df.MSI == \"stable\",\"Ratio\"], \n",
    "                          immune_ratio_df.loc[immune_ratio_df.MSI == \"unstable\",\"Ratio\"])\n",
    "\n",
    "gp = (\n",
    "    ggplot(immune_ratio_df, \n",
    "           aes(x=\"MSI\", y=\"Ratio\", fill=\"MSI\")) +\n",
    "    geom_violin(scale=\"width\") +\n",
    "    stat_summary(fun_y=np.median, geom='point', color='white', size=2) +\n",
    "    coord_flip() +\n",
    "    theme_classic() +\n",
    "    scale_fill_brewer(palette=\"Reds\") +\n",
    "    labs(x=\"MS status\", y=\"log2(immune/cancer)\", fill = \"MS status\") +\n",
    "    theme(legend_position=\"top\") +\n",
    "    ggtitle(f\"U: {u}, p-value: {p_value:.2e}\")\n",
    ")\n",
    "ggsave(gp, \"../../figures/fig2/ratio_violin_msi.pdf\")\n",
    "gp"
   ]
  },
  {
   "cell_type": "markdown",
   "metadata": {},
   "source": [
    "## Correlation endo / immune\n",
    "See Keren et al. (20), Figure 2c."
   ]
  },
  {
   "cell_type": "code",
   "execution_count": null,
   "metadata": {},
   "outputs": [],
   "source": [
    "immune_types = ['APC', 'B_cell', 'CD4_Tcell', 'CD8_Tcell', 'CD68_Macrophage', 'CD163_Macrophage', 'Monocyte', 'NK_cell', 'Neutrophil', 'Other_immune_cell', 'T_reg_cell']\n",
    "adata.obs[\"ImmuEndo\"] = [\"Immu\" if x in immune_types else \"Endo\" if x == 'Endothelial_cell' else \"Canc\" if x == \"Cancer_cell\" else \"Misc\" for x in adata.obs[\"consensus\"]]\n",
    "immuendo_df = pd.crosstab(adata.obs[\"fov\"], adata.obs[\"ImmuEndo\"])\n",
    "# Replace all 0s by 0.1\n",
    "immuendo_df_logSupport = immuendo_df.replace(0, 0.1)"
   ]
  },
  {
   "cell_type": "code",
   "execution_count": null,
   "metadata": {},
   "outputs": [],
   "source": [
    "# x-axis: Number of immune cell\n",
    "# y-axis: Number of endothelial cells\n",
    "spear_cor = immuendo_df.corr(method=\"spearman\").loc[\"Endo\",\"Immu\"]\n",
    "# _, p_value = mannwhitneyu(cell_type_df.loc[cell_type_df.tumor, \"clr_value\"], \n",
    "#                               cell_type_df.loc[~cell_type_df.tumor, \"clr_value\"])\n",
    "\n",
    "gp = (\n",
    "    ggplot(immuendo_df_logSupport, aes(x = \"Immu\", y = \"Endo\")) \n",
    "    + geom_text(label = f\"SCC: {spear_cor:.2f}\", x = 1.1, y = 2.5, size = 10)\n",
    "    + geom_point()\n",
    "    + theme_classic()\n",
    "    + scale_x_log10()\n",
    "    + scale_y_log10()\n",
    "    + labs(x = \"Number of immune cells\", y = \"Number of endothelial cells\")\n",
    ")\n",
    "ggsave(gp, \"../../figures/fig2/endo_immu_correlation.pdf\", width = 4, height = 4)\n",
    "gp"
   ]
  },
  {
   "cell_type": "code",
   "execution_count": null,
   "metadata": {},
   "outputs": [],
   "source": [
    "spear_cor = immuendo_df.corr(method=\"spearman\").loc[\"Endo\",\"Canc\"]\n",
    "gp = (\n",
    "    ggplot(immuendo_df_logSupport, aes(y = \"Canc\", x = \"Endo\")) \n",
    "    + geom_text(label = f\"SCC: {spear_cor:.2f}\", x = 0.05, y = 1.5, size = 10)\n",
    "    + geom_point()\n",
    "    + theme_classic()\n",
    "    + scale_x_log10()\n",
    "    + scale_y_log10()\n",
    "    + labs(x = \"Number of endothelial cells\", y = \"Number of cancer cells\")\n",
    ")\n",
    "ggsave(gp, \"../../figures/fig2/endo_canc_correlation.pdf\", width = 4, height = 4)\n",
    "print(gp)\n",
    "\n",
    "spear_cor = immuendo_df.corr(method=\"spearman\").loc[\"Immu\",\"Canc\"]\n",
    "gp = (\n",
    "    ggplot(immuendo_df_logSupport, aes(y = \"Canc\", x = \"Immu\")) \n",
    "    + geom_text(label = f\"SCC: {spear_cor:.2f}\", x = 1.1, y = 1.5, size = 10)\n",
    "    + geom_point()\n",
    "    + theme_classic()\n",
    "    + scale_x_log10()\n",
    "    + scale_y_log10()\n",
    "    + labs(x = \"Number of immune cells\", y = \"Number of cancer cells\")\n",
    ")\n",
    "ggsave(gp, \"../../figures/fig2/immu_canc_correlation.pdf\", width = 4, height = 4)\n",
    "print(gp)"
   ]
  }
 ],
 "metadata": {
  "kernelspec": {
   "display_name": "pam-keras3",
   "language": "python",
   "name": "myenv"
  },
  "language_info": {
   "codemirror_mode": {
    "name": "ipython",
    "version": 3
   },
   "file_extension": ".py",
   "mimetype": "text/x-python",
   "name": "python",
   "nbconvert_exporter": "python",
   "pygments_lexer": "ipython3",
   "version": "3.11.9"
  }
 },
 "nbformat": 4,
 "nbformat_minor": 2
}
