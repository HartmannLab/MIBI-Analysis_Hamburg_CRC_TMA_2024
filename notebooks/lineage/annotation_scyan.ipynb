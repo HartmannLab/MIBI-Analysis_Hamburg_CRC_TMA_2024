{
 "cells": [
  {
   "cell_type": "markdown",
   "metadata": {},
   "source": [
    "# Coarse cell type annotation with Scyan"
   ]
  },
  {
   "cell_type": "markdown",
   "metadata": {},
   "source": [
    "In scyan poetry env and after running\n",
    "`os.chdir(\"../../Projects/HamburgCRC\")`"
   ]
  },
  {
   "cell_type": "code",
   "execution_count": null,
   "metadata": {},
   "outputs": [],
   "source": [
    "import os\n",
    "import pandas as pd\n",
    "import scyan\n",
    "import anndata as ad"
   ]
  },
  {
   "cell_type": "markdown",
   "metadata": {},
   "source": [
    "scyan_table_mini = pd.DataFrame({\n",
    "\"CD14\": [-1,1,-1,-1,-1,-1],\n",
    "\"CD31\": [-1,pd.NA,1,-1,-1,-1],\n",
    "\"CD45\": [1,1,-1,-1,-1,-1],\n",
    "\"SMA\": [-1,-1,-1,1,-1,-1],\n",
    "\"PanCK\": [-1,-1,-1,-1,1,-1],\n",
    "})\n",
    "\n",
    "scyan_table_mini.index = [\"Lympho\", \"Myelo\", \"Endo\", \"CAF\", \"Cancer\", \"Other\"]"
   ]
  },
  {
   "cell_type": "code",
   "execution_count": null,
   "metadata": {},
   "outputs": [],
   "source": [
    "scyan_table_mini.to_csv(\"scyan_table_mini.csv\")\n",
    "scyan_table_mini.drop(\"Other\", inplace = True)\n",
    "scyan_table_mini.to_csv(\"scyan_table_mini_noUnclear.csv\")"
   ]
  },
  {
   "cell_type": "code",
   "execution_count": null,
   "metadata": {},
   "outputs": [],
   "source": [
    "os.chdir(\"../../Projects/HamburgCRC\")\n",
    "scyan_table = pd.read_csv(\"scyan_table_mini.csv\", index_col = 0)\n",
    "\n",
    "cells = pd.read_csv(\"cell_table_transformed.csv\", index_col=0)\n",
    "# Exclude one FOV where most cells are badly segmented\n",
    "cells = cells.loc[cells.fov != \"C6h\"]\n",
    "lineage_channels = ['SMA','PanCK','CD45','CD31', \"CD14\"]\n",
    "\n",
    "# Not sure why the indices were not matching in the first place\n",
    "obs = cells.drop(lineage_channels, axis=1).reset_index(drop=True)\n",
    "X = cells.loc[:,lineage_channels].reset_index(drop=True)\n",
    "\n",
    "adata = ad.AnnData(X, obs=obs)"
   ]
  },
  {
   "cell_type": "code",
   "execution_count": null,
   "metadata": {},
   "outputs": [],
   "source": [
    "scyan.preprocess.scale(adata)\n",
    "\n",
    "# model = scyan.Scyan(adata, scyan_table, temperature = 1)\n",
    "model = scyan.Scyan(adata, scyan_table, prior_std=0.35)\n",
    "model.fit(min_delta = 0.5)\n",
    "model.predict(log_prob_th=-20)"
   ]
  },
  {
   "cell_type": "code",
   "execution_count": null,
   "metadata": {},
   "outputs": [],
   "source": [
    "scyan.data.add(\"scyan_run_mini_noUnclear\", adata, scyan_table)"
   ]
  }
 ],
 "metadata": {
  "kernelspec": {
   "display_name": "Python 3",
   "language": "python",
   "name": "python3"
  },
  "language_info": {
   "name": "python",
   "version": "3.10.12"
  }
 },
 "nbformat": 4,
 "nbformat_minor": 2
}
