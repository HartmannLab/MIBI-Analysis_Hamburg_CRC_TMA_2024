{
 "cells": [
  {
   "cell_type": "markdown",
   "metadata": {},
   "source": [
    "## Imports"
   ]
  },
  {
   "cell_type": "code",
   "execution_count": null,
   "metadata": {},
   "outputs": [],
   "source": [
    "import os\n",
    "import numpy as np\n",
    "import anndata as ad\n",
    "import pandas as pd\n",
    "import pytorch_lightning as pl\n",
    "from plotnine import *\n",
    "from lightning_lite import seed_everything\n",
    "from pytorch_lightning.callbacks import EarlyStopping  # ModelCheckpoint\n",
    "import scanpy as sc\n",
    "\n",
    "from starling import starling, utility"
   ]
  },
  {
   "cell_type": "code",
   "execution_count": null,
   "metadata": {},
   "outputs": [],
   "source": [
    "seed_everything(10, workers=True)"
   ]
  },
  {
   "cell_type": "code",
   "execution_count": null,
   "metadata": {},
   "outputs": [],
   "source": [
    "os.getcwd()"
   ]
  },
  {
   "cell_type": "markdown",
   "metadata": {},
   "source": [
    "## Prepare data"
   ]
  },
  {
   "cell_type": "code",
   "execution_count": null,
   "metadata": {},
   "outputs": [],
   "source": [
    "cells = pd.read_csv(\"cell_table_transformed.csv\", index_col=0)\n",
    "# Exclude one FOV where most cells are badly segmented\n",
    "cells = cells.loc[cells.fov != \"C6h\"]"
   ]
  },
  {
   "cell_type": "code",
   "execution_count": null,
   "metadata": {},
   "outputs": [],
   "source": [
    "# Goal is not to get proper phenotype but to identify spillover\n",
    "lineage_channels = ['SMA','CD4','CD31','CD7', 'CD163', 'CD68','CD8', 'CD3e', 'MPO', 'CD20', 'HLADRa', 'CD14', 'CD45', 'PanCK', 'FoxP3']"
   ]
  },
  {
   "cell_type": "code",
   "execution_count": null,
   "metadata": {},
   "outputs": [],
   "source": [
    "adata = ad.AnnData(cells.loc[:,lineage_channels], obs=cells.drop(lineage_channels, axis=1))"
   ]
  },
  {
   "cell_type": "markdown",
   "metadata": {},
   "source": [
    "## Explore clustering results"
   ]
  },
  {
   "cell_type": "code",
   "execution_count": null,
   "metadata": {},
   "outputs": [],
   "source": [
    "sc.settings.verbosity = 1  # verbosity: errors (0), warnings (1), info (2), hints (3)\n",
    "sc.settings.set_figure_params(dpi=150, facecolor=\"white\")"
   ]
  },
  {
   "cell_type": "code",
   "execution_count": null,
   "metadata": {},
   "outputs": [],
   "source": [
    "sc.pp.neighbors(adata, n_neighbors=10, n_pcs=40)\n",
    "sc.tl.umap(adata)"
   ]
  },
  {
   "cell_type": "code",
   "execution_count": null,
   "metadata": {},
   "outputs": [],
   "source": [
    "sc.pl.umap(adata, color=[\"PanCK\", \"CD3e\", \"CD45\", \"SMA\", \"CD4\", \"CD31\", \n",
    "                         \"CD7\", \"CD14\", \"CD163\", \"DCN\", \"CD68\", \"CD8\",\n",
    "                         \"Vimentin\", \"MPO\", \"CD20\", \"HLADRa\"])"
   ]
  },
  {
   "cell_type": "markdown",
   "metadata": {},
   "source": [
    "## Confusion matrix\n",
    "### Load Scyan output"
   ]
  },
  {
   "cell_type": "code",
   "execution_count": null,
   "metadata": {},
   "outputs": [],
   "source": [
    "scyan_results = ad.read_h5ad(\"../../../.scyan_data/scyan_run_mini_noUnclear/default.h5ad\")\n",
    "assert scyan_results.X.shape[0] == adata.X.shape[0]\n",
    "assert adata.n_obs == scyan_results.n_obs"
   ]
  },
  {
   "cell_type": "markdown",
   "metadata": {},
   "source": [
    "### Compare to Teresa's gating annotation"
   ]
  },
  {
   "cell_type": "code",
   "execution_count": null,
   "metadata": {},
   "outputs": [],
   "source": [
    "annotation_t = pd.read_csv(\"./cell_table_with_annotation_final.csv\")\n",
    "annotation_t = annotation_t.loc[annotation_t.fov != \"C6h\"]"
   ]
  },
  {
   "cell_type": "code",
   "execution_count": null,
   "metadata": {},
   "outputs": [],
   "source": [
    "adata.obs[\"annotation_t\"] = pd.Categorical(annotation_t.cell_type_final,\n",
    "    categories = sorted(annotation_t.cell_type_final.unique()))\n",
    "sc.pl.umap(adata, color=\"annotation_t\")"
   ]
  },
  {
   "cell_type": "code",
   "execution_count": null,
   "metadata": {},
   "outputs": [],
   "source": [
    "adata.obs[\"annotation_scyan\"] = pd.Categorical(scyan_results.obs.scyan_pop,\n",
    "    categories = sorted(scyan_results.obs.scyan_pop.astype(str).unique()))\n",
    "# Remove unused categories\n",
    "adata.obs[\"annotation_scyan\"] = adata.obs[\"annotation_scyan\"].cat.remove_unused_categories()\n",
    "sc.pl.umap(adata, color=\"annotation_scyan\")"
   ]
  },
  {
   "cell_type": "markdown",
   "metadata": {},
   "source": [
    "### Compute and display confusion"
   ]
  },
  {
   "cell_type": "code",
   "execution_count": null,
   "metadata": {},
   "outputs": [],
   "source": [
    "# Convert NAs to \"Unclear\"\n",
    "# Add \"Unclear\" as a category to the \"annotation_scyan\" column\n",
    "adata.obs[\"annotation_scyan\"] = adata.obs[\"annotation_scyan\"].cat.add_categories(\"Unclear\")\n",
    "adata.obs[\"annotation_scyan\"].fillna(\"Unclear\", inplace = True)\n",
    "# Confusion: scyan vs gating\n",
    "gating_classes = adata.obs[\"annotation_t\"].unique()\n",
    "scyan_classes = adata.obs[\"annotation_scyan\"].unique()\n",
    "\n",
    "confmat = pd.DataFrame({\n",
    "    \"Gating\": np.repeat(gating_classes, len(scyan_classes)),\n",
    "    \"Scyan\": np.tile(scyan_classes, len(gating_classes)),\n",
    "    \"Count\": 0\n",
    "})"
   ]
  },
  {
   "cell_type": "code",
   "execution_count": null,
   "metadata": {},
   "outputs": [],
   "source": [
    "for i in range(adata.n_obs):\n",
    "    scyan_lab = adata.obs.annotation_scyan[i]\n",
    "    gating_lab = adata.obs.annotation_t[i]\n",
    "    confmat.loc[(confmat.Gating == gating_lab) & (confmat.Scyan == scyan_lab), \"Count\"] += 1"
   ]
  },
  {
   "cell_type": "code",
   "execution_count": null,
   "metadata": {},
   "outputs": [],
   "source": [
    "# Set nan values to \"Unclear\"\n",
    "confmat['Scyan'].fillna(\"Unclear\", inplace = True)\n",
    "# Sort unique values in the column\n",
    "confmat['Scyan'] = pd.Categorical(confmat['Scyan'], \n",
    "    categories = sorted(confmat['Scyan'].unique()))\n",
    "confmat['Gating'] = confmat['Gating'].astype('category')\n",
    "# Compute fraction of Starling classes for each Scyan class\n",
    "confmat['Fraction'] = confmat['Count'] / confmat.groupby('Gating')['Count'].transform('sum')\n",
    "gp = ggplot(confmat, aes(x = \"Gating\", y = \"Scyan\")) + \\\n",
    "    geom_tile(aes(fill = \"Fraction\")) +\\\n",
    "    coord_flip() +\\\n",
    "    theme_minimal() +\\\n",
    "    geom_text(aes(label = \"Count\"), color = \"#ffffff\", size = 8)\n",
    "gp"
   ]
  },
  {
   "cell_type": "code",
   "execution_count": null,
   "metadata": {},
   "outputs": [],
   "source": [
    "ggsave(gp, \"figures/fig2/confusion_matrix_consensus.pdf\", dpi = 300, height = 6, width = 10)"
   ]
  },
  {
   "cell_type": "markdown",
   "metadata": {},
   "source": [
    "### Inspect the distribution of the Scyan confidence scores"
   ]
  },
  {
   "cell_type": "code",
   "execution_count": null,
   "metadata": {},
   "outputs": [],
   "source": [
    "ggplot(scyan_results.obs, aes(x = \"scyan_log_probs\")) +\\\n",
    "    geom_histogram(bins = 50) +\\\n",
    "    theme_classic()"
   ]
  },
  {
   "cell_type": "code",
   "execution_count": null,
   "metadata": {},
   "outputs": [],
   "source": [
    "unclear_index = (adata.obs.annotation_t == \"NK_cell\") & (adata.obs.annotation_scyan == \"Cancer\")\n",
    "unclear_index.reset_index(drop = True, inplace = True)\n",
    "ggplot(\n",
    "    scyan_results.obs.reset_index(drop = True).loc[unclear_index],\n",
    "    aes(x = \"scyan_log_probs\")) +\\\n",
    "    geom_histogram(bins = 50) +\\\n",
    "    geom_vline(xintercept = -3, color = \"grey\") +\\\n",
    "    theme_classic()"
   ]
  },
  {
   "cell_type": "code",
   "execution_count": null,
   "metadata": {},
   "outputs": [],
   "source": [
    "np.sum(unclear_index)"
   ]
  },
  {
   "cell_type": "code",
   "execution_count": null,
   "metadata": {},
   "outputs": [],
   "source": [
    "np.sum((adata.obs.annotation_t == \"Cancer_cell\") & (adata.obs.annotation_scyan == \"Endo\"))"
   ]
  },
  {
   "cell_type": "markdown",
   "metadata": {},
   "source": [
    "While patterns of errors might be prevalent in some combinations of labels, only a few thousands cells are concerned, so treating them so that the majority have a correct label should be sufficient."
   ]
  },
  {
   "cell_type": "code",
   "execution_count": null,
   "metadata": {},
   "outputs": [],
   "source": [
    "# Get maximum, quartiles and mean\n",
    "scyan_results.obs.loc[pd.isna(scyan_results.obs.scyan_pop), \"scyan_log_probs\"].describe()"
   ]
  },
  {
   "cell_type": "code",
   "execution_count": null,
   "metadata": {},
   "outputs": [],
   "source": [
    "scyan_results.obs.loc[~pd.isna(scyan_results.obs.scyan_pop), \"scyan_log_probs\"].describe()"
   ]
  },
  {
   "cell_type": "markdown",
   "metadata": {},
   "source": [
    "Unsure how the absolute values of the probability scores should be interpreted. However, this is what Scyan uses for setting a threshold in assignment: for this run, all cells with a score < -20 were not given a cell type label. If they are indeed problematic cells, this threshold could be raised."
   ]
  },
  {
   "cell_type": "code",
   "execution_count": null,
   "metadata": {},
   "outputs": [],
   "source": [
    "p1 = adata.obs[[\"fov\", \"label\", \"annotation_t\"]]\n",
    "p2 = adata.obs[[\"fov\", \"label\", \"annotation_scyan\"]]\n",
    "# Prepend all values with \"s_\"\n",
    "p2.annotation_scyan = p2[\"annotation_scyan\"].apply(lambda x: \"s_\" + x)\n",
    "p2.columns = p1.columns\n",
    "pd.concat([p1, p2]).to_csv(\"annotation_complete_scyan_gating.csv\", index=False, header=False)"
   ]
  },
  {
   "cell_type": "code",
   "execution_count": null,
   "metadata": {},
   "outputs": [],
   "source": [
    "p2.loc[p2.annotation_t == \"s_Unclear\"].iloc[5:,:]"
   ]
  },
  {
   "cell_type": "markdown",
   "metadata": {},
   "source": [
    "## Make consensus annotation"
   ]
  },
  {
   "cell_type": "code",
   "execution_count": null,
   "metadata": {},
   "outputs": [],
   "source": [
    "# Define consensus cell type based on both annotations\n",
    "# Key 1 = gating, Key 2 = scyan\n",
    "\n",
    "# Default to unclear label\n",
    "from collections import defaultdict\n",
    "consensus_dict = {x: defaultdict(lambda: \"Unclear\")\n",
    "                 for x in adata.obs.annotation_t.unique()}\n",
    "\n",
    "consensus_dict[\"T_reg_cell\"][\"Lympho\"] = \"T_reg_cell\"\n",
    "consensus_dict[\"Other_immune_cell\"][\"Lympho\"] = \"Other_immune_cell\"\n",
    "consensus_dict[\"Other_immune_cell\"][\"Myelo\"] = \"Other_immune_cell\"\n",
    "consensus_dict[\"Neutrophil\"][\"Lympho\"] = \"Neutrophil\"\n",
    "consensus_dict[\"NK_cell\"][\"Lympho\"] = \"NK_cell\"\n",
    "consensus_dict[\"NK_cell\"][\"Cancer\"] = \"Cancer_cell\"\n",
    "consensus_dict[\"Monocyte\"][\"Myelo\"] = \"Monocyte\"\n",
    "consensus_dict[\"Monocyte\"][\"Lympho\"] = \"Monocyte\"\n",
    "consensus_dict[\"Endothelial_cell\"][\"Endo\"] = \"Endothelial_cell\"\n",
    "consensus_dict[\"Endothelial_cell\"][\"Cancer\"] = \"Cancer_cell\"\n",
    "consensus_dict[\"DN_Tcells\"][\"Lympho\"] = \"Other_immune_cell\"\n",
    "consensus_dict[\"Cancer_cell_pot\"][\"Cancer\"] = \"Cancer_cell\"\n",
    "consensus_dict[\"Cancer_cell\"][\"Cancer\"] = \"Cancer_cell\"\n",
    "consensus_dict[\"CD8_Tcell\"][\"Lympho\"] = \"CD8_Tcell\"\n",
    "consensus_dict[\"CD8_Tcell\"][\"Myelo\"] = \"Other_immune_cell\"\n",
    "consensus_dict[\"CD68+_macrophage\"][\"Myelo\"] = \"CD68_Macrophage\"\n",
    "consensus_dict[\"CD68+_macrophage\"][\"Lympho\"] = \"Other_immune_cell\"\n",
    "consensus_dict[\"CD4_Tcell\"][\"Lympho\"] = \"CD4_Tcell\"\n",
    "consensus_dict[\"CD163+_macrophage\"][\"Myelo\"] = \"CD163_Macrophage\"\n",
    "consensus_dict[\"CD163+_macrophage\"][\"Lympho\"] = \"Other_immune_cell\"\n",
    "consensus_dict[\"CAF\"][\"CAF\"] = \"CAF\"\n",
    "consensus_dict[\"B_cell\"][\"Lympho\"] = \"B_cell\"\n",
    "consensus_dict[\"APC\"][\"Lympho\"] = \"APC\"\n",
    "consensus_dict[\"APC\"][\"Myelo\"] = \"APC\""
   ]
  },
  {
   "cell_type": "code",
   "execution_count": null,
   "metadata": {},
   "outputs": [],
   "source": [
    "adata.obs['annotation_consensus'] = adata.obs.apply(lambda row: consensus_dict[row['annotation_t']][row['annotation_scyan']], axis=1)"
   ]
  },
  {
   "cell_type": "code",
   "execution_count": null,
   "metadata": {},
   "outputs": [],
   "source": [
    "# Display confusion matrix for validation\n",
    "\n",
    "# Confusion: scyan vs gating\n",
    "consensus_classes = adata.obs[\"annotation_consensus\"].unique()\n",
    "\n",
    "confmat = pd.DataFrame({\n",
    "    \"Gating\": np.repeat(gating_classes, len(consensus_classes)),\n",
    "    \"Consensus\": np.tile(consensus_classes, len(gating_classes)),\n",
    "    \"Count\": 0\n",
    "})\n",
    "\n",
    "for i in range(adata.n_obs):\n",
    "    consensus_lab = adata.obs.annotation_consensus[i]\n",
    "    gating_lab = adata.obs.annotation_t[i]\n",
    "    confmat.loc[(confmat.Gating == gating_lab) & (confmat.Consensus == consensus_lab), \"Count\"] += 1"
   ]
  },
  {
   "cell_type": "code",
   "execution_count": null,
   "metadata": {},
   "outputs": [],
   "source": [
    "# Sort unique values in the column\n",
    "confmat['Consensus'] = confmat['Consensus'].astype('category')\n",
    "confmat['Gating'] = confmat['Gating'].astype('category')\n",
    "# Compute fraction of Starling classes for each Scyan class\n",
    "confmat['Fraction'] = confmat['Count'] / confmat.groupby('Gating')['Count'].transform('sum')\n",
    "gp = ggplot(confmat, aes(x = \"Gating\", y = \"Consensus\")) + \\\n",
    "    geom_tile(aes(fill = \"Fraction\")) +\\\n",
    "    coord_flip() +\\\n",
    "    geom_text(aes(label = \"Count\"), color = \"#ffffff\", size = 8)\n",
    "gp"
   ]
  },
  {
   "cell_type": "code",
   "execution_count": null,
   "metadata": {},
   "outputs": [],
   "source": [
    "adata.obs['annotation_consensus'].value_counts()"
   ]
  },
  {
   "cell_type": "code",
   "execution_count": null,
   "metadata": {},
   "outputs": [],
   "source": [
    "# Export the annotations as anndata\n",
    "adata.write(\"adata_consensus_cell_types.h5ad\")\n",
    "\n",
    "# Export the annotations for mantis viewer\n",
    "adata.obs[[\"fov\", \"label\", \"annotation_consensus\"]].to_csv(\"annotation_consensus.csv\", index=False, header=False)"
   ]
  }
 ],
 "metadata": {
  "kernelspec": {
   "display_name": "torch",
   "language": "python",
   "name": "torch"
  },
  "language_info": {
   "codemirror_mode": {
    "name": "ipython",
    "version": 3
   },
   "file_extension": ".py",
   "mimetype": "text/x-python",
   "name": "python",
   "nbconvert_exporter": "python",
   "pygments_lexer": "ipython3",
   "version": "3.9.18"
  }
 },
 "nbformat": 4,
 "nbformat_minor": 2
}
