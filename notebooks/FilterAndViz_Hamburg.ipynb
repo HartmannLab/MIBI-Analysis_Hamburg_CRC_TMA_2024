{
 "cells": [
  {
   "cell_type": "markdown",
   "id": "0585355c-540c-4f69-b5a7-6018aeaa3a64",
   "metadata": {},
   "source": [
    "# How to do filtering on MIBI data using BioProfiling.jl in Python\n",
    "You will need an environment with both Julia and Python running (e.g. in a [Docker image](https://hub.docker.com/u/koalive)). This relies on the `julia` library in Python and the `PyCall` library in Julia. \n",
    "This example uses the TMA data for the spatial metabolic profiling manuscript and the cellpose segmentation masks.  \n",
    "Example command to start a Jupyter server using the required Docker image:  \n",
    "`docker run -p 8889:8888 -v `pwd`:/home/jovyan -v \"/Volumes/VERBATIM HD/Hamburg Project/gradient_correction/image_data_corrected\":/data/ koalive/mibiprofiling:alpha`"
   ]
  },
  {
   "cell_type": "markdown",
   "id": "124222f8-e570-4663-a00a-b477f300ec23",
   "metadata": {},
   "source": [
    "## Load Python libraries"
   ]
  },
  {
   "cell_type": "code",
   "execution_count": 1,
   "id": "a2d50cf5-4b9a-48cc-901a-889e072a7a2b",
   "metadata": {},
   "outputs": [],
   "source": [
    "import os\n",
    "import pandas as pd\n",
    "from plotnine import *"
   ]
  },
  {
   "cell_type": "markdown",
   "id": "24182cb5-d809-412f-9e32-f1adb674416a",
   "metadata": {},
   "source": [
    "## Setting up BioProfiling.jl"
   ]
  },
  {
   "cell_type": "code",
   "execution_count": 2,
   "id": "71ddaf6c-dac4-4d21-96b0-bffa6fa3af2f",
   "metadata": {
    "scrolled": true
   },
   "outputs": [
    {
     "name": "stderr",
     "output_type": "stream",
     "text": [
      "┌ Error: Error during loading of extension AdaptStaticArraysExt of Adapt, use `Base.retry_load_extensions()` to retry.\n",
      "│   exception =\n",
      "│    1-element ExceptionStack:\n",
      "│    LoadError: ArgumentError: Package AdaptStaticArraysCoreExt does not have Adapt in its dependencies:\n",
      "│    - You may have a partially installed environment. Try `Pkg.instantiate()`\n",
      "│      to ensure all packages in the environment are installed.\n",
      "│    - Or, if you have AdaptStaticArraysCoreExt checked out for development and have\n",
      "│      added Adapt as a dependency but haven't updated your primary\n",
      "│      environment's manifest file, try `Pkg.resolve()`.\n",
      "│    - Otherwise you may need to report an issue with AdaptStaticArraysCoreExt\n",
      "│    Stacktrace:\n",
      "│      [1] macro expansion\n",
      "│        @ ./loading.jl:1634 [inlined]\n",
      "│      [2] macro expansion\n",
      "│        @ ./lock.jl:267 [inlined]\n",
      "│      [3] require(into::Module, mod::Symbol)\n",
      "│        @ Base ./loading.jl:1611\n",
      "│      [4] include\n",
      "│        @ ./Base.jl:457 [inlined]\n",
      "│      [5] _require(pkg::Base.PkgId, env::Nothing)\n",
      "│        @ Base ./loading.jl:1836\n",
      "│      [6] _require_prelocked(uuidkey::Base.PkgId, env::Nothing)\n",
      "│        @ Base ./loading.jl:1660\n",
      "│      [7] _require_prelocked(uuidkey::Base.PkgId)\n",
      "│        @ Base ./loading.jl:1658\n",
      "│      [8] run_extension_callbacks(extid::Base.ExtensionId)\n",
      "│        @ Base ./loading.jl:1255\n",
      "│      [9] run_extension_callbacks(pkgid::Base.PkgId)\n",
      "│        @ Base ./loading.jl:1290\n",
      "│     [10] run_package_callbacks(modkey::Base.PkgId)\n",
      "│        @ Base ./loading.jl:1124\n",
      "│     [11] _require_prelocked(uuidkey::Base.PkgId, env::String)\n",
      "│        @ Base ./loading.jl:1667\n",
      "│     [12] macro expansion\n",
      "│        @ ./loading.jl:1648 [inlined]\n",
      "│     [13] macro expansion\n",
      "│        @ ./lock.jl:267 [inlined]\n",
      "│     [14] require(into::Module, mod::Symbol)\n",
      "│        @ Base ./loading.jl:1611\n",
      "│     [15] include\n",
      "│        @ ./Base.jl:457 [inlined]\n",
      "│     [16] _require(pkg::Base.PkgId, env::String)\n",
      "│        @ Base ./loading.jl:1836\n",
      "│     [17] _require_prelocked(uuidkey::Base.PkgId, env::String)\n",
      "│        @ Base ./loading.jl:1660\n",
      "│     [18] macro expansion\n",
      "│        @ ./loading.jl:1648 [inlined]\n",
      "│     [19] macro expansion\n",
      "│        @ ./lock.jl:267 [inlined]\n",
      "│     [20] require(into::Module, mod::Symbol)\n",
      "│        @ Base ./loading.jl:1611\n",
      "│     [21] include\n",
      "│        @ ./Base.jl:457 [inlined]\n",
      "│     [22] _require(pkg::Base.PkgId, env::String)\n",
      "│        @ Base ./loading.jl:1836\n",
      "│     [23] _require_prelocked(uuidkey::Base.PkgId, env::String)\n",
      "│        @ Base ./loading.jl:1660\n",
      "│     [24] macro expansion\n",
      "│        @ ./loading.jl:1648 [inlined]\n",
      "│     [25] macro expansion\n",
      "│        @ ./lock.jl:267 [inlined]\n",
      "│     [26] require(into::Module, mod::Symbol)\n",
      "│        @ Base ./loading.jl:1611\n",
      "│     [27] include\n",
      "│        @ ./Base.jl:457 [inlined]\n",
      "│     [28] _require(pkg::Base.PkgId, env::String)\n",
      "│        @ Base ./loading.jl:1836\n",
      "│     [29] _require_prelocked(uuidkey::Base.PkgId, env::String)\n",
      "│        @ Base ./loading.jl:1660\n",
      "│     [30] macro expansion\n",
      "│        @ ./loading.jl:1648 [inlined]\n",
      "│     [31] macro expansion\n",
      "│        @ ./lock.jl:267 [inlined]\n",
      "│     [32] require(into::Module, mod::Symbol)\n",
      "│        @ Base ./loading.jl:1611\n",
      "│     [33] include\n",
      "│        @ ./Base.jl:457 [inlined]\n",
      "│     [34] _require(pkg::Base.PkgId, env::String)\n",
      "│        @ Base ./loading.jl:1836\n",
      "│     [35] _require_prelocked(uuidkey::Base.PkgId, env::String)\n",
      "│        @ Base ./loading.jl:1660\n",
      "│     [36] macro expansion\n",
      "│        @ ./loading.jl:1648 [inlined]\n",
      "│     [37] macro expansion\n",
      "│        @ ./lock.jl:267 [inlined]\n",
      "│     [38] require(into::Module, mod::Symbol)\n",
      "│        @ Base ./loading.jl:1611\n",
      "│     [39] include\n",
      "│        @ ./Base.jl:457 [inlined]\n",
      "│     [40] _require(pkg::Base.PkgId, env::String)\n",
      "│        @ Base ./loading.jl:1836\n",
      "│     [41] _require_prelocked(uuidkey::Base.PkgId, env::String)\n",
      "│        @ Base ./loading.jl:1660\n",
      "│     [42] macro expansion\n",
      "│        @ ./loading.jl:1648 [inlined]\n",
      "│     [43] macro expansion\n",
      "│        @ ./lock.jl:267 [inlined]\n",
      "│     [44] require(into::Module, mod::Symbol)\n",
      "│        @ Base ./loading.jl:1611\n",
      "│     [45] include\n",
      "│        @ ./Base.jl:457 [inlined]\n",
      "│     [46] _require(pkg::Base.PkgId, env::String)\n",
      "│        @ Base ./loading.jl:1836\n",
      "│     [47] _require_prelocked(uuidkey::Base.PkgId, env::String)\n",
      "│        @ Base ./loading.jl:1660\n",
      "│     [48] macro expansion\n",
      "│        @ ./loading.jl:1648 [inlined]\n",
      "│     [49] macro expansion\n",
      "│        @ ./lock.jl:267 [inlined]\n",
      "│     [50] require(into::Module, mod::Symbol)\n",
      "│        @ Base ./loading.jl:1611\n",
      "│    in expression starting at /opt/julia/packages/Adapt/Ur60R/ext/AdaptStaticArraysExt.jl:1\n",
      "└ @ Base loading.jl:1261\n",
      "WARNING: method definition for checkbounds at /opt/julia/packages/Interpolations/y4lLj/src/Interpolations.jl:454 declares type variable N but does not use it.\n",
      "WARNING: method definition for checkbounds at /opt/julia/packages/Interpolations/y4lLj/src/Interpolations.jl:457 declares type variable N but does not use it.\n",
      "WARNING: method definition for GriddedInterpolation at /opt/julia/packages/Interpolations/y4lLj/src/gridded/gridded.jl:37 declares type variable pad but does not use it.\n",
      "WARNING: method definition for GriddedInterpolation at /opt/julia/packages/Interpolations/y4lLj/src/gridded/gridded.jl:60 declares type variable pad but does not use it.\n",
      "WARNING: method definition for interpolate! at /opt/julia/packages/Interpolations/y4lLj/src/deprecations.jl:30 declares type variable TWeights but does not use it.\n"
     ]
    }
   ],
   "source": [
    "# Just ignore the scary error\n",
    "from julia.api import Julia\n",
    "jl = Julia(compiled_modules=False)\n",
    "from julia import DataFrames, Main\n",
    "import julia.BioProfiling as bp"
   ]
  },
  {
   "cell_type": "code",
   "execution_count": 3,
   "id": "d2e1a5f5-d367-4346-8a82-3fce793a4faa",
   "metadata": {},
   "outputs": [
    {
     "name": "stdout",
     "output_type": "stream",
     "text": [
      "Initializing Julia interpreter. This may take some time..."
     ]
    },
    {
     "name": "stdout",
     "output_type": "stream",
     "text": [
      "\n"
     ]
    }
   ],
   "source": [
    "%load_ext julia.magic"
   ]
  },
  {
   "cell_type": "code",
   "execution_count": 4,
   "id": "ea3975fc-c7ef-440d-857c-dff04047db68",
   "metadata": {},
   "outputs": [
    {
     "data": {
      "text/plain": [
       "<PyCall.jlwrap pd_to_df>"
      ]
     },
     "execution_count": 4,
     "metadata": {},
     "output_type": "execute_result"
    }
   ],
   "source": [
    "%%julia \n",
    "using DataFrames, BioProfiling, PyCall\n",
    "function pd_to_df(df_pd)\n",
    "    df= DataFrame()\n",
    "    for col in df_pd.columns\n",
    "        df[!, col] = getproperty(df_pd, col).values\n",
    "        if eltype(df[:, col]) == PyObject\n",
    "            # Strings are not automatically converted\n",
    "            df[!, col] = PyCall.py\"list($df_pd[$col])\"\n",
    "        end\n",
    "    end\n",
    "    return(df)\n",
    "end"
   ]
  },
  {
   "cell_type": "code",
   "execution_count": 5,
   "id": "0b9c56ec-ce0e-4670-b0d1-14c447dfbc06",
   "metadata": {},
   "outputs": [],
   "source": [
    "%%julia\n",
    "PyCall.py\"\"\"\n",
    "class SymStr():\n",
    "    def __init__(self, *args, **kwargs):\n",
    "        self.s = str(*args, **kwargs)\n",
    "    def __str__(self):\n",
    "        return self.s.__str__()\n",
    "    def __repr__(self):\n",
    "        return f'SymStr(\"{self.__str__()}\")'\n",
    "\"\"\"\n",
    "\n",
    "sym_str_py_type = PyCall.py\"SymStr\";\n",
    "\n",
    "PyCall.PyObject( s :: Symbol ) = PyCall.py\"SymStr($(string(s)))\"o\n",
    "function PyCall.convert( ::Type{Symbol}, po :: PyCall.PyObject ) \n",
    "    sym_str = PyCall.pyisinstance( po, sym_str_py_type ) ? po.s : po;\n",
    "    return Symbol(PyCall.convert(AbstractString, sym_str))\n",
    "end\n",
    "PyCall.pytype_mapping(sym_str_py_type, Symbol)\n",
    "nothing"
   ]
  },
  {
   "cell_type": "markdown",
   "id": "3ec760fb-e133-479e-a2be-6588f460b9a0",
   "metadata": {},
   "source": [
    "## Load data"
   ]
  },
  {
   "cell_type": "code",
   "execution_count": 6,
   "id": "349d3421-5439-48b9-8375-95d406752d9b",
   "metadata": {},
   "outputs": [],
   "source": [
    "# Intensity per cells from cellpose segmentation\n",
    "fov = \"A1e\"\n",
    "markers = pd.read_csv(f\"/data/{fov}_cell_table.csv\",\n",
    "                      index_col=0)\n",
    "markers[\"fov\"] = fov"
   ]
  },
  {
   "cell_type": "code",
   "execution_count": 7,
   "id": "3676afc5-bb35-4431-88a8-feb84e2765a8",
   "metadata": {},
   "outputs": [],
   "source": [
    "markers[\"url\"] = [f\"/data/{fov}/nuclei_clahe.tiff\" for fov in markers.fov]"
   ]
  },
  {
   "cell_type": "code",
   "execution_count": 8,
   "id": "eb41dbf4-4e01-4c29-84a3-de7bcd1ee8ff",
   "metadata": {},
   "outputs": [],
   "source": [
    "# Used by BioProfiling to describe center of cells\n",
    "markers[\"AreaShape_Center_X\"] = markers[\"centroid-1\"]\n",
    "markers[\"AreaShape_Center_X_1\"] = markers[\"centroid-1\"]\n",
    "markers[\"AreaShape_Center_Y\"] = markers[\"centroid-0\"]\n",
    "markers[\"AreaShape_Center_Y_1\"] = markers[\"centroid-0\"]"
   ]
  },
  {
   "cell_type": "code",
   "execution_count": 9,
   "id": "06911f78-17c2-429a-8144-583692beff9f",
   "metadata": {},
   "outputs": [],
   "source": [
    "markers[\"NuclearIntensity\"] = markers.area * markers[\"nuclei_clahe.tiff\"]"
   ]
  },
  {
   "cell_type": "code",
   "execution_count": 10,
   "id": "bb73be07-1f12-4bec-bcef-eeb70e9ff408",
   "metadata": {
    "scrolled": true
   },
   "outputs": [],
   "source": [
    "# Let BioProfiling.jl handle the rest\n",
    "xp = bp.Experiment(Main.pd_to_df(markers))"
   ]
  },
  {
   "cell_type": "code",
   "execution_count": 11,
   "id": "e01d9dbf",
   "metadata": {},
   "outputs": [],
   "source": [
    "# Which markers do we want to compare? \n",
    "cols_to_discard = [\"chan_39.tiff\", \n",
    "                        \"chan_48.tiff\", \n",
    "                        \"chan_69.tiff\", \n",
    "                        \"chan_71.tiff\",\n",
    "                        \"Fe.tiff\",\n",
    "                        \"Noodle.tiff\",\n",
    "                        \"ASCT2_clahe.tiff\",\n",
    "                        \"membrane.tiff\",\n",
    "                        \"Au.tiff\",\n",
    "                        \"membrane_clahe.tiff\",\n",
    "                        \"GLUT1_clahe.tiff\",\n",
    "                        \"nuclei_clahe.tiff\"]\n",
    "filters = [bp.NameSelector(lambda ft : ft not in cols_to_discard)]"
   ]
  },
  {
   "cell_type": "code",
   "execution_count": 18,
   "id": "8cf35d8c",
   "metadata": {},
   "outputs": [
    {
     "data": {
      "image/png": "[encoded data removed]",
      "text/plain": [
       "<Figure size 640x480 with 1 Axes>"
      ]
     },
     "metadata": {
      "image/png": {
       "height": 480,
       "width": 640
      },
      "needs_background": "light"
     },
     "output_type": "display_data"
    },
    {
     "data": {
      "text/plain": [
       "<Figure Size: (640 x 480)>"
      ]
     },
     "execution_count": 18,
     "metadata": {},
     "output_type": "execute_result"
    }
   ],
   "source": [
    "ggplot(markers, aes(x = 'area')) +\\\n",
    "    geom_histogram(binwidth = 20) +\\\n",
    "    geom_vline(xintercept = 120, linetype = \"dotted\") +\\\n",
    "    geom_vline(xintercept = 1500, linetype = \"dotted\") +\\\n",
    "    theme_minimal()"
   ]
  },
  {
   "cell_type": "code",
   "execution_count": 19,
   "id": "cdd82aca",
   "metadata": {},
   "outputs": [],
   "source": [
    "# We define a filter to be used by BioProfiling\n",
    "filters.append(jl.eval(\"Filter(120, :area, compare = >)\"))\n",
    "\n",
    "# We want to keep cells large enough, but we want to visualize the ones that are excluded\n",
    "# so we define an \"inverse filter\"\n",
    "negf1 = bp.negation(filters[-1])"
   ]
  },
  {
   "cell_type": "code",
   "execution_count": 20,
   "id": "cc9f3d84",
   "metadata": {},
   "outputs": [],
   "source": [
    "# Same for maximum size, this is an equivalent syntax\n",
    "filters.append(bp.Filter(1500, Main.Symbol(\"area\"), \n",
    "                         compare = lambda a, b: a < b))\n",
    "# Which cells are excluded?\n",
    "negf2 = bp.negation(filters[-1])"
   ]
  },
  {
   "cell_type": "code",
   "execution_count": 25,
   "id": "ea588ab2",
   "metadata": {},
   "outputs": [
    {
     "data": {
      "image/png": "[encoded data removed]",
      "text/plain": [
       "<Figure size 640x480 with 1 Axes>"
      ]
     },
     "metadata": {
      "image/png": {
       "height": 480,
       "width": 640
      },
      "needs_background": "light"
     },
     "output_type": "display_data"
    },
    {
     "data": {
      "text/plain": [
       "<Figure Size: (640 x 480)>"
      ]
     },
     "execution_count": 25,
     "metadata": {},
     "output_type": "execute_result"
    }
   ],
   "source": [
    "ggplot(markers, aes(x = 'NuclearIntensity')) +\\\n",
    "    geom_histogram(bins = 100) +\\\n",
    "    scale_x_log10() +\\\n",
    "    geom_vline(xintercept = 8000, linetype = \"dotted\") +\\\n",
    "    theme_minimal()"
   ]
  },
  {
   "cell_type": "code",
   "execution_count": 26,
   "id": "2e21ac17",
   "metadata": {},
   "outputs": [],
   "source": [
    "filters.append(bp.Filter(8e3, \n",
    "                         Main.Symbol(\"NuclearIntensity\"), \n",
    "                         compare = lambda a, b: a > b))\n",
    "# Which cells are excluded?\n",
    "negf4 = bp.negation(filters[-1])"
   ]
  },
  {
   "cell_type": "code",
   "execution_count": 27,
   "id": "33988366",
   "metadata": {},
   "outputs": [
    {
     "data": {
      "image/png": "[encoded data removed]",
      "text/plain": [
       "<Figure size 640x480 with 1 Axes>"
      ]
     },
     "metadata": {
      "image/png": {
       "height": 480,
       "width": 640
      },
      "needs_background": "light"
     },
     "output_type": "display_data"
    },
    {
     "data": {
      "text/plain": [
       "<Figure Size: (640 x 480)>"
      ]
     },
     "execution_count": 27,
     "metadata": {},
     "output_type": "execute_result"
    }
   ],
   "source": [
    "ggplot(markers, aes(x = 'Au.tiff')) +\\\n",
    "    geom_histogram(bins = 200) +\\\n",
    "    scale_x_log10() +\\\n",
    "    geom_vline(xintercept = 2000, linetype = \"dotted\") +\\\n",
    "    theme_minimal()"
   ]
  },
  {
   "cell_type": "code",
   "execution_count": 28,
   "id": "24b100df",
   "metadata": {},
   "outputs": [],
   "source": [
    "filters.append(bp.Filter(2000, \n",
    "                         Main.Symbol(\"Au.tiff\"), \n",
    "                         compare = lambda a, b: a < b))\n",
    "# Which cells are excluded?\n",
    "negf5 = bp.negation(filters[-1])"
   ]
  },
  {
   "cell_type": "markdown",
   "id": "5122d1fd-fafe-4647-9115-deda94e46fa0",
   "metadata": {},
   "source": [
    "### Show on images"
   ]
  },
  {
   "cell_type": "code",
   "execution_count": 29,
   "id": "2f0cd740-adc0-450d-9dd0-b75869c08e5a",
   "metadata": {},
   "outputs": [
    {
     "data": {
      "text/plain": [
       "['/data/A1e/nuclei_clahe.tiff']"
      ]
     },
     "execution_count": 29,
     "metadata": {},
     "output_type": "execute_result"
    }
   ],
   "source": [
    "bp.diagnostic_path(xp, negf1, jl.eval(\":url\"))[:5]"
   ]
  },
  {
   "cell_type": "code",
   "execution_count": 30,
   "id": "3999988c-bef4-4cc6-842a-be2a6df37540",
   "metadata": {
    "scrolled": true
   },
   "outputs": [],
   "source": [
    "# Folder where the filtered cell images will be stored\n",
    "filterfolder = \"./filtered_images/\"\n",
    "\n",
    "# Visualize all filters\n",
    "for i,fltr in enumerate([negf1, negf2, negf4, negf5]):\n",
    "    # If something is filtered out\n",
    "    if len(bp.filter_entries(xp, fltr)):\n",
    "        bp.diagnostic_images(xp, fltr, jl.eval(\":url\"),\n",
    "                            path = filterfolder,\n",
    "                            center = True,\n",
    "                            show = False, saveimages = True, \n",
    "                            savelimit = 1, # How many example images do you want?\n",
    "                            keepsubfolders = 1)\n",
    "\n",
    "        # Move filtered image to keep individual filters separate\n",
    "        os.rename(f\"{filterfolder}{fov}/nuclei_clahe.tiff\", \n",
    "                f\"{filterfolder}{fov}/new_f{i+1}.tiff\")"
   ]
  },
  {
   "cell_type": "markdown",
   "id": "139eb343-6b27-465c-a3c7-a80599a6d50e",
   "metadata": {},
   "source": [
    "## Dataset filtering\n",
    "Export filtered data as a CSV file"
   ]
  },
  {
   "cell_type": "code",
   "execution_count": 22,
   "id": "96ca03a7-ddbd-419d-947d-d67b6a1fdea0",
   "metadata": {},
   "outputs": [],
   "source": [
    "# Apply filters\n",
    "bp.select_b(xp, filters)"
   ]
  },
  {
   "cell_type": "code",
   "execution_count": 23,
   "id": "5eb827e6",
   "metadata": {},
   "outputs": [
    {
     "name": "stdout",
     "output_type": "stream",
     "text": [
      "A1a: 1623/1698 kept\n",
      "A1c: 1666/1703 kept\n",
      "A1d: 1132/1175 kept\n",
      "A1e: 1688/1753 kept\n",
      "A1f: 1230/1258 kept\n",
      "A1g: 253/273 kept\n",
      "A1h: 961/992 kept\n",
      "A1i: 1233/1416 kept\n",
      "A1k: 1556/1602 kept\n",
      "A1l: 1441/1495 kept\n",
      "A1m: 1415/1467 kept\n",
      "A1n: 1710/1746 kept\n",
      "A1o: 1818/1834 kept\n",
      "A1p: 1296/1321 kept\n",
      "A1q: 2143/2164 kept\n",
      "A1r: 1583/1625 kept\n",
      "A2a: 1431/1496 kept\n",
      "A2b: 724/797 kept\n",
      "A2c: 1253/1298 kept\n",
      "A2d: 1875/1891 kept\n",
      "A2e: 1544/1576 kept\n",
      "A2g: 484/497 kept\n",
      "A2h: 1257/1346 kept\n",
      "A2i: 999/1059 kept\n",
      "A2k: 1737/1826 kept\n",
      "A2l: 1489/1512 kept\n",
      "A2m: 1254/1293 kept\n",
      "A2n: 858/900 kept\n",
      "A2o: 813/887 kept\n",
      "A2p: 1001/1069 kept\n",
      "A2q: 1477/1539 kept\n",
      "A2r: 1065/1085 kept\n",
      "A3a: 1414/1458 kept\n",
      "A3b: 1218/1261 kept\n",
      "A3c: 1346/1380 kept\n",
      "A3d: 1347/1499 kept\n",
      "A3e: 1594/1637 kept\n",
      "A3f: 1010/1205 kept\n",
      "A3g: 1441/1497 kept\n",
      "A3h: 828/881 kept\n",
      "A3i: 979/1031 kept\n",
      "A3l: 912/944 kept\n",
      "A3m: 1269/1291 kept\n",
      "A3n: 2014/2152 kept\n",
      "A3o: 1369/1428 kept\n",
      "A3p: 1809/1866 kept\n",
      "A3q: 998/1048 kept\n",
      "A3r: 1557/1633 kept\n",
      "A4a: 1730/1793 kept\n",
      "A4b: 1756/1884 kept\n",
      "A4c: 1677/1755 kept\n",
      "A4d: 694/717 kept\n",
      "A4e: 1314/1337 kept\n",
      "A4f: 869/886 kept\n",
      "A4g: 299/323 kept\n",
      "A4h: 1617/1690 kept\n",
      "A4i: 1141/1225 kept\n",
      "A4k: 2234/2354 kept\n",
      "A4l: 1553/1570 kept\n",
      "A4m: 1001/1031 kept\n",
      "A4n: 1017/1060 kept\n",
      "A4o: 406/458 kept\n",
      "A4p: 1339/1381 kept\n",
      "A4q: 1369/1449 kept\n",
      "A4r: 1545/1563 kept\n",
      "A5a: 943/1008 kept\n",
      "A5b: 1486/1546 kept\n",
      "A5c: 1740/1997 kept\n",
      "A5d: 1992/2159 kept\n",
      "A5e: 1447/1500 kept\n",
      "A5f: 1569/1639 kept\n",
      "A5g: 1026/1090 kept\n",
      "A5h: 320/365 kept\n",
      "A5i: 1384/1440 kept\n",
      "A5k: 1647/1673 kept\n",
      "A5l: 1227/1262 kept\n",
      "A5m: 908/1028 kept\n",
      "A5n: 1636/1687 kept\n",
      "A5o: 1239/1256 kept\n",
      "A5p: 1384/1432 kept\n",
      "A5q: 1449/1486 kept\n",
      "A5r: 351/378 kept\n",
      "A6a: 57/63 kept\n",
      "Not enough cells, skipping\n",
      "A6b: 934/968 kept\n",
      "A6c: 1204/1244 kept\n",
      "A6d: 1113/1158 kept\n",
      "A6e: 1114/1187 kept\n",
      "A6g: 943/965 kept\n",
      "A6h: 1153/1200 kept\n",
      "A6i: 1057/1106 kept\n",
      "A6k: 1825/1850 kept\n",
      "A6l: 1706/1828 kept\n",
      "A6m: 915/1103 kept\n",
      "A6n: 981/1053 kept\n",
      "A6o: 1242/1294 kept\n",
      "A6p: 772/848 kept\n",
      "A6q: 1936/2012 kept\n",
      "A6r: 1502/1519 kept\n",
      "A7a: 1789/1845 kept\n",
      "A7b: 1077/1137 kept\n",
      "A7c: 865/946 kept\n",
      "A7d: 1429/1476 kept\n",
      "A7f: 1305/1333 kept\n",
      "A7g: 1393/1441 kept\n",
      "A7h: 1750/1796 kept\n",
      "A7i: 183/195 kept\n",
      "A7k: 1230/1338 kept\n",
      "A7l: 1058/1093 kept\n",
      "A7m: 848/949 kept\n",
      "A7n: 861/902 kept\n",
      "A7o: 1071/1195 kept\n",
      "A7p: 1657/1743 kept\n",
      "A7q: 1508/1586 kept\n",
      "A7r: 1183/1229 kept\n",
      "A8a: 1477/1550 kept\n",
      "A8b: 1302/1355 kept\n",
      "A8c: 1189/1224 kept\n",
      "A8d: 854/919 kept\n",
      "A8e: 1803/1833 kept\n",
      "A8f: 909/1036 kept\n",
      "A8g: 1512/1599 kept\n",
      "A8h: 1376/1394 kept\n",
      "A8i: 1351/1439 kept\n",
      "A8l: 1118/1179 kept\n",
      "A8m: 676/705 kept\n",
      "A8n: 2122/2249 kept\n",
      "A8o: 1757/1848 kept\n",
      "A8p: 1555/1636 kept\n",
      "A8q: 1900/2029 kept\n",
      "A8r: 1570/1623 kept\n",
      "A9a: 1851/1884 kept\n",
      "A9b: 1470/1524 kept\n",
      "A9c: 714/807 kept\n",
      "A9d: 1061/1106 kept\n",
      "A9e: 1385/1439 kept\n",
      "A9f: 1287/1323 kept\n",
      "A9g: 1368/1400 kept\n",
      "A9h: 1097/1210 kept\n",
      "A9i: 1004/1028 kept\n",
      "A9k: 456/550 kept\n",
      "A9l: 1555/1662 kept\n",
      "A9m: 1053/1130 kept\n",
      "A9n: 1168/1305 kept\n",
      "A9o: 1560/1587 kept\n",
      "A9p: 552/588 kept\n",
      "A9q: 1577/1592 kept\n",
      "A9r: 1338/1364 kept\n",
      "B1a: 1839/1874 kept\n",
      "B1b: 1570/1632 kept\n",
      "B1c: 1246/1268 kept\n",
      "B1d: 503/552 kept\n",
      "B1e: 1280/1311 kept\n",
      "B1f: 1148/1198 kept\n",
      "B1g: 1333/1391 kept\n",
      "B1h: 1232/1268 kept\n",
      "B1i: 1144/1179 kept\n",
      "B1k: 777/838 kept\n",
      "B1n: 1347/1379 kept\n",
      "B1o: 1185/1231 kept\n",
      "B1p: 400/420 kept\n",
      "B1q: 2258/2305 kept\n",
      "B2a: 1729/1764 kept\n",
      "B2b: 1317/1390 kept\n",
      "B2c: 1138/1182 kept\n",
      "B2d: 273/308 kept\n",
      "B2e: 1536/1582 kept\n",
      "B2f: 664/735 kept\n",
      "B2g: 1775/1851 kept\n",
      "B2h: 1460/1514 kept\n",
      "B2i: 1580/1628 kept\n",
      "B2k: 829/869 kept\n",
      "B2l: 1189/1242 kept\n",
      "B2m: 1414/1452 kept\n",
      "B2n: 905/1042 kept\n",
      "B2o: 1398/1487 kept\n",
      "B2p: 1447/1493 kept\n",
      "B2q: 650/709 kept\n",
      "B2r: 1574/1608 kept\n",
      "B3a: 1508/1569 kept\n",
      "B3b: 834/853 kept\n",
      "B3c: 1386/1423 kept\n",
      "B3d: 688/735 kept\n",
      "B3e: 1129/1165 kept\n",
      "B3f: 1826/1851 kept\n",
      "B3g: 1416/1470 kept\n",
      "B3h: 990/1096 kept\n",
      "B3i: 1299/1318 kept\n",
      "B3k: 1243/1268 kept\n",
      "B3m: 1255/1276 kept\n",
      "B3n: 1669/1739 kept\n",
      "B3o: 496/552 kept\n",
      "B3p: 2427/2506 kept\n",
      "B3q: 1210/1245 kept\n",
      "B3r: 938/977 kept\n",
      "B4a: 630/809 kept\n",
      "B4b: 2021/2082 kept\n",
      "B4c: 1199/1259 kept\n",
      "B4d: 725/806 kept\n",
      "B4e: 1727/1777 kept\n",
      "B4f: 593/631 kept\n",
      "B4g: 1608/1662 kept\n",
      "B4h: 1520/1560 kept\n",
      "B4i: 1364/1385 kept\n",
      "B4k: 1341/1358 kept\n",
      "B4l: 1372/1422 kept\n",
      "B4m: 1472/1502 kept\n",
      "B4n: 1485/1535 kept\n",
      "B4o: 1484/1586 kept\n",
      "B4p: 1525/1565 kept\n",
      "B4q: 1204/1245 kept\n",
      "B4r: 1305/1390 kept\n",
      "B5b: 1595/1674 kept\n",
      "B5c: 1684/1728 kept\n",
      "B5d: 1664/1767 kept\n",
      "B5e: 1411/1446 kept\n",
      "B5f: 1329/1383 kept\n",
      "B5g: 939/956 kept\n",
      "B5h: 1835/1893 kept\n",
      "B5i: 1312/1434 kept\n",
      "B5k: 1313/1339 kept\n",
      "B5l: 1207/1247 kept\n",
      "B5n: 1424/1470 kept\n",
      "B5p: 799/838 kept\n",
      "B5q: 973/1088 kept\n",
      "B5r: 1758/1797 kept\n",
      "B6a: 300/323 kept\n",
      "B6b: 1624/1672 kept\n",
      "B6c: 994/1071 kept\n",
      "B6d: 417/452 kept\n",
      "B6e: 1215/1235 kept\n",
      "B6f: 917/964 kept\n",
      "B6g: 1544/1569 kept\n",
      "B6h: 1498/1544 kept\n",
      "B6i: 631/704 kept\n",
      "B6l: 1639/1715 kept\n",
      "B6m: 1594/1607 kept\n",
      "B6n: 1638/1707 kept\n",
      "B6o: 1817/1861 kept\n",
      "B6p: 926/1003 kept\n",
      "B6q: 1627/1714 kept\n",
      "B6r: 1380/1394 kept\n",
      "B7a: 1528/1554 kept\n",
      "B7b: 1466/1500 kept\n",
      "B7c: 1266/1324 kept\n",
      "B7d: 838/910 kept\n",
      "B7e: 1217/1320 kept\n",
      "B7f: 1953/1979 kept\n",
      "B7g: 1312/1340 kept\n",
      "B7i: 1618/1720 kept\n",
      "B7k: 927/1031 kept\n",
      "B7m: 751/819 kept\n",
      "B7n: 1711/1773 kept\n",
      "B7o: 1353/1416 kept\n",
      "B7p: 592/624 kept\n",
      "B7q: 1009/1150 kept\n",
      "B7r: 1163/1249 kept\n",
      "B8a: 2293/2477 kept\n",
      "B8b: 1707/1766 kept\n",
      "B8c: 1975/2035 kept\n",
      "B8d: 989/1043 kept\n",
      "B8e: 1037/1399 kept\n",
      "B8f: 780/828 kept\n",
      "B8g: 1564/1722 kept\n",
      "B8h: 879/909 kept\n",
      "B8i: 1671/1775 kept\n",
      "B8k: 1739/1867 kept\n",
      "B8l: 1356/1441 kept\n",
      "B8m: 1373/1456 kept\n",
      "B8n: 1634/1685 kept\n",
      "B8p: 1541/1562 kept\n",
      "B8q: 1082/1179 kept\n",
      "B8r: 1070/1120 kept\n",
      "B9a: 2003/2032 kept\n",
      "B9b: 1715/1763 kept\n",
      "B9c: 1791/1844 kept\n",
      "B9d: 1575/1647 kept\n",
      "B9e: 1690/1764 kept\n",
      "B9f: 1443/1483 kept\n",
      "B9g: 318/373 kept\n",
      "B9h: 1328/1441 kept\n",
      "B9k: 1638/1736 kept\n",
      "B9l: 1405/1527 kept\n",
      "B9m: 1479/1541 kept\n",
      "B9n: 787/901 kept\n",
      "B9o: 698/792 kept\n",
      "B9q: 1221/1257 kept\n",
      "B9r: 668/736 kept\n",
      "C1a: 1126/1182 kept\n",
      "C1b: 1167/1258 kept\n",
      "C1c: 1374/1457 kept\n",
      "C1d: 1044/1091 kept\n",
      "C1e: 1307/1339 kept\n",
      "C1f: 565/593 kept\n",
      "C1h: 209/230 kept\n",
      "C1i: 1433/1462 kept\n",
      "C1k: 1440/1463 kept\n",
      "C1l: 728/782 kept\n",
      "C1m: 1465/1510 kept\n",
      "C2a: 850/879 kept\n",
      "C2b: 1116/1159 kept\n",
      "C2d: 1726/1784 kept\n",
      "C2e: 857/1053 kept\n",
      "C2f: 1353/1398 kept\n",
      "C2g: 1109/1141 kept\n",
      "C2h: 651/820 kept\n",
      "C2i: 1449/1473 kept\n",
      "C2k: 1127/1181 kept\n",
      "C2l: 1884/1918 kept\n",
      "C2m: 1010/1039 kept\n",
      "C3a: 1155/1177 kept\n",
      "C3b: 1312/1361 kept\n",
      "C3c: 1236/1256 kept\n",
      "C3d: 1193/1206 kept\n",
      "C3e: 1032/1090 kept\n",
      "C3f: 2161/2220 kept\n",
      "C3g: 773/914 kept\n",
      "C3h: 962/990 kept\n",
      "C3i: 851/888 kept\n",
      "C3k: 1656/1694 kept\n",
      "C3l: 1113/1156 kept\n",
      "C3m: 1008/1091 kept\n",
      "C4a: 607/652 kept\n",
      "C4b: 1786/1817 kept\n",
      "C4c: 1388/1466 kept\n",
      "C4d: 1875/1949 kept\n",
      "C4e: 1050/1092 kept\n",
      "C4f: 321/355 kept\n",
      "C4g: 483/520 kept\n",
      "C4h: 771/836 kept\n",
      "C4i: 646/666 kept\n",
      "C4k: 905/942 kept\n",
      "C4l: 1687/1756 kept\n",
      "C4m: 1874/1916 kept\n",
      "C5a: 1041/1111 kept\n",
      "C5b: 1047/1110 kept\n",
      "C5c: 591/611 kept\n",
      "C5d: 426/454 kept\n",
      "C5e: 1232/1295 kept\n",
      "C5f: 1874/1910 kept\n",
      "C5h: 1199/1299 kept\n",
      "C5i: 927/962 kept\n",
      "C5k: 1145/1223 kept\n",
      "C5l: 1171/1228 kept\n",
      "C6a: 1108/1157 kept\n",
      "C6b: 548/593 kept\n",
      "C6c: 876/932 kept\n",
      "C6d: 1193/1246 kept\n",
      "C6f: 1805/1829 kept\n",
      "C6g: 1432/1488 kept\n",
      "C6h: 947/1577 kept\n",
      "C6i: 1489/1509 kept\n",
      "C6k: 1212/1236 kept\n",
      "C6l: 1672/1719 kept\n",
      "C7a: 1374/1401 kept\n",
      "C7b: 1428/1458 kept\n",
      "C7c: 1546/1569 kept\n",
      "C7d: 1177/1231 kept\n",
      "C7e: 1651/1671 kept\n",
      "C7f: 994/1027 kept\n",
      "C7h: 807/896 kept\n",
      "C7i: 1170/1196 kept\n",
      "C7k: 1497/1570 kept\n",
      "C7l: 1542/1589 kept\n",
      "C7m: 1757/1777 kept\n",
      "C8a: 1369/1430 kept\n",
      "C8b: 1670/1699 kept\n",
      "C8c: 1037/1052 kept\n",
      "C8d: 848/871 kept\n",
      "C8e: 1916/1981 kept\n",
      "C8f: 1418/1454 kept\n",
      "C8g: 1623/1680 kept\n",
      "C8h: 2199/2308 kept\n",
      "C8i: 1977/1997 kept\n",
      "C8l: 1430/1501 kept\n",
      "C8m: 1111/1163 kept\n",
      "C9a: 1146/1228 kept\n",
      "C9b: 1054/1112 kept\n",
      "C9d: 671/730 kept\n",
      "C9e: 1410/1460 kept\n",
      "C9f: 1452/1497 kept\n",
      "C9h: 1650/1689 kept\n",
      "C9i: 1319/1544 kept\n",
      "C9k: 1412/1469 kept\n",
      "C9l: 1708/1727 kept\n",
      "C9m: 1399/1454 kept\n",
      "D1a: 1725/1783 kept\n",
      "D1c: 532/578 kept\n",
      "D1d: 1092/1131 kept\n",
      "D1e: 647/685 kept\n",
      "D1f: 1320/1398 kept\n",
      "D1g: 477/519 kept\n",
      "D1h: 892/927 kept\n",
      "D1i: 1433/1441 kept\n",
      "D1k: 826/884 kept\n",
      "D1l: 1303/1351 kept\n",
      "D1m: 1522/1574 kept\n",
      "D2a: 1049/1141 kept\n",
      "D2b: 1017/1044 kept\n",
      "D2c: 1494/1530 kept\n",
      "D2d: 689/748 kept\n",
      "D2e: 1010/1187 kept\n",
      "D2h: 1823/1867 kept\n",
      "D2k: 1667/1700 kept\n",
      "D2l: 1779/1814 kept\n",
      "D3a: 1523/1592 kept\n",
      "D3c: 1771/1805 kept\n",
      "D3e: 758/777 kept\n",
      "D3f: 1407/1517 kept\n",
      "D3g: 766/793 kept\n",
      "D3h: 1767/1785 kept\n",
      "D3i: 1103/1220 kept\n",
      "D3m: 566/628 kept\n",
      "D4a: 1522/1555 kept\n",
      "D4b: 1068/1136 kept\n",
      "D4c: 864/871 kept\n",
      "D4d: 621/639 kept\n",
      "D4e: 1593/1644 kept\n",
      "D4g: 854/885 kept\n",
      "D4h: 1439/1489 kept\n",
      "D4i: 1384/1439 kept\n",
      "D4k: 1003/1045 kept\n",
      "D4l: 410/486 kept\n",
      "D4m: 780/821 kept\n",
      "D5b: 1730/1746 kept\n",
      "D5c: 1281/1342 kept\n",
      "D5d: 931/969 kept\n",
      "D5f: 1440/1491 kept\n",
      "D5h: 1437/1465 kept\n",
      "D5i: 1564/1597 kept\n",
      "D5k: 847/883 kept\n",
      "D5l: 940/979 kept\n",
      "D5m: 1389/1421 kept\n",
      "D6a: 1126/1153 kept\n",
      "D6b: 1378/1446 kept\n",
      "D6c: 1443/1473 kept\n",
      "D6d: 1768/1819 kept\n",
      "D6e: 501/586 kept\n",
      "D6f: 1004/1066 kept\n",
      "D6g: 1165/1196 kept\n",
      "D6i: 380/433 kept\n",
      "D6k: 1173/1220 kept\n",
      "D6l: 1659/1681 kept\n",
      "D6m: 371/472 kept\n",
      "D7a: 1019/1212 kept\n",
      "D7b: 903/949 kept\n",
      "D7c: 946/993 kept\n",
      "D7d: 1181/1234 kept\n",
      "D7e: 1228/1300 kept\n",
      "D7f: 1921/1982 kept\n",
      "D7i: 1848/1881 kept\n",
      "D8a: 806/858 kept\n",
      "D8b: 1136/1193 kept\n",
      "D8c: 1435/1481 kept\n",
      "D8d: 1780/1896 kept\n",
      "D8e: 1370/1413 kept\n",
      "D8g: 848/896 kept\n",
      "D8h: 1501/1526 kept\n",
      "D8i: 1628/1760 kept\n",
      "D8k: 1057/1119 kept\n",
      "D8l: 1170/1224 kept\n",
      "D8m: 1399/1442 kept\n",
      "D9a: 1128/1167 kept\n",
      "D9b: 1442/1497 kept\n",
      "D9c: 1646/1768 kept\n",
      "D9e: 1262/1419 kept\n",
      "D9f: 1100/1157 kept\n",
      "D9g: 387/464 kept\n",
      "D9h: 1156/1227 kept\n",
      "D9i: 1839/1865 kept\n",
      "D9l: 685/786 kept\n",
      "E1a: 622/702 kept\n",
      "E1b: 1702/1808 kept\n",
      "E1d: 690/809 kept\n",
      "E2a: 478/552 kept\n",
      "E2b: 441/455 kept\n",
      "E2d: 2983/3086 kept\n",
      "E3b: 310/323 kept\n",
      "E3c: 1677/1727 kept\n",
      "E3e: 745/788 kept\n",
      "E4a: 947/987 kept\n",
      "E4b: 61/85 kept\n",
      "Not enough cells, skipping\n",
      "E4d: 1078/1093 kept\n",
      "E4e: 1314/1345 kept\n"
     ]
    }
   ],
   "source": [
    "all_markers = pd.DataFrame(columns=markers.columns)\n",
    "# List only folders in /data directory\n",
    "fovs = [f for f in os.listdir(\"/data/\") if os.path.isdir(f\"/data/{f}\")]\n",
    "for fov in fovs:\n",
    "    markers = pd.read_csv(f\"/data/{fov}_cell_table.csv\",\n",
    "                        index_col=0)\n",
    "\n",
    "    # Define additional columns\n",
    "    markers[\"fov\"] = fov\n",
    "    # path to nuclear images\n",
    "    markers[\"url\"] = [f\"/data/{fov}/nuclei_clahe.tiff\" for fov in markers.fov]\n",
    "    # Used by BioProfiling to describe center of cells\n",
    "    markers[\"AreaShape_Center_X\"] = markers[\"centroid-1\"]\n",
    "    markers[\"AreaShape_Center_X_1\"] = markers[\"centroid-1\"]\n",
    "    markers[\"AreaShape_Center_Y\"] = markers[\"centroid-0\"]\n",
    "    markers[\"AreaShape_Center_Y_1\"] = markers[\"centroid-0\"]\n",
    "    markers[\"NuclearIntensity\"] = markers.area * markers[\"nuclei_clahe.tiff\"]\n",
    "\n",
    "    # Let BioProfiling.jl handle the rest\n",
    "    xp = bp.Experiment(Main.pd_to_df(markers))\n",
    "\n",
    "    # Apply filters\n",
    "    bp.select_b(xp, filters)\n",
    "\n",
    "    print(f\"{fov}: {len(xp.selected_entries)}/{len(markers)} kept\")\n",
    "\n",
    "    if len(xp.selected_entries) < 100:\n",
    "        print(\"Not enough cells, skipping\")\n",
    "        continue\n",
    "\n",
    "    all_markers = pd.concat([all_markers, markers.iloc[xp.selected_entries - 1]],\n",
    "                            ignore_index=True)"
   ]
  },
  {
   "cell_type": "code",
   "execution_count": 24,
   "id": "d8ec5511-b951-4b35-bfe8-d90daae4a23c",
   "metadata": {},
   "outputs": [],
   "source": [
    "# Export all features for selected cells only\n",
    "all_markers.to_csv(\"/data/cell_table.csv\")"
   ]
  },
  {
   "cell_type": "code",
   "execution_count": 26,
   "id": "8021a180",
   "metadata": {},
   "outputs": [
    {
     "data": {
      "text/plain": [
       "fov\n",
       "E2d    2983\n",
       "B3p    2427\n",
       "B8a    2293\n",
       "B1q    2258\n",
       "A4k    2234\n",
       "       ... \n",
       "A4g     299\n",
       "B2d     273\n",
       "A1g     253\n",
       "C1h     209\n",
       "A7i     183\n",
       "Name: count, Length: 481, dtype: int64"
      ]
     },
     "execution_count": 26,
     "metadata": {},
     "output_type": "execute_result"
    }
   ],
   "source": [
    "all_markers.fov.value_counts()"
   ]
  },
  {
   "cell_type": "code",
   "execution_count": 28,
   "id": "815189e3",
   "metadata": {},
   "outputs": [
    {
     "data": {
      "text/plain": [
       "1296.0"
      ]
     },
     "execution_count": 28,
     "metadata": {},
     "output_type": "execute_result"
    }
   ],
   "source": [
    "all_markers.fov.value_counts().median()"
   ]
  }
 ],
 "metadata": {
  "kernelspec": {
   "display_name": "Python 3 (ipykernel)",
   "language": "python",
   "name": "python3"
  },
  "language_info": {
   "codemirror_mode": {
    "name": "ipython",
    "version": 3
   },
   "file_extension": ".py",
   "mimetype": "text/x-python",
   "name": "python",
   "nbconvert_exporter": "python",
   "pygments_lexer": "ipython3",
   "version": "3.11.4"
  }
 },
 "nbformat": 4,
 "nbformat_minor": 5
}
