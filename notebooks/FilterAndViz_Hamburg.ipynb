{
 "cells": [
  {
   "cell_type": "markdown",
   "id": "0585355c-540c-4f69-b5a7-6018aeaa3a64",
   "metadata": {},
   "source": [
    "# How to do filtering on MIBI data using BioProfiling.jl in Python\n",
    "You will need an environment with both Julia and Python running (e.g. in a [Docker image](https://hub.docker.com/u/koalive)). This relies on the `julia` library in Python and the `PyCall` library in Julia. \n",
    "This example uses the TMA data for the spatial metabolic profiling manuscript and the cellpose segmentation masks.  \n",
    "Example command to start a Jupyter server using the required Docker image:  \n",
    "`docker run -p 8889:8888 -v `pwd`:/home/jovyan -v \"/Volumes/VERBATIM HD/Hamburg Project/gradient_correction/image_data_corrected\":/data/ koalive/mibiprofiling:alpha`"
   ]
  },
  {
   "cell_type": "markdown",
   "id": "124222f8-e570-4663-a00a-b477f300ec23",
   "metadata": {},
   "source": [
    "## Load Python libraries"
   ]
  },
  {
   "cell_type": "code",
   "execution_count": null,
   "id": "a2d50cf5-4b9a-48cc-901a-889e072a7a2b",
   "metadata": {},
   "outputs": [],
   "source": [
    "import os\n",
    "import pandas as pd\n",
    "from plotnine import *"
   ]
  },
  {
   "cell_type": "code",
   "execution_count": null,
   "id": "5c6eb5f2",
   "metadata": {},
   "outputs": [],
   "source": [
    "os.getcwd()"
   ]
  },
  {
   "cell_type": "markdown",
   "id": "24182cb5-d809-412f-9e32-f1adb674416a",
   "metadata": {},
   "source": [
    "## Setting up BioProfiling.jl"
   ]
  },
  {
   "cell_type": "code",
   "execution_count": null,
   "id": "71ddaf6c-dac4-4d21-96b0-bffa6fa3af2f",
   "metadata": {
    "scrolled": true
   },
   "outputs": [],
   "source": [
    "# Just ignore the scary error\n",
    "from julia.api import Julia\n",
    "jl = Julia(compiled_modules=False)\n",
    "from julia import DataFrames, Main\n",
    "import julia.BioProfiling as bp"
   ]
  },
  {
   "cell_type": "code",
   "execution_count": null,
   "id": "d2e1a5f5-d367-4346-8a82-3fce793a4faa",
   "metadata": {},
   "outputs": [],
   "source": [
    "%load_ext julia.magic"
   ]
  },
  {
   "cell_type": "code",
   "execution_count": null,
   "id": "ea3975fc-c7ef-440d-857c-dff04047db68",
   "metadata": {},
   "outputs": [],
   "source": [
    "%%julia \n",
    "using DataFrames, BioProfiling, PyCall\n",
    "function pd_to_df(df_pd)\n",
    "    df= DataFrame()\n",
    "    for col in df_pd.columns\n",
    "        df[!, col] = getproperty(df_pd, col).values\n",
    "        if eltype(df[:, col]) == PyObject\n",
    "            # Strings are not automatically converted\n",
    "            df[!, col] = PyCall.py\"list($df_pd[$col])\"\n",
    "        end\n",
    "    end\n",
    "    return(df)\n",
    "end"
   ]
  },
  {
   "cell_type": "code",
   "execution_count": null,
   "id": "0b9c56ec-ce0e-4670-b0d1-14c447dfbc06",
   "metadata": {},
   "outputs": [],
   "source": [
    "%%julia\n",
    "PyCall.py\"\"\"\n",
    "class SymStr():\n",
    "    def __init__(self, *args, **kwargs):\n",
    "        self.s = str(*args, **kwargs)\n",
    "    def __str__(self):\n",
    "        return self.s.__str__()\n",
    "    def __repr__(self):\n",
    "        return f'SymStr(\"{self.__str__()}\")'\n",
    "\"\"\"\n",
    "\n",
    "sym_str_py_type = PyCall.py\"SymStr\";\n",
    "\n",
    "PyCall.PyObject( s :: Symbol ) = PyCall.py\"SymStr($(string(s)))\"o\n",
    "function PyCall.convert( ::Type{Symbol}, po :: PyCall.PyObject ) \n",
    "    sym_str = PyCall.pyisinstance( po, sym_str_py_type ) ? po.s : po;\n",
    "    return Symbol(PyCall.convert(AbstractString, sym_str))\n",
    "end\n",
    "PyCall.pytype_mapping(sym_str_py_type, Symbol)\n",
    "nothing"
   ]
  },
  {
   "cell_type": "markdown",
   "id": "3ec760fb-e133-479e-a2be-6588f460b9a0",
   "metadata": {},
   "source": [
    "## Load data"
   ]
  },
  {
   "cell_type": "code",
   "execution_count": null,
   "id": "349d3421-5439-48b9-8375-95d406752d9b",
   "metadata": {},
   "outputs": [],
   "source": [
    "# Intensity per cells from cellpose segmentation\n",
    "fov = \"A1e\"\n",
    "markers = pd.read_csv(f\"/data/{fov}_cell_table.csv\",\n",
    "                      index_col=0)\n",
    "markers[\"fov\"] = fov"
   ]
  },
  {
   "cell_type": "code",
   "execution_count": null,
   "id": "3676afc5-bb35-4431-88a8-feb84e2765a8",
   "metadata": {},
   "outputs": [],
   "source": [
    "markers[\"url\"] = [f\"/data/{fov}/nuclei_clahe.tiff\" for fov in markers.fov]"
   ]
  },
  {
   "cell_type": "code",
   "execution_count": null,
   "id": "eb41dbf4-4e01-4c29-84a3-de7bcd1ee8ff",
   "metadata": {},
   "outputs": [],
   "source": [
    "# Used by BioProfiling to describe center of cells\n",
    "markers[\"AreaShape_Center_X\"] = markers[\"centroid-1\"]\n",
    "markers[\"AreaShape_Center_X_1\"] = markers[\"centroid-1\"]\n",
    "markers[\"AreaShape_Center_Y\"] = markers[\"centroid-0\"]\n",
    "markers[\"AreaShape_Center_Y_1\"] = markers[\"centroid-0\"]"
   ]
  },
  {
   "cell_type": "code",
   "execution_count": null,
   "id": "06911f78-17c2-429a-8144-583692beff9f",
   "metadata": {},
   "outputs": [],
   "source": [
    "markers[\"NuclearIntensity\"] = markers.area * markers[\"nuclei_clahe.tiff\"]"
   ]
  },
  {
   "cell_type": "code",
   "execution_count": null,
   "id": "bb73be07-1f12-4bec-bcef-eeb70e9ff408",
   "metadata": {
    "scrolled": true
   },
   "outputs": [],
   "source": [
    "# Let BioProfiling.jl handle the rest\n",
    "xp = bp.Experiment(Main.pd_to_df(markers))"
   ]
  },
  {
   "cell_type": "code",
   "execution_count": null,
   "id": "e01d9dbf",
   "metadata": {},
   "outputs": [],
   "source": [
    "# Which markers do we want to compare? \n",
    "cols_to_discard = [\"chan_39.tiff\", \n",
    "                        \"chan_48.tiff\", \n",
    "                        \"chan_69.tiff\", \n",
    "                        \"chan_71.tiff\",\n",
    "                        \"Fe.tiff\",\n",
    "                        \"Noodle.tiff\",\n",
    "                        \"ASCT2_clahe.tiff\",\n",
    "                        \"membrane.tiff\",\n",
    "                        \"Au.tiff\",\n",
    "                        \"membrane_clahe.tiff\",\n",
    "                        \"GLUT1_clahe.tiff\",\n",
    "                        \"nuclei_clahe.tiff\"]\n",
    "filters = [bp.NameSelector(lambda ft : ft not in cols_to_discard)]"
   ]
  },
  {
   "cell_type": "code",
   "execution_count": null,
   "id": "8cf35d8c",
   "metadata": {},
   "outputs": [],
   "source": [
    "ggplot(markers, aes(x = 'area')) +\\\n",
    "    geom_histogram(binwidth = 20) +\\\n",
    "    geom_vline(xintercept = 120, linetype = \"dotted\") +\\\n",
    "    geom_vline(xintercept = 1500, linetype = \"dotted\") +\\\n",
    "    theme_minimal()"
   ]
  },
  {
   "cell_type": "code",
   "execution_count": null,
   "id": "cdd82aca",
   "metadata": {},
   "outputs": [],
   "source": [
    "# We define a filter to be used by BioProfiling\n",
    "filters.append(jl.eval(\"Filter(120, :area, compare = >)\"))\n",
    "\n",
    "# We want to keep cells large enough, but we want to visualize the ones that are excluded\n",
    "# so we define an \"inverse filter\"\n",
    "negf1 = bp.negation(filters[-1])"
   ]
  },
  {
   "cell_type": "code",
   "execution_count": null,
   "id": "cc9f3d84",
   "metadata": {},
   "outputs": [],
   "source": [
    "# Same for maximum size, this is an equivalent syntax\n",
    "filters.append(bp.Filter(1500, Main.Symbol(\"area\"), \n",
    "                         compare = lambda a, b: a < b))\n",
    "# Which cells are excluded?\n",
    "negf2 = bp.negation(filters[-1])"
   ]
  },
  {
   "cell_type": "code",
   "execution_count": null,
   "id": "ea588ab2",
   "metadata": {},
   "outputs": [],
   "source": [
    "ggplot(markers, aes(x = 'NuclearIntensity')) +\\\n",
    "    geom_histogram(bins = 100) +\\\n",
    "    scale_x_log10() +\\\n",
    "    geom_vline(xintercept = 2e4, linetype = \"dotted\") +\\\n",
    "    theme_minimal()"
   ]
  },
  {
   "cell_type": "code",
   "execution_count": null,
   "id": "2e21ac17",
   "metadata": {},
   "outputs": [],
   "source": [
    "filters.append(bp.Filter(2e3, \n",
    "                         Main.Symbol(\"NuclearIntensity\"), \n",
    "                         compare = lambda a, b: a > b))\n",
    "# Which cells are excluded?\n",
    "negf4 = bp.negation(filters[-1])"
   ]
  },
  {
   "cell_type": "code",
   "execution_count": null,
   "id": "33988366",
   "metadata": {},
   "outputs": [],
   "source": [
    "ggplot(markers, aes(x = 'Au.tiff')) +\\\n",
    "    geom_histogram(bins = 200) +\\\n",
    "    scale_x_log10() +\\\n",
    "    geom_vline(xintercept = 1000, linetype = \"dotted\") +\\\n",
    "    theme_minimal()"
   ]
  },
  {
   "cell_type": "code",
   "execution_count": null,
   "id": "24b100df",
   "metadata": {},
   "outputs": [],
   "source": [
    "filters.append(bp.Filter(1000, \n",
    "                         Main.Symbol(\"Au.tiff\"), \n",
    "                         compare = lambda a, b: a < b))\n",
    "# Which cells are excluded?\n",
    "negf5 = bp.negation(filters[-1])"
   ]
  },
  {
   "cell_type": "markdown",
   "id": "5122d1fd-fafe-4647-9115-deda94e46fa0",
   "metadata": {},
   "source": [
    "### Show on images"
   ]
  },
  {
   "cell_type": "code",
   "execution_count": null,
   "id": "2f0cd740-adc0-450d-9dd0-b75869c08e5a",
   "metadata": {},
   "outputs": [],
   "source": [
    "bp.diagnostic_path(xp, negf1, jl.eval(\":url\"))[:5]"
   ]
  },
  {
   "cell_type": "code",
   "execution_count": null,
   "id": "3999988c-bef4-4cc6-842a-be2a6df37540",
   "metadata": {
    "scrolled": true
   },
   "outputs": [],
   "source": [
    "# Folder where the filtered cell images will be stored\n",
    "filterfolder = \"./filtered_images/\"\n",
    "\n",
    "# Visualize all filters\n",
    "for i,fltr in enumerate([negf1, negf2, negf4, negf5]):\n",
    "    # If something is filtered out\n",
    "    if len(bp.filter_entries(xp, fltr)):\n",
    "        bp.diagnostic_images(xp, fltr, jl.eval(\":url\"),\n",
    "                            path = filterfolder,\n",
    "                            center = True,\n",
    "                            show = False, saveimages = True, \n",
    "                            savelimit = 1, # How many example images do you want?\n",
    "                            keepsubfolders = 1)\n",
    "\n",
    "        # Move filtered image to keep individual filters separate\n",
    "        os.rename(f\"{filterfolder}{fov}/nuclei_clahe.tiff\", \n",
    "                f\"{filterfolder}{fov}/new_f{i+1}.tiff\")"
   ]
  },
  {
   "cell_type": "markdown",
   "id": "139eb343-6b27-465c-a3c7-a80599a6d50e",
   "metadata": {},
   "source": [
    "## Dataset filtering\n",
    "Export filtered data as a CSV file"
   ]
  },
  {
   "cell_type": "code",
   "execution_count": null,
   "id": "5eb827e6",
   "metadata": {},
   "outputs": [],
   "source": [
    "all_markers = pd.DataFrame(columns=markers.columns)\n",
    "# List only folders in /data directory\n",
    "fovs = [f for f in os.listdir(\"/data/\") if os.path.isdir(f\"/data/{f}\")]\n",
    "for fov in fovs:\n",
    "    markers = pd.read_csv(f\"/data/{fov}_cell_table.csv\",\n",
    "                        index_col=0)\n",
    "\n",
    "    # Define additional columns\n",
    "    markers[\"fov\"] = fov\n",
    "    # path to nuclear images\n",
    "    markers[\"url\"] = [f\"/data/{fov}/nuclei_clahe.tiff\" for fov in markers.fov]\n",
    "    # Used by BioProfiling to describe center of cells\n",
    "    markers[\"AreaShape_Center_X\"] = markers[\"centroid-1\"]\n",
    "    markers[\"AreaShape_Center_X_1\"] = markers[\"centroid-1\"]\n",
    "    markers[\"AreaShape_Center_Y\"] = markers[\"centroid-0\"]\n",
    "    markers[\"AreaShape_Center_Y_1\"] = markers[\"centroid-0\"]\n",
    "    markers[\"NuclearIntensity\"] = markers.area * markers[\"nuclei_clahe.tiff\"]\n",
    "\n",
    "    # Let BioProfiling.jl handle the rest\n",
    "    xp = bp.Experiment(Main.pd_to_df(markers))\n",
    "\n",
    "    # Apply filters\n",
    "    bp.select_b(xp, filters)\n",
    "\n",
    "    print(f\"{fov}: {len(xp.selected_entries)}/{len(markers)} kept\")\n",
    "\n",
    "    if len(xp.selected_entries) < 300:\n",
    "        print(\"Not enough cells, skipping\")\n",
    "        continue\n",
    "\n",
    "    all_markers = pd.concat([all_markers, markers.iloc[xp.selected_entries - 1]],\n",
    "                            ignore_index=True)"
   ]
  },
  {
   "cell_type": "code",
   "execution_count": null,
   "id": "d8ec5511-b951-4b35-bfe8-d90daae4a23c",
   "metadata": {},
   "outputs": [],
   "source": [
    "# Export all features for selected cells only\n",
    "all_markers.to_csv(\"/data/cell_table.csv\")"
   ]
  },
  {
   "cell_type": "code",
   "execution_count": null,
   "id": "8021a180",
   "metadata": {},
   "outputs": [],
   "source": [
    "all_markers.fov.value_counts()"
   ]
  },
  {
   "cell_type": "code",
   "execution_count": null,
   "id": "8c635554",
   "metadata": {},
   "outputs": [],
   "source": [
    "all_markers.fov.value_counts().median()"
   ]
  }
 ],
 "metadata": {
  "kernelspec": {
   "display_name": "Python 3 (ipykernel)",
   "language": "python",
   "name": "python3"
  },
  "language_info": {
   "codemirror_mode": {
    "name": "ipython",
    "version": 3
   },
   "file_extension": ".py",
   "mimetype": "text/x-python",
   "name": "python",
   "nbconvert_exporter": "python",
   "pygments_lexer": "ipython3",
   "version": "3.11.4"
  }
 },
 "nbformat": 4,
 "nbformat_minor": 5
}
