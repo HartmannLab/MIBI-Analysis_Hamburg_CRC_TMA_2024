{
 "cells": [
  {
   "cell_type": "markdown",
   "id": "291f2243-5ecd-4c1a-b0b8-47b9edee3f17",
   "metadata": {
    "tags": []
   },
   "source": [
    "# Cell segmentation using CellPose\n",
    "- Version: 0.2.5\n",
    "- Last update: 2023.10.31\n",
    "- Author: Yu-Le Wu\n",
    "\n",
    "This notebook segments cells in give FOVs using CellPose. There are two parts:\n",
    "1. Image processing: all membrane channels are first contrast enhanced and combined. The nulei channel is simply contrast enhanced. \n",
    "2. The processed images are then loaded and subjet to CellPose."
   ]
  },
  {
   "cell_type": "markdown",
   "id": "67e77807-1981-41b3-9109-2d6133309423",
   "metadata": {},
   "source": [
    "## import requried packages\n",
    "This part can take a while (a few minutes)"
   ]
  },
  {
   "cell_type": "code",
   "execution_count": 1,
   "id": "7d8178f6-7a04-4e3c-a748-db80383f5251",
   "metadata": {
    "execution": {
     "iopub.execute_input": "2023-10-24T12:42:18.488311Z",
     "iopub.status.busy": "2023-10-24T12:42:18.487923Z",
     "iopub.status.idle": "2023-10-24T12:43:23.583688Z",
     "shell.execute_reply": "2023-10-24T12:43:23.575476Z",
     "shell.execute_reply.started": "2023-10-24T12:42:18.488266Z"
    },
    "tags": []
   },
   "outputs": [],
   "source": [
    "import tifffile\n",
    "import os\n",
    "import cv2\n",
    "import numpy as np\n",
    "import seaborn_image as isns\n",
    "from cellpose import models\n",
    "from cellpose.io import imread\n",
    "import matplotlib.pyplot as plt\n",
    "\n",
    "from skimage.io import imread, imsave\n",
    "from skimage import exposure"
   ]
  },
  {
   "cell_type": "markdown",
   "id": "586bbec9-31b0-4d53-8ad9-01b1e289abc9",
   "metadata": {},
   "source": [
    "# Define basic information\n",
    "## Defining the working directory\n",
    "The base_dir should be the one where the folder image_data is"
   ]
  },
  {
   "cell_type": "code",
   "execution_count": 2,
   "id": "c3bd4939-1b1f-491d-aefe-0ae681fc8772",
   "metadata": {
    "execution": {
     "iopub.execute_input": "2023-10-24T12:43:23.589781Z",
     "iopub.status.busy": "2023-10-24T12:43:23.588972Z",
     "iopub.status.idle": "2023-10-24T12:43:23.604494Z",
     "shell.execute_reply": "2023-10-24T12:43:23.600924Z",
     "shell.execute_reply.started": "2023-10-24T12:43:23.589735Z"
    },
    "tags": []
   },
   "outputs": [],
   "source": [
    "base_dir = \"../Data\"\n",
    "project_name = \"SMP2023\""
   ]
  },
  {
   "cell_type": "code",
   "execution_count": 7,
   "id": "138c6296",
   "metadata": {
    "execution": {
     "iopub.execute_input": "2023-10-24T12:45:14.031930Z",
     "iopub.status.busy": "2023-10-24T12:45:14.031387Z",
     "iopub.status.idle": "2023-10-24T12:45:14.055205Z",
     "shell.execute_reply": "2023-10-24T12:45:14.053906Z",
     "shell.execute_reply.started": "2023-10-24T12:45:14.031888Z"
    },
    "tags": []
   },
   "outputs": [],
   "source": [
    "os. chdir(base_dir)\n",
    "imageData_dir = os.path.join(base_dir, project_name, \"image_data\")\n",
    "FOVs = os.listdir(imageData_dir)\n",
    "\n",
    "# This part then detects the subfolder like 'rescaled' \n",
    "FOVs = [item for item in FOVs if os.path.isdir(os.path.join(imageData_dir, item))]\n",
    "FOVs = sorted(FOVs)"
   ]
  },
  {
   "cell_type": "markdown",
   "id": "352b50c4-aa9c-4807-bbe2-7c6527a72834",
   "metadata": {},
   "source": [
    "## Defining the membrane channels\n",
    "These channels will be merged into a new channel *membrane_sum*\n",
    "- membrane_channels: a list of channel names\n",
    "- qt: a value between 0 and 1. qt is used to saturate the images. For example, a value of 0.99 will rescale all pixels linearly to make the 99th quantile and above the maximum "
   ]
  },
  {
   "cell_type": "code",
   "execution_count": 9,
   "id": "eccc717a-8ff9-4847-ba51-05971b804c1d",
   "metadata": {
    "execution": {
     "iopub.execute_input": "2023-10-24T12:50:44.944533Z",
     "iopub.status.busy": "2023-10-24T12:50:44.943996Z",
     "iopub.status.idle": "2023-10-24T12:50:44.950504Z",
     "shell.execute_reply": "2023-10-24T12:50:44.949354Z",
     "shell.execute_reply.started": "2023-10-24T12:50:44.944493Z"
    },
    "tags": []
   },
   "outputs": [],
   "source": [
    "membrane_channels = ['membrane','GLUT1','ASCT2']\n",
    "nuclei_channel = ['nuclei']\n"
   ]
  },
  {
   "cell_type": "markdown",
   "id": "28ea63c1-fd19-4203-aebe-e9a5a34d7f5f",
   "metadata": {},
   "source": [
    "## Image normalization and image generation \n",
    "\n",
    "Here each channels defined above will be normalized by a user defined quantile `qt` per image. Everything above `qt` we be set to `qt`.\n",
    "Normalized channels will then be combined and the combined channels will be normalized again in the same way."
   ]
  },
  {
   "cell_type": "code",
   "execution_count": null,
   "id": "24a1c65b-e448-4823-a635-8736aeaa2e24",
   "metadata": {},
   "outputs": [],
   "source": [
    "qt = 0.9965 # user-defined quantile"
   ]
  },
  {
   "cell_type": "code",
   "execution_count": 74,
   "id": "90e8bd30",
   "metadata": {
    "execution": {
     "iopub.execute_input": "2023-10-24T14:00:23.031751Z",
     "iopub.status.busy": "2023-10-24T14:00:23.030469Z",
     "iopub.status.idle": "2023-10-24T14:01:07.453137Z",
     "shell.execute_reply": "2023-10-24T14:01:07.451958Z",
     "shell.execute_reply.started": "2023-10-24T14:00:23.031635Z"
    },
    "tags": []
   },
   "outputs": [],
   "source": [
    "targetDir = os.path.join(base_dir, project_name, 'cellpose_input')\n",
    "\n",
    "os.makedirs(targetDir, exist_ok=True)\n",
    "\n",
    "for oneFOV in FOVs:\n",
    "    folderPath = os.path.join(imageData_dir, oneFOV)\n",
    "    files = os.listdir(folderPath)\n",
    "\n",
    "    for k, ch in enumerate(membrane_channels):\n",
    "        img = tifffile.imread(os.path.join(folderPath, ch + '.tiff'))\n",
    "        if k == 0:\n",
    "            dim = np.shape(img)\n",
    "            membrane_sum = np.zeros(tuple([1]) + dim, dtype=np.uint8)\n",
    "        q = np.quantile(img, qt)\n",
    "        img = exposure.rescale_intensity(img, in_range=(0, q))\n",
    "        membrane_sum = np.concatenate((membrane_sum, img[None,...]))\n",
    "\n",
    "    # max intensity projection\n",
    "    membrane_sum = np.max(membrane_sum, axis=0)\n",
    "    \n",
    "    q = np.quantile(membrane_sum,qt)\n",
    "    membrane_sum_normalized = exposure.rescale_intensity(membrane_sum, in_range=(0, q))\n",
    "    #membrane_sum_normalized = exposure.exposure.equalize_hist(membrane_sum_normalized)\n",
    "\n",
    "    # Change the Nucleus tiff file here if it is named differently\n",
    "    for k, ch in enumerate(nuclei_channel):\n",
    "        img = tifffile.imread(os.path.join(folderPath, ch + '.tiff'))\n",
    "\n",
    "        if k == 0:\n",
    "            dim = np.shape(img)\n",
    "            nu_sum = np.zeros(tuple([1]) + dim, dtype=np.uint8)\n",
    "        q = np.quantile(img, qt)\n",
    "        img = exposure.rescale_intensity(img, in_range=(0, q))\n",
    "        nu_sum = np.concatenate((nu_sum, img[None,...]))\n",
    "\n",
    "    # max intensity projection\n",
    "    nu_sum = np.max(nu_sum, axis=0)\n",
    "    \n",
    "    q = np.quantile(nu_sum,qt)\n",
    "    nu_sum[nu_sum > q] = q\n",
    "    nu_sum_normalized = exposure.rescale_intensity(nu_sum, in_range=(0, q))\n",
    "    #nu_sum_normalized = exposure.exposure.equalize_hist(nu_sum_normalized)\n",
    "\n",
    "    os.makedirs(targetDir, exist_ok=True)\n",
    "    cell = np.stack((nu_sum_normalized, membrane_sum_normalized), axis = 0)\n",
    "    tifffile.imwrite(os.path.join(targetDir, oneFOV + '_membrane_sum_proc.tiff'), membrane_sum_normalized, shape=membrane_sum_normalized.shape)\n",
    "    tifffile.imwrite(os.path.join(targetDir, oneFOV + '_nuclei_channel_proc.tiff'), nu_sum_normalized, shape=nu_sum_normalized.shape)\n",
    "    # 2023.08.05: now the \"cell\" will not appear in the file name anymore\n",
    "    tifffile.imwrite(os.path.join(targetDir, oneFOV + '.tiff'), cell, shape=cell.shape)"
   ]
  },
  {
   "cell_type": "code",
   "execution_count": 6,
   "id": "d37d40c1-b749-4f70-b908-731dd6489eb3",
   "metadata": {
    "tags": []
   },
   "outputs": [
    {
     "data": {
      "image/png": "[encoded data removed]",
      "text/plain": [
       "<Figure size 640x480 with 2 Axes>"
      ]
     },
     "metadata": {},
     "output_type": "display_data"
    }
   ],
   "source": [
    "isns.set_context(\"notebook\")\n",
    "# change image related settings\n",
    "isns.set_image(cmap=\"gray\", despine=True)  # set the colormap and despine the axes\n",
    "isns.set_scalebar(color=\"white\")  # change scalebar color\n",
    "# image with a scalebar\n",
    "\n",
    "ax = isns.imgplot(membrane_sum_normalized, dx=0.39, units=\"um\")"
   ]
  },
  {
   "cell_type": "markdown",
   "id": "68a24665-d80f-4059-9bfa-f3af9a81ee0b",
   "metadata": {},
   "source": [
    "## Segmentation\n",
    ">**WARNING: the imsave() part has not been tested!**\n",
    "\n",
    "The mean cell diameter is a key parameter to optimal segmentation. However, from my experience, the estimated diameter provided by Cellpose is not working well. Therefore, I came up with this idea to minimize the difference between the mean diameter we put and the mean diameter of the final masks. This is currently simply done by trying a couple of different diameters.\n",
    "\n",
    "### Options for the segmentation\n",
    "- which_to_segment: a two-element array. The two elements correspond to *whole cell* and *nuclei*\n",
    "- model_type: a string that corresponds to the pre-trained models Cellpose supplied\n",
    "- dia: defining the range of diameters to be tested in pixels\n",
    "- cellprob_threshold: a value between -6 and 6, the smaller the more ROIs you get\n",
    "- flow_threshold: a value, the higher the more ROIs you get. 0 means keeping all the masks\n",
    "\n",
    "Check out https://cellpose.readthedocs.io/en/latest/settings.html#settings for more details"
   ]
  },
  {
   "cell_type": "code",
   "execution_count": 13,
   "id": "e22a198e-5857-4306-a978-2abca1046501",
   "metadata": {
    "tags": []
   },
   "outputs": [],
   "source": [
    "which_to_segment = [True, True]\n",
    "model_folder = '/omics/groups/OE0622/internal/cellpose/models'\n",
    "model_type = 'TN2'\n",
    "dia = range(15,50,5)\n",
    "pxSize = 100\n",
    "keywords = ['CB','CSL']\n",
    "cellprob_threshold = -6\n",
    "flow_threshold = 0"
   ]
  },
  {
   "cell_type": "code",
   "execution_count": 14,
   "id": "1ee30813-b6e9-400a-a0ea-a569e208355b",
   "metadata": {
    "tags": []
   },
   "outputs": [],
   "source": [
    "# This is the actual part of the segmentation\n",
    "pxFactor = round(500/pxSize)\n",
    "\n",
    "# Load the respective models\n",
    "model = models.CellposeModel(pretrained_model=os.path.join(model_folder, model_type))\n",
    "model_nu = models.CellposeModel(pretrained_model=os.path.join(model_folder, 'nucleitorch_0'))\n",
    "\n",
    "# Looping through all the FOVs\n",
    "srcDir = os.path.join(base_dir, 'cellpose_input')\n",
    "targetDir = os.path.join(base_dir, 'cellpose_output')\n",
    "\n",
    "os.makedirs(targetDir, exist_ok=True)\n",
    "\n",
    "# reading an image\n",
    "idx_min = np.zeros(len(keywords), dtype = 'uint32')\n",
    "\n",
    "firstFOV_with_keyword = []\n",
    "# Check if fov contains all keywords\n",
    "for keyword in keywords:\n",
    "    for k, FOV in enumerate(FOVs):\n",
    "        if keyword in FOV:\n",
    "            firstFOV_with_keyword.append(k)\n",
    "            break\n"
   ]
  },
  {
   "cell_type": "code",
   "execution_count": 15,
   "id": "c6f653d3-7655-4ff8-ad43-cfd99744ba0c",
   "metadata": {},
   "outputs": [],
   "source": [
    "for k, keyword in enumerate(keywords):\n",
    "    if which_to_segment[0]:\n",
    "        oneFOV = FOVs[firstFOV_with_keyword[k-1]]\n",
    "        imgs = imread(srcDir + '/' + oneFOV + '.tiff')\n",
    "        dim = np.shape(imgs)\n",
    "    \n",
    "        nCell = []\n",
    "        dia_result = []\n",
    "        masks = []\n",
    "\n",
    "        # trying a couple of diameters\n",
    "        for diai in dia:\n",
    "\n",
    "            # segmenting\n",
    "            mask, flow, style = model.eval(imgs, diameter=diai*pxFactor, channels=[2,1], flow_threshold=flow_threshold, cellprob_threshold = cellprob_threshold, do_3D=False)\n",
    "            mask = np.reshape(mask, (1,)+ dim[1:3])\n",
    "            imsave(os.path.join(targetDir, oneFOV + '_whole_cell_dia_${:.0f}px.tiff'.format(diai*pxFactor)), mask, check_contrast=False)\n",
    "\n",
    "            if len(masks)==0:\n",
    "                masks = mask\n",
    "            else:\n",
    "                masks = np.concatenate((masks, mask), axis = 0)\n",
    "\n",
    "            cellID, pixels_per_cell = np.unique(mask, return_counts=True)\n",
    "            pixels_per_cell = pixels_per_cell[1:]\n",
    "            meanArea = pixels_per_cell.mean()\n",
    "            r = (meanArea/np.pi)**0.5\n",
    "            dia_result.append(r*2)\n",
    "            nCell.append(len(pixels_per_cell))\n",
    "\n",
    "        # take the best match as the final output\n",
    "        idx_min[k] = np.argmin(np.abs(np.array(dia_result)-np.array([x * pxFactor for x in dia])))\n"
   ]
  },
  {
   "cell_type": "code",
   "execution_count": 16,
   "id": "f26f7e3a-94e2-479d-825d-774e2da948a0",
   "metadata": {},
   "outputs": [],
   "source": [
    "for oneFOV in FOVs:\n",
    "    \n",
    "    # reading an image\n",
    "    imgs = imread(srcDir + '/' + oneFOV + '.tiff')\n",
    "    dim = np.shape(imgs)\n",
    "\n",
    "    if which_to_segment[0]:\n",
    "        nCell = []\n",
    "        dia_result = []\n",
    "        masks = []\n",
    "\n",
    "        # trying a couple of diameters\n",
    "        for i, keyword in enumerate(keywords):\n",
    "            if keyword in oneFOV:\n",
    "                diai = dia[idx_min[i]]\n",
    "                break\n",
    "            \n",
    "        # segmenting\n",
    "        mask, flow, style = model.eval(imgs, diameter=diai*pxFactor, channels=[2,1],\n",
    "                                             flow_threshold=flow_threshold, cellprob_threshold = cellprob_threshold, do_3D=False)\n",
    "        mask = np.reshape(mask, (1,)+ dim[1:3])\n",
    "        imsave(os.path.join(targetDir, oneFOV + '_whole_cell.tiff'), mask, check_contrast=False)\n",
    "        \n",
    "    if which_to_segment[1]:\n",
    "        # For nuclei\n",
    "        mask_nu, flow_nu, style_nu = model_nu.eval(imgs, diameter=15*pxFactor, channels=[1,0],\n",
    "                                             flow_threshold=0, cellprob_threshold = -6, do_3D=False)\n",
    "        mask_nu = np.reshape(mask_nu,(1,) + dim[1:3])\n",
    "        imsave(os.path.join(targetDir, oneFOV + '_nuclear.tiff'), mask_nu, check_contrast=False)"
   ]
  },
  {
   "cell_type": "code",
   "execution_count": null,
   "id": "3aa9d684-282f-4903-9600-859a96958980",
   "metadata": {},
   "outputs": [],
   "source": []
  }
 ],
 "metadata": {
  "kernelspec": {
   "display_name": "Python [conda env:cellpose]",
   "language": "python",
   "name": "conda-env-cellpose-py"
  },
  "language_info": {
   "codemirror_mode": {
    "name": "ipython",
    "version": 3
   },
   "file_extension": ".py",
   "mimetype": "text/x-python",
   "name": "python",
   "nbconvert_exporter": "python",
   "pygments_lexer": "ipython3",
   "version": "3.8.18"
  }
 },
 "nbformat": 4,
 "nbformat_minor": 5
}
