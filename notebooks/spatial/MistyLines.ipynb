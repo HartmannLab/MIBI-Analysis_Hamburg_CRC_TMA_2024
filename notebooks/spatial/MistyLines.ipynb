{
 "cells": [
  {
   "cell_type": "markdown",
   "metadata": {},
   "source": [
    "# Use Kasumi (MISTy with sliding windows) on MIBI data"
   ]
  },
  {
   "cell_type": "markdown",
   "metadata": {},
   "source": [
    "## Imports"
   ]
  },
  {
   "cell_type": "code",
   "execution_count": null,
   "metadata": {
    "vscode": {
     "languageId": "r"
    }
   },
   "outputs": [],
   "source": [
    "library(mistyR)\n",
    "library(tidyverse)\n",
    "library(future)\n",
    "library(proxy)\n",
    "library(withr)\n",
    "library(igraph)\n",
    "library(ggplot2)"
   ]
  },
  {
   "cell_type": "code",
   "execution_count": null,
   "metadata": {
    "vscode": {
     "languageId": "r"
    }
   },
   "outputs": [],
   "source": [
    "# Load your transformed cell table\n",
    "cells = read_csv(\"../../data/cell_table_with_types_stage.csv\")\n",
    "head(cells)"
   ]
  },
  {
   "cell_type": "code",
   "execution_count": null,
   "metadata": {
    "vscode": {
     "languageId": "r"
    }
   },
   "outputs": [],
   "source": [
    "# Exclude bad image and SCT samples (start with \"E1\" or \"E2\")\n",
    "cells <- cells %>% \n",
    "    filter(fov != \"C6h\") %>%\n",
    "    filter(!grepl(\"^E[1-2]\", fov))"
   ]
  },
  {
   "cell_type": "code",
   "execution_count": null,
   "metadata": {
    "vscode": {
     "languageId": "r"
    }
   },
   "outputs": [],
   "source": [
    "# Drop cells with \"Unclear\" label\n",
    "# Note that we use a fixed radius in the MISTy views, so removing\n",
    "# these cells should not affect the interactions between annotated cells\n",
    "cells <- cells %>% filter(annotation_consensus != \"Unclear\")"
   ]
  },
  {
   "cell_type": "code",
   "execution_count": null,
   "metadata": {
    "vscode": {
     "languageId": "r"
    }
   },
   "outputs": [],
   "source": [
    "# Convert cells$Lineage to one-hot encoded columns\n",
    "cells_one_hot <- cells %>%\n",
    "  mutate(id = \"...1\") %>%  # Add an ID column to keep track of rows\n",
    "  pivot_wider(names_from = annotation_consensus, values_from = annotation_consensus, values_fill = list(annotation_consensus = 0), values_fn = list(annotation_consensus = length)) %>%\n",
    "  select(-id) %>% # Remove the ID column\n",
    "  rename_with(~ gsub(\" \", \"_\", .))  # Replace spaces with underscores in column names"
   ]
  },
  {
   "cell_type": "code",
   "execution_count": null,
   "metadata": {
    "vscode": {
     "languageId": "r"
    }
   },
   "outputs": [],
   "source": [
    "paraview_l <- 100 # Distance in pixels up to which an effect will be considered in the paraview\n",
    "juxtaview_l <- 40 # Distance in pixels up to which a cell is considered a direct neighbor\n",
    "panel = unique(cells$annotation_consensus)\n",
    "outputfile = \"misty_colorectal_lineage_multiview_no_unclear.sqm\""
   ]
  },
  {
   "cell_type": "code",
   "execution_count": null,
   "metadata": {
    "vscode": {
     "languageId": "r"
    }
   },
   "outputs": [],
   "source": [
    "# Expected data is a list of tibbles with each one containing the marker expressions (columns) per cell (rows) for a fov\n",
    "markers <- cells_one_hot %>% group_by(fov) %>% select(all_of(panel)) %>% group_split(.keep = FALSE)"
   ]
  },
  {
   "cell_type": "code",
   "execution_count": null,
   "metadata": {
    "vscode": {
     "languageId": "r"
    }
   },
   "outputs": [],
   "source": [
    "# Coordinates of each cell\n",
    "positions <- cells_one_hot %>% group_by(fov) %>% select(c(\"centroid-0\", \"centroid-1\")) %>% group_split(.keep = FALSE)"
   ]
  },
  {
   "cell_type": "code",
   "execution_count": null,
   "metadata": {
    "vscode": {
     "languageId": "r"
    }
   },
   "outputs": [],
   "source": [
    "# Extract the names of the FOVs in the same order as the markers and positions tables\n",
    "fov_names <- cells_one_hot %>% group_by(fov) %>% summarise(fov = first(fov)) %>% pull(fov)"
   ]
  },
  {
   "cell_type": "code",
   "execution_count": null,
   "metadata": {
    "vscode": {
     "languageId": "r"
    }
   },
   "outputs": [],
   "source": [
    "outputs <- seq_along(markers) %>% walk(\n",
    "    function(i) {\n",
    "    misty.views <- create_initial_view(markers[[i]]) %>%\n",
    "        add_paraview(positions[[i]], paraview_l,\n",
    "            family = \"gaussian\", cached = TRUE,\n",
    "            prefix = \"p.\"\n",
    "        ) %>%\n",
    "        add_juxtaview(positions[[i]], juxtaview_l,\n",
    "            prefix = \"l.\"\n",
    "        )\n",
    "\n",
    "    folders <- run_misty(misty.views,\n",
    "        sample.id = fov_names[i],\n",
    "        results.db = outputfile,\n",
    "        bypass.intra = TRUE,\n",
    "        cv.strict = FALSE,\n",
    "        sqlite_timeout = 10000\n",
    "    )})"
   ]
  },
  {
   "cell_type": "code",
   "execution_count": null,
   "metadata": {
    "vscode": {
     "languageId": "r"
    }
   },
   "outputs": [],
   "source": [
    "misty.results <- collect_results(outputfile)"
   ]
  },
  {
   "cell_type": "code",
   "execution_count": null,
   "metadata": {
    "vscode": {
     "languageId": "r"
    }
   },
   "outputs": [],
   "source": [
    "plot_view_contributions(misty.results)"
   ]
  },
  {
   "cell_type": "code",
   "execution_count": null,
   "metadata": {
    "vscode": {
     "languageId": "r"
    }
   },
   "outputs": [],
   "source": [
    "plot_improvement_stats(misty.results)"
   ]
  },
  {
   "cell_type": "code",
   "execution_count": null,
   "metadata": {
    "vscode": {
     "languageId": "r"
    }
   },
   "outputs": [],
   "source": [
    "plot_interaction_communities(misty.results, view = \"juxtaview.40\")"
   ]
  },
  {
   "cell_type": "code",
   "execution_count": null,
   "metadata": {
    "vscode": {
     "languageId": "r"
    }
   },
   "outputs": [],
   "source": [
    "plot_interaction_communities(misty.results, view = \"paraview.100\")"
   ]
  },
  {
   "cell_type": "code",
   "execution_count": null,
   "metadata": {
    "vscode": {
     "languageId": "r"
    }
   },
   "outputs": [],
   "source": [
    "plot_interaction_heatmap(misty.results, view = \"paraview.100\")"
   ]
  },
  {
   "cell_type": "code",
   "execution_count": null,
   "metadata": {
    "vscode": {
     "languageId": "r"
    }
   },
   "outputs": [],
   "source": [
    "plot_interaction_heatmap(misty.results, \"paraview.100\", clean = TRUE, correlation = TRUE)"
   ]
  },
  {
   "cell_type": "code",
   "execution_count": null,
   "metadata": {
    "vscode": {
     "languageId": "r"
    }
   },
   "outputs": [],
   "source": [
    "plot_interaction_heatmap(misty.results, view = \"juxtaview.40\")"
   ]
  },
  {
   "cell_type": "code",
   "execution_count": null,
   "metadata": {
    "vscode": {
     "languageId": "r"
    }
   },
   "outputs": [],
   "source": [
    "plot_interaction_heatmap(misty.results, \"juxtaview.40\", clean = TRUE, correlation = TRUE)"
   ]
  },
  {
   "cell_type": "markdown",
   "metadata": {
    "vscode": {
     "languageId": "r"
    }
   },
   "source": [
    "## Split between cancer and healthy samples"
   ]
  },
  {
   "cell_type": "code",
   "execution_count": null,
   "metadata": {
    "vscode": {
     "languageId": "r"
    }
   },
   "outputs": [],
   "source": [
    "library(DBI)\n",
    "library(RSQLite)\n",
    "library(dplyr)"
   ]
  },
  {
   "cell_type": "code",
   "execution_count": null,
   "metadata": {
    "vscode": {
     "languageId": "r"
    }
   },
   "outputs": [],
   "source": [
    "describe_sample_type <- function(dbfile, is_healthy = TRUE) {\n",
    "  # Get all samples\n",
    "  dbcon <- dbConnect(RSQLite::SQLite(), dbfile)\n",
    "  samples <- dbGetQuery(dbcon, \"SELECT DISTINCT sample FROM contributions\") %>% \n",
    "    unlist()\n",
    "  dbDisconnect(dbcon)\n",
    "  \n",
    "  # Create pattern based on sample type\n",
    "  pattern <- if(is_healthy) {\n",
    "    # Match E3 or E4 prefix\n",
    "    paste0(\"(\", paste0(\n",
    "      grep(\"^(E3|E4)\", samples, value = TRUE),\n",
    "      collapse = \"|\"\n",
    "    ), \")\")\n",
    "  } else {\n",
    "    # Match anything not starting with E3 or E4\n",
    "    paste0(\"(\", paste0(\n",
    "      grep(\"^(?!(E3|E4))\", samples, value = TRUE, perl = TRUE),\n",
    "      collapse = \"|\"\n",
    "    ), \")\")\n",
    "  }\n",
    "  \n",
    "  # Collect filtered results\n",
    "  collect_results(dbfile, pattern)\n",
    "}"
   ]
  },
  {
   "cell_type": "code",
   "execution_count": null,
   "metadata": {
    "vscode": {
     "languageId": "r"
    }
   },
   "outputs": [],
   "source": [
    "healthy_results <- describe_sample_type(outputfile, is_healthy = TRUE)"
   ]
  },
  {
   "cell_type": "code",
   "execution_count": null,
   "metadata": {
    "vscode": {
     "languageId": "r"
    }
   },
   "outputs": [],
   "source": [
    "plot_view_contributions(healthy_results)\n",
    "ggsave(filename = \"../../figures/fig4/misty_lineage_healthy_contrib.pdf\", \n",
    "        dpi = 300)"
   ]
  },
  {
   "cell_type": "code",
   "execution_count": null,
   "metadata": {
    "vscode": {
     "languageId": "r"
    }
   },
   "outputs": [],
   "source": [
    "tumor_results <- describe_sample_type(outputfile, is_healthy = FALSE)"
   ]
  },
  {
   "cell_type": "code",
   "execution_count": null,
   "metadata": {
    "vscode": {
     "languageId": "r"
    }
   },
   "outputs": [],
   "source": [
    "plot_view_contributions(tumor_results)\n",
    "ggsave(filename = \"../../figures/fig4/misty_lineage_tumor_contrib.pdf\", \n",
    "        dpi = 300)"
   ]
  },
  {
   "cell_type": "code",
   "execution_count": null,
   "metadata": {
    "vscode": {
     "languageId": "r"
    }
   },
   "outputs": [],
   "source": [
    "plot_improvement_stats(healthy_results)\n",
    "ggsave(filename = \"../../figures/fig4/misty_lineage_healthy_improvements.pdf\", dpi = 300)"
   ]
  },
  {
   "cell_type": "code",
   "execution_count": null,
   "metadata": {
    "vscode": {
     "languageId": "r"
    }
   },
   "outputs": [],
   "source": [
    "pdf(\"../../figures/fig4/misty_lineage_healthy_para_net.pdf\")\n",
    "plot_interaction_communities(healthy_results, view = \"paraview.100\")\n",
    "dev.off()"
   ]
  },
  {
   "cell_type": "code",
   "execution_count": null,
   "metadata": {
    "vscode": {
     "languageId": "r"
    }
   },
   "outputs": [],
   "source": [
    "pdf(\"../../figures/fig4/misty_lineage_healthy_juxta_net.pdf\")\n",
    "plot_interaction_communities(healthy_results, view = \"juxtaview.40\")\n",
    "dev.off()"
   ]
  },
  {
   "cell_type": "code",
   "execution_count": null,
   "metadata": {
    "vscode": {
     "languageId": "r"
    }
   },
   "outputs": [],
   "source": [
    "plot_interaction_heatmap(healthy_results, \"juxtaview.40\", clean = TRUE, correlation = TRUE)\n",
    "plot_interaction_heatmap(healthy_results, \"paraview.100\", clean = TRUE, correlation = TRUE)\n",
    "ggsave(filename = \"../../figures/fig4/misty_lineage_healthy_para_heatmap.pdf\", \n",
    "        dpi = 300)"
   ]
  },
  {
   "cell_type": "code",
   "execution_count": null,
   "metadata": {
    "vscode": {
     "languageId": "r"
    }
   },
   "outputs": [],
   "source": [
    "plot_improvement_stats(tumor_results)\n",
    "ggsave(filename = \"../../figures/fig4/misty_lineage_tumor_improvements.pdf\", dpi = 300)"
   ]
  },
  {
   "cell_type": "code",
   "execution_count": null,
   "metadata": {
    "vscode": {
     "languageId": "r"
    }
   },
   "outputs": [],
   "source": [
    "pdf(\"../../figures/fig4/misty_lineage_tumor_para_net.pdf\")\n",
    "plot_interaction_communities(tumor_results, view = \"paraview.100\")\n",
    "dev.off()"
   ]
  },
  {
   "cell_type": "code",
   "execution_count": null,
   "metadata": {
    "vscode": {
     "languageId": "r"
    }
   },
   "outputs": [],
   "source": [
    "pdf(\"../../figures/fig4/misty_lineage_tumor_juxta_net.pdf\")\n",
    "plot_interaction_communities(tumor_results, view = \"juxtaview.40\")\n",
    "dev.off()"
   ]
  },
  {
   "cell_type": "code",
   "execution_count": null,
   "metadata": {
    "vscode": {
     "languageId": "r"
    }
   },
   "outputs": [],
   "source": [
    "plot_interaction_heatmap(tumor_results, \"paraview.100\", clean = TRUE, correlation = TRUE)\n",
    "plot_interaction_heatmap(tumor_results, \"juxtaview.40\", clean = TRUE, correlation = TRUE)"
   ]
  }
 ],
 "metadata": {
  "kernelspec": {
   "display_name": "Kasumi",
   "language": "R",
   "name": "kasumi"
  },
  "language_info": {
   "codemirror_mode": "r",
   "file_extension": ".r",
   "mimetype": "text/x-r-source",
   "name": "R",
   "pygments_lexer": "r",
   "version": "4.3.3"
  }
 },
 "nbformat": 4,
 "nbformat_minor": 2
}
