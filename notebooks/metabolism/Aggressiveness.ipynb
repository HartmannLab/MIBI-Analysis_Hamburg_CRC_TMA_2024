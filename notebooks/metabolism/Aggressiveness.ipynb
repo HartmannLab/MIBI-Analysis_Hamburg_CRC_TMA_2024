{
 "cells": [
  {
   "cell_type": "markdown",
   "metadata": {},
   "source": [
    "# Explore Ki67 as proxy of aggressiveness"
   ]
  },
  {
   "cell_type": "code",
   "execution_count": null,
   "metadata": {},
   "outputs": [],
   "source": [
    "import os\n",
    "import numpy as np\n",
    "import anndata as ad\n",
    "import pandas as pd\n",
    "import scanpy as sc\n",
    "from plotnine import *"
   ]
  },
  {
   "cell_type": "code",
   "execution_count": null,
   "metadata": {},
   "outputs": [],
   "source": [
    "adata = ad.read_h5ad('../../data/adata_consensus_cell_types.h5ad')"
   ]
  },
  {
   "cell_type": "code",
   "execution_count": null,
   "metadata": {},
   "outputs": [],
   "source": [
    "clini = pd.read_csv(\"../../data/summary_clinical_data_modified.csv\", index_col=2)\n",
    "adata.obs = adata.obs.merge(clini, left_on=\"fov\", right_index=True, how=\"left\")\n",
    "adata.obs[\"Stage\"] = adata.obs[\"pT group\"]\n",
    "# # E1 and E2 samples are annotated 'SCT' while E3 and E4 are 'Colon-no.'\n",
    "adata.obs.loc[adata.obs.fov.str.contains(\"E4\"), \"Stage\"] = \"Colon-no.\"\n",
    "adata.obs.loc[adata.obs.fov.str.contains(\"E3\"), \"Stage\"] = \"Colon-no.\"\n",
    "adata.obs.loc[adata.obs.fov.str.contains(\"E2\"), \"Stage\"] = \"SCT\"\n",
    "adata.obs.loc[adata.obs.fov.str.contains(\"E1\"), \"Stage\"] = \"SCT\""
   ]
  },
  {
   "cell_type": "markdown",
   "metadata": {},
   "source": [
    "We want a DataFrame with, for each cancer cell, the corresponding FOV, pT stage, Ki67 level."
   ]
  },
  {
   "cell_type": "code",
   "execution_count": null,
   "metadata": {},
   "outputs": [],
   "source": [
    "df = adata[adata.obs[\"annotation_consensus\"] == \"Cancer_cell\"].obs.loc[:,[\"fov\", \"Ki67\", 'Stage']]\n",
    "# Drop rows with missing Stage values\n",
    "df = df.loc[~df.Stage.isna(), :]"
   ]
  },
  {
   "cell_type": "code",
   "execution_count": null,
   "metadata": {},
   "outputs": [],
   "source": [
    "ggplot(df, aes(x=\"Stage\", y=\"Ki67\")) +\\\n",
    "    geom_violin(aes(fill = \"Stage\"), style=\"right\", scale=\"width\", width = 1.25) +\\\n",
    "    stat_summary(fun_y=np.median, geom='point', color='white', size=2) +\\\n",
    "    theme_classic() +\\\n",
    "    theme(axis_text_x=element_text(rotation=90, hjust=1)) +\\\n",
    "    coord_flip() +\\\n",
    "    ylim(0,0.5)"
   ]
  },
  {
   "cell_type": "markdown",
   "metadata": {},
   "source": [
    "## Compare metabolism of Ki67hi and Ki67lo cancer cells"
   ]
  },
  {
   "cell_type": "code",
   "execution_count": null,
   "metadata": {},
   "outputs": [],
   "source": [
    "df = pd.DataFrame(adata[(adata.obs[\"annotation_consensus\"] == \"Cancer_cell\") &\n",
    "           (adata.obs[\"Stage\"] != \"SCT\") &\n",
    "           (adata.obs[\"Stage\"] != \"Colon-no.\")].obs)"
   ]
  },
  {
   "cell_type": "code",
   "execution_count": null,
   "metadata": {},
   "outputs": [],
   "source": [
    "agg_low = np.percentile(df[\"Ki67\"], 20)\n",
    "agg_hi = np.percentile(df[\"Ki67\"], 80)\n",
    "\n",
    "df[\"Aggressiveness\"] = [\"High\" if x > agg_hi else \"Low\" if x < agg_low else \"Intermediate\" for x in df[\"Ki67\"]]"
   ]
  },
  {
   "cell_type": "code",
   "execution_count": null,
   "metadata": {},
   "outputs": [],
   "source": [
    "df[\"PanCK\"] = adata[(adata.obs[\"annotation_consensus\"] == \"Cancer_cell\") &\n",
    "    (adata.obs[\"Stage\"] != \"SCT\") &\n",
    "    (adata.obs[\"Stage\"] != \"Colon-no.\")].X[:,adata.var_names == \"PanCK\"].flatten().tolist()"
   ]
  },
  {
   "cell_type": "code",
   "execution_count": null,
   "metadata": {},
   "outputs": [],
   "source": [
    "all_metab_col = ['CA9', 'CD98', 'CytC', 'MSH2', 'MCT1', 'ASCT2',\n",
    "       'LDH', 'GS', 'GLS', 'ATP5A', 'CS', 'PKM2', 'GLUT1', 'MSH6', 'ARG1', 'CPT1A']\n",
    "meta_col = [\"Aggressiveness\", \"Stage\", \"fov\"]"
   ]
  },
  {
   "cell_type": "code",
   "execution_count": null,
   "metadata": {},
   "outputs": [],
   "source": [
    "# Display violin plots of metabolic marker intensity per cell\n",
    "# Split by aggressiveness (low = right violin, high = left violin)\n",
    "\n",
    "# Convert to long format\n",
    "df_long = pd.melt(df.loc[:,all_metab_col+meta_col], id_vars=meta_col, value_vars=all_metab_col)\n",
    "\n",
    "gp = ggplot(df_long, aes(x=\"variable\", y=\"value\")) +\\\n",
    "    geom_violin(data = df_long.loc[df_long.Aggressiveness == \"Low\",:], \n",
    "                fill = \"#7fc980\", \n",
    "                style=\"right\", \n",
    "                scale=\"width\", \n",
    "                width = 1) +\\\n",
    "    geom_violin(data = df_long.loc[df_long.Aggressiveness == \"High\",:], \n",
    "                fill = \"#beaed4\", \n",
    "                style=\"left\", \n",
    "                scale=\"width\", \n",
    "                width = 1) +\\\n",
    "    stat_summary(data = df_long.loc[df_long.Aggressiveness != \"Intermediate\",:], \n",
    "                 mapping = aes(fill = \"Aggressiveness\"),\n",
    "                 fun_y=np.median, geom='point', color='white', \n",
    "                 size=2) +\\\n",
    "    scale_fill_manual(values = [\"#beaed4\", \"#7fc980\"]) +\\\n",
    "    theme_classic() +\\\n",
    "    coord_flip() +\\\n",
    "    ylab(\"Normalized intensity\") +\\\n",
    "    xlab(\"Protein\") +\\\n",
    "    ylim(0,1)\n",
    "\n",
    "ggsave(gp, \"../../figures/fig3/intensity_ki67_cancer.pdf\", width = 6, height = 4)\n",
    "gp"
   ]
  },
  {
   "cell_type": "code",
   "execution_count": null,
   "metadata": {},
   "outputs": [],
   "source": [
    "df.Aggressiveness.value_counts()"
   ]
  },
  {
   "cell_type": "code",
   "execution_count": null,
   "metadata": {},
   "outputs": [],
   "source": [
    "# Repeat for healthy stage\n",
    "df = pd.DataFrame(adata[(adata.obs[\"annotation_consensus\"] == \"Cancer_cell\") &\n",
    "           (adata.obs[\"Stage\"] == \"Colon-no.\")].obs)\n",
    "\n",
    "# Thresholds are kept identical\n",
    "df[\"Aggressiveness\"] = [\"High\" if x > agg_hi else \"Low\" if x < agg_low else \"Intermediate\" for x in df[\"Ki67\"]]\n",
    "\n",
    "df[\"PanCK\"] = adata[(adata.obs[\"annotation_consensus\"] == \"Cancer_cell\") &\n",
    "    (adata.obs[\"Stage\"] == \"Colon-no.\")].X[:,adata.var_names == \"PanCK\"].flatten().tolist()\n",
    "\n",
    "# Convert to long format\n",
    "df_long = pd.melt(df.loc[:,all_metab_col+meta_col], id_vars=meta_col, value_vars=all_metab_col)\n",
    "\n",
    "gp = ggplot(df_long, aes(x=\"variable\", y=\"value\")) +\\\n",
    "    geom_violin(data = df_long.loc[df_long.Aggressiveness == \"Low\",:], \n",
    "                fill = \"#7fc980\", \n",
    "                style=\"right\", \n",
    "                scale=\"width\", \n",
    "                width = 1) +\\\n",
    "    geom_violin(data = df_long.loc[df_long.Aggressiveness == \"High\",:], \n",
    "                fill = \"#beaed4\", \n",
    "                style=\"left\", \n",
    "                scale=\"width\", \n",
    "                width = 1) +\\\n",
    "    stat_summary(data = df_long.loc[df_long.Aggressiveness != \"Intermediate\",:], \n",
    "                 mapping = aes(fill = \"Aggressiveness\"),\n",
    "                 fun_y=np.median, geom='point', color='white', \n",
    "                 size=2) +\\\n",
    "    scale_fill_manual(values = [\"#beaed4\", \"#7fc980\"]) +\\\n",
    "    theme_classic() +\\\n",
    "    coord_flip() +\\\n",
    "    ylab(\"Normalized intensity\") +\\\n",
    "    xlab(\"Protein\") +\\\n",
    "    ylim(0,1)\n",
    "\n",
    "ggsave(gp, \"../../figures/fig3/intensity_ki67_healthy.pdf\", width = 6, height = 4)\n",
    "gp"
   ]
  },
  {
   "cell_type": "markdown",
   "metadata": {},
   "source": [
    "More changes in CPT1A, CytC and MCT1 in malignant cells than healthy?  \n",
    "Double check that the Ki67+ cells in healthy samples are truly healthy."
   ]
  },
  {
   "cell_type": "code",
   "execution_count": null,
   "metadata": {},
   "outputs": [],
   "source": [
    "df.Aggressiveness.value_counts()"
   ]
  },
  {
   "cell_type": "markdown",
   "metadata": {},
   "source": [
    "## Proportion of Ki67+ per sample"
   ]
  },
  {
   "cell_type": "code",
   "execution_count": null,
   "metadata": {},
   "outputs": [],
   "source": [
    "df = pd.DataFrame(adata[(adata.obs[\"annotation_consensus\"] == \"Cancer_cell\")].obs)\n",
    "\n",
    "# Check if Ki67 is higher than agg_hi\n",
    "df['high_Ki67'] = df['Ki67'] > agg_hi\n",
    "\n",
    "# Group by the fov column and compute the fraction of rows with high Ki67\n",
    "df_frac = pd.DataFrame({\"Fraction\": df.groupby('fov')['high_Ki67'].mean(),\n",
    "                       \"Stage\": df.groupby('fov')['Stage'].first()})\n",
    "\n",
    "ggplot(df_frac, aes(x=\"Stage\", y=\"Fraction\")) +\\\n",
    "    geom_violin(aes(fill = \"Stage\"), style=\"right\", scale=\"width\", width = 1.25) +\\\n",
    "    stat_summary(fun_y=np.median, geom='point', color='white', size=2) +\\\n",
    "    theme_classic() +\\\n",
    "    theme(axis_text_x=element_text(rotation=90, hjust=1)) +\\\n",
    "    coord_flip() +\\\n",
    "    ylim(0,1)"
   ]
  }
 ],
 "metadata": {
  "kernelspec": {
   "display_name": "pam-keras3",
   "language": "python",
   "name": "myenv"
  },
  "language_info": {
   "codemirror_mode": {
    "name": "ipython",
    "version": 3
   },
   "file_extension": ".py",
   "mimetype": "text/x-python",
   "name": "python",
   "nbconvert_exporter": "python",
   "pygments_lexer": "ipython3",
   "version": "3.11.9"
  }
 },
 "nbformat": 4,
 "nbformat_minor": 2
}
