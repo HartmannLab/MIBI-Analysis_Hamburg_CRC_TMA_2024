{
 "cells": [
  {
   "cell_type": "markdown",
   "metadata": {},
   "source": [
    "# Explore metabolism of cancer cells\n",
    "Corresponds to fig 3 and sfig 3 in draft."
   ]
  },
  {
   "cell_type": "code",
   "execution_count": null,
   "metadata": {},
   "outputs": [],
   "source": [
    "import os\n",
    "import numpy as np\n",
    "import anndata as ad\n",
    "import pandas as pd\n",
    "import scanpy as sc\n",
    "from plotnine import *"
   ]
  },
  {
   "cell_type": "code",
   "execution_count": null,
   "metadata": {},
   "outputs": [],
   "source": [
    "adata = ad.read_h5ad('../../data/adata_consensus_cell_types.h5ad')"
   ]
  },
  {
   "cell_type": "code",
   "execution_count": null,
   "metadata": {},
   "outputs": [],
   "source": [
    "all_functional_and_metab = ['CA9', 'CD98', 'CytC', 'MSH2', 'MCT1', 'ASCT2',\n",
    "       'LDH', 'STING1', 'GS', 'GLS', 'ATP5A', 'CS', 'PKM2', 'GLUT1', 'MSH6', 'ARG1', 'CPT1A', 'Ki67']"
   ]
  },
  {
   "cell_type": "code",
   "execution_count": null,
   "metadata": {},
   "outputs": [],
   "source": [
    "# Group rows by cell type and compute median expression\n",
    "df = adata.obs.loc[:,all_functional_and_metab]\n",
    "df[\"cell_type\"] = adata.obs[\"annotation_consensus\"].values\n",
    "df = df.groupby(\"cell_type\").median().T\n",
    "df = df.drop(\"Unclear\", axis=1)"
   ]
  },
  {
   "cell_type": "code",
   "execution_count": null,
   "metadata": {},
   "outputs": [],
   "source": [
    "from scipy.cluster.hierarchy import linkage, leaves_list\n",
    "# Perform hierarchical clustering\n",
    "row_linkage = linkage(df, method='complete')\n",
    "col_linkage = linkage(df.T, method='complete')\n",
    "\n",
    "# Get the order of rows and columns\n",
    "row_order = leaves_list(row_linkage)\n",
    "col_order = leaves_list(col_linkage)\n",
    "\n",
    "# Scale df values so that each row (abundance for a given marker) is between 0 and 1\n",
    "df = df.apply(lambda x: (x - np.min(x)) / (np.max(x) - np.min(x)), axis = 1)\n",
    "\n",
    "# Reorder the DataFrame\n",
    "df_reordered = df.iloc[row_order, :].iloc[:, col_order]\n",
    "\n",
    "# Reorder the DataFrame\n",
    "df_reordered = df.iloc[row_order, :].iloc[:, col_order]\n",
    "\n",
    "# Melt the DataFrame for plotnine\n",
    "df_melted = df_reordered.melt(ignore_index=False).reset_index()\n",
    "\n",
    "# Update the levels of the categorical variables to reflect the new order\n",
    "df_melted[\"index\"] = pd.Categorical(df_melted[\"index\"], categories=df_reordered.index, ordered=True)\n",
    "df_melted[\"cell_type\"] = pd.Categorical(df_melted[\"cell_type\"], categories=df_reordered.columns.to_list(), ordered=True)"
   ]
  },
  {
   "cell_type": "code",
   "execution_count": null,
   "metadata": {},
   "outputs": [],
   "source": [
    "# Display as heatmap\n",
    "gp = (\n",
    "    ggplot(df_melted, aes(x=\"index\", y=\"cell_type\")) \n",
    "    + geom_tile(aes(fill=\"value\")) \n",
    "    + theme_classic() \n",
    "    + theme(axis_text_x=element_text(angle=90)) \n",
    "    + labs(y=\"Cell type\", x=\"Marker\", fill=\"Median\\nabundance\") \n",
    "    # + coord_equal()\n",
    "    # Use reverted plasma color palette\n",
    "    + scale_fill_gradientn(colors = [\"#EFF822\", \"#CC4977\",\"#0F0782\"])\n",
    ")\n",
    "ggsave(gp, \"../../figures/fig3/heatmap_all_markers_scaled.png\", width = 6, height = 3.2)\n",
    "ggsave(gp, \"../../figures/fig3/heatmap_all_markers_scaled.pdf\", width = 6, height = 3.2)\n",
    "gp"
   ]
  },
  {
   "cell_type": "code",
   "execution_count": null,
   "metadata": {},
   "outputs": [],
   "source": [
    "# Repeat the analysis for each tumor stage\n",
    "clini = pd.read_csv(\"../../data/summary_clinical_data_modified.csv\", index_col=2)\n",
    "adata.obs = adata.obs.merge(clini, left_on=\"fov\", right_index=True, how=\"left\")"
   ]
  },
  {
   "cell_type": "code",
   "execution_count": null,
   "metadata": {},
   "outputs": [],
   "source": [
    "adata.obs[\"Stage\"] = adata.obs[\"pT group\"]\n",
    "# # E1 and E2 samples are annotated 'SCT' while E3 and E4 are 'Colon-no.'\n",
    "adata.obs.loc[adata.obs.fov.str.contains(\"E4\"), \"Stage\"] = \"Colon-no.\"\n",
    "adata.obs.loc[adata.obs.fov.str.contains(\"E3\"), \"Stage\"] = \"Colon-no.\"\n",
    "adata.obs.loc[adata.obs.fov.str.contains(\"E2\"), \"Stage\"] = \"SCT\"\n",
    "adata.obs.loc[adata.obs.fov.str.contains(\"E1\"), \"Stage\"] = \"SCT\""
   ]
  },
  {
   "cell_type": "code",
   "execution_count": null,
   "metadata": {},
   "outputs": [],
   "source": [
    "for stage in adata.obs['Stage'].unique():\n",
    "    if pd.isna(stage):\n",
    "        continue\n",
    "\n",
    "    df = adata.obs.loc[adata.obs['Stage'] == stage, all_functional_and_metab]\n",
    "    df[\"cell_type\"] = adata.obs.loc[adata.obs['Stage'] == stage, \"annotation_consensus\"].values\n",
    "    df = df.groupby(\"cell_type\").median().T\n",
    "    df = df.drop(\"Unclear\", axis=1)\n",
    "\n",
    "    # We keep the order of the markers and cell types from the previous analysis for consistency\n",
    "\n",
    "    # Scale df values so that each row (abundance for a given marker) is between 0 and 1\n",
    "    df = df.apply(lambda x: (x - np.min(x)) / (np.max(x) - np.min(x)), axis = 1)\n",
    "\n",
    "    # Reorder the DataFrame\n",
    "    df_reordered = df.iloc[row_order, :].iloc[:, col_order]\n",
    "\n",
    "    # Melt the DataFrame for plotnine\n",
    "    df_melted = df_reordered.melt(ignore_index=False).reset_index()\n",
    "\n",
    "    # Update the levels of the categorical variables to reflect the new order\n",
    "    df_melted[\"index\"] = pd.Categorical(df_melted[\"index\"], categories=df_reordered.index, ordered=True)\n",
    "    df_melted[\"cell_type\"] = pd.Categorical(df_melted[\"cell_type\"], categories=df_reordered.columns.to_list(), ordered=True)\n",
    "\n",
    "    # Display as heatmap\n",
    "    gp = (\n",
    "        ggplot(df_melted, aes(x=\"index\", y=\"cell_type\")) \n",
    "        + geom_tile(aes(fill=\"value\")) \n",
    "        + theme_classic() \n",
    "        + theme(axis_text_x=element_text(angle=90)) \n",
    "        + labs(y=\"Cell type\", x=\"Marker\", fill=\"Median\\nabundance\") \n",
    "        # Use reverted plasma color palette\n",
    "        + scale_fill_gradientn(colors = [\"#EFF822\", \"#CC4977\",\"#0F0782\"])\n",
    "        + ggtitle(f\"Stage {stage}\")\n",
    "    )\n",
    "    print(gp)\n",
    "    ggsave(gp, f\"../../figures/fig3/heatmap_all_markers_scaled_stage_{stage}.png\", width = 6, height = 3.2)\n",
    "    ggsave(gp, f\"../../figures/fig3/heatmap_all_markers_scaled_stage_{stage}.pdf\", width = 6, height = 3.2)"
   ]
  },
  {
   "cell_type": "markdown",
   "metadata": {},
   "source": [
    "GLUT1 high in neutrophils and cancer cells – not in healthy epithelial cells. Also higher proliferation (Ki67). Also CD98 (neutral aa transporter) high, MSH6 / MSH2 / LDH low in cancer vs epithelial.  \n",
    "Caveat: scaled scores are computed per marker per stage and not across stages. Scaling values before computing the median means giving weight to outliers (if using min and max) or doing what's done already (if using small/large percentiles)."
   ]
  },
  {
   "cell_type": "markdown",
   "metadata": {},
   "source": [
    "## Cancer cell metab subgroups\n",
    "Leiden on metabolic markers only? Enrichment by pathway then cluster?"
   ]
  },
  {
   "cell_type": "markdown",
   "metadata": {},
   "source": [
    "### Score 0: metabolic marker intensities"
   ]
  },
  {
   "cell_type": "code",
   "execution_count": null,
   "metadata": {},
   "outputs": [],
   "source": [
    "df = adata.obs.loc[adata.obs.consensus == \"Cancer_cell\",[\"LDH\", \"GLUT1\",'pT group']] \n",
    "df[\"Stage\"] = df[\"pT group\"].replace({pd.NA: \"pT0\"})\n",
    "gp = (ggplot(df, aes(x=\"LDH\", y=\"GLUT1\", color='Stage')) \n",
    "      + geom_point(alpha = 0.1) + theme_classic() + facet_wrap(\"~Stage\")\n",
    ")\n",
    "gp"
   ]
  },
  {
   "cell_type": "code",
   "execution_count": null,
   "metadata": {},
   "outputs": [],
   "source": [
    "df = adata.obs.loc[adata.obs.consensus == \"Cancer_cell\",[\"CD98\", \"Ki67\",'pT group']] \n",
    "df[\"Stage\"] = df[\"pT group\"].replace({pd.NA: \"pT0\"})\n",
    "gp = (ggplot(df, aes(x=\"CD98\", y=\"Ki67\", color='Stage')) \n",
    "      + geom_point(alpha = 0.1) + theme_classic() + facet_wrap(\"~Stage\")\n",
    ")\n",
    "gp"
   ]
  },
  {
   "cell_type": "code",
   "execution_count": null,
   "metadata": {},
   "outputs": [],
   "source": [
    "df = adata.obs.loc[adata.obs.fov == \"A1c\",adata.obs.columns[:23]]\n",
    "df[\"cell_type\"] = adata.obs.loc[adata.obs.fov == \"A1c\", \"annotation_consensus\"].values\n",
    "df = df.groupby(\"cell_type\").median().T\n",
    "df = df.drop(\"Unclear\", axis=1)\n",
    "\n",
    "df"
   ]
  },
  {
   "cell_type": "code",
   "execution_count": null,
   "metadata": {},
   "outputs": [],
   "source": [
    "df = adata.obs.loc[adata.obs.fov == \"E4a\",adata.obs.columns[:23]]\n",
    "df[\"cell_type\"] = adata.obs.loc[adata.obs.fov == \"E4a\", \"annotation_consensus\"].values\n",
    "df = df.groupby(\"cell_type\").median().T\n",
    "df = df.drop(\"Unclear\", axis=1)\n",
    "\n",
    "df"
   ]
  },
  {
   "cell_type": "code",
   "execution_count": null,
   "metadata": {},
   "outputs": [],
   "source": [
    "df = pd.DataFrame(adata.X[adata.obs.fov == \"E4a\",:], columns=adata.var_names)\n",
    "df[\"cell_type\"] = adata.obs.loc[adata.obs.fov == \"E4a\", \"annotation_consensus\"].values\n",
    "df = df.groupby(\"cell_type\").median().T\n",
    "df = df.drop(\"Unclear\", axis=1)\n",
    "\n",
    "df"
   ]
  },
  {
   "cell_type": "code",
   "execution_count": null,
   "metadata": {},
   "outputs": [],
   "source": [
    "df = adata.obs.loc[adata.obs.consensus == \"Cancer_cell\",[\"LDH\", \"GLUT1\",'pT group','fov']] \n",
    "df[\"Stage\"] = df[\"pT group\"]\n",
    "# # E1 and E2 samples are annotated 'SCT' while E3 and E4 are 'Colon-no.'\n",
    "df.loc[df.fov.str.contains(\"E4\"), \"Stage\"] = \"Colon-no.\"\n",
    "df.loc[df.fov.str.contains(\"E3\"), \"Stage\"] = \"Colon-no.\"\n",
    "df.loc[df.fov.str.contains(\"E2\"), \"Stage\"] = \"SCT\"\n",
    "df.loc[df.fov.str.contains(\"E1\"), \"Stage\"] = \"SCT\"\n",
    "\n",
    "gp = (ggplot(df, aes(x=\"LDH\", y=\"GLUT1\", color='Stage')) \n",
    "      + geom_point(alpha = 0.1) + theme_classic() + facet_wrap(\"~Stage\")\n",
    ")\n",
    "gp"
   ]
  },
  {
   "cell_type": "code",
   "execution_count": null,
   "metadata": {},
   "outputs": [],
   "source": [
    "df = adata.obs.loc[adata.obs.consensus == \"Cancer_cell\",[\"CD98\", \"Ki67\",'pT group','fov']] \n",
    "df[\"Stage\"] = df[\"pT group\"]\n",
    "# # E1 and E2 samples are annotated 'SCT' while E3 and E4 are 'Colon-no.'\n",
    "df.loc[df.fov.str.contains(\"E4\"), \"Stage\"] = \"Colon-no.\"\n",
    "df.loc[df.fov.str.contains(\"E3\"), \"Stage\"] = \"Colon-no.\"\n",
    "df.loc[df.fov.str.contains(\"E2\"), \"Stage\"] = \"SCT\"\n",
    "df.loc[df.fov.str.contains(\"E1\"), \"Stage\"] = \"SCT\"\n",
    "\n",
    "gp = (ggplot(df, aes(x=\"CD98\", y=\"Ki67\", color='Stage')) \n",
    "      + geom_point(alpha = 0.1) + theme_classic() + facet_wrap(\"~Stage\")\n",
    ")\n",
    "gp"
   ]
  },
  {
   "cell_type": "code",
   "execution_count": null,
   "metadata": {},
   "outputs": [],
   "source": [
    "for stage in adata.obs['pT group'].unique():\n",
    "    if pd.isna(stage):\n",
    "        df = adata.obs.loc[adata.obs['pT group'].isna(), all_functional_and_metab]\n",
    "        df[\"cell_type\"] = adata.obs.loc[adata.obs['pT group'].isna(), \"annotation_consensus\"].values\n",
    "    else:\n",
    "        df = adata.obs.loc[adata.obs['pT group'] == stage, all_functional_and_metab]\n",
    "        df[\"cell_type\"] = adata.obs.loc[adata.obs['pT group'] == stage, \"annotation_consensus\"].values\n",
    "    df = df.groupby(\"cell_type\").median().T\n",
    "    df = df.drop(\"Unclear\", axis=1)\n",
    "\n",
    "    # We keep the order of the markers and cell types from the previous analysis for consistency\n",
    "\n",
    "    # Scale df values so that each row (abundance for a given marker) is between 0 and 1\n",
    "    df = df.apply(lambda x: (x - np.min(x)) / (np.max(x) - np.min(x)), axis = 1)\n",
    "\n",
    "    # Reorder the DataFrame\n",
    "    df_reordered = df.iloc[row_order, :].iloc[:, col_order]\n",
    "\n",
    "    # Melt the DataFrame for plotnine\n",
    "    df_melted = df_reordered.melt(ignore_index=False).reset_index()\n",
    "\n",
    "    # Update the levels of the categorical variables to reflect the new order\n",
    "    df_melted[\"index\"] = pd.Categorical(df_melted[\"index\"], categories=df_reordered.index, ordered=True)\n",
    "    df_melted[\"cell_type\"] = pd.Categorical(df_melted[\"cell_type\"], categories=df_reordered.columns.to_list(), ordered=True)\n",
    "\n",
    "    # Display as heatmap\n",
    "    gp = (\n",
    "        ggplot(df_melted, aes(x=\"index\", y=\"cell_type\")) \n",
    "        + geom_tile(aes(fill=\"value\")) \n",
    "        + theme_classic() \n",
    "        + theme(axis_text_x=element_text(angle=90)) \n",
    "        + labs(y=\"Cell type\", x=\"Marker\", fill=\"Median\\nabundance\") \n",
    "        # Use reverted plasma color palette\n",
    "        + scale_fill_gradientn(colors = [\"#EFF822\", \"#CC4977\",\"#0F0782\"])\n",
    "        + ggtitle(f\"Stage {stage}\")\n",
    "    )\n",
    "    print(gp)\n",
    "    # ggsave(gp, f\"figures/fig3/heatmap_all_markers_scaled_stage_{stage}.png\", width = 6, height = 3.2)"
   ]
  },
  {
   "cell_type": "markdown",
   "metadata": {},
   "source": [
    "## Cancer cell metabolism\n",
    "In this section, we explore the variations in metabolic activitiy of epithelial / malignant cells, and how it evolves with the disease stage.  \n",
    "For now, we ignore the influence of other cell types, and start by looking at ...  \n",
    "While a classification at the cell level shows the informativeness of individual cell metabolic profiles, not all cells have to be representative of the disease as a whole. The most relevant representation should thus be the one best representing FOVs/samples. For given markers, the aggregation can be attempted as follows: no aggregation, mean profile (train on cells or on mean profiles), median profile (train on cells on or median profiles), clustering and proportions. We want to compare these methods (and ideally later use the same split for multicellular / spatial analyses) -> 5xCV + validation set (per FOV).  \n",
    "How does it relate to proliferation/aggressiveness?  \n",
    "QC: cosine similarity between cells from the same stage?  "
   ]
  },
  {
   "cell_type": "markdown",
   "metadata": {},
   "source": [
    "### Score 1: keep all markers separated"
   ]
  },
  {
   "cell_type": "code",
   "execution_count": null,
   "metadata": {},
   "outputs": [],
   "source": [
    "metab_markers = ['CA9', 'CD98', 'CytC', 'MCT1', 'ASCT2', 'LDH', 'GS', 'GLS', 'ATP5A', 'CS', 'PKM2', 'GLUT1', 'ARG1', 'CPT1A', 'Ki67']\n",
    "\n",
    "# Only metabolic markers for cancer/epithelial cells\n",
    "df = adata.obs.loc[adata.obs.consensus == \"Cancer_cell\",metab_markers] \n",
    "meta = adata.obs.loc[adata.obs.consensus == \"Cancer_cell\",[\"Stage\",\"fov\"]]\n",
    "\n",
    "# Only keep well-annotated stages\n",
    "epithelial_subset = meta[\"Stage\"].isin([\"Colon-no.\", \"pT1\", \"pT2\", \"pT3\", \"pT4\"]).values"
   ]
  },
  {
   "cell_type": "markdown",
   "metadata": {},
   "source": [
    "For visualization:\n",
    "```python\n",
    "import umap\n",
    "\n",
    "# Reduce to 2 dimensions with UMAP\n",
    "umap_metab = umap.UMAP(random_state=42).fit_transform(df)\n",
    "\n",
    "umap_metab = pd.DataFrame(umap_metab, columns=[\"UMAP1\", \"UMAP2\"])\n",
    "umap_metab[\"stage\"] = adata.obs.loc[adata.obs.consensus == \"Cancer_cell\",'Stage'].values\n",
    "\n",
    "gp = (ggplot(umap_metab, aes(x=\"UMAP1\", y=\"UMAP2\", color=\"stage\")) \n",
    "      + geom_point() + theme_classic()\n",
    ")\n",
    "gp\n",
    "\n",
    "gp = (ggplot(umap_metab, aes(x=\"UMAP1\", y=\"UMAP2\")) \n",
    "      + geom_bin2d() + theme_classic()\n",
    "      + facet_wrap(\"~stage\")\n",
    ")\n",
    "gp \n",
    "```"
   ]
  },
  {
   "cell_type": "code",
   "execution_count": null,
   "metadata": {},
   "outputs": [],
   "source": [
    "from sklearn.model_selection import train_test_split, cross_val_score, StratifiedGroupKFold\n",
    "from sklearn.metrics import f1_score, accuracy_score\n",
    "from xgboost import XGBClassifier\n",
    "from sklearn.preprocessing import LabelEncoder"
   ]
  },
  {
   "cell_type": "code",
   "execution_count": null,
   "metadata": {},
   "outputs": [],
   "source": [
    "# Define which fovs will be held out for validation (outer loop)\n",
    "fov_stage_table = meta.loc[epithelial_subset].drop_duplicates().reset_index(drop=True)\n",
    "fov_inner, fov_val, y_inner, y_val = train_test_split(\n",
    "    fov_stage_table[\"fov\"], fov_stage_table[\"Stage\"], test_size=0.2, random_state=0, stratify=fov_stage_table[\"Stage\"])\n",
    "meta[\"inner\"] = meta[\"fov\"].isin(fov_inner)"
   ]
  },
  {
   "cell_type": "code",
   "execution_count": null,
   "metadata": {},
   "outputs": [],
   "source": [
    "n_splits = 4\n",
    "\n",
    "cv_folds = StratifiedGroupKFold(n_splits=n_splits)\n",
    "for train, test in cv_folds.split(df.loc[epithelial_subset].loc[meta.loc[epithelial_subset][\"inner\"]],\n",
    "                                  meta.loc[epithelial_subset].loc[meta[\"inner\"]][\"Stage\"],\n",
    "                                  groups=meta.loc[epithelial_subset].loc[meta[\"inner\"]][\"fov\"]):\n",
    "    # All stages should be present in both train and test\n",
    "    assert len(meta.loc[epithelial_subset].loc[meta[\"inner\"]].iloc[test].groupby(\"fov\")[\"Stage\"].first().unique()) == 5\n",
    "    assert len(meta.loc[epithelial_subset].loc[meta[\"inner\"]].iloc[train].groupby(\"fov\")[\"Stage\"].first().unique()) == 5"
   ]
  },
  {
   "cell_type": "code",
   "execution_count": null,
   "metadata": {},
   "outputs": [],
   "source": [
    "cross_val_score(\n",
    "    XGBClassifier(\n",
    "        n_estimators=250, \n",
    "        max_depth=3, \n",
    "        device=\"cuda\", \n",
    "        random_state=0),\n",
    "    df.loc[epithelial_subset].loc[meta.loc[epithelial_subset][\"inner\"]],\n",
    "    LabelEncoder().fit_transform(meta.loc[epithelial_subset].loc[meta[\"inner\"]][\"Stage\"]),\n",
    "    groups=meta.loc[epithelial_subset].loc[meta[\"inner\"]][\"fov\"], \n",
    "    cv=cv_folds, \n",
    "    scoring='f1_macro')"
   ]
  },
  {
   "cell_type": "markdown",
   "metadata": {},
   "source": [
    "### Score 1.1: Less markers\n",
    "Match the marker used to later derive pathway scores"
   ]
  },
  {
   "cell_type": "code",
   "execution_count": null,
   "metadata": {},
   "outputs": [],
   "source": [
    "subset_markers = ['CD98', 'CytC', 'MCT1', 'ASCT2', 'LDH', 'GS', 'GLS', 'ATP5A',\n",
    "       'CS', 'PKM2', 'GLUT1']\n",
    "\n",
    "\n",
    "cross_val_score(\n",
    "    XGBClassifier(\n",
    "        n_estimators=250, \n",
    "        max_depth=3, \n",
    "        device=\"cuda\", \n",
    "        random_state=0),\n",
    "    df.loc[epithelial_subset].loc[meta.loc[epithelial_subset][\"inner\"], subset_markers],\n",
    "    LabelEncoder().fit_transform(meta.loc[epithelial_subset].loc[meta[\"inner\"]][\"Stage\"]),\n",
    "    groups=meta.loc[epithelial_subset].loc[meta[\"inner\"]][\"fov\"], \n",
    "    cv=cv_folds, \n",
    "    scoring='f1_macro')"
   ]
  },
  {
   "cell_type": "markdown",
   "metadata": {},
   "source": [
    "### Score 1.2: More markers\n",
    "Use all available measurements, including lineage markers and morphology."
   ]
  },
  {
   "cell_type": "code",
   "execution_count": null,
   "metadata": {},
   "outputs": [],
   "source": [
    "df_all = pd.DataFrame(\n",
    "    np.hstack([\n",
    "        adata.obs.loc[adata.obs.consensus == \"Cancer_cell\", adata.obs.columns[:32].drop(['centroid-0','centroid-1'])].values,\n",
    "        adata.X[adata.obs.consensus == \"Cancer_cell\",:]\n",
    "    ]),\n",
    "    columns= adata.obs.columns[:32].drop(['centroid-0','centroid-1']).to_list() + adata.var_names.to_list()\n",
    ")\n",
    "df_all.index = df.index"
   ]
  },
  {
   "cell_type": "code",
   "execution_count": null,
   "metadata": {},
   "outputs": [],
   "source": [
    "cross_val_score(\n",
    "    XGBClassifier(\n",
    "        n_estimators=250, \n",
    "        max_depth=3, \n",
    "        device=\"cuda\", \n",
    "        random_state=0),\n",
    "    df_all.loc[epithelial_subset].loc[meta.loc[epithelial_subset][\"inner\"]],\n",
    "    LabelEncoder().fit_transform(meta.loc[epithelial_subset].loc[meta[\"inner\"]][\"Stage\"]),\n",
    "    groups=meta.loc[epithelial_subset].loc[meta[\"inner\"]][\"fov\"], \n",
    "    cv=cv_folds, \n",
    "    scoring='f1_macro')"
   ]
  },
  {
   "cell_type": "markdown",
   "metadata": {},
   "source": [
    "### Score 2: Unweighted average per main pathway"
   ]
  },
  {
   "cell_type": "code",
   "execution_count": null,
   "metadata": {},
   "outputs": [],
   "source": [
    "main_pathways = {\n",
    "    \"Glycolysis and Gluconeogenesis\" : [\"MCT1\", \"PKM2\", \"LDH\", \"GLUT1\"],\n",
    "    \"Oxidative phosphorylation\" : [\"ATP5A\", \"CytC\"],\n",
    "    \"TCA cycle\" : [\"CS\", \"MCT1\"],\n",
    "    \"Glutamate metabolism\" : [\"GLS\", \"GS\", \"CD98\", \"ASCT2\"],\n",
    "    \"Valine, Leucine and Isoleucine Metabolism\": [\"ASCT2\", \"MCT1\"]\n",
    "}"
   ]
  },
  {
   "cell_type": "code",
   "execution_count": null,
   "metadata": {},
   "outputs": [],
   "source": [
    "def comp_score(v):\n",
    "    # Get corresponding values and z-score per column\n",
    "    w = df.loc[:,v].apply(lambda x: (x - np.mean(x))/np.std(x), axis = 0)\n",
    "    \n",
    "    return np.mean(w, axis = 1)\n",
    "\n",
    "df_metab = pd.DataFrame({k: comp_score(v) for k,v in main_pathways.items()})\n"
   ]
  },
  {
   "cell_type": "code",
   "execution_count": null,
   "metadata": {},
   "outputs": [],
   "source": [
    "cross_val_score(\n",
    "    XGBClassifier(\n",
    "        n_estimators=250, \n",
    "        max_depth=3, \n",
    "        device=\"cuda\", \n",
    "        random_state=0),\n",
    "    df_metab.loc[epithelial_subset].loc[meta.loc[epithelial_subset][\"inner\"]],\n",
    "    LabelEncoder().fit_transform(meta.loc[epithelial_subset].loc[meta[\"inner\"]][\"Stage\"]),\n",
    "    groups=meta.loc[epithelial_subset].loc[meta[\"inner\"]][\"fov\"], \n",
    "    cv=cv_folds, \n",
    "    scoring='f1_macro')"
   ]
  },
  {
   "cell_type": "markdown",
   "metadata": {},
   "source": [
    "### Score 3: Weighted pathway averages"
   ]
  },
  {
   "cell_type": "code",
   "execution_count": null,
   "metadata": {},
   "outputs": [],
   "source": [
    "weighted_pathways = {\n",
    "    \"Glycolysis and Gluconeogenesis\" : {\"MCT1\":0.2, \"PKM2\": 5, \"LDH\": 1, \"GLUT1\": 0.2},\n",
    "    \"Oxidative phosphorylation\" : {\"ATP5A\": 1, \"CytC\": 1},\n",
    "    \"TCA cycle\" : {\"CS\": 5, \"MCT1\": 0.2},\n",
    "    \"Glutamate metabolism\" : {\"GLS\": 1, \"GS\": 1, \"CD98\": 0.2, \"ASCT2\": 0.2},\n",
    "}"
   ]
  },
  {
   "cell_type": "code",
   "execution_count": null,
   "metadata": {},
   "outputs": [],
   "source": [
    "def comp_score(v, k):\n",
    "    # Get corresponding values and z-score per column\n",
    "    w = df.loc[:,v.keys()].apply(lambda x: (x - np.mean(x))/np.std(x), axis = 0)\n",
    "    \n",
    "    # Computed weighted mean based on coefficient of each marker\n",
    "    weights = weighted_pathways[k]\n",
    "    w = w.apply(lambda x: x*weights[x.name], axis = 0)\n",
    "    return(np.sum(w, axis = 1)/sum(weights.values()))\n",
    "\n",
    "df_metab2 = pd.DataFrame({k: comp_score(v,k) for k,v in weighted_pathways.items()})"
   ]
  },
  {
   "cell_type": "code",
   "execution_count": null,
   "metadata": {},
   "outputs": [],
   "source": [
    "cross_val_score(\n",
    "    XGBClassifier(\n",
    "        n_estimators=250, \n",
    "        max_depth=3, \n",
    "        device=\"cuda\", \n",
    "        random_state=0),\n",
    "    df_metab2.loc[epithelial_subset].loc[meta.loc[epithelial_subset][\"inner\"]],\n",
    "    LabelEncoder().fit_transform(meta.loc[epithelial_subset].loc[meta[\"inner\"]][\"Stage\"]),\n",
    "    groups=meta.loc[epithelial_subset].loc[meta[\"inner\"]][\"fov\"], \n",
    "    cv=cv_folds, \n",
    "    scoring='f1_macro')"
   ]
  },
  {
   "cell_type": "markdown",
   "metadata": {},
   "source": [
    "### Score 4: network diffusion of abundance within pathways"
   ]
  },
  {
   "cell_type": "markdown",
   "metadata": {},
   "source": [
    "#### Step 4.1: get curated pathway membership\n",
    "Curated list obtained from the supplementary material of [Gaude & Frezza (2016)](https://doi.org/10.1038/ncomms13041). Supplementary Data 3 was downloaded and saved in CSV format."
   ]
  },
  {
   "cell_type": "code",
   "execution_count": null,
   "metadata": {},
   "outputs": [],
   "source": [
    "curated_pw = pd.read_csv(\"../../data/41467_2016_BFncomms13041_MOESM340_ESM.csv\", header=1)\n",
    "# Rename for consistency\n",
    "main_pathways[\"Citric Acid Cycle\"] = main_pathways[\"TCA cycle\"]\n",
    "main_pathways['Oxidative Phosphorylation'] = main_pathways['Oxidative phosphorylation']\n",
    "# Get the gene symbols for the main pathways\n",
    "all_metab_gene_symbols = curated_pw.loc[curated_pw.Pathways.isin(main_pathways.keys()),\"Genes\"].unique()"
   ]
  },
  {
   "cell_type": "markdown",
   "metadata": {},
   "source": [
    "#### Step 4.2: get co-expression network of relevant metabolic genes"
   ]
  },
  {
   "cell_type": "markdown",
   "metadata": {},
   "source": [
    "Single-cell atlas obtained from the HTAN [Chen, Scurrah et al study (2021)](https://doi.org/10.1016/j.cell.2021.11.031). The \"Discovery (DIS) set of human colorectal tumor: Epithelial\" dataset was downloaded in H5AD format from the [Cell x Gene platform](https://cellxgene.cziscience.com/collections/a48f5033-3438-4550-8574-cdff3263fdfd) on 2024-07-24."
   ]
  },
  {
   "cell_type": "code",
   "execution_count": null,
   "metadata": {},
   "outputs": [],
   "source": [
    "import networkx as nx"
   ]
  },
  {
   "cell_type": "code",
   "execution_count": null,
   "metadata": {},
   "outputs": [],
   "source": [
    "atlas = ad.read_h5ad('../../data/5bc8d9bb-f6a4-4f7e-add7-2825cbd36625.h5ad')\n",
    "# Replace for concistency with curated pathways\n",
    "atlas.var.feature_name.replace({\"PKM\":\"PKM2\"}, inplace=True)\n",
    "# Keep only the metabolic markers\n",
    "atlas = atlas[:,atlas.var.feature_name.isin(all_metab_gene_symbols)]"
   ]
  },
  {
   "cell_type": "code",
   "execution_count": null,
   "metadata": {},
   "outputs": [],
   "source": [
    "# Compute pearson correlation between genes (columns)\n",
    "corrmat = atlas.to_df().corr()\n",
    "corrlist = corrmat.melt(ignore_index=False).reset_index()\n",
    "corrlist = corrlist.loc[corrlist[\"index\"] < corrlist[\"variable\"],:]"
   ]
  },
  {
   "cell_type": "code",
   "execution_count": null,
   "metadata": {},
   "outputs": [],
   "source": [
    "# We drop low correlations to make the network sparser, but aim to keep at least 80% of the markers in the network\n",
    "corr_thr = 0.03\n",
    "cfilt = corrlist.loc[(corrlist[\"value\"] > corr_thr)|(corrlist[\"value\"] < -corr_thr),:]\n",
    "g = nx.from_pandas_edgelist(cfilt, source=\"index\", target=\"variable\", edge_attr=True)\n",
    "assert nx.number_of_nodes(g) >= 0.8 * atlas.n_vars"
   ]
  },
  {
   "cell_type": "markdown",
   "metadata": {},
   "source": [
    "#### Step 4.3: Network diffusion of marker weights"
   ]
  },
  {
   "cell_type": "code",
   "execution_count": null,
   "metadata": {},
   "outputs": [],
   "source": [
    "from scipy.sparse.linalg import cg  # Conjugate Gradient solver\n",
    "from scipy.sparse import eye, diags\n",
    "\n",
    "def random_walk_with_restart_corrected(g, node_values, r=0.1, precomputed_T=None):\n",
    "    # Ensure node_values is a numpy array\n",
    "    if not isinstance(node_values, np.ndarray):\n",
    "        node_values = np.array(list(node_values.values()))\n",
    "    \n",
    "    # Create a transition probability matrix from the adjacency matrix\n",
    "    # Use precomputed transition matrix if available\n",
    "    if precomputed_T is not None:\n",
    "        T = precomputed_T\n",
    "    else:\n",
    "        A = nx.adjacency_matrix(g)\n",
    "        row_sums = np.array(A.sum(axis=1)).flatten()\n",
    "        row_sums[row_sums == 0] = 1  # Avoid division by zero for isolated nodes\n",
    "        T = A.multiply(1 / row_sums[:, np.newaxis])\n",
    "    \n",
    "    # Identity matrix\n",
    "    I = eye(T.shape[0])\n",
    "    \n",
    "    # Linear system: (I - (1 - r) * T) x = r * v\n",
    "    A = I - (1 - r) * T\n",
    "    b = r * node_values\n",
    "    \n",
    "    # Solve the linear system using Conjugate Gradient method\n",
    "    x, _ = cg(A, b, tol=1e-8, maxiter=1000)\n",
    "    \n",
    "    return x"
   ]
  },
  {
   "cell_type": "markdown",
   "metadata": {},
   "source": [
    "Note: even with attempts at parallelization, the following cell takes ~n hours (>100 minutes) to run."
   ]
  },
  {
   "cell_type": "code",
   "execution_count": null,
   "metadata": {},
   "outputs": [],
   "source": [
    "from joblib import Parallel, delayed\n",
    "\n",
    "# Association between pathway genes and markers\n",
    "gene_to_marker_dict = {\n",
    "    'SLC3A2': 'CD98',\n",
    "    'CYC1': 'CytC',\n",
    "    'SLC16A1': 'MCT1',\n",
    "    'SLC1A5': 'ASCT2',\n",
    "    'LDHA': 'LDH',\n",
    "    'LDHB': 'LDH',\n",
    "    'GLUL': 'GS',\n",
    "    'GLS': 'GLS',\n",
    "    'ATP5A1': 'ATP5A',\n",
    "    'CS': 'CS',\n",
    "    'PKM2': 'PKM2',\n",
    "    'SLC2A1': 'GLUT1',\n",
    "}\n",
    "# Vectorize operations instead of using apply\n",
    "df_ini = adata.obs.loc[adata.obs.consensus == \"Cancer_cell\", metab_markers]\n",
    "df_ini = (df_ini - df_ini.mean())/df_ini.std()\n",
    "# For testing only\n",
    "df_ini = df_ini.sample(30000, random_state=0)\n",
    "\n",
    "symb_dict = atlas.var.feature_name.to_dict()\n",
    "index_to_marker = {i: gene_to_marker_dict[symb_dict[gene_ensg]]\n",
    "                   for i, gene_ensg in enumerate(g.nodes)\n",
    "                   if symb_dict[gene_ensg] in gene_to_marker_dict}\n",
    "\n",
    "def diffused_abundance(g, seed_values, index_to_marker, r=0.1, precomputed_T=None):\n",
    "    initial_values = np.zeros(len(g.nodes))  # Use numpy for initialization\n",
    "    for i, m in index_to_marker.items():\n",
    "        initial_values[i] = seed_values[m]\n",
    "    \n",
    "    final_values_array = random_walk_with_restart_corrected(g, initial_values, r=r, precomputed_T=precomputed_T)\n",
    "    return final_values_array\n",
    "\n",
    "# Precompute RWR transition matrix\n",
    "A = nx.adjacency_matrix(g)\n",
    "row_sums = np.array(A.sum(axis=1)).flatten()\n",
    "row_sums[row_sums == 0] = 1  # Avoid division by zero for isolated nodes\n",
    "T = A.multiply(1 / row_sums[:, np.newaxis])\n",
    "\n",
    "# Parallel processing to speed up diffused_abundance computation\n",
    "# Step 1: Generate list of tuples using Parallel processing\n",
    "results = Parallel(n_jobs=-1)(delayed(lambda i: (df_ini.index[i], diffused_abundance(g=g, seed_values=df_ini.iloc[i], \n",
    "                                                                                     index_to_marker=index_to_marker,\n",
    "                                                                                     precomputed_T=T)))(i) for i in range(df_ini.shape[0]))\n",
    "\n",
    "# Step 2: Convert list of tuples into a dictionary\n",
    "results_dict = dict(results)\n",
    "\n",
    "# Step 3: Create DataFrame from the dictionary\n",
    "df_diff = pd.DataFrame.from_dict(results_dict, orient=\"index\", columns=[symb_dict[n] for n in g.nodes()])"
   ]
  },
  {
   "cell_type": "code",
   "execution_count": null,
   "metadata": {},
   "outputs": [],
   "source": [
    "df_diff = pd.read_csv(\"../../data/diffused_abundance.csv\", index_col=0) # If pre-computed\n",
    "df_diff.index = df_diff.index.astype(str)\n",
    "# df_diff.to_csv(\"diffused_abundance.csv\")"
   ]
  },
  {
   "cell_type": "markdown",
   "metadata": {},
   "source": [
    "#### Step 4.4: Compute weighted score from diffused abundance values"
   ]
  },
  {
   "cell_type": "code",
   "execution_count": null,
   "metadata": {},
   "outputs": [],
   "source": [
    "curated_pw_dict = {p : {} for p in curated_pw.loc[curated_pw.Pathways.isin(main_pathways.keys()),\"Pathways\"].unique()}\n",
    "# Convert data frame of genes and pathways to a dictionary of genes in each pathway\n",
    "for gene, path in curated_pw.loc[curated_pw.Pathways.isin(main_pathways.keys()),:].values:\n",
    "    if gene in df_diff.columns:\n",
    "        curated_pw_dict[path][gene] = 1.0 # Each gene has a pathway-specific weight, default to 1.0"
   ]
  },
  {
   "cell_type": "code",
   "execution_count": null,
   "metadata": {},
   "outputs": [],
   "source": [
    "def comp_score(v, k):\n",
    "    # Get corresponding values and z-score per column\n",
    "    pathway_abundances = df_diff.loc[:,v.keys()]\n",
    "    \n",
    "    # Computed weighted mean based on coefficient of each marker\n",
    "    pathway_abundances = pathway_abundances.apply(lambda x: x*v[x.name], axis = 0)\n",
    "    return(np.sum(pathway_abundances, axis = 1)/sum(v.values()))\n",
    "\n",
    "df_metab3 = pd.DataFrame({k: comp_score(v,k) for k,v in curated_pw_dict.items()})"
   ]
  },
  {
   "cell_type": "code",
   "execution_count": null,
   "metadata": {},
   "outputs": [],
   "source": [
    "cross_val_score(\n",
    "    XGBClassifier(\n",
    "        n_estimators=250, \n",
    "        max_depth=3, \n",
    "        device=\"cuda\", \n",
    "        random_state=0),\n",
    "    df_metab3.loc[epithelial_subset].loc[meta.loc[epithelial_subset][\"inner\"]],\n",
    "    LabelEncoder().fit_transform(meta.loc[epithelial_subset].loc[meta[\"inner\"]][\"Stage\"]),\n",
    "    groups=meta.loc[epithelial_subset].loc[meta[\"inner\"]][\"fov\"], \n",
    "    cv=cv_folds, \n",
    "    scoring='f1_macro')"
   ]
  },
  {
   "cell_type": "markdown",
   "metadata": {},
   "source": [
    "### Score 5: Diffusion of all available markers"
   ]
  },
  {
   "cell_type": "code",
   "execution_count": null,
   "metadata": {},
   "outputs": [],
   "source": [
    "# No marker can be readily added to the diffusion process without rebuilding the network\n",
    "print([x for x in adata.var_names if x in symb_dict.values()])\n",
    "print([x for x in adata.obs.columns[:23] if x in symb_dict.values()])"
   ]
  },
  {
   "cell_type": "markdown",
   "metadata": {},
   "source": [
    "If we want to explore further the potential of gene network diffusion to complement the raw abundance values, the following steps could be followed:  \n",
    "* Create complete correlation network from atlas\n",
    "* Convert to cost ($1 - |\\rho |$)\n",
    "* Compute shortest path between seed nodes and corresponding betweeness centrality per edge\n",
    "* Delete all null-weight edges and any resulting connected component that does not include any seed node. All remaining connected component should have at least two seed nodes\n",
    "* Use backboning / thresholding in each connected component\n",
    "* Do diffusion of abundance from seed nodes\n",
    "* Use all diffused node values as input to an XGBoost model"
   ]
  },
  {
   "cell_type": "markdown",
   "metadata": {},
   "source": [
    "The following resource could be explored to study protein-metabolite associations:\n",
    "\n",
    "```R\n",
    "library(cosmosR)\n",
    "data(meta_network)\n",
    "```\n",
    "\n",
    "```\n",
    "#' @format An object of class \\dQuote{\\code{tibble}} with 117065 rows\n",
    "#'   (interactions) and three variables:\n",
    "#'   \\describe{\n",
    "#'     \\item{\\code{source}}{Source node, either metabolite or protein}\n",
    "#'     \\item{\\code{interaction}}{Type of interaction, 1 = Activation, -1 = Inhibition}\n",
    "#'     \\item{\\code{target}}{Target node, either metabolite or protein}\n",
    "#'   A detailed description of the identifier formatting can be found under \n",
    "#'   \\url{https://metapkn.omnipathdb.org/00__README.txt}.\n",
    "#'   }\n",
    "```"
   ]
  },
  {
   "cell_type": "markdown",
   "metadata": {},
   "source": [
    "**Glycolysis**: GLUT1, PKM2, LDH, MCT1  \n",
    "**Fatty acid oxidation**: CPT1A  \n",
    "**TCA cycle**: CS  \n",
    "**Amino acid metabolism**: ARG1, CD98, GLS, GS, ASCT2  \n",
    "**OxPhos**: CytC, ATP5A  \n",
    "**Cancer and proliferation**:CA9, Ki67  \n",
    "\n",
    "In curated list:  \n",
    "**Glycolysis and Gluconeogenesis**: PKM2, LDH (LDHA, LDHB), GLUT1 (SLC2A1), MCT1 (SLC16A1)  \n",
    "**Carnitine shuttle**: CPT1A  \n",
    "**Citric Acid Cycle**: CS, MCT1  \n",
    "**Urea Cycle**: ARG1  \n",
    "**Glutamate metabolism**: CD98 (SLC3A2), GLS, GS (GLUL), ASCT2 (SLC1A5)  \n",
    "**Transport, Extracellular**: CD98  \n",
    "**Glycine, Serine and Threonine Metabolism**: ASCT2  \n",
    "**Valine, Leucine and Isoleucine Metabolism**: ASCT2, MCT1  \n",
    "**Alanine and Aspartate Metabolism**: ASCT2  \n",
    "**Cysteine Metabolism**: ASCT2  \n",
    "**Oxidative Phosphorylation**: CytC (CYC1?), ATP5A (ATP5A1?)  \n",
    "**Carbonic Acid Metabolism**: CA9  \n",
    "**Transport, Golgi Apparatus**: GLUT1  \n",
    "**Biotin Metabolism**: MCT1  \n",
    "**Ketone Bodies Metabolism**: MCT1  \n",
    "**Propanoate Metabolism**: MCT1  \n",
    "\n",
    "Missing Ki67. \n",
    "\n"
   ]
  },
  {
   "cell_type": "markdown",
   "metadata": {},
   "source": [
    "## "
   ]
  }
 ],
 "metadata": {
  "kernelspec": {
   "display_name": "pam-keras3",
   "language": "python",
   "name": "myenv"
  },
  "language_info": {
   "codemirror_mode": {
    "name": "ipython",
    "version": 3
   },
   "file_extension": ".py",
   "mimetype": "text/x-python",
   "name": "python",
   "nbconvert_exporter": "python",
   "pygments_lexer": "ipython3",
   "version": "3.11.9"
  }
 },
 "nbformat": 4,
 "nbformat_minor": 2
}
