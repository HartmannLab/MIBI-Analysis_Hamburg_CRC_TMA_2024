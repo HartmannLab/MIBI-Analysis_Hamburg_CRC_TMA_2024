{
 "cells": [
  {
   "cell_type": "code",
   "execution_count": 344,
   "metadata": {},
   "outputs": [],
   "source": [
    "import os\n",
    "import csv\n",
    "import pandas as pd\n",
    "import seaborn as sns\n",
    "import matplotlib.pyplot as plt\n"
   ]
  },
  {
   "cell_type": "code",
   "execution_count": 345,
   "metadata": {},
   "outputs": [
    {
     "name": "stdout",
     "output_type": "stream",
     "text": [
      "Current working directory: /Users/teresaglauner/Documents/Hamburg_folder/CRC_TMA\n"
     ]
    }
   ],
   "source": [
    "# Change the current working directory to your desired location\n",
    "new_directory = '/Users/teresaglauner/Documents/Hamburg_folder/CRC_TMA'\n",
    "os.chdir(new_directory)\n",
    "\n",
    "current_directory = os.getcwd()\n",
    "print(\"Current working directory:\", current_directory)"
   ]
  },
  {
   "cell_type": "markdown",
   "metadata": {},
   "source": [
    "# Changing the FOV names"
   ]
  },
  {
   "cell_type": "markdown",
   "metadata": {},
   "source": [
    "First, I am making use of my image_data folder to specify which FOVs I have acquired with the MIBI. "
   ]
  },
  {
   "cell_type": "code",
   "execution_count": 346,
   "metadata": {},
   "outputs": [],
   "source": [
    "# Specify the directory you want to list folders from\n",
    "directory_path = '/Users/teresaglauner/Documents/Hamburg_folder/CRC_TMA/image_data'"
   ]
  },
  {
   "cell_type": "code",
   "execution_count": 347,
   "metadata": {},
   "outputs": [],
   "source": [
    "# Get a list of folder names in the specified directory\n",
    "folder_names = [folder for folder in os.listdir(directory_path) if os.path.isdir(os.path.join(directory_path, folder))]"
   ]
  },
  {
   "cell_type": "code",
   "execution_count": 348,
   "metadata": {},
   "outputs": [],
   "source": [
    "# Create a pandas DataFrame from the folder names\n",
    "folder_list = pd.DataFrame({'Folder Name': folder_names})"
   ]
  },
  {
   "cell_type": "code",
   "execution_count": 349,
   "metadata": {},
   "outputs": [
    {
     "name": "stdout",
     "output_type": "stream",
     "text": [
      "Folder names have been saved to /Users/teresaglauner/Documents/Hamburg_folder/CRC_TMA/FOV_list.csv.\n"
     ]
    }
   ],
   "source": [
    "# Specify the path for the CSV file\n",
    "csv_file_path = '/Users/teresaglauner/Documents/Hamburg_folder/CRC_TMA/FOV_list.csv'\n",
    "\n",
    "# Save the DataFrame to the specified CSV file\n",
    "folder_list.to_csv(csv_file_path, index=False)\n",
    "\n",
    "print(f\"Folder names have been saved to {csv_file_path}.\")"
   ]
  },
  {
   "cell_type": "markdown",
   "metadata": {},
   "source": [
    "# Which patients with clinically relevant information have been acquired by MIBI?"
   ]
  },
  {
   "cell_type": "markdown",
   "metadata": {},
   "source": [
    "Now, I want to merge the clinical data with the FOV_list so that I know which patients I have acquired since not all cores were intact"
   ]
  },
  {
   "cell_type": "code",
   "execution_count": 350,
   "metadata": {},
   "outputs": [
    {
     "name": "stdout",
     "output_type": "stream",
     "text": [
      "    TMA name TMA sector TMA Localisation    Tumorlokalisation COL10  \\\n",
      "0  COL 10.2.          A             A 1a           Kolon Sigmoideum   \n",
      "1  COL 10.2.          A             A 1b           Kolon Sigmoideum   \n",
      "2  COL 10.2.          A             A 1c           Kolon Sigmoideum   \n",
      "3  COL 10.2.          A             A 1d  rektosigmoidaler Übergang   \n",
      "4  COL 10.2.          A             A 1e           Kolon Sigmoideum   \n",
      "\n",
      "  Tumorlokalisation alle RED Tumor Seite alle       Tumortyp pT raw pN raw  \\\n",
      "0                      Sigma            links  Adenokarzinom    pT3    pN0   \n",
      "1                      Sigma            links  Adenokarzinom    pT3    pN0   \n",
      "2                      Sigma            links  Adenokarzinom    pT4    pN0   \n",
      "3                      Sigma            links  Adenokarzinom    pT3    pN0   \n",
      "4                      Sigma            links  Adenokarzinom    pT4    pN0   \n",
      "\n",
      "   Grade raw pT group pN group  pM group  Tumordurchmesser (mm)  \\\n",
      "0        NaN      pT3      pN0       NaN                    NaN   \n",
      "1        NaN      pT3      pN0       NaN                   60.0   \n",
      "2        NaN      pT4      pN0       NaN                   55.0   \n",
      "3        NaN      pT3      pN0       NaN                   30.0   \n",
      "4        NaN      pT4      pN0       NaN                   55.0   \n",
      "\n",
      "  Muzinöse Tumorkomponente Infiltrationstyp Tumorbudding  \\\n",
      "0                        x                x            x   \n",
      "1                      0.3         expansiv            x   \n",
      "2                        x                x            x   \n",
      "3                        x         expansiv            x   \n",
      "4                        x         expansiv            x   \n",
      "\n",
      "  Peritumorale lymphozytäre Infiltration Angioinvasion V RED  \\\n",
      "0                                      x                  V0   \n",
      "1                                 gering                  V0   \n",
      "2                                      x                  V0   \n",
      "3                                 gering                  V0   \n",
      "4                                  stark                  V0   \n",
      "\n",
      "  Lymphbahninvasion L MSI im Befund MSI gesamt RED RAS Mutation RED  \\\n",
      "0                  L0          n.a.            NaN             n.a.   \n",
      "1                  L0          n.a.            NaN         codon 12   \n",
      "2                  L0          n.a.            NaN             n.a.   \n",
      "3                  L0          n.a.         stabil         codon 12   \n",
      "4                  L0          n.a.         stabil               wt   \n",
      "\n",
      "  RAS Mutation RED 2 BRAF Mutation RED HER2 Amplifikation  Age Sex  \n",
      "0                NaN               NaN                  x   88   w  \n",
      "1           RAS Mut.               NaN                  x   82   m  \n",
      "2                NaN               NaN                  x   75   m  \n",
      "3           RAS Mut.               NaN               nein   74   m  \n",
      "4                 wt               NaN                  x   90   w  \n"
     ]
    }
   ],
   "source": [
    "# Specify the path to your XLSX file\n",
    "xlsx_file_path = '/Users/teresaglauner/Documents/Hamburg_folder/CRC_TMA/COL10.2 A  patho_clinical data.xlsx'\n",
    "\n",
    "# Read the XLSX file into a DataFrame\n",
    "df = pd.read_excel(xlsx_file_path)\n",
    "\n",
    "# Now, you can work with the data in the DataFrame (e.g., print the first 5 rows)\n",
    "print(df.head())\n"
   ]
  },
  {
   "cell_type": "markdown",
   "metadata": {},
   "source": [
    "Now, I need to adapt the FOV_list since there is a space between the names"
   ]
  },
  {
   "cell_type": "code",
   "execution_count": 351,
   "metadata": {},
   "outputs": [
    {
     "name": "stdout",
     "output_type": "stream",
     "text": [
      "    Folder Name\n",
      "0          D 4h\n",
      "1          B 1n\n",
      "2          B 2a\n",
      "3          D 8c\n",
      "4          B 1i\n",
      "5          B 7p\n",
      "6          D 8d\n",
      "7          B 2f\n",
      "8          D 8m\n",
      "9          D 7i\n",
      "10         B 2o\n",
      "11         B 4q\n",
      "12         B 2h\n",
      "13         D 4a\n",
      "14         B 1g\n",
      "15         D 1e\n",
      "16         B 4c\n",
      "17         B 8h\n",
      "18         B 4d\n",
      "19         B 7k\n",
      "20         B 8f\n",
      "21         D 2d\n",
      "22         B 7b\n",
      "23         B 4m\n",
      "24         D 1k\n",
      "25         B 7e\n",
      "26         D 2c\n",
      "27         B 8a\n",
      "28         D 1l\n",
      "29         D 8k\n",
      "30         B 4p\n",
      "31         B 2i\n",
      "32         B 1f\n",
      "33         B 2n\n",
      "34         D 8l\n",
      "35         B 1a\n",
      "36         D 4g\n",
      "37         B 1h\n",
      "38         B 7q\n",
      "39         D 7a\n",
      "40         B 2g\n",
      "41         D 8e\n",
      "42         B 8r\n",
      "43         D 4i\n",
      "44         B 1o\n",
      "45         D 8b\n",
      "46         D 7f\n",
      "47         B 7d\n",
      "48         D 2b\n",
      "49         D 1m\n",
      "50         B 2r\n",
      "51         B 4k\n",
      "52         D 2e\n",
      "53         B 7c\n",
      "54         B 8g\n",
      "55         B 4l\n",
      "56         B 4e\n",
      "57         D 1c\n",
      "58         D 2l\n",
      "59         B 8n\n",
      "60         D 1d\n",
      "61         B 4b\n",
      "62         B 8i\n",
      "63         B 7m\n",
      "64         D 2k\n",
      "65         A 3m\n",
      "66         C 3g\n",
      "67         A 9q\n",
      "68         A 3c\n",
      "69         A 6r\n",
      "70         C 3i\n",
      "71         A 3d\n",
      "72         C 5b\n",
      "73         A 9d\n",
      "74         A 5o\n",
      "75         C 9i\n",
      "76         A 9c\n",
      "77         C 5e\n",
      "78         A 6g\n",
      "79         A 5h\n",
      "80         A 3q\n",
      "81         E 3e\n",
      "82         C 6c\n",
      "83         A 5a\n",
      "84         A 6n\n",
      "85         C 5l\n",
      "86         A 5f\n",
      "87         C 6d\n",
      "88         E 3b\n",
      "89         C 5k\n",
      "90         A 6i\n",
      "91         A 9m\n",
      "92         C 3h\n",
      "93         A 3e\n",
      "94         A 9p\n",
      "95         A 3b\n",
      "96         A 5r\n",
      "97         C 3f\n",
      "98         A 3l\n",
      "99         C 3a\n",
      "100        C 9a\n",
      "101        A 5g\n",
      "102        E 3c\n",
      "103        A 9l\n",
      "104        A 6h\n",
      "105        C 6b\n",
      "106        C 9f\n",
      "107        A 6o\n",
      "108        A 9k\n",
      "109        C 5d\n",
      "110        A 9b\n",
      "111        C 6k\n",
      "112        A 5i\n",
      "113        A 3p\n",
      "114        A 9e\n",
      "115        C 5c\n",
      "116        A 6a\n",
      "117        C 9h\n",
      "118        A 5n\n",
      "119        C 6l\n",
      "120        A 8h\n",
      "121        A 7l\n",
      "122        C 8e\n",
      "123        A 4c\n",
      "124        C 7a\n",
      "125        A 1r\n",
      "126        A 7k\n",
      "127        C 4i\n",
      "128        A 8o\n",
      "129        C 7f\n",
      "130        A 4d\n",
      "131        C 8b\n",
      "132        A 4m\n",
      "133        A 7b\n",
      "134        A 8f\n",
      "135        C 8l\n",
      "136        C 7h\n",
      "137        A 8a\n",
      "138        E 1a\n",
      "139        C 4g\n",
      "140        E 4e\n",
      "141        C 1c\n",
      "142        A 2a\n",
      "143        A 1n\n",
      "144        C 2l\n",
      "145        C 1d\n",
      "146        E 4b\n",
      "147        C 2k\n",
      "148        A 7p\n",
      "149        A 1i\n",
      "150        C 2b\n",
      "151        C 1m\n",
      "152        A 2o\n",
      "153        C 2e\n",
      "154        A 1g\n",
      "155        A 2h\n",
      "156        A 4q\n",
      "157        A 4k\n",
      "158        A 2r\n",
      "159        C 7i\n",
      "160        C 8m\n",
      "161        C 4f\n",
      "162        A 7d\n",
      "163        A 4l\n",
      "164        A 8g\n",
      "165        A 7c\n",
      "166        C 4a\n",
      "167        A 8n\n",
      "168        C 4h\n",
      "169        C 8c\n",
      "170        E 2a\n",
      "171        A 4e\n",
      "172        A 7m\n",
      "173        A 8i\n",
      "174        A 4b\n",
      "175        C 8d\n",
      "176        A 1f\n",
      "177        C 2d\n",
      "178        C 1k\n",
      "179        A 2i\n",
      "180        A 4p\n",
      "181        A 1a\n",
      "182        A 2n\n",
      "183        C 1l\n",
      "184        C 1e\n",
      "185        A 2g\n",
      "186        A 7q\n",
      "187        A 1h\n",
      "188        E 4d\n",
      "189        C 1b\n",
      "190        C 2m\n",
      "191        A 1o\n",
      "192        A 8r\n",
      "193        B 9d\n",
      "194        D 3f\n",
      "195        B 3q\n",
      "196        B 5h\n",
      "197        D 3a\n",
      "198        B 6g\n",
      "199        B 9c\n",
      "200        D 3h\n",
      "201        B 6n\n",
      "202        B 9m\n",
      "203        B 6i\n",
      "204        B 5f\n",
      "205        D 5d\n",
      "206        B 3m\n",
      "207        D 6k\n",
      "208        D 5c\n",
      "209        D 6l\n",
      "210        D 9h\n",
      "211        D 6e\n",
      "212        B 3c\n",
      "213        D 9a\n",
      "214        B 9q\n",
      "215        D 9f\n",
      "216        B 3d\n",
      "217        D 6b\n",
      "218        D 5m\n",
      "219        B 6r\n",
      "220        B 6h\n",
      "221        B 9l\n",
      "222        B 5g\n",
      "223        B 9k\n",
      "224        D 3i\n",
      "225        B 6o\n",
      "226        B 3p\n",
      "227        B 5i\n",
      "228        B 9b\n",
      "229        B 6f\n",
      "230        B 5n\n",
      "231        B 6a\n",
      "232        D 3g\n",
      "233        B 9e\n",
      "234        B 3e\n",
      "235        D 6c\n",
      "236        D 9g\n",
      "237        D 5l\n",
      "238        D 6d\n",
      "239        B 3b\n",
      "240        D 5k\n",
      "241        D 5b\n",
      "242        D 9i\n",
      "243        D 6m\n",
      "244        B 5r\n",
      "245        B 3k\n",
      "246        B 4g\n",
      "247        D 1a\n",
      "248        B 8l\n",
      "249        B 1q\n",
      "250        D 1f\n",
      "251        B 7o\n",
      "252        B 8k\n",
      "253        B 7f\n",
      "254        B 8b\n",
      "255        B 2p\n",
      "256        B 4i\n",
      "257        B 8e\n",
      "258        B 7a\n",
      "259        B 4n\n",
      "260        D 1h\n",
      "261        D 4l\n",
      "262        D 8g\n",
      "263        D 7c\n",
      "264        B 2e\n",
      "265        D 4k\n",
      "266        B 8p\n",
      "267        B 2b\n",
      "268        D 7d\n",
      "269        B 4r\n",
      "270        B 2k\n",
      "271        D 8i\n",
      "272        D 4b\n",
      "273        B 1d\n",
      "274        B 2l\n",
      "275        B 1c\n",
      "276        D 4e\n",
      "277        B 8d\n",
      "278        B 4o\n",
      "279        D 1i\n",
      "280        B 8c\n",
      "281        B 7g\n",
      "282        D 2a\n",
      "283        B 2q\n",
      "284        B 4h\n",
      "285        D 1g\n",
      "286        B 4a\n",
      "287        B 7n\n",
      "288        D 2h\n",
      "289        B 4f\n",
      "290        B 7i\n",
      "291        B 1p\n",
      "292        B 8m\n",
      "293        B 2m\n",
      "294        B 1b\n",
      "295        D 4d\n",
      "296        D 8h\n",
      "297        D 4c\n",
      "298        B 1e\n",
      "299        B 8q\n",
      "300        D 8a\n",
      "301        B 2c\n",
      "302        D 7e\n",
      "303        B 1k\n",
      "304        B 7r\n",
      "305        D 4m\n",
      "306        D 7b\n",
      "307        B 2d\n",
      "308        A 6d\n",
      "309        C 5f\n",
      "310        C 9m\n",
      "311        C 6i\n",
      "312        A 5k\n",
      "313        A 3r\n",
      "314        C 5a\n",
      "315        A 6c\n",
      "316        A 9g\n",
      "317        A 5l\n",
      "318        C 6g\n",
      "319        A 5e\n",
      "320        C 5h\n",
      "321        A 9n\n",
      "322        C 9d\n",
      "323        A 5b\n",
      "324        A 9i\n",
      "325        A 6m\n",
      "326        A 3i\n",
      "327        A 5p\n",
      "328        C 3d\n",
      "329        A 3n\n",
      "330        C 3c\n",
      "331        A 6q\n",
      "332        A 3g\n",
      "333        A 9r\n",
      "334        C 3m\n",
      "335        C 6a\n",
      "336        A 5c\n",
      "337        C 9e\n",
      "338        A 6l\n",
      "339        A 9h\n",
      "340        C 9b\n",
      "341        A 5d\n",
      "342        C 6f\n",
      "343        A 9o\n",
      "344        C 5i\n",
      "345        A 6k\n",
      "346        A 9f\n",
      "347        A 6b\n",
      "348        C 9k\n",
      "349        A 5m\n",
      "350        A 6e\n",
      "351        A 9a\n",
      "352        C 6h\n",
      "353        C 9l\n",
      "354        C 3l\n",
      "355        A 3a\n",
      "356        A 6p\n",
      "357        C 3k\n",
      "358        A 3f\n",
      "359        A 3o\n",
      "360        C 3b\n",
      "361        A 3h\n",
      "362        A 5q\n",
      "363        C 3e\n",
      "364        A 2e\n",
      "365        E 4a\n",
      "366        C 2h\n",
      "367        A 2b\n",
      "368        A 8p\n",
      "369        A 1m\n",
      "370        A 1d\n",
      "371        C 2f\n",
      "372        C 1i\n",
      "373        A 2k\n",
      "374        A 4r\n",
      "375        C 2a\n",
      "376        A 1c\n",
      "377        A 2l\n",
      "378        A 1q\n",
      "379        A 7h\n",
      "380        A 8l\n",
      "381        A 4g\n",
      "382        C 7e\n",
      "383        C 8a\n",
      "384        A 7o\n",
      "385        C 4m\n",
      "386        C 8f\n",
      "387        C 7b\n",
      "388        E 2d\n",
      "389        A 4i\n",
      "390        A 2p\n",
      "391        C 7k\n",
      "392        A 8b\n",
      "393        E 1b\n",
      "394        C 4d\n",
      "395        A 7f\n",
      "396        C 7l\n",
      "397        A 4n\n",
      "398        C 8h\n",
      "399        A 7a\n",
      "400        C 4c\n",
      "401        A 8e\n",
      "402        A 2m\n",
      "403        C 2g\n",
      "404        A 1e\n",
      "405        C 1h\n",
      "406        C 1a\n",
      "407        A 2c\n",
      "408        A 1l\n",
      "409        A 8q\n",
      "410        A 2d\n",
      "411        C 1f\n",
      "412        C 2i\n",
      "413        A 7r\n",
      "414        A 1k\n",
      "415        C 8i\n",
      "416        A 4o\n",
      "417        C 7m\n",
      "418        A 8d\n",
      "419        C 4b\n",
      "420        E 1d\n",
      "421        A 4h\n",
      "422        A 2q\n",
      "423        A 7g\n",
      "424        C 4e\n",
      "425        A 8c\n",
      "426        C 4l\n",
      "427        A 7n\n",
      "428        A 4a\n",
      "429        C 7c\n",
      "430        C 8g\n",
      "431        A 8m\n",
      "432        A 1p\n",
      "433        A 7i\n",
      "434        C 4k\n",
      "435        E 2b\n",
      "436        C 7d\n",
      "437        A 4f\n",
      "438        B 5p\n",
      "439        B 3i\n",
      "440        D 9l\n",
      "441        B 3n\n",
      "442        D 9e\n",
      "443        B 3g\n",
      "444        D 6a\n",
      "445        B 6q\n",
      "446        D 6f\n",
      "447        D 9b\n",
      "448        D 5i\n",
      "449        B 9r\n",
      "450        B 3r\n",
      "451        B 5k\n",
      "452        B 6d\n",
      "453        B 5l\n",
      "454        B 9g\n",
      "455        B 6c\n",
      "456        D 3e\n",
      "457        B 9n\n",
      "458        B 5e\n",
      "459        B 6m\n",
      "460        B 5b\n",
      "461        D 9c\n",
      "462        D 6g\n",
      "463        B 3a\n",
      "464        D 5h\n",
      "465        B 3f\n",
      "466        B 6p\n",
      "467        D 5f\n",
      "468        B 3o\n",
      "469        D 6i\n",
      "470        B 5q\n",
      "471        B 3h\n",
      "472        B 9h\n",
      "473        B 6l\n",
      "474        B 5c\n",
      "475        D 3m\n",
      "476        B 9o\n",
      "477        B 5d\n",
      "478        B 6b\n",
      "479        B 9f\n",
      "480        B 9a\n",
      "481        D 3c\n",
      "482        B 6e\n"
     ]
    }
   ],
   "source": [
    "# Modify the \"Folder Name\" column\n",
    "folder_list['Folder Name'] = folder_list['Folder Name'].str.replace(r'(\\D)(\\d)', r'\\1 \\2', regex=True)\n",
    "\n",
    "# Display the modified DataFrame\n",
    "print(folder_list)"
   ]
  },
  {
   "cell_type": "code",
   "execution_count": 352,
   "metadata": {},
   "outputs": [],
   "source": [
    "df['MIBI'] = df['TMA Localisation'].isin(folder_list['Folder Name']).apply(lambda x: 'acquired' if x else 'no')"
   ]
  },
  {
   "cell_type": "code",
   "execution_count": 353,
   "metadata": {},
   "outputs": [
    {
     "name": "stdout",
     "output_type": "stream",
     "text": [
      "MIBI\n",
      "acquired    470\n",
      "no           52\n",
      "Name: count, dtype: int64\n"
     ]
    }
   ],
   "source": [
    "# Count the number of \"acquired\" and \"no\" values in the \"Result\" column\n",
    "summary = df['MIBI'].value_counts()\n",
    "\n",
    "# Display the summary\n",
    "print(summary)"
   ]
  },
  {
   "cell_type": "code",
   "execution_count": 506,
   "metadata": {},
   "outputs": [
    {
     "name": "stdout",
     "output_type": "stream",
     "text": [
      "Names with 'no': ['A1b', 'A2f', 'A3k', 'A6f', 'A7e', 'A8k', 'B1l', 'B1m', 'B1r', 'B3l', 'B5a', 'B5m', 'B5o', 'B6k', 'B7h', 'B7l', 'B8o', 'B9i', 'B9p', 'C1g', 'C2c', 'C5g', 'C5m', 'C6e', 'C6m', 'C7g', 'C8k', 'C9c', 'C9g', 'D1b', 'D2f', 'D2g', 'D2i', 'D2m', 'D3b', 'D3d', 'D3k', 'D3l', 'D4f', 'D5a', 'D5e', 'D5g', 'D6h', 'D7g', 'D7h', 'D7k', 'D7l', 'D7m', 'D8f', 'D9d', 'D9k', 'D9m']\n"
     ]
    }
   ],
   "source": [
    "no_values = df[df['MIBI'] == 'no']\n",
    "\n",
    "# Extract the corresponding \"TMA Localisation\" values\n",
    "names_with_no = no_values['TMA Localisation'].tolist()\n",
    "\n",
    "# Print the names with \"no\"\n",
    "print(\"Names with 'no':\", names_with_no)"
   ]
  },
  {
   "cell_type": "code",
   "execution_count": 355,
   "metadata": {},
   "outputs": [
    {
     "name": "stdout",
     "output_type": "stream",
     "text": [
      "Folder names have been saved to /Users/teresaglauner/Documents/Hamburg_folder/CRC_TMA/summary_clinical_data.csv.\n"
     ]
    }
   ],
   "source": [
    "# Specify the path for the CSV file\n",
    "csv_file_path = '/Users/teresaglauner/Documents/Hamburg_folder/CRC_TMA/summary_clinical_data.csv'\n",
    "\n",
    "# Save the DataFrame to the specified CSV file\n",
    "df.to_csv(csv_file_path, index=False)\n",
    "\n",
    "print(f\"Folder names have been saved to {csv_file_path}.\")"
   ]
  },
  {
   "cell_type": "markdown",
   "metadata": {},
   "source": [
    "# For which of the patients I have clinical data for?"
   ]
  },
  {
   "cell_type": "markdown",
   "metadata": {},
   "source": [
    "Now, I need to check which of the patients I don't have clinical data for. For this, I can use the excel sheet with the overview of the TMA"
   ]
  },
  {
   "cell_type": "code",
   "execution_count": 356,
   "metadata": {},
   "outputs": [
    {
     "name": "stdout",
     "output_type": "stream",
     "text": [
      "   Array Name Array_Part Lokalisation Entität_VT Kommentar\n",
      "0  COL 10.2.          A          A 1a  Colon-Ca.       NaN\n",
      "1  COL 10.2.          A          A 1b  Colon-Ca.       NaN\n",
      "2  COL 10.2.          A          A 1c  Colon-Ca.       NaN\n",
      "3  COL 10.2.          A          A 1d  Colon-Ca.       NaN\n",
      "4  COL 10.2.          A          A 1e  Colon-Ca.       NaN\n"
     ]
    }
   ],
   "source": [
    "# Specify the path to your XLSX file\n",
    "xlsx_file_path = '/Users/teresaglauner/Documents/Hamburg_folder/CRC_TMA/COL 10.2 A Anonym.xlsx'\n",
    "\n",
    "# Read the XLSX file into a DataFrame\n",
    "dd = pd.read_excel(xlsx_file_path)\n",
    "\n",
    "# Now, you can work with the data in the DataFrame (e.g., print the first 5 rows)\n",
    "print(dd.head())"
   ]
  },
  {
   "cell_type": "code",
   "execution_count": 357,
   "metadata": {},
   "outputs": [],
   "source": [
    "dd['clinical_data'] = dd['Lokalisation'].isin(df['TMA Localisation']).apply(lambda x: 'yes' if x else 'no')"
   ]
  },
  {
   "cell_type": "code",
   "execution_count": 358,
   "metadata": {},
   "outputs": [
    {
     "name": "stdout",
     "output_type": "stream",
     "text": [
      "clinical_data\n",
      "yes    522\n",
      "no      20\n",
      "Name: count, dtype: int64\n"
     ]
    }
   ],
   "source": [
    "# Count the number of \"acquired\" and \"no\" values in the \"Result\" column\n",
    "summary = dd['clinical_data'].value_counts()\n",
    "\n",
    "# Display the summary\n",
    "print(summary)"
   ]
  },
  {
   "cell_type": "code",
   "execution_count": 359,
   "metadata": {},
   "outputs": [
    {
     "name": "stdout",
     "output_type": "stream",
     "text": [
      "Names with 'no': ['E 1a', 'E 1b', 'E 1c', 'E 1d', 'E 1e', 'E 2a', 'E 2b', 'E 2c', 'E 2d', 'E 2e', 'E 3a', 'E 3b', 'E 3c', 'E 3d', 'E 3e', 'E 4a', 'E 4b', 'E 4c', 'E 4d', 'E 4e']\n"
     ]
    }
   ],
   "source": [
    "no_values = dd[dd['clinical_data'] == 'no']\n",
    "\n",
    "# Extract the corresponding \"TMA Localisation\" values\n",
    "names_with_no = no_values['Lokalisation'].tolist()\n",
    "\n",
    "# Print the names with \"no\"\n",
    "print(\"Names with 'no':\", names_with_no)"
   ]
  },
  {
   "cell_type": "markdown",
   "metadata": {},
   "source": [
    "# Which patients have been acquired by MIBI (with or without clinical data)?"
   ]
  },
  {
   "cell_type": "code",
   "execution_count": 360,
   "metadata": {},
   "outputs": [],
   "source": [
    "dd['MIBI'] = dd['Lokalisation'].isin(folder_list['Folder Name']).apply(lambda x: 'acquired' if x else 'no')"
   ]
  },
  {
   "cell_type": "code",
   "execution_count": 361,
   "metadata": {},
   "outputs": [
    {
     "name": "stdout",
     "output_type": "stream",
     "text": [
      "MIBI\n",
      "acquired    483\n",
      "no           59\n",
      "Name: count, dtype: int64\n"
     ]
    }
   ],
   "source": [
    "# Count the number of \"acquired\" and \"no\" values in the \"Result\" column\n",
    "summary = dd['MIBI'].value_counts()\n",
    "\n",
    "# Display the summary\n",
    "print(summary)"
   ]
  },
  {
   "cell_type": "code",
   "execution_count": 362,
   "metadata": {},
   "outputs": [
    {
     "name": "stdout",
     "output_type": "stream",
     "text": [
      "Names with 'no': ['A 1b', 'A 2f', 'A 3k', 'A 6f', 'A 7e', 'A 8k', 'B 1l', 'B 1m', 'B 1r', 'B 3l', 'B 5a', 'B 5m', 'B 5o', 'B 6k', 'B 7h', 'B 7l', 'B 8o', 'B 9i', 'B 9p', 'C 1g', 'C 2c', 'C 5g', 'C 5m', 'C 6e', 'C 6m', 'C 7g', 'C 8k', 'C 9c', 'C 9g', 'D 1b', 'D 2f', 'D 2g', 'D 2i', 'D 2m', 'D 3b', 'D 3d', 'D 3k', 'D 3l', 'D 4f', 'D 5a', 'D 5e', 'D 5g', 'D 6h', 'D 7g', 'D 7h', 'D 7k', 'D 7l', 'D 7m', 'D 8f', 'D 9d', 'D 9k', 'D 9m', 'E 1c', 'E 1e', 'E 2c', 'E 2e', 'E 3a', 'E 3d', 'E 4c']\n"
     ]
    }
   ],
   "source": [
    "no_values = dd[dd['MIBI'] == 'no']\n",
    "\n",
    "# Extract the corresponding \"TMA Localisation\" values\n",
    "names_with_no = no_values['Lokalisation'].tolist()\n",
    "\n",
    "# Print the names with \"no\"\n",
    "print(\"Names with 'no':\", names_with_no)"
   ]
  },
  {
   "cell_type": "code",
   "execution_count": 363,
   "metadata": {},
   "outputs": [
    {
     "name": "stdout",
     "output_type": "stream",
     "text": [
      "Folder names have been saved to /Users/teresaglauner/Documents/Hamburg_folder/CRC_TMA/summary_patients.csv.\n"
     ]
    }
   ],
   "source": [
    "# Specify the path for the CSV file\n",
    "csv_file_path = '/Users/teresaglauner/Documents/Hamburg_folder/CRC_TMA/summary_patients.csv'\n",
    "\n",
    "# Save the DataFrame to the specified CSV file\n",
    "dd.to_csv(csv_file_path, index=False)\n",
    "\n",
    "print(f\"Folder names have been saved to {csv_file_path}.\")"
   ]
  },
  {
   "cell_type": "markdown",
   "metadata": {},
   "source": [
    "# Which clinical data categories I have?"
   ]
  },
  {
   "cell_type": "code",
   "execution_count": 364,
   "metadata": {},
   "outputs": [
    {
     "data": {
      "text/html": [
       "<div>\n",
       "<style scoped>\n",
       "    .dataframe tbody tr th:only-of-type {\n",
       "        vertical-align: middle;\n",
       "    }\n",
       "\n",
       "    .dataframe tbody tr th {\n",
       "        vertical-align: top;\n",
       "    }\n",
       "\n",
       "    .dataframe thead th {\n",
       "        text-align: right;\n",
       "    }\n",
       "</style>\n",
       "<table border=\"1\" class=\"dataframe\">\n",
       "  <thead>\n",
       "    <tr style=\"text-align: right;\">\n",
       "      <th></th>\n",
       "      <th>TMA name</th>\n",
       "      <th>TMA sector</th>\n",
       "      <th>TMA Localisation</th>\n",
       "      <th>Tumorlokalisation COL10</th>\n",
       "      <th>Tumorlokalisation alle RED</th>\n",
       "      <th>Tumor Seite alle</th>\n",
       "      <th>Tumortyp</th>\n",
       "      <th>pT raw</th>\n",
       "      <th>pN raw</th>\n",
       "      <th>Grade raw</th>\n",
       "      <th>pT group</th>\n",
       "      <th>pN group</th>\n",
       "      <th>pM group</th>\n",
       "      <th>Tumordurchmesser (mm)</th>\n",
       "      <th>Muzinöse Tumorkomponente</th>\n",
       "      <th>Infiltrationstyp</th>\n",
       "      <th>Tumorbudding</th>\n",
       "      <th>Peritumorale lymphozytäre Infiltration</th>\n",
       "      <th>Angioinvasion V RED</th>\n",
       "      <th>Lymphbahninvasion L</th>\n",
       "      <th>MSI im Befund</th>\n",
       "      <th>MSI gesamt RED</th>\n",
       "      <th>RAS Mutation RED</th>\n",
       "      <th>RAS Mutation RED 2</th>\n",
       "      <th>BRAF Mutation RED</th>\n",
       "      <th>HER2 Amplifikation</th>\n",
       "      <th>Age</th>\n",
       "      <th>Sex</th>\n",
       "      <th>MIBI</th>\n",
       "    </tr>\n",
       "  </thead>\n",
       "  <tbody>\n",
       "    <tr>\n",
       "      <th>0</th>\n",
       "      <td>COL 10.2.</td>\n",
       "      <td>A</td>\n",
       "      <td>A 1a</td>\n",
       "      <td>Kolon Sigmoideum</td>\n",
       "      <td>Sigma</td>\n",
       "      <td>links</td>\n",
       "      <td>Adenokarzinom</td>\n",
       "      <td>pT3</td>\n",
       "      <td>pN0</td>\n",
       "      <td>NaN</td>\n",
       "      <td>pT3</td>\n",
       "      <td>pN0</td>\n",
       "      <td>NaN</td>\n",
       "      <td>NaN</td>\n",
       "      <td>x</td>\n",
       "      <td>x</td>\n",
       "      <td>x</td>\n",
       "      <td>x</td>\n",
       "      <td>V0</td>\n",
       "      <td>L0</td>\n",
       "      <td>n.a.</td>\n",
       "      <td>NaN</td>\n",
       "      <td>n.a.</td>\n",
       "      <td>NaN</td>\n",
       "      <td>NaN</td>\n",
       "      <td>x</td>\n",
       "      <td>88</td>\n",
       "      <td>w</td>\n",
       "      <td>acquired</td>\n",
       "    </tr>\n",
       "    <tr>\n",
       "      <th>1</th>\n",
       "      <td>COL 10.2.</td>\n",
       "      <td>A</td>\n",
       "      <td>A 1b</td>\n",
       "      <td>Kolon Sigmoideum</td>\n",
       "      <td>Sigma</td>\n",
       "      <td>links</td>\n",
       "      <td>Adenokarzinom</td>\n",
       "      <td>pT3</td>\n",
       "      <td>pN0</td>\n",
       "      <td>NaN</td>\n",
       "      <td>pT3</td>\n",
       "      <td>pN0</td>\n",
       "      <td>NaN</td>\n",
       "      <td>60.0</td>\n",
       "      <td>0.3</td>\n",
       "      <td>expansiv</td>\n",
       "      <td>x</td>\n",
       "      <td>gering</td>\n",
       "      <td>V0</td>\n",
       "      <td>L0</td>\n",
       "      <td>n.a.</td>\n",
       "      <td>NaN</td>\n",
       "      <td>codon 12</td>\n",
       "      <td>RAS Mut.</td>\n",
       "      <td>NaN</td>\n",
       "      <td>x</td>\n",
       "      <td>82</td>\n",
       "      <td>m</td>\n",
       "      <td>no</td>\n",
       "    </tr>\n",
       "    <tr>\n",
       "      <th>2</th>\n",
       "      <td>COL 10.2.</td>\n",
       "      <td>A</td>\n",
       "      <td>A 1c</td>\n",
       "      <td>Kolon Sigmoideum</td>\n",
       "      <td>Sigma</td>\n",
       "      <td>links</td>\n",
       "      <td>Adenokarzinom</td>\n",
       "      <td>pT4</td>\n",
       "      <td>pN0</td>\n",
       "      <td>NaN</td>\n",
       "      <td>pT4</td>\n",
       "      <td>pN0</td>\n",
       "      <td>NaN</td>\n",
       "      <td>55.0</td>\n",
       "      <td>x</td>\n",
       "      <td>x</td>\n",
       "      <td>x</td>\n",
       "      <td>x</td>\n",
       "      <td>V0</td>\n",
       "      <td>L0</td>\n",
       "      <td>n.a.</td>\n",
       "      <td>NaN</td>\n",
       "      <td>n.a.</td>\n",
       "      <td>NaN</td>\n",
       "      <td>NaN</td>\n",
       "      <td>x</td>\n",
       "      <td>75</td>\n",
       "      <td>m</td>\n",
       "      <td>acquired</td>\n",
       "    </tr>\n",
       "    <tr>\n",
       "      <th>3</th>\n",
       "      <td>COL 10.2.</td>\n",
       "      <td>A</td>\n",
       "      <td>A 1d</td>\n",
       "      <td>rektosigmoidaler Übergang</td>\n",
       "      <td>Sigma</td>\n",
       "      <td>links</td>\n",
       "      <td>Adenokarzinom</td>\n",
       "      <td>pT3</td>\n",
       "      <td>pN0</td>\n",
       "      <td>NaN</td>\n",
       "      <td>pT3</td>\n",
       "      <td>pN0</td>\n",
       "      <td>NaN</td>\n",
       "      <td>30.0</td>\n",
       "      <td>x</td>\n",
       "      <td>expansiv</td>\n",
       "      <td>x</td>\n",
       "      <td>gering</td>\n",
       "      <td>V0</td>\n",
       "      <td>L0</td>\n",
       "      <td>n.a.</td>\n",
       "      <td>stabil</td>\n",
       "      <td>codon 12</td>\n",
       "      <td>RAS Mut.</td>\n",
       "      <td>NaN</td>\n",
       "      <td>nein</td>\n",
       "      <td>74</td>\n",
       "      <td>m</td>\n",
       "      <td>acquired</td>\n",
       "    </tr>\n",
       "    <tr>\n",
       "      <th>4</th>\n",
       "      <td>COL 10.2.</td>\n",
       "      <td>A</td>\n",
       "      <td>A 1e</td>\n",
       "      <td>Kolon Sigmoideum</td>\n",
       "      <td>Sigma</td>\n",
       "      <td>links</td>\n",
       "      <td>Adenokarzinom</td>\n",
       "      <td>pT4</td>\n",
       "      <td>pN0</td>\n",
       "      <td>NaN</td>\n",
       "      <td>pT4</td>\n",
       "      <td>pN0</td>\n",
       "      <td>NaN</td>\n",
       "      <td>55.0</td>\n",
       "      <td>x</td>\n",
       "      <td>expansiv</td>\n",
       "      <td>x</td>\n",
       "      <td>stark</td>\n",
       "      <td>V0</td>\n",
       "      <td>L0</td>\n",
       "      <td>n.a.</td>\n",
       "      <td>stabil</td>\n",
       "      <td>wt</td>\n",
       "      <td>wt</td>\n",
       "      <td>NaN</td>\n",
       "      <td>x</td>\n",
       "      <td>90</td>\n",
       "      <td>w</td>\n",
       "      <td>acquired</td>\n",
       "    </tr>\n",
       "  </tbody>\n",
       "</table>\n",
       "</div>"
      ],
      "text/plain": [
       "    TMA name TMA sector TMA Localisation    Tumorlokalisation COL10  \\\n",
       "0  COL 10.2.          A             A 1a           Kolon Sigmoideum   \n",
       "1  COL 10.2.          A             A 1b           Kolon Sigmoideum   \n",
       "2  COL 10.2.          A             A 1c           Kolon Sigmoideum   \n",
       "3  COL 10.2.          A             A 1d  rektosigmoidaler Übergang   \n",
       "4  COL 10.2.          A             A 1e           Kolon Sigmoideum   \n",
       "\n",
       "  Tumorlokalisation alle RED Tumor Seite alle       Tumortyp pT raw pN raw  \\\n",
       "0                      Sigma            links  Adenokarzinom    pT3    pN0   \n",
       "1                      Sigma            links  Adenokarzinom    pT3    pN0   \n",
       "2                      Sigma            links  Adenokarzinom    pT4    pN0   \n",
       "3                      Sigma            links  Adenokarzinom    pT3    pN0   \n",
       "4                      Sigma            links  Adenokarzinom    pT4    pN0   \n",
       "\n",
       "   Grade raw pT group pN group  pM group  Tumordurchmesser (mm)  \\\n",
       "0        NaN      pT3      pN0       NaN                    NaN   \n",
       "1        NaN      pT3      pN0       NaN                   60.0   \n",
       "2        NaN      pT4      pN0       NaN                   55.0   \n",
       "3        NaN      pT3      pN0       NaN                   30.0   \n",
       "4        NaN      pT4      pN0       NaN                   55.0   \n",
       "\n",
       "  Muzinöse Tumorkomponente Infiltrationstyp Tumorbudding  \\\n",
       "0                        x                x            x   \n",
       "1                      0.3         expansiv            x   \n",
       "2                        x                x            x   \n",
       "3                        x         expansiv            x   \n",
       "4                        x         expansiv            x   \n",
       "\n",
       "  Peritumorale lymphozytäre Infiltration Angioinvasion V RED  \\\n",
       "0                                      x                  V0   \n",
       "1                                 gering                  V0   \n",
       "2                                      x                  V0   \n",
       "3                                 gering                  V0   \n",
       "4                                  stark                  V0   \n",
       "\n",
       "  Lymphbahninvasion L MSI im Befund MSI gesamt RED RAS Mutation RED  \\\n",
       "0                  L0          n.a.            NaN             n.a.   \n",
       "1                  L0          n.a.            NaN         codon 12   \n",
       "2                  L0          n.a.            NaN             n.a.   \n",
       "3                  L0          n.a.         stabil         codon 12   \n",
       "4                  L0          n.a.         stabil               wt   \n",
       "\n",
       "  RAS Mutation RED 2 BRAF Mutation RED HER2 Amplifikation  Age Sex      MIBI  \n",
       "0                NaN               NaN                  x   88   w  acquired  \n",
       "1           RAS Mut.               NaN                  x   82   m        no  \n",
       "2                NaN               NaN                  x   75   m  acquired  \n",
       "3           RAS Mut.               NaN               nein   74   m  acquired  \n",
       "4                 wt               NaN                  x   90   w  acquired  "
      ]
     },
     "execution_count": 364,
     "metadata": {},
     "output_type": "execute_result"
    }
   ],
   "source": [
    "df.head()"
   ]
  },
  {
   "cell_type": "code",
   "execution_count": 365,
   "metadata": {},
   "outputs": [
    {
     "name": "stderr",
     "output_type": "stream",
     "text": [
      "/var/folders/wz/d4sltz8j5g921kkhbdghhw5r0000gq/T/ipykernel_11834/3739722567.py:2: FutureWarning: Setting an item of incompatible dtype is deprecated and will raise in a future error of pandas. Value 'NaN' has dtype incompatible with float64, please explicitly cast to a compatible dtype first.\n",
      "  df.fillna(\"NaN\", inplace=True)\n"
     ]
    }
   ],
   "source": [
    "# Replace missing values in the entire DataFrame with \"n.a.\"\n",
    "df.fillna(\"NaN\", inplace=True)"
   ]
  },
  {
   "cell_type": "code",
   "execution_count": 366,
   "metadata": {},
   "outputs": [
    {
     "name": "stdout",
     "output_type": "stream",
     "text": [
      "Tumorlokalisation COL10\n",
      "Kolon Sigmoideum                234\n",
      "Rektum                          130\n",
      "rektosigmoidaler Übergang        44\n",
      "Zökum                            30\n",
      "kolon Ascendens                  24\n",
      "Kolon Descendens                 20\n",
      "Kolon Ascendens                  16\n",
      "Kolon Transversum                12\n",
      "linke Kolonflexur                 3\n",
      "Kolon                             3\n",
      "rechte Kolonflexur                2\n",
      "linke Flexur                      2\n",
      "descendosigmoidaler Übergang      1\n",
      "kolorektaler Übergang             1\n",
      "Name: count, dtype: int64\n"
     ]
    }
   ],
   "source": [
    "# Get a summary of the \"Tumorlokalisation COL10\" column\n",
    "summary = df['Tumorlokalisation COL10'].value_counts()\n",
    "\n",
    "# Display the summary\n",
    "print(summary)"
   ]
  },
  {
   "cell_type": "code",
   "execution_count": 367,
   "metadata": {},
   "outputs": [],
   "source": [
    "df['Tumorlokalisation COL10'] = df['Tumorlokalisation COL10'].replace(\"linke Flexur\", \"linke Kolonflexur\")\n",
    "df['Tumorlokalisation COL10'] = df['Tumorlokalisation COL10'].replace(\"kolon Ascendens\", \"Kolon Ascendens\")"
   ]
  },
  {
   "cell_type": "markdown",
   "metadata": {},
   "source": [
    "Do not use \"Tumorlokalisation COL10\" for the comparison"
   ]
  },
  {
   "cell_type": "code",
   "execution_count": 368,
   "metadata": {},
   "outputs": [
    {
     "name": "stdout",
     "output_type": "stream",
     "text": [
      "Tumorlokalisation alle RED\n",
      "Sigma          279\n",
      "Rektum         130\n",
      "Ascendens       40\n",
      "Zoekum          30\n",
      "Descendens      26\n",
      "Transversum     14\n",
      "NaN              3\n",
      "Name: count, dtype: int64\n"
     ]
    }
   ],
   "source": [
    "# Get a summary of the \"Tumorlokalisation COL10\" column\n",
    "summary = df['Tumorlokalisation alle RED'].value_counts()\n",
    "\n",
    "# Display the summary\n",
    "print(summary)"
   ]
  },
  {
   "cell_type": "code",
   "execution_count": 369,
   "metadata": {},
   "outputs": [
    {
     "name": "stdout",
     "output_type": "stream",
     "text": [
      "pT group  Tumorlokalisation alle RED\n",
      "NaN       Ascendens                       1\n",
      "          NaN                             1\n",
      "          Rektum                          2\n",
      "          Sigma                           4\n",
      "pT1       Descendens                      1\n",
      "          Rektum                          6\n",
      "          Sigma                          12\n",
      "          Transversum                     1\n",
      "          Zoekum                          1\n",
      "pT2       Ascendens                       8\n",
      "          Descendens                      3\n",
      "          NaN                             1\n",
      "          Rektum                         34\n",
      "          Sigma                          46\n",
      "          Transversum                     3\n",
      "          Zoekum                          8\n",
      "pT3       Ascendens                      25\n",
      "          Descendens                     16\n",
      "          NaN                             1\n",
      "          Rektum                         73\n",
      "          Sigma                         137\n",
      "          Transversum                     7\n",
      "          Zoekum                         13\n",
      "pT4       Ascendens                       6\n",
      "          Descendens                      6\n",
      "          Rektum                         15\n",
      "          Sigma                          80\n",
      "          Transversum                     3\n",
      "          Zoekum                          8\n",
      "dtype: int64\n"
     ]
    }
   ],
   "source": [
    "# Group the data by both \"pT group\" and \"pN group\" and count the occurrences\n",
    "summary = df.groupby(['pT group', 'Tumorlokalisation alle RED']).size()\n",
    "\n",
    "# Display the summary\n",
    "print(summary)"
   ]
  },
  {
   "cell_type": "code",
   "execution_count": 483,
   "metadata": {},
   "outputs": [
    {
     "name": "stdout",
     "output_type": "stream",
     "text": [
      "pT group  Tumorlokalisation alle RED\n",
      "NaN       Ascendens                     12\n",
      "          NaN                           12\n",
      "          Rektum                        25\n",
      "          Sigma                         50\n",
      "pT1       Descendens                     5\n",
      "          Rektum                        29\n",
      "          Sigma                         57\n",
      "          Transversum                    5\n",
      "          Zoekum                         5\n",
      "pT2       Ascendens                      8\n",
      "          Descendens                     3\n",
      "          NaN                            1\n",
      "          Rektum                        33\n",
      "          Sigma                         45\n",
      "          Transversum                    3\n",
      "          Zoekum                         8\n",
      "pT3       Ascendens                      9\n",
      "          Descendens                     6\n",
      "          NaN                            0\n",
      "          Rektum                        27\n",
      "          Sigma                         50\n",
      "          Transversum                    3\n",
      "          Zoekum                         5\n",
      "pT4       Ascendens                      5\n",
      "          Descendens                     5\n",
      "          Rektum                        13\n",
      "          Sigma                         68\n",
      "          Transversum                    3\n",
      "          Zoekum                         7\n",
      "dtype: int64\n"
     ]
    }
   ],
   "source": [
    "# Group the data by 'pT group' and 'Sex' and count the occurrences\n",
    "grouped_counts = df.groupby(['pT group', 'Tumorlokalisation alle RED']).size()\n",
    "\n",
    "# Group the data by 'pT group' and calculate the total count for each 'pT group'\n",
    "pT_group_total_counts = df.groupby('pT group').size()\n",
    "\n",
    "# Calculate the percentages within each 'pT group' and round to the nearest whole number\n",
    "pT_group_percentages = (grouped_counts / pT_group_total_counts * 100).round().astype(int)\n",
    "\n",
    "# Display the percentages for each 'pT group'\n",
    "print(pT_group_percentages)"
   ]
  },
  {
   "cell_type": "markdown",
   "metadata": {},
   "source": [
    "Use \"Tumorlokalisation alle RED\" for the comparison!!!!"
   ]
  },
  {
   "cell_type": "code",
   "execution_count": 375,
   "metadata": {},
   "outputs": [
    {
     "name": "stdout",
     "output_type": "stream",
     "text": [
      "Tumor Seite alle\n",
      "links     434\n",
      "rechts     84\n",
      "NaN         4\n",
      "Name: count, dtype: int64\n"
     ]
    }
   ],
   "source": [
    "# Get a summary of the \"Tumorlokalisation COL10\" column\n",
    "summary = df['Tumor Seite alle'].value_counts()\n",
    "\n",
    "# Display the summary\n",
    "print(summary)"
   ]
  },
  {
   "cell_type": "code",
   "execution_count": 376,
   "metadata": {},
   "outputs": [
    {
     "name": "stdout",
     "output_type": "stream",
     "text": [
      "pT group  Tumor Seite alle\n",
      "NaN       NaN                   1\n",
      "          links                 6\n",
      "          rechts                1\n",
      "pT1       links                19\n",
      "          rechts                2\n",
      "pT2       NaN                   1\n",
      "          links                83\n",
      "          rechts               19\n",
      "pT3       NaN                   2\n",
      "          links               225\n",
      "          rechts               45\n",
      "pT4       links               101\n",
      "          rechts               17\n",
      "dtype: int64\n"
     ]
    }
   ],
   "source": [
    "# Group the data by both \"pT group\" and \"pN group\" and count the occurrences\n",
    "summary = df.groupby(['pT group', 'Tumor Seite alle']).size()\n",
    "\n",
    "# Display the summary\n",
    "print(summary)"
   ]
  },
  {
   "cell_type": "code",
   "execution_count": 484,
   "metadata": {},
   "outputs": [
    {
     "name": "stdout",
     "output_type": "stream",
     "text": [
      "pT group  Tumor Seite alle\n",
      "NaN       NaN                 12\n",
      "          links               75\n",
      "          rechts              12\n",
      "pT1       links               90\n",
      "          rechts              10\n",
      "pT2       NaN                  1\n",
      "          links               81\n",
      "          rechts              18\n",
      "pT3       NaN                  1\n",
      "          links               83\n",
      "          rechts              17\n",
      "pT4       links               86\n",
      "          rechts              14\n",
      "dtype: int64\n"
     ]
    }
   ],
   "source": [
    "# Group the data by 'pT group' and 'Sex' and count the occurrences\n",
    "grouped_counts = df.groupby(['pT group', 'Tumor Seite alle']).size()\n",
    "\n",
    "# Group the data by 'pT group' and calculate the total count for each 'pT group'\n",
    "pT_group_total_counts = df.groupby('pT group').size()\n",
    "\n",
    "# Calculate the percentages within each 'pT group' and round to the nearest whole number\n",
    "pT_group_percentages = (grouped_counts / pT_group_total_counts * 100).round().astype(int)\n",
    "\n",
    "# Display the percentages for each 'pT group'\n",
    "print(pT_group_percentages)"
   ]
  },
  {
   "cell_type": "markdown",
   "metadata": {},
   "source": [
    "Use \"Tumor Seite alle\" for the comparison!!!!"
   ]
  },
  {
   "cell_type": "markdown",
   "metadata": {},
   "source": [
    "Tumortyp"
   ]
  },
  {
   "cell_type": "code",
   "execution_count": 378,
   "metadata": {},
   "outputs": [
    {
     "name": "stdout",
     "output_type": "stream",
     "text": [
      "Tumortyp\n",
      "Adenokarzinom    522\n",
      "Name: count, dtype: int64\n"
     ]
    }
   ],
   "source": [
    "# Get a summary of the \"Tumorlokalisation COL10\" column\n",
    "summary = df['Tumortyp'].value_counts()\n",
    "\n",
    "# Display the summary\n",
    "print(summary)"
   ]
  },
  {
   "cell_type": "code",
   "execution_count": 485,
   "metadata": {},
   "outputs": [
    {
     "name": "stdout",
     "output_type": "stream",
     "text": [
      "pT group  Tumortyp     \n",
      "NaN       Adenokarzinom      8\n",
      "pT1       Adenokarzinom     21\n",
      "pT2       Adenokarzinom    103\n",
      "pT3       Adenokarzinom    272\n",
      "pT4       Adenokarzinom    118\n",
      "dtype: int64\n"
     ]
    }
   ],
   "source": [
    "# Group the data by both \"pT group\" and \"pN group\" and count the occurrences\n",
    "summary = df.groupby(['pT group', 'Tumortyp']).size()\n",
    "\n",
    "# Display the summary\n",
    "print(summary)"
   ]
  },
  {
   "cell_type": "code",
   "execution_count": 486,
   "metadata": {},
   "outputs": [
    {
     "name": "stdout",
     "output_type": "stream",
     "text": [
      "pT group  Tumortyp     \n",
      "NaN       Adenokarzinom    100\n",
      "pT1       Adenokarzinom    100\n",
      "pT2       Adenokarzinom    100\n",
      "pT3       Adenokarzinom    100\n",
      "pT4       Adenokarzinom    100\n",
      "dtype: int64\n"
     ]
    }
   ],
   "source": [
    "# Group the data by 'pT group' and 'Sex' and count the occurrences\n",
    "grouped_counts = df.groupby(['pT group', 'Tumortyp']).size()\n",
    "\n",
    "# Group the data by 'pT group' and calculate the total count for each 'pT group'\n",
    "pT_group_total_counts = df.groupby('pT group').size()\n",
    "\n",
    "# Calculate the percentages within each 'pT group' and round to the nearest whole number\n",
    "pT_group_percentages = (grouped_counts / pT_group_total_counts * 100).round().astype(int)\n",
    "\n",
    "# Display the percentages for each 'pT group'\n",
    "print(pT_group_percentages)"
   ]
  },
  {
   "cell_type": "markdown",
   "metadata": {},
   "source": [
    "Do not use \"Tumortyp\" for the comparison!!!!"
   ]
  },
  {
   "cell_type": "code",
   "execution_count": 390,
   "metadata": {},
   "outputs": [
    {
     "name": "stdout",
     "output_type": "stream",
     "text": [
      "pT raw\n",
      "pT3     271\n",
      "pT2     102\n",
      "pT4a     73\n",
      "pT4b     29\n",
      "pT1      21\n",
      "pT4      16\n",
      "NaN       7\n",
      "pTis      1\n",
      "p2        1\n",
      "pT3c      1\n",
      "Name: count, dtype: int64\n"
     ]
    }
   ],
   "source": [
    "# Get a summary of the \"Tumorlokalisation COL10\" column\n",
    "summary = df['pT raw'].value_counts()\n",
    "\n",
    "# Display the summary\n",
    "print(summary)"
   ]
  },
  {
   "cell_type": "code",
   "execution_count": 389,
   "metadata": {},
   "outputs": [],
   "source": [
    "df['pT raw'] = df['pT raw'].replace(\"n.a.\", \"NaN\")"
   ]
  },
  {
   "cell_type": "markdown",
   "metadata": {},
   "source": [
    "Do not use \"pT raw\" for the comparison!!!!"
   ]
  },
  {
   "cell_type": "code",
   "execution_count": 392,
   "metadata": {},
   "outputs": [
    {
     "name": "stdout",
     "output_type": "stream",
     "text": [
      "pN raw\n",
      "pN0     262\n",
      "pN2a     59\n",
      "pN1b     52\n",
      "pN1a     51\n",
      "pN2b     45\n",
      "pN1      26\n",
      "NaN      12\n",
      "pN2      11\n",
      "pN1c      4\n",
      "Name: count, dtype: int64\n"
     ]
    }
   ],
   "source": [
    "# Get a summary of the \"Tumorlokalisation COL10\" column\n",
    "summary = df['pN raw'].value_counts()\n",
    "\n",
    "# Display the summary\n",
    "print(summary)"
   ]
  },
  {
   "cell_type": "code",
   "execution_count": 391,
   "metadata": {},
   "outputs": [],
   "source": [
    "df['pN raw'] = df['pN raw'].replace(\"n.a.\", \"NaN\")"
   ]
  },
  {
   "cell_type": "markdown",
   "metadata": {},
   "source": [
    "Do not use \"pN raw\" for the comparison!!!!"
   ]
  },
  {
   "cell_type": "code",
   "execution_count": 393,
   "metadata": {},
   "outputs": [
    {
     "name": "stdout",
     "output_type": "stream",
     "text": [
      "pT group\n",
      "pT3    272\n",
      "pT4    118\n",
      "pT2    103\n",
      "pT1     21\n",
      "NaN      8\n",
      "Name: count, dtype: int64\n"
     ]
    }
   ],
   "source": [
    "# Get a summary of the \"Tumorlokalisation COL10\" column\n",
    "summary = df['pT group'].value_counts()\n",
    "\n",
    "# Display the summary\n",
    "print(summary)"
   ]
  },
  {
   "cell_type": "code",
   "execution_count": 394,
   "metadata": {},
   "outputs": [
    {
     "name": "stdout",
     "output_type": "stream",
     "text": [
      "pT group\n",
      "NaN     2\n",
      "pT1     4\n",
      "pT2    20\n",
      "pT3    52\n",
      "pT4    23\n",
      "dtype: int64\n"
     ]
    }
   ],
   "source": [
    "# Group the data by both \"pT group\" and \"Tumor Size Group\" and count the occurrences\n",
    "summary_counts = df.groupby(['pT group']).size()\n",
    "\n",
    "# Calculate the total count\n",
    "total_count = len(df)\n",
    "\n",
    "# Calculate the summaries as percentages and round to the nearest whole number\n",
    "summary_percentages = (summary_counts / total_count * 100).round().astype(int)\n",
    "\n",
    "# Display the summary as integers (rounded percentages)\n",
    "print(summary_percentages)"
   ]
  },
  {
   "cell_type": "markdown",
   "metadata": {},
   "source": [
    "Use \"pT group\" for the comparison!!!!"
   ]
  },
  {
   "cell_type": "code",
   "execution_count": 395,
   "metadata": {},
   "outputs": [
    {
     "name": "stdout",
     "output_type": "stream",
     "text": [
      "pN group\n",
      "pN0    262\n",
      "pN+    248\n",
      "NaN     12\n",
      "Name: count, dtype: int64\n"
     ]
    }
   ],
   "source": [
    "# Get a summary of the \"Tumorlokalisation COL10\" column\n",
    "summary = df['pN group'].value_counts()\n",
    "\n",
    "# Display the summary\n",
    "print(summary)"
   ]
  },
  {
   "cell_type": "code",
   "execution_count": 396,
   "metadata": {},
   "outputs": [
    {
     "name": "stdout",
     "output_type": "stream",
     "text": [
      "pT group  pN group\n",
      "NaN       NaN           7\n",
      "          pN0           1\n",
      "pT1       NaN           1\n",
      "          pN+           1\n",
      "          pN0          19\n",
      "pT2       NaN           2\n",
      "          pN+          26\n",
      "          pN0          75\n",
      "pT3       NaN           1\n",
      "          pN+         142\n",
      "          pN0         129\n",
      "pT4       NaN           1\n",
      "          pN+          79\n",
      "          pN0          38\n",
      "dtype: int64\n"
     ]
    }
   ],
   "source": [
    "# Group the data by both \"pT group\" and \"pN group\" and count the occurrences\n",
    "summary = df.groupby(['pT group', 'pN group']).size()\n",
    "\n",
    "# Display the summary\n",
    "print(summary)"
   ]
  },
  {
   "cell_type": "code",
   "execution_count": 487,
   "metadata": {},
   "outputs": [
    {
     "name": "stdout",
     "output_type": "stream",
     "text": [
      "pT group  pN group\n",
      "NaN       NaN         88\n",
      "          pN0         12\n",
      "pT1       NaN          5\n",
      "          pN+          5\n",
      "          pN0         90\n",
      "pT2       NaN          2\n",
      "          pN+         25\n",
      "          pN0         73\n",
      "pT3       NaN          0\n",
      "          pN+         52\n",
      "          pN0         47\n",
      "pT4       NaN          1\n",
      "          pN+         67\n",
      "          pN0         32\n",
      "dtype: int64\n"
     ]
    }
   ],
   "source": [
    "# Group the data by 'pT group' and 'Sex' and count the occurrences\n",
    "grouped_counts = df.groupby(['pT group', 'pN group']).size()\n",
    "\n",
    "# Group the data by 'pT group' and calculate the total count for each 'pT group'\n",
    "pT_group_total_counts = df.groupby('pT group').size()\n",
    "\n",
    "# Calculate the percentages within each 'pT group' and round to the nearest whole number\n",
    "pT_group_percentages = (grouped_counts / pT_group_total_counts * 100).round().astype(int)\n",
    "\n",
    "# Display the percentages for each 'pT group'\n",
    "print(pT_group_percentages)\n"
   ]
  },
  {
   "cell_type": "code",
   "execution_count": 398,
   "metadata": {},
   "outputs": [
    {
     "name": "stderr",
     "output_type": "stream",
     "text": [
      "/opt/anaconda3/envs/pre-processing/lib/python3.9/site-packages/seaborn/_oldcore.py:1498: FutureWarning: is_categorical_dtype is deprecated and will be removed in a future version. Use isinstance(dtype, CategoricalDtype) instead\n",
      "  if pd.api.types.is_categorical_dtype(vector):\n",
      "/opt/anaconda3/envs/pre-processing/lib/python3.9/site-packages/seaborn/_oldcore.py:1498: FutureWarning: is_categorical_dtype is deprecated and will be removed in a future version. Use isinstance(dtype, CategoricalDtype) instead\n",
      "  if pd.api.types.is_categorical_dtype(vector):\n",
      "/opt/anaconda3/envs/pre-processing/lib/python3.9/site-packages/seaborn/_oldcore.py:1498: FutureWarning: is_categorical_dtype is deprecated and will be removed in a future version. Use isinstance(dtype, CategoricalDtype) instead\n",
      "  if pd.api.types.is_categorical_dtype(vector):\n"
     ]
    },
    {
     "name": "stdout",
     "output_type": "stream",
     "text": [
      "Number of \"NaN\" values: 19\n"
     ]
    },
    {
     "data": {
      "image/png": "[encoded data removed]",
      "text/plain": [
       "<Figure size 640x480 with 1 Axes>"
      ]
     },
     "metadata": {},
     "output_type": "display_data"
    }
   ],
   "source": [
    "# Filter out rows with \"n.a.\" values in the 'Tumordurchmesser (mm)' column\n",
    "numeric_df = df[df['Tumordurchmesser (mm)'] != 'NaN']\n",
    "\n",
    "# Create a count plot for the numeric values in the 'Tumordurchmesser (mm)' column\n",
    "sns.countplot(data=numeric_df, x='Tumordurchmesser (mm)')\n",
    "plt.title('Count Plot of Tumordurchmesser (mm) (Excluding \"NaN\")')\n",
    "plt.xlabel('Tumordurchmesser (mm)')\n",
    "plt.xticks(rotation=45)  # Rotate x-axis labels if needed\n",
    "\n",
    "# Count how many \"n.a.\" values there are\n",
    "na_count = len(df) - len(numeric_df)\n",
    "print(f'Number of \"NaN\" values: {na_count}')\n",
    "\n",
    "plt.show()\n"
   ]
  },
  {
   "cell_type": "code",
   "execution_count": 399,
   "metadata": {},
   "outputs": [
    {
     "name": "stdout",
     "output_type": "stream",
     "text": [
      "Number of \"NaN\" values: 19\n"
     ]
    },
    {
     "name": "stderr",
     "output_type": "stream",
     "text": [
      "/var/folders/wz/d4sltz8j5g921kkhbdghhw5r0000gq/T/ipykernel_11834/1491684806.py:3: SettingWithCopyWarning: \n",
      "A value is trying to be set on a copy of a slice from a DataFrame.\n",
      "Try using .loc[row_indexer,col_indexer] = value instead\n",
      "\n",
      "See the caveats in the documentation: https://pandas.pydata.org/pandas-docs/stable/user_guide/indexing.html#returning-a-view-versus-a-copy\n",
      "  numeric_df['Tumordurchmesser (mm)'] = pd.to_numeric(numeric_df['Tumordurchmesser (mm)'])\n",
      "/var/folders/wz/d4sltz8j5g921kkhbdghhw5r0000gq/T/ipykernel_11834/1491684806.py:6: FutureWarning: \n",
      "\n",
      "`shade` is now deprecated in favor of `fill`; setting `fill=True`.\n",
      "This will become an error in seaborn v0.14.0; please update your code.\n",
      "\n",
      "  sns.kdeplot(data=numeric_df, x='Tumordurchmesser (mm)', shade=True)\n",
      "/opt/anaconda3/envs/pre-processing/lib/python3.9/site-packages/seaborn/_oldcore.py:1498: FutureWarning: is_categorical_dtype is deprecated and will be removed in a future version. Use isinstance(dtype, CategoricalDtype) instead\n",
      "  if pd.api.types.is_categorical_dtype(vector):\n",
      "/opt/anaconda3/envs/pre-processing/lib/python3.9/site-packages/seaborn/_oldcore.py:1119: FutureWarning: use_inf_as_na option is deprecated and will be removed in a future version. Convert inf values to NaN before operating instead.\n",
      "  with pd.option_context('mode.use_inf_as_na', True):\n"
     ]
    },
    {
     "data": {
      "image/png": "[encoded data removed]",
      "text/plain": [
       "<Figure size 640x480 with 1 Axes>"
      ]
     },
     "metadata": {},
     "output_type": "display_data"
    }
   ],
   "source": [
    "# Filter out \"n.a.\" values and convert the column to numeric\n",
    "numeric_df = df[df['Tumordurchmesser (mm)'] != 'NaN']\n",
    "numeric_df['Tumordurchmesser (mm)'] = pd.to_numeric(numeric_df['Tumordurchmesser (mm)'])\n",
    "\n",
    "# Create a density plot for the numeric values\n",
    "sns.kdeplot(data=numeric_df, x='Tumordurchmesser (mm)', shade=True)\n",
    "plt.title('Density Plot of Tumordurchmesser (mm) (Excluding \"NaN\")')\n",
    "plt.xlabel('Tumordurchmesser (mm)')\n",
    "\n",
    "# Count how many \"n.a.\" values there are\n",
    "na_count = len(df) - len(numeric_df)\n",
    "print(f'Number of \"NaN\" values: {na_count}')\n",
    "\n",
    "plt.show()\n"
   ]
  },
  {
   "cell_type": "code",
   "execution_count": 401,
   "metadata": {},
   "outputs": [
    {
     "name": "stdout",
     "output_type": "stream",
     "text": [
      "Tumor Size Group\n",
      "Group 1    247\n",
      "Group 2    206\n",
      "Group 3     40\n",
      "Group 4      9\n",
      "Name: count, dtype: int64\n"
     ]
    }
   ],
   "source": [
    "# Filter out \"n.a.\" values and convert the column to numeric\n",
    "df['Tumordurchmesser (mm)'] = pd.to_numeric(df['Tumordurchmesser (mm)'], errors='coerce')  # Convert to numeric, ignore errors\n",
    "numeric_df = df[~df['Tumordurchmesser (mm)'].isna()]  # Filter out \"n.a.\" values\n",
    "\n",
    "# Define the minimum and maximum values in the \"Tumordurchmesser (mm)\" column\n",
    "min_value = numeric_df['Tumordurchmesser (mm)'].min()\n",
    "max_value = numeric_df['Tumordurchmesser (mm)'].max()\n",
    "\n",
    "# Calculate the bin edges to create equal-width non-overlapping bins\n",
    "num_bins = 4  # Number of bins\n",
    "bin_width = (max_value - min_value) / num_bins\n",
    "bin_edges = [min_value + i * bin_width for i in range(num_bins)]\n",
    "bin_edges.append(max_value)\n",
    "\n",
    "# Create labels for the groups\n",
    "group_labels = [f\"Group {i + 1}\" for i in range(num_bins)]\n",
    "\n",
    "# Create a new column with the group labels\n",
    "df['Tumor Size Group'] = pd.cut(numeric_df['Tumordurchmesser (mm)'], bins=bin_edges, labels=group_labels)\n",
    "\n",
    "# Count how many values fall into each group\n",
    "group_counts = df['Tumor Size Group'].value_counts()\n",
    "\n",
    "# Display the group counts\n",
    "print(group_counts)\n"
   ]
  },
  {
   "cell_type": "code",
   "execution_count": 402,
   "metadata": {},
   "outputs": [
    {
     "name": "stdout",
     "output_type": "stream",
     "text": [
      "[8.0, 42.25, 76.5, 110.75, 145.0]\n"
     ]
    }
   ],
   "source": [
    "# Display the bin edges \n",
    "print(bin_edges)"
   ]
  },
  {
   "cell_type": "code",
   "execution_count": 403,
   "metadata": {},
   "outputs": [
    {
     "name": "stdout",
     "output_type": "stream",
     "text": [
      "Tumor Size Group\n",
      "8.0       247\n",
      "42.25     206\n",
      "76.5       40\n",
      "110.75      9\n",
      "Name: count, dtype: int64\n"
     ]
    }
   ],
   "source": [
    "# Filter out \"n.a.\" values and convert the column to numeric\n",
    "df['Tumordurchmesser (mm)'] = pd.to_numeric(df['Tumordurchmesser (mm)'], errors='coerce')  # Convert to numeric, ignore errors\n",
    "numeric_df = df[~df['Tumordurchmesser (mm)'].isna()]  # Filter out \"n.a.\" values\n",
    "\n",
    "# Define the minimum and maximum values in the \"Tumordurchmesser (mm)\" column\n",
    "min_value = numeric_df['Tumordurchmesser (mm)'].min()\n",
    "max_value = numeric_df['Tumordurchmesser (mm)'].max()\n",
    "\n",
    "# Calculate the bin edges to create equal-width non-overlapping bins\n",
    "num_bins = 4  # Number of bins\n",
    "bin_width = (max_value - min_value) / num_bins\n",
    "bin_edges = [min_value + i * bin_width for i in range(num_bins)]\n",
    "bin_edges.append(max_value)\n",
    "\n",
    "# Create labels for the groups\n",
    "group_labels = [f\"Group {i + 1}\" for i in range(num_bins)]\n",
    "\n",
    "# Create a new column with the group labels\n",
    "df['Tumor Size Group'] = pd.cut(numeric_df['Tumordurchmesser (mm)'], bins=bin_edges, labels=bin_edges[:-1])\n",
    "\n",
    "# Count how many values fall into each group\n",
    "group_counts = df['Tumor Size Group'].value_counts()\n",
    "\n",
    "# Display the group counts\n",
    "print(group_counts)"
   ]
  },
  {
   "cell_type": "code",
   "execution_count": 404,
   "metadata": {},
   "outputs": [
    {
     "name": "stdout",
     "output_type": "stream",
     "text": [
      "pT group  Tumor Size Group\n",
      "NaN       8.0                   3\n",
      "          42.25                 2\n",
      "          76.5                  0\n",
      "          110.75                0\n",
      "pT1       8.0                  18\n",
      "          42.25                 1\n",
      "          76.5                  0\n",
      "          110.75                0\n",
      "pT2       8.0                  58\n",
      "          42.25                35\n",
      "          76.5                  4\n",
      "          110.75                1\n",
      "pT3       8.0                 133\n",
      "          42.25               112\n",
      "          76.5                 18\n",
      "          110.75                3\n",
      "pT4       8.0                  35\n",
      "          42.25                56\n",
      "          76.5                 18\n",
      "          110.75                5\n",
      "dtype: int64\n"
     ]
    },
    {
     "name": "stderr",
     "output_type": "stream",
     "text": [
      "/var/folders/wz/d4sltz8j5g921kkhbdghhw5r0000gq/T/ipykernel_11834/3123646922.py:2: FutureWarning: The default of observed=False is deprecated and will be changed to True in a future version of pandas. Pass observed=False to retain current behavior or observed=True to adopt the future default and silence this warning.\n",
      "  summary = df.groupby(['pT group', 'Tumor Size Group']).size()\n"
     ]
    }
   ],
   "source": [
    "# Group the data by both \"pT group\" and \"pN group\" and count the occurrences\n",
    "summary = df.groupby(['pT group', 'Tumor Size Group']).size()\n",
    "\n",
    "# Display the summary\n",
    "print(summary)"
   ]
  },
  {
   "cell_type": "code",
   "execution_count": 493,
   "metadata": {},
   "outputs": [
    {
     "name": "stdout",
     "output_type": "stream",
     "text": [
      "pT group  Tumor Size Group\n",
      "NaN       8.0                 38\n",
      "          42.25               25\n",
      "          76.5                 0\n",
      "          110.75               0\n",
      "pT1       8.0                 86\n",
      "          42.25                5\n",
      "          76.5                 0\n",
      "          110.75               0\n",
      "pT2       8.0                 56\n",
      "          42.25               34\n",
      "          76.5                 4\n",
      "          110.75               1\n",
      "pT3       8.0                 49\n",
      "          42.25               41\n",
      "          76.5                 7\n",
      "          110.75               1\n",
      "pT4       8.0                 30\n",
      "          42.25               47\n",
      "          76.5                15\n",
      "          110.75               4\n",
      "dtype: int64\n"
     ]
    },
    {
     "name": "stderr",
     "output_type": "stream",
     "text": [
      "/var/folders/wz/d4sltz8j5g921kkhbdghhw5r0000gq/T/ipykernel_11834/262119784.py:2: FutureWarning: The default of observed=False is deprecated and will be changed to True in a future version of pandas. Pass observed=False to retain current behavior or observed=True to adopt the future default and silence this warning.\n",
      "  grouped_counts = df.groupby(['pT group', 'Tumor Size Group']).size()\n"
     ]
    }
   ],
   "source": [
    "# Group the data by 'pT group' and 'Sex' and count the occurrences\n",
    "grouped_counts = df.groupby(['pT group', 'Tumor Size Group']).size()\n",
    "\n",
    "# Group the data by 'pT group' and calculate the total count for each 'pT group'\n",
    "pT_group_total_counts = df.groupby('pT group').size()\n",
    "\n",
    "# Calculate the percentages within each 'pT group' and round to the nearest whole number\n",
    "pT_group_percentages = (grouped_counts / pT_group_total_counts * 100).round().astype(int)\n",
    "\n",
    "# Display the percentages for each 'pT group'\n",
    "print(pT_group_percentages)\n"
   ]
  },
  {
   "cell_type": "code",
   "execution_count": 492,
   "metadata": {},
   "outputs": [
    {
     "name": "stdout",
     "output_type": "stream",
     "text": [
      "          median   min    max\n",
      "pT group                     \n",
      "NaN         28.0  10.0   48.0\n",
      "pT1         25.0  11.0   72.0\n",
      "pT2         35.0  11.0  120.0\n",
      "pT3         42.0   8.0  145.0\n",
      "pT4         50.5  16.0  136.0\n"
     ]
    }
   ],
   "source": [
    "# Group the data by 'pT group' and calculate median and range for 'Tumordiameter'\n",
    "agg_summary = df.groupby('pT group')['Tumordurchmesser (mm)'].agg(['median', 'min', 'max'])\n",
    "\n",
    "# Display the aggregated summary\n",
    "print(agg_summary)\n"
   ]
  },
  {
   "cell_type": "code",
   "execution_count": 409,
   "metadata": {},
   "outputs": [],
   "source": [
    "# Remove the column with the age \n",
    "df.loc[df['Age']==-13, 'Age'] = None"
   ]
  },
  {
   "cell_type": "code",
   "execution_count": 410,
   "metadata": {},
   "outputs": [
    {
     "name": "stdout",
     "output_type": "stream",
     "text": [
      "Age\n",
      "18.0     1\n",
      "26.0     1\n",
      "28.0     2\n",
      "29.0     1\n",
      "32.0     1\n",
      "34.0     4\n",
      "37.0     1\n",
      "38.0     1\n",
      "39.0     3\n",
      "41.0     1\n",
      "42.0     2\n",
      "43.0     3\n",
      "44.0     4\n",
      "45.0     4\n",
      "46.0     3\n",
      "47.0     1\n",
      "48.0     1\n",
      "49.0     4\n",
      "50.0     2\n",
      "51.0     3\n",
      "52.0     5\n",
      "53.0     4\n",
      "54.0     3\n",
      "55.0     4\n",
      "56.0     8\n",
      "57.0    12\n",
      "58.0     7\n",
      "59.0    11\n",
      "60.0    16\n",
      "61.0    12\n",
      "62.0    12\n",
      "63.0    15\n",
      "64.0     9\n",
      "65.0    14\n",
      "66.0    20\n",
      "67.0    12\n",
      "68.0    12\n",
      "69.0    11\n",
      "70.0    14\n",
      "71.0    17\n",
      "72.0    20\n",
      "73.0    20\n",
      "74.0    19\n",
      "75.0    10\n",
      "76.0    15\n",
      "77.0    23\n",
      "78.0    17\n",
      "79.0    15\n",
      "80.0    13\n",
      "81.0    10\n",
      "82.0    22\n",
      "83.0     8\n",
      "84.0    10\n",
      "85.0    11\n",
      "86.0     6\n",
      "87.0    12\n",
      "88.0     7\n",
      "89.0     5\n",
      "90.0     8\n",
      "91.0     1\n",
      "92.0     3\n",
      "93.0     1\n",
      "94.0     1\n",
      "95.0     2\n",
      "99.0     1\n",
      "dtype: int64\n"
     ]
    }
   ],
   "source": [
    "# Group the data by both \"pT group\" and \"pN group\" and count the occurrences\n",
    "summary = df.groupby(['Age']).size()\n",
    "\n",
    "# Display the summary\n",
    "print(summary)"
   ]
  },
  {
   "cell_type": "code",
   "execution_count": 411,
   "metadata": {},
   "outputs": [
    {
     "name": "stderr",
     "output_type": "stream",
     "text": [
      "/opt/anaconda3/envs/pre-processing/lib/python3.9/site-packages/seaborn/_oldcore.py:1498: FutureWarning: is_categorical_dtype is deprecated and will be removed in a future version. Use isinstance(dtype, CategoricalDtype) instead\n",
      "  if pd.api.types.is_categorical_dtype(vector):\n",
      "/opt/anaconda3/envs/pre-processing/lib/python3.9/site-packages/seaborn/_oldcore.py:1498: FutureWarning: is_categorical_dtype is deprecated and will be removed in a future version. Use isinstance(dtype, CategoricalDtype) instead\n",
      "  if pd.api.types.is_categorical_dtype(vector):\n",
      "/opt/anaconda3/envs/pre-processing/lib/python3.9/site-packages/seaborn/_oldcore.py:1498: FutureWarning: is_categorical_dtype is deprecated and will be removed in a future version. Use isinstance(dtype, CategoricalDtype) instead\n",
      "  if pd.api.types.is_categorical_dtype(vector):\n"
     ]
    },
    {
     "name": "stdout",
     "output_type": "stream",
     "text": [
      "Number of \"n.a.\" values: 0\n"
     ]
    },
    {
     "data": {
      "image/png": "[encoded data removed]",
      "text/plain": [
       "<Figure size 640x480 with 1 Axes>"
      ]
     },
     "metadata": {},
     "output_type": "display_data"
    }
   ],
   "source": [
    "# Filter out rows with \"n.a.\" values in the 'Tumordurchmesser (mm)' column\n",
    "numeric_df = df[df['Age'] != 'NaN']\n",
    "\n",
    "# Create a count plot for the numeric values in the 'Tumordurchmesser (mm)' column\n",
    "sns.countplot(data=numeric_df, x='Age')\n",
    "plt.title('Count Plot of Age (Excluding \"NaN\")')\n",
    "plt.xlabel('Age')\n",
    "plt.xticks(rotation=45)  # Rotate x-axis labels if needed\n",
    "\n",
    "# Count how many \"n.a.\" values there are\n",
    "na_count = len(df) - len(numeric_df)\n",
    "print(f'Number of \"n.a.\" values: {na_count}')\n",
    "\n",
    "plt.show()"
   ]
  },
  {
   "cell_type": "code",
   "execution_count": 413,
   "metadata": {},
   "outputs": [
    {
     "name": "stdout",
     "output_type": "stream",
     "text": [
      "Number of \"NaN\" values: 0\n"
     ]
    },
    {
     "name": "stderr",
     "output_type": "stream",
     "text": [
      "/var/folders/wz/d4sltz8j5g921kkhbdghhw5r0000gq/T/ipykernel_11834/647745505.py:6: FutureWarning: \n",
      "\n",
      "`shade` is now deprecated in favor of `fill`; setting `fill=True`.\n",
      "This will become an error in seaborn v0.14.0; please update your code.\n",
      "\n",
      "  sns.kdeplot(data=numeric_df, x='Age', shade=True)\n",
      "/opt/anaconda3/envs/pre-processing/lib/python3.9/site-packages/seaborn/_oldcore.py:1498: FutureWarning: is_categorical_dtype is deprecated and will be removed in a future version. Use isinstance(dtype, CategoricalDtype) instead\n",
      "  if pd.api.types.is_categorical_dtype(vector):\n",
      "/opt/anaconda3/envs/pre-processing/lib/python3.9/site-packages/seaborn/_oldcore.py:1119: FutureWarning: use_inf_as_na option is deprecated and will be removed in a future version. Convert inf values to NaN before operating instead.\n",
      "  with pd.option_context('mode.use_inf_as_na', True):\n"
     ]
    },
    {
     "data": {
      "image/png": "[encoded data removed]",
      "text/plain": [
       "<Figure size 640x480 with 1 Axes>"
      ]
     },
     "metadata": {},
     "output_type": "display_data"
    }
   ],
   "source": [
    "# Filter out \"n.a.\" values and convert the column to numeric\n",
    "numeric_df = df[df['Age'] != 'NaN']\n",
    "numeric_df['Age'] = pd.to_numeric(numeric_df['Age'])\n",
    "\n",
    "# Create a density plot for the numeric values\n",
    "sns.kdeplot(data=numeric_df, x='Age', shade=True)\n",
    "plt.title('Density Plot of Age (Excluding \"NaN\")')\n",
    "plt.xlabel('Age')\n",
    "\n",
    "# Count how many \"n.a.\" values there are\n",
    "na_count = len(df) - len(numeric_df)\n",
    "print(f'Number of \"NaN\" values: {na_count}')\n",
    "\n",
    "plt.show()"
   ]
  },
  {
   "cell_type": "code",
   "execution_count": 414,
   "metadata": {},
   "outputs": [
    {
     "name": "stdout",
     "output_type": "stream",
     "text": [
      "Age Group\n",
      "70 and Over    277\n",
      "Under 70       244\n",
      "Name: count, dtype: int64\n"
     ]
    }
   ],
   "source": [
    "# Define the cutoff value\n",
    "cutoff = 70\n",
    "\n",
    "# Create two groups based on the cutoff value\n",
    "df['Age Group'] = pd.cut(df['Age'], bins=[-float('inf'), cutoff, float('inf')], labels=['Under 70', '70 and Over'])\n",
    "\n",
    "# Get a summary of the \"Age Group\" column\n",
    "summary = df['Age Group'].value_counts()\n",
    "\n",
    "# Display the summary\n",
    "print(summary)"
   ]
  },
  {
   "cell_type": "code",
   "execution_count": 415,
   "metadata": {},
   "outputs": [
    {
     "name": "stdout",
     "output_type": "stream",
     "text": [
      "pT group  Age Group  \n",
      "NaN       Under 70         5\n",
      "          70 and Over      3\n",
      "pT1       Under 70         9\n",
      "          70 and Over     12\n",
      "pT2       Under 70        46\n",
      "          70 and Over     56\n",
      "pT3       Under 70       126\n",
      "          70 and Over    146\n",
      "pT4       Under 70        58\n",
      "          70 and Over     60\n",
      "dtype: int64\n"
     ]
    },
    {
     "name": "stderr",
     "output_type": "stream",
     "text": [
      "/var/folders/wz/d4sltz8j5g921kkhbdghhw5r0000gq/T/ipykernel_11834/1774536351.py:2: FutureWarning: The default of observed=False is deprecated and will be changed to True in a future version of pandas. Pass observed=False to retain current behavior or observed=True to adopt the future default and silence this warning.\n",
      "  summary = df.groupby(['pT group', 'Age Group']).size()\n"
     ]
    }
   ],
   "source": [
    "# Group the data by both \"pT group\" and \"pN group\" and count the occurrences\n",
    "summary = df.groupby(['pT group', 'Age Group']).size()\n",
    "\n",
    "# Display the summary\n",
    "print(summary)"
   ]
  },
  {
   "cell_type": "code",
   "execution_count": 494,
   "metadata": {},
   "outputs": [
    {
     "name": "stdout",
     "output_type": "stream",
     "text": [
      "pT group  Age Group  \n",
      "NaN       Under 70       62\n",
      "          70 and Over    38\n",
      "pT1       Under 70       43\n",
      "          70 and Over    57\n",
      "pT2       Under 70       45\n",
      "          70 and Over    54\n",
      "pT3       Under 70       46\n",
      "          70 and Over    54\n",
      "pT4       Under 70       49\n",
      "          70 and Over    51\n",
      "dtype: int64\n"
     ]
    },
    {
     "name": "stderr",
     "output_type": "stream",
     "text": [
      "/var/folders/wz/d4sltz8j5g921kkhbdghhw5r0000gq/T/ipykernel_11834/928558331.py:2: FutureWarning: The default of observed=False is deprecated and will be changed to True in a future version of pandas. Pass observed=False to retain current behavior or observed=True to adopt the future default and silence this warning.\n",
      "  grouped_counts = df.groupby(['pT group', 'Age Group']).size()\n"
     ]
    }
   ],
   "source": [
    "# Group the data by 'pT group' and 'Sex' and count the occurrences\n",
    "grouped_counts = df.groupby(['pT group', 'Age Group']).size()\n",
    "\n",
    "# Group the data by 'pT group' and calculate the total count for each 'pT group'\n",
    "pT_group_total_counts = df.groupby('pT group').size()\n",
    "\n",
    "# Calculate the percentages within each 'pT group' and round to the nearest whole number\n",
    "pT_group_percentages = (grouped_counts / pT_group_total_counts * 100).round().astype(int)\n",
    "\n",
    "# Display the percentages for each 'pT group'\n",
    "print(pT_group_percentages)\n"
   ]
  },
  {
   "cell_type": "code",
   "execution_count": 475,
   "metadata": {},
   "outputs": [
    {
     "name": "stdout",
     "output_type": "stream",
     "text": [
      "          median   min   max\n",
      "pT group                    \n",
      "NaN         68.0  57.0  87.0\n",
      "pT1         72.0  45.0  89.0\n",
      "pT2         71.5  28.0  90.0\n",
      "pT3         72.0  26.0  99.0\n",
      "pT4         71.0  18.0  94.0\n"
     ]
    }
   ],
   "source": [
    "# Group the data by 'pT group' and calculate median and range for 'Tumordiameter'\n",
    "agg_summary = df.groupby('pT group')['Age'].agg(['median', 'min', 'max'])\n",
    "\n",
    "# Display the aggregated summary\n",
    "print(agg_summary)\n"
   ]
  },
  {
   "cell_type": "code",
   "execution_count": 417,
   "metadata": {},
   "outputs": [
    {
     "name": "stdout",
     "output_type": "stream",
     "text": [
      "Muzinöse Tumorkomponente\n",
      "x         189\n",
      "0         108\n",
      "<5%        99\n",
      "0.05       20\n",
      "0.3        16\n",
      "0.1        15\n",
      "0.2        13\n",
      "gering     13\n",
      "0.4         9\n",
      "<10%        6\n",
      "0.6         4\n",
      "0.9         4\n",
      "0.5         3\n",
      "0.15        3\n",
      "0.7         3\n",
      "0.8         3\n",
      "0.45        2\n",
      "0.85        2\n",
      "<2%         1\n",
      ">5%         1\n",
      "0.25        1\n",
      "0.03        1\n",
      "1           1\n",
      "pT3         1\n",
      "0.07        1\n",
      "<1%         1\n",
      "NaN         1\n",
      "hoch        1\n",
      "Name: count, dtype: int64\n"
     ]
    }
   ],
   "source": [
    "# Get a summary of the \"Tumorlokalisation COL10\" column\n",
    "summary = df['Muzinöse Tumorkomponente'].value_counts()\n",
    "\n",
    "# Display the summary\n",
    "print(summary)"
   ]
  },
  {
   "cell_type": "code",
   "execution_count": 418,
   "metadata": {},
   "outputs": [],
   "source": [
    "df['Muzinöse Tumorkomponente'] = df['Muzinöse Tumorkomponente'].replace(\"<5%\", \"< 0.05\")\n",
    "df['Muzinöse Tumorkomponente'] = df['Muzinöse Tumorkomponente'].replace(\"<10%\", \"< 0.10\")\n",
    "df['Muzinöse Tumorkomponente'] = df['Muzinöse Tumorkomponente'].replace(\"<2%\", \"< 0.02\")\n",
    "df['Muzinöse Tumorkomponente'] = df['Muzinöse Tumorkomponente'].replace(\">5%\", \"> 0.05\")\n",
    "df['Muzinöse Tumorkomponente'] = df['Muzinöse Tumorkomponente'].replace(\"<1%\", \"< 0.01\")"
   ]
  },
  {
   "cell_type": "code",
   "execution_count": 421,
   "metadata": {},
   "outputs": [],
   "source": [
    "df['Muzinöse Tumorkomponente'] = df['Muzinöse Tumorkomponente'].replace(\"0.3\", \"> 0.05\")\n",
    "df['Muzinöse Tumorkomponente'] = df['Muzinöse Tumorkomponente'].replace(\"0.1\", \"> 0.05\")\n",
    "df['Muzinöse Tumorkomponente'] = df['Muzinöse Tumorkomponente'].replace(\"0.2\", \"> 0.05\")\n",
    "df['Muzinöse Tumorkomponente'] = df['Muzinöse Tumorkomponente'].replace(\"0.4\", \"> 0.05\")\n",
    "df['Muzinöse Tumorkomponente'] = df['Muzinöse Tumorkomponente'].replace(\"0.6\", \"> 0.05\")\n",
    "df['Muzinöse Tumorkomponente'] = df['Muzinöse Tumorkomponente'].replace(\"0.9\", \"> 0.05\")\n",
    "df['Muzinöse Tumorkomponente'] = df['Muzinöse Tumorkomponente'].replace(\"0.15\", \"> 0.05\")\n",
    "df['Muzinöse Tumorkomponente'] = df['Muzinöse Tumorkomponente'].replace(\"0.7\", \"> 0.05\")\n",
    "df['Muzinöse Tumorkomponente'] = df['Muzinöse Tumorkomponente'].replace(\"0.8\", \"> 0.05\")\n",
    "df['Muzinöse Tumorkomponente'] = df['Muzinöse Tumorkomponente'].replace(\"0.5\", \"> 0.05\")\n",
    "df['Muzinöse Tumorkomponente'] = df['Muzinöse Tumorkomponente'].replace(\"0.45\", \"> 0.05\")\n",
    "df['Muzinöse Tumorkomponente'] = df['Muzinöse Tumorkomponente'].replace(\"0.85\", \"> 0.05\")\n",
    "df['Muzinöse Tumorkomponente'] = df['Muzinöse Tumorkomponente'].replace(\"0.03\", \"< 0.05\")\n",
    "df['Muzinöse Tumorkomponente'] = df['Muzinöse Tumorkomponente'].replace(\"< 0.02\", \"< 0.05\")\n",
    "df['Muzinöse Tumorkomponente'] = df['Muzinöse Tumorkomponente'].replace(\"0.25\", \"> 0.05\")\n",
    "df['Muzinöse Tumorkomponente'] = df['Muzinöse Tumorkomponente'].replace(\"1\", \"> 0.05\")\n",
    "df['Muzinöse Tumorkomponente'] = df['Muzinöse Tumorkomponente'].replace(\"pT3\", \"n.a.\")\n",
    "df['Muzinöse Tumorkomponente'] = df['Muzinöse Tumorkomponente'].replace(\"0.07\", \"> 0.05\")\n",
    "df['Muzinöse Tumorkomponente'] = df['Muzinöse Tumorkomponente'].replace(\"< 0.01\", \"< 0.05\")\n",
    "df['Muzinöse Tumorkomponente'] = df['Muzinöse Tumorkomponente'].replace(\"x\", \"n.a.\")\n",
    "df['Muzinöse Tumorkomponente'] = df['Muzinöse Tumorkomponente'].replace(\"< 0.10\", \"> 0.05\")\n",
    "df['Muzinöse Tumorkomponente'] = df['Muzinöse Tumorkomponente'].replace(\"hoch\", \"NaN\")\n",
    "df['Muzinöse Tumorkomponente'] = df['Muzinöse Tumorkomponente'].replace(\"gering\", \"NaN\")\n",
    "df['Muzinöse Tumorkomponente'] = df['Muzinöse Tumorkomponente'].replace(\"n.a.\", \"NaN\")\n"
   ]
  },
  {
   "cell_type": "code",
   "execution_count": 422,
   "metadata": {},
   "outputs": [
    {
     "name": "stdout",
     "output_type": "stream",
     "text": [
      "Muzinöse Tumorkomponente\n",
      "NaN       205\n",
      "0         108\n",
      "< 0.05    102\n",
      "> 0.05     87\n",
      "0.05       20\n",
      "Name: count, dtype: int64\n"
     ]
    }
   ],
   "source": [
    "# Get a summary of the \"Tumorlokalisation COL10\" column\n",
    "summary = df['Muzinöse Tumorkomponente'].value_counts()\n",
    "\n",
    "# Display the summary\n",
    "print(summary)"
   ]
  },
  {
   "cell_type": "code",
   "execution_count": 423,
   "metadata": {},
   "outputs": [
    {
     "name": "stdout",
     "output_type": "stream",
     "text": [
      "pT group  Muzinöse Tumorkomponente\n",
      "NaN       > 0.05                        1\n",
      "          NaN                           7\n",
      "pT1       0                             4\n",
      "          0.05                          1\n",
      "          < 0.05                        5\n",
      "          > 0.05                        1\n",
      "          NaN                          10\n",
      "pT2       0                            22\n",
      "          0.05                          8\n",
      "          < 0.05                       28\n",
      "          > 0.05                       14\n",
      "          NaN                          31\n",
      "pT3       0                            60\n",
      "          0.05                          4\n",
      "          < 0.05                       53\n",
      "          > 0.05                       44\n",
      "          NaN                         111\n",
      "pT4       0                            22\n",
      "          0.05                          7\n",
      "          < 0.05                       16\n",
      "          > 0.05                       27\n",
      "          NaN                          46\n",
      "dtype: int64\n"
     ]
    }
   ],
   "source": [
    "# Group the data by both \"pT group\" and \"pN group\" and count the occurrences\n",
    "summary = df.groupby(['pT group', 'Muzinöse Tumorkomponente']).size()\n",
    "\n",
    "# Display the summary\n",
    "print(summary)"
   ]
  },
  {
   "cell_type": "code",
   "execution_count": 495,
   "metadata": {},
   "outputs": [
    {
     "name": "stdout",
     "output_type": "stream",
     "text": [
      "pT group  Muzinöse Tumorkomponente\n",
      "NaN       > 0.05                      12\n",
      "          NaN                         88\n",
      "pT1       0                           19\n",
      "          0.05                         5\n",
      "          < 0.05                      24\n",
      "          > 0.05                       5\n",
      "          NaN                         48\n",
      "pT2       0                           21\n",
      "          0.05                         8\n",
      "          < 0.05                      27\n",
      "          > 0.05                      14\n",
      "          NaN                         30\n",
      "pT3       0                           22\n",
      "          0.05                         1\n",
      "          < 0.05                      19\n",
      "          > 0.05                      16\n",
      "          NaN                         41\n",
      "pT4       0                           19\n",
      "          0.05                         6\n",
      "          < 0.05                      14\n",
      "          > 0.05                      23\n",
      "          NaN                         39\n",
      "dtype: int64\n"
     ]
    }
   ],
   "source": [
    "# Group the data by 'pT group' and 'Sex' and count the occurrences\n",
    "grouped_counts = df.groupby(['pT group', 'Muzinöse Tumorkomponente']).size()\n",
    "\n",
    "# Group the data by 'pT group' and calculate the total count for each 'pT group'\n",
    "pT_group_total_counts = df.groupby('pT group').size()\n",
    "\n",
    "# Calculate the percentages within each 'pT group' and round to the nearest whole number\n",
    "pT_group_percentages = (grouped_counts / pT_group_total_counts * 100).round().astype(int)\n",
    "\n",
    "# Display the percentages for each 'pT group'\n",
    "print(pT_group_percentages)\n"
   ]
  },
  {
   "cell_type": "code",
   "execution_count": 425,
   "metadata": {},
   "outputs": [
    {
     "name": "stdout",
     "output_type": "stream",
     "text": [
      "Infiltrationstyp\n",
      "expansiv                             214\n",
      "infiltrativ                          140\n",
      "x                                    126\n",
      "teils expansiv, teils infiltrativ     28\n",
      "teils infiltrativ, teils expansiv     14\n",
      "Name: count, dtype: int64\n"
     ]
    }
   ],
   "source": [
    "# Get a summary of the \"Tumorlokalisation COL10\" column\n",
    "summary = df['Infiltrationstyp'].value_counts()\n",
    "\n",
    "# Display the summary\n",
    "print(summary)"
   ]
  },
  {
   "cell_type": "code",
   "execution_count": 426,
   "metadata": {},
   "outputs": [],
   "source": [
    "df['Infiltrationstyp'] = df['Infiltrationstyp'].replace(\"teils expansiv, teils infiltrativ\", \"teils infiltrativ, teils expansiv\")\n",
    "df['Infiltrationstyp'] = df['Infiltrationstyp'].replace(\"x\", \"NaN\")"
   ]
  },
  {
   "cell_type": "code",
   "execution_count": 427,
   "metadata": {},
   "outputs": [
    {
     "name": "stdout",
     "output_type": "stream",
     "text": [
      "Infiltrationstyp\n",
      "expansiv                             214\n",
      "infiltrativ                          140\n",
      "NaN                                  126\n",
      "teils infiltrativ, teils expansiv     42\n",
      "Name: count, dtype: int64\n"
     ]
    }
   ],
   "source": [
    "# Get a summary of the \"Tumorlokalisation COL10\" column\n",
    "summary = df['Infiltrationstyp'].value_counts()\n",
    "\n",
    "# Display the summary\n",
    "print(summary)"
   ]
  },
  {
   "cell_type": "code",
   "execution_count": 428,
   "metadata": {},
   "outputs": [
    {
     "name": "stdout",
     "output_type": "stream",
     "text": [
      "pT group  Infiltrationstyp                 \n",
      "NaN       NaN                                    7\n",
      "          expansiv                               1\n",
      "pT1       NaN                                    6\n",
      "          expansiv                              11\n",
      "          infiltrativ                            3\n",
      "          teils infiltrativ, teils expansiv      1\n",
      "pT2       NaN                                   17\n",
      "          expansiv                              63\n",
      "          infiltrativ                           20\n",
      "          teils infiltrativ, teils expansiv      3\n",
      "pT3       NaN                                   66\n",
      "          expansiv                             109\n",
      "          infiltrativ                           74\n",
      "          teils infiltrativ, teils expansiv     23\n",
      "pT4       NaN                                   30\n",
      "          expansiv                              30\n",
      "          infiltrativ                           43\n",
      "          teils infiltrativ, teils expansiv     15\n",
      "dtype: int64\n"
     ]
    }
   ],
   "source": [
    "# Group the data by both \"pT group\" and \"pN group\" and count the occurrences\n",
    "summary = df.groupby(['pT group', 'Infiltrationstyp']).size()\n",
    "\n",
    "# Display the summary\n",
    "print(summary)"
   ]
  },
  {
   "cell_type": "code",
   "execution_count": 496,
   "metadata": {},
   "outputs": [
    {
     "name": "stdout",
     "output_type": "stream",
     "text": [
      "pT group  Infiltrationstyp                 \n",
      "NaN       NaN                                  88\n",
      "          expansiv                             12\n",
      "pT1       NaN                                  29\n",
      "          expansiv                             52\n",
      "          infiltrativ                          14\n",
      "          teils infiltrativ, teils expansiv     5\n",
      "pT2       NaN                                  17\n",
      "          expansiv                             61\n",
      "          infiltrativ                          19\n",
      "          teils infiltrativ, teils expansiv     3\n",
      "pT3       NaN                                  24\n",
      "          expansiv                             40\n",
      "          infiltrativ                          27\n",
      "          teils infiltrativ, teils expansiv     8\n",
      "pT4       NaN                                  25\n",
      "          expansiv                             25\n",
      "          infiltrativ                          36\n",
      "          teils infiltrativ, teils expansiv    13\n",
      "dtype: int64\n"
     ]
    }
   ],
   "source": [
    "# Group the data by 'pT group' and 'Sex' and count the occurrences\n",
    "grouped_counts = df.groupby(['pT group', 'Infiltrationstyp']).size()\n",
    "\n",
    "# Group the data by 'pT group' and calculate the total count for each 'pT group'\n",
    "pT_group_total_counts = df.groupby('pT group').size()\n",
    "\n",
    "# Calculate the percentages within each 'pT group' and round to the nearest whole number\n",
    "pT_group_percentages = (grouped_counts / pT_group_total_counts * 100).round().astype(int)\n",
    "\n",
    "# Display the percentages for each 'pT group'\n",
    "print(pT_group_percentages)\n"
   ]
  },
  {
   "cell_type": "code",
   "execution_count": 477,
   "metadata": {},
   "outputs": [
    {
     "name": "stdout",
     "output_type": "stream",
     "text": [
      "Tumorbudding\n",
      "gering    217\n",
      "NaN       177\n",
      "hoch      109\n",
      "mäßig      19\n",
      "Name: count, dtype: int64\n"
     ]
    }
   ],
   "source": [
    "# Get a summary of the \"Tumorlokalisation COL10\" column\n",
    "summary = df['Tumorbudding'].value_counts()\n",
    "\n",
    "# Display the summary\n",
    "print(summary)"
   ]
  },
  {
   "cell_type": "code",
   "execution_count": 476,
   "metadata": {},
   "outputs": [],
   "source": [
    "df['Tumorbudding'] = df['Tumorbudding'].replace(\"x\", \"NaN\")\n",
    "df['Tumorbudding'] = df['Tumorbudding'].replace(\"<50%\", \"NaN\")\n",
    "df['Tumorbudding'] = df['Tumorbudding'].replace(\">50%\", \"NaN\")\n",
    "df['Tumorbudding'] = df['Tumorbudding'].replace(\"m\", \"NaN\")\n",
    "df['Tumorbudding'] = df['Tumorbudding'].replace(\"moderat\", \"mäßig\")"
   ]
  },
  {
   "cell_type": "code",
   "execution_count": 478,
   "metadata": {},
   "outputs": [
    {
     "name": "stdout",
     "output_type": "stream",
     "text": [
      "pT group  Tumorbudding\n",
      "NaN       NaN               7\n",
      "          gering            1\n",
      "pT1       NaN               8\n",
      "          gering           13\n",
      "pT2       NaN              25\n",
      "          gering           62\n",
      "          hoch             13\n",
      "          mäßig             3\n",
      "pT3       NaN              96\n",
      "          gering          111\n",
      "          hoch             55\n",
      "          mäßig            10\n",
      "pT4       NaN              41\n",
      "          gering           30\n",
      "          hoch             41\n",
      "          mäßig             6\n",
      "dtype: int64\n"
     ]
    }
   ],
   "source": [
    "# Group the data by both \"pT group\" and \"pN group\" and count the occurrences\n",
    "summary = df.groupby(['pT group', 'Tumorbudding']).size()\n",
    "\n",
    "# Display the summary\n",
    "print(summary)"
   ]
  },
  {
   "cell_type": "code",
   "execution_count": 497,
   "metadata": {},
   "outputs": [
    {
     "name": "stdout",
     "output_type": "stream",
     "text": [
      "pT group  Tumorbudding\n",
      "NaN       NaN             88\n",
      "          gering          12\n",
      "pT1       NaN             38\n",
      "          gering          62\n",
      "pT2       NaN             24\n",
      "          gering          60\n",
      "          hoch            13\n",
      "          mäßig            3\n",
      "pT3       NaN             35\n",
      "          gering          41\n",
      "          hoch            20\n",
      "          mäßig            4\n",
      "pT4       NaN             35\n",
      "          gering          25\n",
      "          hoch            35\n",
      "          mäßig            5\n",
      "dtype: int64\n"
     ]
    }
   ],
   "source": [
    "# Group the data by 'pT group' and 'Sex' and count the occurrences\n",
    "grouped_counts = df.groupby(['pT group', 'Tumorbudding']).size()\n",
    "\n",
    "# Group the data by 'pT group' and calculate the total count for each 'pT group'\n",
    "pT_group_total_counts = df.groupby('pT group').size()\n",
    "\n",
    "# Calculate the percentages within each 'pT group' and round to the nearest whole number\n",
    "pT_group_percentages = (grouped_counts / pT_group_total_counts * 100).round().astype(int)\n",
    "\n",
    "# Display the percentages for each 'pT group'\n",
    "print(pT_group_percentages)"
   ]
  },
  {
   "cell_type": "code",
   "execution_count": 471,
   "metadata": {},
   "outputs": [
    {
     "name": "stdout",
     "output_type": "stream",
     "text": [
      "Peritumorale lymphozytäre Infiltration\n",
      "gering                                                                                                                                                           241\n",
      "NaN                                                                                                                                                              150\n",
      "hoch                                                                                                                                                              51\n",
      "mäßig                                                                                                                                                             49\n",
      "stark                                                                                                                                                             19\n",
      "ausgeprägt                                                                                                                                                         3\n",
      "geringe lymphozytäre, starke riesenzellige Infiltration                                                                                                            2\n",
      "viele                                                                                                                                                              1\n",
      "ausgedehnt                                                                                                                                                         1\n",
      "gering lymphozytär, stark eitrig                                                                                                                                   1\n",
      "gering lymphozytär, herdförmig eitrig                                                                                                                              1\n",
      "chronisch-fibrosierende, akute eitrig-fistelnde Entzündung des peritumorösen lipofibrösen Weichgewebes, der Harnblasenwandung und in Umgebung des D. deferens      1\n",
      "mäßig lymphozytär, stark granulozytär                                                                                                                              1\n",
      "gering, bei ausgedehnter eitriger Entzündung                                                                                                                       1\n",
      "Name: count, dtype: int64\n"
     ]
    }
   ],
   "source": [
    "df['Peritumorale lymphozytäre Infiltration'] = df['Peritumorale lymphozytäre Infiltration'].replace(\"x\", \"n.a.\")\n",
    "\n",
    "# Get a summary of the \"Tumorlokalisation COL10\" column\n",
    "summary = df['Peritumorale lymphozytäre Infiltration'].value_counts()\n",
    "\n",
    "# Display the summary\n",
    "print(summary)"
   ]
  },
  {
   "cell_type": "code",
   "execution_count": 470,
   "metadata": {},
   "outputs": [],
   "source": [
    "df['Peritumorale lymphozytäre Infiltration'] = df['Peritumorale lymphozytäre Infiltration'].replace(\"n.a.\", \"NaN\")"
   ]
  },
  {
   "cell_type": "code",
   "execution_count": 437,
   "metadata": {},
   "outputs": [
    {
     "name": "stdout",
     "output_type": "stream",
     "text": [
      "Angioinvasion V RED\n",
      "V0     340\n",
      "V+     171\n",
      "NaN     11\n",
      "Name: count, dtype: int64\n"
     ]
    }
   ],
   "source": [
    "# Get a summary of the \"Tumorlokalisation COL10\" column\n",
    "summary = df['Angioinvasion V RED'].value_counts()\n",
    "\n",
    "# Display the summary\n",
    "print(summary)"
   ]
  },
  {
   "cell_type": "code",
   "execution_count": 438,
   "metadata": {},
   "outputs": [
    {
     "name": "stdout",
     "output_type": "stream",
     "text": [
      "pT group  Angioinvasion V RED\n",
      "NaN       NaN                      5\n",
      "          V+                       1\n",
      "          V0                       2\n",
      "pT1       NaN                      1\n",
      "          V0                      20\n",
      "pT2       NaN                      1\n",
      "          V+                      11\n",
      "          V0                      91\n",
      "pT3       NaN                      3\n",
      "          V+                      97\n",
      "          V0                     172\n",
      "pT4       NaN                      1\n",
      "          V+                      62\n",
      "          V0                      55\n",
      "dtype: int64\n"
     ]
    }
   ],
   "source": [
    "# Group the data by both \"pT group\" and \"pN group\" and count the occurrences\n",
    "summary = df.groupby(['pT group', 'Angioinvasion V RED']).size()\n",
    "\n",
    "# Display the summary\n",
    "print(summary)"
   ]
  },
  {
   "cell_type": "code",
   "execution_count": 499,
   "metadata": {},
   "outputs": [
    {
     "name": "stdout",
     "output_type": "stream",
     "text": [
      "pT group  Angioinvasion V RED\n",
      "NaN       NaN                    62\n",
      "          V+                     12\n",
      "          V0                     25\n",
      "pT1       NaN                     5\n",
      "          V0                     95\n",
      "pT2       NaN                     1\n",
      "          V+                     11\n",
      "          V0                     88\n",
      "pT3       NaN                     1\n",
      "          V+                     36\n",
      "          V0                     63\n",
      "pT4       NaN                     1\n",
      "          V+                     53\n",
      "          V0                     47\n",
      "dtype: int64\n"
     ]
    }
   ],
   "source": [
    "# Group the data by 'pT group' and 'Sex' and count the occurrences\n",
    "grouped_counts = df.groupby(['pT group', 'Angioinvasion V RED']).size()\n",
    "\n",
    "# Group the data by 'pT group' and calculate the total count for each 'pT group'\n",
    "pT_group_total_counts = df.groupby('pT group').size()\n",
    "\n",
    "# Calculate the percentages within each 'pT group' and round to the nearest whole number\n",
    "pT_group_percentages = (grouped_counts / pT_group_total_counts * 100).round().astype(int)\n",
    "\n",
    "# Display the percentages for each 'pT group'\n",
    "print(pT_group_percentages)"
   ]
  },
  {
   "cell_type": "code",
   "execution_count": 440,
   "metadata": {},
   "outputs": [
    {
     "name": "stdout",
     "output_type": "stream",
     "text": [
      "Lymphbahninvasion L\n",
      "L1     255\n",
      "L0     229\n",
      "NaN     38\n",
      "Name: count, dtype: int64\n"
     ]
    }
   ],
   "source": [
    "# Get a summary of the \"Tumorlokalisation COL10\" column\n",
    "summary = df['Lymphbahninvasion L'].value_counts()\n",
    "\n",
    "# Display the summary\n",
    "print(summary)"
   ]
  },
  {
   "cell_type": "code",
   "execution_count": 441,
   "metadata": {},
   "outputs": [
    {
     "name": "stdout",
     "output_type": "stream",
     "text": [
      "pT group  Lymphbahninvasion L\n",
      "NaN       L0                       2\n",
      "          L1                       1\n",
      "          NaN                      5\n",
      "pT1       L0                      18\n",
      "          L1                       2\n",
      "          NaN                      1\n",
      "pT2       L0                      71\n",
      "          L1                      27\n",
      "          NaN                      5\n",
      "pT3       L0                     109\n",
      "          L1                     141\n",
      "          NaN                     22\n",
      "pT4       L0                      29\n",
      "          L1                      84\n",
      "          NaN                      5\n",
      "dtype: int64\n"
     ]
    }
   ],
   "source": [
    "# Group the data by both \"pT group\" and \"pN group\" and count the occurrences\n",
    "summary = df.groupby(['pT group', 'Lymphbahninvasion L']).size()\n",
    "\n",
    "# Display the summary\n",
    "print(summary)"
   ]
  },
  {
   "cell_type": "code",
   "execution_count": 500,
   "metadata": {},
   "outputs": [
    {
     "name": "stdout",
     "output_type": "stream",
     "text": [
      "pT group  Lymphbahninvasion L\n",
      "NaN       L0                     25\n",
      "          L1                     12\n",
      "          NaN                    62\n",
      "pT1       L0                     86\n",
      "          L1                     10\n",
      "          NaN                     5\n",
      "pT2       L0                     69\n",
      "          L1                     26\n",
      "          NaN                     5\n",
      "pT3       L0                     40\n",
      "          L1                     52\n",
      "          NaN                     8\n",
      "pT4       L0                     25\n",
      "          L1                     71\n",
      "          NaN                     4\n",
      "dtype: int64\n"
     ]
    }
   ],
   "source": [
    "# Group the data by 'pT group' and 'Sex' and count the occurrences\n",
    "grouped_counts = df.groupby(['pT group', 'Lymphbahninvasion L']).size()\n",
    "\n",
    "# Group the data by 'pT group' and calculate the total count for each 'pT group'\n",
    "pT_group_total_counts = df.groupby('pT group').size()\n",
    "\n",
    "# Calculate the percentages within each 'pT group' and round to the nearest whole number\n",
    "pT_group_percentages = (grouped_counts / pT_group_total_counts * 100).round().astype(int)\n",
    "\n",
    "# Display the percentages for each 'pT group'\n",
    "print(pT_group_percentages)"
   ]
  },
  {
   "cell_type": "code",
   "execution_count": 446,
   "metadata": {},
   "outputs": [
    {
     "name": "stdout",
     "output_type": "stream",
     "text": [
      "MSI im Befund\n",
      "NaN         313\n",
      "MSI nein    193\n",
      "MSI ja       16\n",
      "Name: count, dtype: int64\n"
     ]
    }
   ],
   "source": [
    "# Get a summary of the \"Tumorlokalisation COL10\" column\n",
    "summary = df['MSI im Befund'].value_counts()\n",
    "\n",
    "# Display the summary\n",
    "print(summary)"
   ]
  },
  {
   "cell_type": "code",
   "execution_count": 445,
   "metadata": {},
   "outputs": [],
   "source": [
    "df['MSI im Befund'] = df['MSI im Befund'].replace(\"n.a.\", \"NaN\")"
   ]
  },
  {
   "cell_type": "code",
   "execution_count": 447,
   "metadata": {},
   "outputs": [
    {
     "name": "stdout",
     "output_type": "stream",
     "text": [
      "pT group  MSI im Befund\n",
      "NaN       MSI nein           3\n",
      "          NaN                5\n",
      "pT1       MSI nein          10\n",
      "          NaN               11\n",
      "pT2       MSI ja             2\n",
      "          MSI nein          36\n",
      "          NaN               65\n",
      "pT3       MSI ja             6\n",
      "          MSI nein         101\n",
      "          NaN              165\n",
      "pT4       MSI ja             8\n",
      "          MSI nein          43\n",
      "          NaN               67\n",
      "dtype: int64\n"
     ]
    }
   ],
   "source": [
    "# Group the data by both \"pT group\" and \"pN group\" and count the occurrences\n",
    "summary = df.groupby(['pT group', 'MSI im Befund']).size()\n",
    "\n",
    "# Display the summary\n",
    "print(summary)"
   ]
  },
  {
   "cell_type": "code",
   "execution_count": 448,
   "metadata": {},
   "outputs": [
    {
     "name": "stdout",
     "output_type": "stream",
     "text": [
      "MSI gesamt RED\n",
      "stabil      381\n",
      "NaN         117\n",
      "instabil     24\n",
      "Name: count, dtype: int64\n"
     ]
    }
   ],
   "source": [
    "# Get a summary of the \"Tumorlokalisation COL10\" column\n",
    "summary = df['MSI gesamt RED'].value_counts()\n",
    "\n",
    "# Display the summary\n",
    "print(summary)"
   ]
  },
  {
   "cell_type": "code",
   "execution_count": 449,
   "metadata": {},
   "outputs": [
    {
     "name": "stdout",
     "output_type": "stream",
     "text": [
      "pT group  MSI gesamt RED\n",
      "NaN       NaN                 3\n",
      "          stabil              5\n",
      "pT1       NaN                 3\n",
      "          instabil            2\n",
      "          stabil             16\n",
      "pT2       NaN                14\n",
      "          instabil            4\n",
      "          stabil             85\n",
      "pT3       NaN                66\n",
      "          instabil           10\n",
      "          stabil            196\n",
      "pT4       NaN                31\n",
      "          instabil            8\n",
      "          stabil             79\n",
      "dtype: int64\n"
     ]
    }
   ],
   "source": [
    "# Group the data by both \"pT group\" and \"pN group\" and count the occurrences\n",
    "summary = df.groupby(['pT group', 'MSI gesamt RED']).size()\n",
    "\n",
    "# Display the summary\n",
    "print(summary)"
   ]
  },
  {
   "cell_type": "code",
   "execution_count": 501,
   "metadata": {},
   "outputs": [
    {
     "name": "stdout",
     "output_type": "stream",
     "text": [
      "pT group  MSI gesamt RED\n",
      "NaN       NaN               38\n",
      "          stabil            62\n",
      "pT1       NaN               14\n",
      "          instabil          10\n",
      "          stabil            76\n",
      "pT2       NaN               14\n",
      "          instabil           4\n",
      "          stabil            83\n",
      "pT3       NaN               24\n",
      "          instabil           4\n",
      "          stabil            72\n",
      "pT4       NaN               26\n",
      "          instabil           7\n",
      "          stabil            67\n",
      "dtype: int64\n"
     ]
    }
   ],
   "source": [
    "# Group the data by 'pT group' and 'Sex' and count the occurrences\n",
    "grouped_counts = df.groupby(['pT group', 'MSI gesamt RED']).size()\n",
    "\n",
    "# Group the data by 'pT group' and calculate the total count for each 'pT group'\n",
    "pT_group_total_counts = df.groupby('pT group').size()\n",
    "\n",
    "# Calculate the percentages within each 'pT group' and round to the nearest whole number\n",
    "pT_group_percentages = (grouped_counts / pT_group_total_counts * 100).round().astype(int)\n",
    "\n",
    "# Display the percentages for each 'pT group'\n",
    "print(pT_group_percentages)"
   ]
  },
  {
   "cell_type": "code",
   "execution_count": 455,
   "metadata": {},
   "outputs": [
    {
     "name": "stdout",
     "output_type": "stream",
     "text": [
      "RAS Mutation RED\n",
      "wt           268\n",
      "codon 12     155\n",
      "NaN           49\n",
      "codon 13      35\n",
      "codon 61      10\n",
      "codon 146      4\n",
      "codon 117      1\n",
      "Name: count, dtype: int64\n"
     ]
    }
   ],
   "source": [
    "# Get a summary of the \"Tumorlokalisation COL10\" column\n",
    "summary = df['RAS Mutation RED'].value_counts()\n",
    "\n",
    "# Display the summary\n",
    "print(summary)"
   ]
  },
  {
   "cell_type": "code",
   "execution_count": 452,
   "metadata": {},
   "outputs": [],
   "source": [
    "df['RAS Mutation RED'] = df['RAS Mutation RED'].replace(\"n.a.\", \"NaN\")"
   ]
  },
  {
   "cell_type": "code",
   "execution_count": 454,
   "metadata": {},
   "outputs": [
    {
     "name": "stdout",
     "output_type": "stream",
     "text": [
      "RAS Mutation RED 2\n",
      "wt          268\n",
      "RAS Mut.    205\n",
      "NaN          49\n",
      "Name: count, dtype: int64\n"
     ]
    }
   ],
   "source": [
    "# Get a summary of the \"Tumorlokalisation COL10\" column\n",
    "summary = df['RAS Mutation RED 2'].value_counts()\n",
    "\n",
    "# Display the summary\n",
    "print(summary)"
   ]
  },
  {
   "cell_type": "code",
   "execution_count": 456,
   "metadata": {},
   "outputs": [
    {
     "name": "stdout",
     "output_type": "stream",
     "text": [
      "pT group  RAS Mutation RED 2\n",
      "NaN       NaN                     2\n",
      "          RAS Mut.                2\n",
      "          wt                      4\n",
      "pT1       NaN                     3\n",
      "          RAS Mut.                5\n",
      "          wt                     13\n",
      "pT2       NaN                     7\n",
      "          RAS Mut.               46\n",
      "          wt                     50\n",
      "pT3       NaN                    29\n",
      "          RAS Mut.              107\n",
      "          wt                    136\n",
      "pT4       NaN                     8\n",
      "          RAS Mut.               45\n",
      "          wt                     65\n",
      "dtype: int64\n"
     ]
    }
   ],
   "source": [
    "# Group the data by both \"pT group\" and \"pN group\" and count the occurrences\n",
    "summary = df.groupby(['pT group', 'RAS Mutation RED 2']).size()\n",
    "\n",
    "# Display the summary\n",
    "print(summary)"
   ]
  },
  {
   "cell_type": "code",
   "execution_count": 502,
   "metadata": {},
   "outputs": [
    {
     "name": "stdout",
     "output_type": "stream",
     "text": [
      "pT group  RAS Mutation RED 2\n",
      "NaN       NaN                   25\n",
      "          RAS Mut.              25\n",
      "          wt                    50\n",
      "pT1       NaN                   14\n",
      "          RAS Mut.              24\n",
      "          wt                    62\n",
      "pT2       NaN                    7\n",
      "          RAS Mut.              45\n",
      "          wt                    49\n",
      "pT3       NaN                   11\n",
      "          RAS Mut.              39\n",
      "          wt                    50\n",
      "pT4       NaN                    7\n",
      "          RAS Mut.              38\n",
      "          wt                    55\n",
      "dtype: int64\n"
     ]
    }
   ],
   "source": [
    "# Group the data by 'pT group' and 'Sex' and count the occurrences\n",
    "grouped_counts = df.groupby(['pT group', 'RAS Mutation RED 2']).size()\n",
    "\n",
    "# Group the data by 'pT group' and calculate the total count for each 'pT group'\n",
    "pT_group_total_counts = df.groupby('pT group').size()\n",
    "\n",
    "# Calculate the percentages within each 'pT group' and round to the nearest whole number\n",
    "pT_group_percentages = (grouped_counts / pT_group_total_counts * 100).round().astype(int)\n",
    "\n",
    "# Display the percentages for each 'pT group'\n",
    "print(pT_group_percentages)"
   ]
  },
  {
   "cell_type": "code",
   "execution_count": 458,
   "metadata": {},
   "outputs": [
    {
     "name": "stdout",
     "output_type": "stream",
     "text": [
      "BRAF Mutation RED\n",
      "NaN           505\n",
      "BRAF V600E      9\n",
      "wt              8\n",
      "Name: count, dtype: int64\n"
     ]
    }
   ],
   "source": [
    "# Get a summary of the \"Tumorlokalisation COL10\" column\n",
    "summary = df['BRAF Mutation RED'].value_counts()\n",
    "\n",
    "# Display the summary\n",
    "print(summary)"
   ]
  },
  {
   "cell_type": "code",
   "execution_count": 459,
   "metadata": {},
   "outputs": [
    {
     "name": "stdout",
     "output_type": "stream",
     "text": [
      "pT group  BRAF Mutation RED\n",
      "NaN       NaN                    8\n",
      "pT1       NaN                   21\n",
      "pT2       NaN                  102\n",
      "          wt                     1\n",
      "pT3       BRAF V600E             3\n",
      "          NaN                  265\n",
      "          wt                     4\n",
      "pT4       BRAF V600E             6\n",
      "          NaN                  109\n",
      "          wt                     3\n",
      "dtype: int64\n"
     ]
    }
   ],
   "source": [
    "# Group the data by both \"pT group\" and \"pN group\" and count the occurrences\n",
    "summary = df.groupby(['pT group', 'BRAF Mutation RED']).size()\n",
    "\n",
    "# Display the summary\n",
    "print(summary)"
   ]
  },
  {
   "cell_type": "code",
   "execution_count": 503,
   "metadata": {},
   "outputs": [
    {
     "name": "stdout",
     "output_type": "stream",
     "text": [
      "pT group  BRAF Mutation RED\n",
      "NaN       NaN                  100\n",
      "pT1       NaN                  100\n",
      "pT2       NaN                   99\n",
      "          wt                     1\n",
      "pT3       BRAF V600E             1\n",
      "          NaN                   97\n",
      "          wt                     1\n",
      "pT4       BRAF V600E             5\n",
      "          NaN                   92\n",
      "          wt                     3\n",
      "dtype: int64\n"
     ]
    }
   ],
   "source": [
    "# Group the data by 'pT group' and 'Sex' and count the occurrences\n",
    "grouped_counts = df.groupby(['pT group', 'BRAF Mutation RED']).size()\n",
    "\n",
    "# Group the data by 'pT group' and calculate the total count for each 'pT group'\n",
    "pT_group_total_counts = df.groupby('pT group').size()\n",
    "\n",
    "# Calculate the percentages within each 'pT group' and round to the nearest whole number\n",
    "pT_group_percentages = (grouped_counts / pT_group_total_counts * 100).round().astype(int)\n",
    "\n",
    "# Display the percentages for each 'pT group'\n",
    "print(pT_group_percentages)"
   ]
  },
  {
   "cell_type": "code",
   "execution_count": 461,
   "metadata": {},
   "outputs": [
    {
     "name": "stdout",
     "output_type": "stream",
     "text": [
      "HER2 Amplifikation\n",
      "nein    449\n",
      "x        58\n",
      "ja       15\n",
      "Name: count, dtype: int64\n"
     ]
    }
   ],
   "source": [
    "# Get a summary of the \"Tumorlokalisation COL10\" column\n",
    "summary = df['HER2 Amplifikation'].value_counts()\n",
    "\n",
    "# Display the summary\n",
    "print(summary)"
   ]
  },
  {
   "cell_type": "code",
   "execution_count": 462,
   "metadata": {},
   "outputs": [],
   "source": [
    "df['HER2 Amplifikation'] = df['HER2 Amplifikation'].replace(\"x\", \"NaN\")"
   ]
  },
  {
   "cell_type": "code",
   "execution_count": 463,
   "metadata": {},
   "outputs": [
    {
     "name": "stdout",
     "output_type": "stream",
     "text": [
      "HER2 Amplifikation\n",
      "nein    449\n",
      "NaN      58\n",
      "ja       15\n",
      "Name: count, dtype: int64\n"
     ]
    }
   ],
   "source": [
    "# Get a summary of the \"Tumorlokalisation COL10\" column\n",
    "summary = df['HER2 Amplifikation'].value_counts()\n",
    "\n",
    "# Display the summary\n",
    "print(summary)"
   ]
  },
  {
   "cell_type": "code",
   "execution_count": 464,
   "metadata": {},
   "outputs": [
    {
     "name": "stdout",
     "output_type": "stream",
     "text": [
      "pT group  HER2 Amplifikation\n",
      "NaN       NaN                     2\n",
      "          nein                    6\n",
      "pT1       NaN                     3\n",
      "          ja                      1\n",
      "          nein                   17\n",
      "pT2       NaN                     7\n",
      "          ja                      4\n",
      "          nein                   92\n",
      "pT3       NaN                    33\n",
      "          ja                      6\n",
      "          nein                  233\n",
      "pT4       NaN                    13\n",
      "          ja                      4\n",
      "          nein                  101\n",
      "dtype: int64\n"
     ]
    }
   ],
   "source": [
    "# Group the data by both \"pT group\" and \"pN group\" and count the occurrences\n",
    "summary = df.groupby(['pT group', 'HER2 Amplifikation']).size()\n",
    "\n",
    "# Display the summary\n",
    "print(summary)"
   ]
  },
  {
   "cell_type": "code",
   "execution_count": 505,
   "metadata": {},
   "outputs": [
    {
     "name": "stdout",
     "output_type": "stream",
     "text": [
      "pT group  HER2 Amplifikation\n",
      "NaN       NaN                   25\n",
      "          nein                  75\n",
      "pT1       NaN                   14\n",
      "          ja                     5\n",
      "          nein                  81\n",
      "pT2       NaN                    7\n",
      "          ja                     4\n",
      "          nein                  89\n",
      "pT3       NaN                   12\n",
      "          ja                     2\n",
      "          nein                  86\n",
      "pT4       NaN                   11\n",
      "          ja                     3\n",
      "          nein                  86\n",
      "dtype: int64\n"
     ]
    }
   ],
   "source": [
    "# Group the data by 'pT group' and 'Sex' and count the occurrences\n",
    "grouped_counts = df.groupby(['pT group', 'HER2 Amplifikation']).size()\n",
    "\n",
    "# Group the data by 'pT group' and calculate the total count for each 'pT group'\n",
    "pT_group_total_counts = df.groupby('pT group').size()\n",
    "\n",
    "# Calculate the percentages within each 'pT group' and round to the nearest whole number\n",
    "pT_group_percentages = (grouped_counts / pT_group_total_counts * 100).round().astype(int)\n",
    "\n",
    "# Display the percentages for each 'pT group'\n",
    "print(pT_group_percentages)"
   ]
  },
  {
   "cell_type": "code",
   "execution_count": 466,
   "metadata": {},
   "outputs": [
    {
     "name": "stdout",
     "output_type": "stream",
     "text": [
      "Sex\n",
      "m    278\n",
      "w    244\n",
      "Name: count, dtype: int64\n"
     ]
    }
   ],
   "source": [
    "# Get a summary of the \"Tumorlokalisation COL10\" column\n",
    "summary = df['Sex'].value_counts()\n",
    "\n",
    "# Display the summary\n",
    "print(summary)"
   ]
  },
  {
   "cell_type": "code",
   "execution_count": 467,
   "metadata": {},
   "outputs": [
    {
     "name": "stdout",
     "output_type": "stream",
     "text": [
      "pT group  Sex\n",
      "NaN       m        6\n",
      "          w        2\n",
      "pT1       m       12\n",
      "          w        9\n",
      "pT2       m       57\n",
      "          w       46\n",
      "pT3       m      151\n",
      "          w      121\n",
      "pT4       m       52\n",
      "          w       66\n",
      "dtype: int64\n"
     ]
    }
   ],
   "source": [
    "# Group the data by both \"pT group\" and \"pN group\" and count the occurrences\n",
    "summary = df.groupby(['pT group', 'Sex']).size()\n",
    "\n",
    "# Display the summary\n",
    "print(summary)"
   ]
  },
  {
   "cell_type": "code",
   "execution_count": 481,
   "metadata": {},
   "outputs": [
    {
     "name": "stdout",
     "output_type": "stream",
     "text": [
      "pT group  Sex\n",
      "NaN       m      75\n",
      "          w      25\n",
      "pT1       m      57\n",
      "          w      43\n",
      "pT2       m      55\n",
      "          w      45\n",
      "pT3       m      56\n",
      "          w      44\n",
      "pT4       m      44\n",
      "          w      56\n",
      "dtype: int64\n"
     ]
    }
   ],
   "source": [
    "# Group the data by 'pT group' and 'Sex' and count the occurrences\n",
    "grouped_counts = df.groupby(['pT group', 'Sex']).size()\n",
    "\n",
    "# Group the data by 'pT group' and calculate the total count for each 'pT group'\n",
    "pT_group_total_counts = df.groupby('pT group').size()\n",
    "\n",
    "# Calculate the percentages within each 'pT group' and round to the nearest whole number\n",
    "pT_group_percentages = (grouped_counts / pT_group_total_counts * 100).round().astype(int)\n",
    "\n",
    "# Display the percentages for each 'pT group'\n",
    "print(pT_group_percentages)"
   ]
  },
  {
   "cell_type": "code",
   "execution_count": 489,
   "metadata": {},
   "outputs": [],
   "source": [
    "# Remove the space between a letter and a digit in the \"TMA Localisation\" column\n",
    "df['TMA Localisation'] = df['TMA Localisation'].str.replace(r'(\\D) (\\d)', r'\\1\\2', regex=True)"
   ]
  },
  {
   "cell_type": "code",
   "execution_count": 507,
   "metadata": {},
   "outputs": [
    {
     "name": "stdout",
     "output_type": "stream",
     "text": [
      "Folder names have been saved to /Users/teresaglauner/Documents/Hamburg_folder/CRC_TMA/summary_clinical_data_modified.csv.\n"
     ]
    }
   ],
   "source": [
    "# Specify the path for the CSV file\n",
    "csv_file_path = '/Users/teresaglauner/Documents/Hamburg_folder/CRC_TMA/summary_clinical_data_modified.csv'\n",
    "\n",
    "# Save the DataFrame to the specified CSV file\n",
    "df.to_csv(csv_file_path, index=False)\n",
    "\n",
    "print(f\"Folder names have been saved to {csv_file_path}.\")"
   ]
  },
  {
   "cell_type": "code",
   "execution_count": 508,
   "metadata": {},
   "outputs": [
    {
     "name": "stdout",
     "output_type": "stream",
     "text": [
      "Data has been saved to /Users/teresaglauner/Documents/Hamburg_folder/CRC_TMA/summary_clinical_data_modified.xlsx.\n"
     ]
    }
   ],
   "source": [
    "# Specify the path for the Excel file\n",
    "excel_file_path = '/Users/teresaglauner/Documents/Hamburg_folder/CRC_TMA/summary_clinical_data_modified.xlsx'\n",
    "\n",
    "# Save the DataFrame to the specified Excel file\n",
    "df.to_excel(excel_file_path, index=False)\n",
    "\n",
    "print(f\"Data has been saved to {excel_file_path}.\")\n"
   ]
  }
 ],
 "metadata": {
  "kernelspec": {
   "display_name": "pre-processing",
   "language": "python",
   "name": "python3"
  },
  "language_info": {
   "codemirror_mode": {
    "name": "ipython",
    "version": 3
   },
   "file_extension": ".py",
   "mimetype": "text/x-python",
   "name": "python",
   "nbconvert_exporter": "python",
   "pygments_lexer": "ipython3",
   "version": "3.9.17"
  },
  "orig_nbformat": 4
 },
 "nbformat": 4,
 "nbformat_minor": 2
}
