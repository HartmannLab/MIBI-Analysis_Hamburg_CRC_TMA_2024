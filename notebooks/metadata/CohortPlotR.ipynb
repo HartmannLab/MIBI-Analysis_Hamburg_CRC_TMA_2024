{
 "cells": [
  {
   "cell_type": "code",
   "execution_count": 18,
   "metadata": {
    "vscode": {
     "languageId": "r"
    }
   },
   "outputs": [],
   "source": [
    "library(tidyr)\n",
    "library(dplyr)\n",
    "library(ggplot2)\n",
    "library(readr)\n",
    "library(forcats)\n",
    "library(ggnewscale)\n",
    "library(stringr)\n"
   ]
  },
  {
   "cell_type": "code",
   "execution_count": null,
   "metadata": {
    "vscode": {
     "languageId": "r"
    }
   },
   "outputs": [],
   "source": [
    "# Load clinical data\n",
    "clini <- read_csv(\"../../data/summary_clinical_data_modified.csv\", na = c(\"\", \"NA\", \"NaN\"))\n",
    "# List profiled FOVs\n",
    "profiled_fovs <- unique(read_csv(\"../../data/cell_table_with_types_stage.csv\")$fov)\n",
    "clini <- clini %>% filter(`TMA Localisation` %in% profiled_fovs)"
   ]
  },
  {
   "cell_type": "code",
   "execution_count": 20,
   "metadata": {
    "vscode": {
     "languageId": "r"
    }
   },
   "outputs": [],
   "source": [
    "# Create ordered pT groups and reorder TMA locations\n",
    "clini <- clini %>%\n",
    "  mutate(`pT group` = factor(`pT group`, \n",
    "                            levels = c(\"pT1\", \"pT2\", \"pT3\", \"pT4\"),\n",
    "                            ordered = TRUE)) %>%\n",
    "  # Get TMA locations in pT group order\n",
    "  arrange(`pT group`) %>%\n",
    "  mutate(`TMA Localisation` = factor(`TMA Localisation`, \n",
    "                                    levels = unique(`TMA Localisation`),\n",
    "                                    ordered = TRUE))"
   ]
  },
  {
   "cell_type": "code",
   "execution_count": null,
   "metadata": {
    "vscode": {
     "languageId": "r"
    }
   },
   "outputs": [],
   "source": [
    "table(clini %>% select(\"RAS Mutation RED\"))"
   ]
  },
  {
   "cell_type": "code",
   "execution_count": null,
   "metadata": {
    "vscode": {
     "languageId": "r"
    }
   },
   "outputs": [],
   "source": [
    "# Equivalent to clini.isna().sum()\n",
    "is.na(clini) %>% colSums()"
   ]
  },
  {
   "cell_type": "code",
   "execution_count": 23,
   "metadata": {
    "vscode": {
     "languageId": "r"
    }
   },
   "outputs": [],
   "source": [
    "# Define bins based on thirds for age and tumor size\n",
    "size_bins = clini %>% select(`Tumordurchmesser (mm)`) %>% quantile(probs = c(0, 1/3, 2/3, 1), na.rm = TRUE)\n",
    "age_bins = clini %>% select(`Age`) %>% quantile(probs = c(0, 1/3, 2/3, 1), na.rm = TRUE)\n",
    "\n",
    "# Refactor data\n",
    "clini <- clini %>%\n",
    "  mutate(\n",
    "    `MS status` = case_when(\n",
    "      `MSI gesamt RED` == \"stabil\" ~ \"MSS\",\n",
    "      `MSI gesamt RED` == \"instabil\" ~ \"MSI\",\n",
    "      TRUE ~ NA_character_\n",
    "    ),\n",
    "    pT = str_remove(`pT group`, \"^p\"),\n",
    "    pN = str_remove(`pN group`, \"^p\"),\n",
    "    `Tumor size` = case_when(\n",
    "      `Tumordurchmesser (mm)` <= size_bins[2] ~ \"Small [8-35 mm]\",\n",
    "      `Tumordurchmesser (mm)` <= size_bins[3] ~ \"Medium [36-51 mm]\",\n",
    "      `Tumordurchmesser (mm)` <= size_bins[4] ~ \"Large [52-145 mm]\",\n",
    "      TRUE ~ NA_character_\n",
    "    ),\n",
    "    `Age bins` = case_when(\n",
    "      Age <= age_bins[2] ~ \"[18-66]\",\n",
    "      Age <= age_bins[3] ~ \"[67-77]\",\n",
    "      Age <= age_bins[4] ~ \"[78-99]\",\n",
    "      TRUE ~ NA_character_\n",
    "    ),\n",
    "    `Tumor side` = case_when(\n",
    "      `Tumor Seite alle` == \"rechts\" ~ \"Right\",\n",
    "      `Tumor Seite alle` == \"links\" ~ \"Left\",\n",
    "      TRUE ~ NA_character_\n",
    "    ),\n",
    "    `Tumor location` = case_when(\n",
    "      `Tumorlokalisation alle RED` == \"Ascendens\" ~ \"Ascending\",\n",
    "      `Tumorlokalisation alle RED` == \"Descendens\" ~ \"Descending\",\n",
    "      `Tumorlokalisation alle RED` == \"Rektum\" ~ \"Rectum\",\n",
    "      `Tumorlokalisation alle RED` == \"Sigma\" ~ \"Sigmoid\",\n",
    "      `Tumorlokalisation alle RED` == \"Transversum\" ~ \"Transverse\",\n",
    "      `Tumorlokalisation alle RED` == \"Zoekum\" ~ \"Cecum\",\n",
    "      TRUE ~ NA_character_\n",
    "    ),\n",
    "    `RAS mutation` = case_when(\n",
    "      `RAS Mutation RED 2` == \"wt\" ~ \"WT\",\n",
    "      `RAS Mutation RED 2` == \"RAS Mut.\" ~ \"Mutant\",\n",
    "      TRUE ~ NA_character_\n",
    "    ),\n",
    "    `HER amplification` = case_when(\n",
    "      `HER2 Amplifikation` == \"nein\" ~ \"Negative\",\n",
    "      `HER2 Amplifikation` == \"ja\" ~ \"Positive\",\n",
    "      TRUE ~ NA_character_\n",
    "    ),\n",
    "    `Sex2` = case_when(\n",
    "      `Sex` == \"m\" ~ \"Man\",\n",
    "      `Sex` == \"w\" ~ \"Woman\",\n",
    "    )\n",
    "  )\n",
    "# Also redefine bins for age and tumor size to thirds"
   ]
  },
  {
   "cell_type": "code",
   "execution_count": null,
   "metadata": {
    "vscode": {
     "languageId": "r"
    }
   },
   "outputs": [],
   "source": [
    "gp <- ggplot(clini, aes(x = `TMA Localisation`)) +\n",
    "  geom_tile(aes(fill = `MS status`, y = 1)) +\n",
    "  scale_fill_brewer(name = \"MS status\", \n",
    "    palette = \"Reds\",\n",
    "    direction = -1,\n",
    "    na.value = \"#dcdcdc\") +\n",
    "  new_scale_fill() +\n",
    "  geom_tile(aes(fill = `pN`, y = 2)) +\n",
    "  scale_fill_brewer(name = \"N staging\", \n",
    "    palette = \"Greens\",\n",
    "    direction = -1,\n",
    "    na.value = \"#dcdcdc\") +\n",
    "  new_scale_fill() +\n",
    "  scale_fill_brewer(name = \"T staging\", \n",
    "    palette = \"Purples\",\n",
    "    na.value = \"#dcdcdc\") +\n",
    "  geom_tile(aes(fill = `pT`, y = 3)) +\n",
    "  ylim(-7,3.5) +\n",
    "  coord_polar() +\n",
    "  theme_minimal() +\n",
    "  theme(\n",
    "    axis.text = element_blank(),\n",
    "    axis.ticks = element_blank(),\n",
    "    axis.title = element_blank(),\n",
    "    panel.grid.major = element_blank(),  # Remove major grid\n",
    "  ) +\n",
    "  guides(fill = guide_legend(order = 1),\n",
    "         fill1 = guide_legend(order = 2),\n",
    "         fill2 = guide_legend(order = 3))\n",
    "\n",
    "  ggsave(\"../../figures/fig1/clinical_data_circular.pdf\", plot = gp, width = 6.5, height = 6.5, dpi = 300)\n",
    "  gp"
   ]
  },
  {
   "cell_type": "code",
   "execution_count": null,
   "metadata": {
    "vscode": {
     "languageId": "r"
    }
   },
   "outputs": [],
   "source": [
    "# Define variable specifications\n",
    "var_specs <- data.frame(\n",
    "  var_name = c(\"T staging\", \"N staging\", \"MS status\", \"Age group\", \"Sex\",\n",
    "               \"Tumor size\", \"Tumor side\", \"Tumor location\", \n",
    "               \"RAS mutation\", \"HER2 amplification\"),\n",
    "  col_name = c(\"pT\", \"pN\", \"MS status\", \"Age bins\", \"Sex2\",\n",
    "               \"Tumor size\", \"Tumor side\", \"Tumor location\",\n",
    "               \"RAS mutation\", \"HER amplification\"),\n",
    "  palette = c(\"Purples\", \"Greens\", \"Reds\", \"Pastel1\", \"Pastel2\",\n",
    "              \"Oranges\", \"Set2\", \"Accent\", \"Set3\", \"Dark2\"),\n",
    "  palette_dir = 1 \n",
    ")\n",
    "var_specs$row_position <- nrow(var_specs):1 # Reverse order for plotting from top to bottom,\n",
    "var_specs$palette_dir[2] <- -1\n",
    "var_specs$palette_dir[3] <- -1\n",
    "var_specs$palette_dir[6] <- -1\n",
    "\n",
    "# Helper function with ordered factors\n",
    "add_variable_layers <- function(plot, var_spec) {\n",
    "  plot +\n",
    "    new_scale_fill() +\n",
    "    geom_tile(aes(fill = .data[[var_spec$col_name]], \n",
    "                  y = factor(var_spec$var_name,\n",
    "                           levels = var_specs$var_name[order(var_specs$row_position)]))) +\n",
    "    scale_fill_brewer(name = var_spec$var_name,\n",
    "                     palette = var_spec$palette,\n",
    "                     na.value = \"#dcdcdc\",\n",
    "                     direction = var_spec$palette_dir,\n",
    "                     guide = guide_legend(order = 100 - var_spec$row_position))\n",
    "}\n",
    "\n",
    "# Create base plot\n",
    "gp <- ggplot(clini, aes(x = `TMA Localisation`))\n",
    "\n",
    "# Add layers in order of row_position\n",
    "var_specs_ordered <- var_specs[order(var_specs$row_position), ]\n",
    "for(i in 1:nrow(var_specs_ordered)) {\n",
    "  gp <- add_variable_layers(gp, var_specs_ordered[i,])\n",
    "}\n",
    "\n",
    "# Add theme and guides with ordered legends\n",
    "gp <- gp +\n",
    "  theme_minimal() +\n",
    "  theme(\n",
    "    axis.text.x = element_blank(),\n",
    "    axis.ticks = element_blank(),\n",
    "    axis.title = element_blank(),\n",
    "    panel.grid.major = element_blank(),\n",
    "    legend.position = \"bottom\",\n",
    "    legend.box = \"vertical\",\n",
    "    legend.spacing = unit(0, \"cm\")\n",
    "  ) \n",
    "\n",
    "ggsave(\"../../figures/fig1/clinical_data_heatmap.pdf\", \n",
    "       plot = gp, width = 13, height = 6.5, dpi = 300)\n",
    "gp"
   ]
  }
 ],
 "metadata": {
  "kernelspec": {
   "display_name": "Kasumi",
   "language": "R",
   "name": "kasumi"
  },
  "language_info": {
   "codemirror_mode": "r",
   "file_extension": ".r",
   "mimetype": "text/x-r-source",
   "name": "R",
   "pygments_lexer": "r",
   "version": "4.3.3"
  }
 },
 "nbformat": 4,
 "nbformat_minor": 2
}
