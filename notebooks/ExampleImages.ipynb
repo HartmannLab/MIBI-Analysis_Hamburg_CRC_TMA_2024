{
 "cells": [
  {
   "cell_type": "markdown",
   "metadata": {},
   "source": [
    "# Comp pipeline viz\n",
    "In this notebook, we aim to generate example images demonstrating the cellular profiling pipeline (segmentation, filtering and cell type annotation).  \n",
    "For this, we need the raw images and pre-filtered tables (similar to the actual filtering script), as well as the filtered segmentation masks and the corresponding cell type annotations."
   ]
  },
  {
   "cell_type": "markdown",
   "metadata": {},
   "source": [
    "## Load Python libraries"
   ]
  },
  {
   "cell_type": "code",
   "execution_count": 1,
   "metadata": {},
   "outputs": [],
   "source": [
    "import os\n",
    "import pandas as pd\n",
    "from plotnine import *"
   ]
  },
  {
   "cell_type": "markdown",
   "metadata": {},
   "source": [
    "## Set up BioProfiling.jl"
   ]
  },
  {
   "cell_type": "code",
   "execution_count": 2,
   "metadata": {},
   "outputs": [
    {
     "name": "stderr",
     "output_type": "stream",
     "text": [
      "┌ Error: Error during loading of extension AdaptStaticArraysExt of Adapt, use `Base.retry_load_extensions()` to retry.\n",
      "│   exception =\n",
      "│    1-element ExceptionStack:\n",
      "│    LoadError: ArgumentError: Package AdaptStaticArraysCoreExt does not have Adapt in its dependencies:\n",
      "│    - You may have a partially installed environment. Try `Pkg.instantiate()`\n",
      "│      to ensure all packages in the environment are installed.\n",
      "│    - Or, if you have AdaptStaticArraysCoreExt checked out for development and have\n",
      "│      added Adapt as a dependency but haven't updated your primary\n",
      "│      environment's manifest file, try `Pkg.resolve()`.\n",
      "│    - Otherwise you may need to report an issue with AdaptStaticArraysCoreExt\n",
      "│    Stacktrace:\n",
      "│      [1] macro expansion\n",
      "│        @ ./loading.jl:1634 [inlined]\n",
      "│      [2] macro expansion\n",
      "│        @ ./lock.jl:267 [inlined]\n",
      "│      [3] require(into::Module, mod::Symbol)\n",
      "│        @ Base ./loading.jl:1611\n",
      "│      [4] include\n",
      "│        @ ./Base.jl:457 [inlined]\n",
      "│      [5] _require(pkg::Base.PkgId, env::Nothing)\n",
      "│        @ Base ./loading.jl:1836\n",
      "│      [6] _require_prelocked(uuidkey::Base.PkgId, env::Nothing)\n",
      "│        @ Base ./loading.jl:1660\n",
      "│      [7] _require_prelocked(uuidkey::Base.PkgId)\n",
      "│        @ Base ./loading.jl:1658\n",
      "│      [8] run_extension_callbacks(extid::Base.ExtensionId)\n",
      "│        @ Base ./loading.jl:1255\n",
      "│      [9] run_extension_callbacks(pkgid::Base.PkgId)\n",
      "│        @ Base ./loading.jl:1290\n",
      "│     [10] run_package_callbacks(modkey::Base.PkgId)\n",
      "│        @ Base ./loading.jl:1124\n",
      "│     [11] _require_prelocked(uuidkey::Base.PkgId, env::String)\n",
      "│        @ Base ./loading.jl:1667\n",
      "│     [12] macro expansion\n",
      "│        @ ./loading.jl:1648 [inlined]\n",
      "│     [13] macro expansion\n",
      "│        @ ./lock.jl:267 [inlined]\n",
      "│     [14] require(into::Module, mod::Symbol)\n",
      "│        @ Base ./loading.jl:1611\n",
      "│     [15] include\n",
      "│        @ ./Base.jl:457 [inlined]\n",
      "│     [16] _require(pkg::Base.PkgId, env::String)\n",
      "│        @ Base ./loading.jl:1836\n",
      "│     [17] _require_prelocked(uuidkey::Base.PkgId, env::String)\n",
      "│        @ Base ./loading.jl:1660\n",
      "│     [18] macro expansion\n",
      "│        @ ./loading.jl:1648 [inlined]\n",
      "│     [19] macro expansion\n",
      "│        @ ./lock.jl:267 [inlined]\n",
      "│     [20] require(into::Module, mod::Symbol)\n",
      "│        @ Base ./loading.jl:1611\n",
      "│     [21] include\n",
      "│        @ ./Base.jl:457 [inlined]\n",
      "│     [22] _require(pkg::Base.PkgId, env::String)\n",
      "│        @ Base ./loading.jl:1836\n",
      "│     [23] _require_prelocked(uuidkey::Base.PkgId, env::String)\n",
      "│        @ Base ./loading.jl:1660\n",
      "│     [24] macro expansion\n",
      "│        @ ./loading.jl:1648 [inlined]\n",
      "│     [25] macro expansion\n",
      "│        @ ./lock.jl:267 [inlined]\n",
      "│     [26] require(into::Module, mod::Symbol)\n",
      "│        @ Base ./loading.jl:1611\n",
      "│     [27] include\n",
      "│        @ ./Base.jl:457 [inlined]\n",
      "│     [28] _require(pkg::Base.PkgId, env::String)\n",
      "│        @ Base ./loading.jl:1836\n",
      "│     [29] _require_prelocked(uuidkey::Base.PkgId, env::String)\n",
      "│        @ Base ./loading.jl:1660\n",
      "│     [30] macro expansion\n",
      "│        @ ./loading.jl:1648 [inlined]\n",
      "│     [31] macro expansion\n",
      "│        @ ./lock.jl:267 [inlined]\n",
      "│     [32] require(into::Module, mod::Symbol)\n",
      "│        @ Base ./loading.jl:1611\n",
      "│     [33] include\n",
      "│        @ ./Base.jl:457 [inlined]\n",
      "│     [34] _require(pkg::Base.PkgId, env::String)\n",
      "│        @ Base ./loading.jl:1836\n",
      "│     [35] _require_prelocked(uuidkey::Base.PkgId, env::String)\n",
      "│        @ Base ./loading.jl:1660\n",
      "│     [36] macro expansion\n",
      "│        @ ./loading.jl:1648 [inlined]\n",
      "│     [37] macro expansion\n",
      "│        @ ./lock.jl:267 [inlined]\n",
      "│     [38] require(into::Module, mod::Symbol)\n",
      "│        @ Base ./loading.jl:1611\n",
      "│     [39] include\n",
      "│        @ ./Base.jl:457 [inlined]\n",
      "│     [40] _require(pkg::Base.PkgId, env::String)\n",
      "│        @ Base ./loading.jl:1836\n",
      "│     [41] _require_prelocked(uuidkey::Base.PkgId, env::String)\n",
      "│        @ Base ./loading.jl:1660\n",
      "│     [42] macro expansion\n",
      "│        @ ./loading.jl:1648 [inlined]\n",
      "│     [43] macro expansion\n",
      "│        @ ./lock.jl:267 [inlined]\n",
      "│     [44] require(into::Module, mod::Symbol)\n",
      "│        @ Base ./loading.jl:1611\n",
      "│     [45] include\n",
      "│        @ ./Base.jl:457 [inlined]\n",
      "│     [46] _require(pkg::Base.PkgId, env::String)\n",
      "│        @ Base ./loading.jl:1836\n",
      "│     [47] _require_prelocked(uuidkey::Base.PkgId, env::String)\n",
      "│        @ Base ./loading.jl:1660\n",
      "│     [48] macro expansion\n",
      "│        @ ./loading.jl:1648 [inlined]\n",
      "│     [49] macro expansion\n",
      "│        @ ./lock.jl:267 [inlined]\n",
      "│     [50] require(into::Module, mod::Symbol)\n",
      "│        @ Base ./loading.jl:1611\n",
      "│    in expression starting at /opt/julia/packages/Adapt/Ur60R/ext/AdaptStaticArraysExt.jl:1\n",
      "└ @ Base loading.jl:1261\n",
      "WARNING: method definition for checkbounds at /opt/julia/packages/Interpolations/y4lLj/src/Interpolations.jl:454 declares type variable N but does not use it.\n",
      "WARNING: method definition for checkbounds at /opt/julia/packages/Interpolations/y4lLj/src/Interpolations.jl:457 declares type variable N but does not use it.\n",
      "WARNING: method definition for GriddedInterpolation at /opt/julia/packages/Interpolations/y4lLj/src/gridded/gridded.jl:37 declares type variable pad but does not use it.\n",
      "WARNING: method definition for GriddedInterpolation at /opt/julia/packages/Interpolations/y4lLj/src/gridded/gridded.jl:60 declares type variable pad but does not use it.\n",
      "WARNING: method definition for interpolate! at /opt/julia/packages/Interpolations/y4lLj/src/deprecations.jl:30 declares type variable TWeights but does not use it.\n"
     ]
    }
   ],
   "source": [
    "# Just ignore the scary error\n",
    "from julia.api import Julia\n",
    "jl = Julia(compiled_modules=False)\n",
    "from julia import DataFrames, Main\n",
    "import julia.BioProfiling as bp"
   ]
  },
  {
   "cell_type": "code",
   "execution_count": 3,
   "metadata": {},
   "outputs": [
    {
     "name": "stdout",
     "output_type": "stream",
     "text": [
      "Initializing Julia interpreter. This may take some time...\n"
     ]
    }
   ],
   "source": [
    "%load_ext julia.magic"
   ]
  },
  {
   "cell_type": "code",
   "execution_count": 4,
   "metadata": {},
   "outputs": [
    {
     "data": {
      "text/plain": [
       "<PyCall.jlwrap union>"
      ]
     },
     "execution_count": 4,
     "metadata": {},
     "output_type": "execute_result"
    }
   ],
   "source": []
  },
  {
   "cell_type": "code",
   "execution_count": 6,
   "metadata": {},
   "outputs": [
    {
     "data": {
      "text/plain": [
       "<PyCall.jlwrap pd_to_df>"
      ]
     },
     "execution_count": 6,
     "metadata": {},
     "output_type": "execute_result"
    }
   ],
   "source": [
    "%%julia \n",
    "using DataFrames, BioProfiling, PyCall\n",
    "function pd_to_df(df_pd)\n",
    "    df= DataFrame()\n",
    "    for col in df_pd.columns\n",
    "        df[!, col] = getproperty(df_pd, col).values\n",
    "        if eltype(df[:, col]) == PyObject\n",
    "            # Strings are not automatically converted\n",
    "            df[!, col] = PyCall.py\"list($df_pd[$col])\"\n",
    "        end\n",
    "    end\n",
    "    return(df)\n",
    "end"
   ]
  },
  {
   "cell_type": "code",
   "execution_count": 7,
   "metadata": {},
   "outputs": [],
   "source": [
    "%%julia\n",
    "PyCall.py\"\"\"\n",
    "class SymStr():\n",
    "    def __init__(self, *args, **kwargs):\n",
    "        self.s = str(*args, **kwargs)\n",
    "    def __str__(self):\n",
    "        return self.s.__str__()\n",
    "    def __repr__(self):\n",
    "        return f'SymStr(\"{self.__str__()}\")'\n",
    "\"\"\"\n",
    "\n",
    "sym_str_py_type = PyCall.py\"SymStr\";\n",
    "\n",
    "PyCall.PyObject( s :: Symbol ) = PyCall.py\"SymStr($(string(s)))\"o\n",
    "function PyCall.convert( ::Type{Symbol}, po :: PyCall.PyObject ) \n",
    "    sym_str = PyCall.pyisinstance( po, sym_str_py_type ) ? po.s : po;\n",
    "    return Symbol(PyCall.convert(AbstractString, sym_str))\n",
    "end\n",
    "PyCall.pytype_mapping(sym_str_py_type, Symbol)\n",
    "nothing"
   ]
  },
  {
   "cell_type": "markdown",
   "metadata": {},
   "source": [
    "## Load data"
   ]
  },
  {
   "cell_type": "code",
   "execution_count": 49,
   "metadata": {},
   "outputs": [],
   "source": [
    "# Intensity per cells from cellpose segmentation\n",
    "fov = \"A1f\"\n",
    "markers = pd.read_csv(f\"/data/{fov}_cell_table.csv\",\n",
    "                      index_col=0)\n",
    "markers[\"fov\"] = fov"
   ]
  },
  {
   "cell_type": "code",
   "execution_count": 50,
   "metadata": {},
   "outputs": [],
   "source": [
    "markers[\"url\"] = [f\"/data/{fov}/nuclei_clahe.tiff\" for fov in markers.fov]"
   ]
  },
  {
   "cell_type": "code",
   "execution_count": 51,
   "metadata": {},
   "outputs": [],
   "source": [
    "# Used by BioProfiling to describe center of cells\n",
    "markers[\"AreaShape_Center_X\"] = markers[\"centroid-1\"]\n",
    "markers[\"AreaShape_Center_X_1\"] = markers[\"centroid-1\"]\n",
    "markers[\"AreaShape_Center_Y\"] = markers[\"centroid-0\"]\n",
    "markers[\"AreaShape_Center_Y_1\"] = markers[\"centroid-0\"]"
   ]
  },
  {
   "cell_type": "code",
   "execution_count": 52,
   "metadata": {},
   "outputs": [],
   "source": [
    "markers[\"NuclearIntensity\"] = markers.area * markers[\"nuclei_clahe.tiff\"]"
   ]
  },
  {
   "cell_type": "code",
   "execution_count": 53,
   "metadata": {},
   "outputs": [],
   "source": [
    "# Let BioProfiling.jl handle the rest\n",
    "xp = bp.Experiment(Main.pd_to_df(markers))"
   ]
  },
  {
   "cell_type": "code",
   "execution_count": 54,
   "metadata": {},
   "outputs": [],
   "source": [
    "# Which markers do we want to compare? \n",
    "cols_to_discard = [\"chan_39.tiff\", \n",
    "                        \"chan_48.tiff\", \n",
    "                        \"chan_69.tiff\", \n",
    "                        \"chan_71.tiff\",\n",
    "                        \"Fe.tiff\",\n",
    "                        \"Noodle.tiff\",\n",
    "                        \"ASCT2_clahe.tiff\",\n",
    "                        \"membrane.tiff\",\n",
    "                        \"Au.tiff\",\n",
    "                        \"membrane_clahe.tiff\",\n",
    "                        \"GLUT1_clahe.tiff\",\n",
    "                        \"nuclei_clahe.tiff\"]\n",
    "filters = [bp.NameSelector(lambda ft : ft not in cols_to_discard)]"
   ]
  },
  {
   "cell_type": "code",
   "execution_count": 55,
   "metadata": {},
   "outputs": [
    {
     "data": {
      "image/png": "[encoded data removed]",
      "text/plain": [
       "<Figure size 640x480 with 1 Axes>"
      ]
     },
     "metadata": {
      "image/png": {
       "height": 480,
       "width": 640
      },
      "needs_background": "light"
     },
     "output_type": "display_data"
    },
    {
     "data": {
      "text/plain": [
       "<Figure Size: (640 x 480)>"
      ]
     },
     "execution_count": 55,
     "metadata": {},
     "output_type": "execute_result"
    }
   ],
   "source": [
    "ggplot(markers, aes(x = 'area')) +\\\n",
    "    geom_histogram(binwidth = 20) +\\\n",
    "    geom_vline(xintercept = 120, linetype = \"dotted\") +\\\n",
    "    geom_vline(xintercept = 1500, linetype = \"dotted\") +\\\n",
    "    theme_minimal()"
   ]
  },
  {
   "cell_type": "code",
   "execution_count": 56,
   "metadata": {},
   "outputs": [],
   "source": [
    "# We define a filter to be used by BioProfiling\n",
    "filters.append(jl.eval(\"Filter(120, :area, compare = >)\"))\n",
    "\n",
    "# We want to keep cells large enough, but we want to visualize the ones that are excluded\n",
    "# so we define an \"inverse filter\"\n",
    "negf1 = bp.negation(filters[-1])"
   ]
  },
  {
   "cell_type": "code",
   "execution_count": 57,
   "metadata": {},
   "outputs": [],
   "source": [
    "# Same for maximum size, this is an equivalent syntax\n",
    "filters.append(bp.Filter(1500, Main.Symbol(\"area\"), \n",
    "                         compare = lambda a, b: a < b))\n",
    "# Which cells are excluded?\n",
    "negf2 = bp.negation(filters[-1])"
   ]
  },
  {
   "cell_type": "code",
   "execution_count": 58,
   "metadata": {},
   "outputs": [
    {
     "data": {
      "image/png": "[encoded data removed]",
      "text/plain": [
       "<Figure size 640x480 with 1 Axes>"
      ]
     },
     "metadata": {
      "image/png": {
       "height": 480,
       "width": 640
      },
      "needs_background": "light"
     },
     "output_type": "display_data"
    },
    {
     "data": {
      "text/plain": [
       "<Figure Size: (640 x 480)>"
      ]
     },
     "execution_count": 58,
     "metadata": {},
     "output_type": "execute_result"
    }
   ],
   "source": [
    "ggplot(markers, aes(x = 'NuclearIntensity')) +\\\n",
    "    geom_histogram(bins = 100) +\\\n",
    "    scale_x_log10() +\\\n",
    "    geom_vline(xintercept = 2e3, linetype = \"dotted\") +\\\n",
    "    theme_minimal()"
   ]
  },
  {
   "cell_type": "code",
   "execution_count": 59,
   "metadata": {},
   "outputs": [],
   "source": [
    "filters.append(bp.Filter(2e3, \n",
    "                         Main.Symbol(\"NuclearIntensity\"), \n",
    "                         compare = lambda a, b: a > b))\n",
    "# Which cells are excluded?\n",
    "negf4 = bp.negation(filters[-1])"
   ]
  },
  {
   "cell_type": "code",
   "execution_count": 60,
   "metadata": {},
   "outputs": [
    {
     "data": {
      "image/png": "[encoded data removed]",
      "text/plain": [
       "<Figure size 640x480 with 1 Axes>"
      ]
     },
     "metadata": {
      "image/png": {
       "height": 480,
       "width": 640
      },
      "needs_background": "light"
     },
     "output_type": "display_data"
    },
    {
     "data": {
      "text/plain": [
       "<Figure Size: (640 x 480)>"
      ]
     },
     "execution_count": 60,
     "metadata": {},
     "output_type": "execute_result"
    }
   ],
   "source": [
    "ggplot(markers, aes(x = 'Au.tiff')) +\\\n",
    "    geom_histogram(bins = 200) +\\\n",
    "    scale_x_log10() +\\\n",
    "    geom_vline(xintercept = 1000, linetype = \"dotted\") +\\\n",
    "    theme_minimal()"
   ]
  },
  {
   "cell_type": "code",
   "execution_count": 61,
   "metadata": {},
   "outputs": [],
   "source": [
    "filters.append(bp.Filter(1000, \n",
    "                         Main.Symbol(\"Au.tiff\"), \n",
    "                         compare = lambda a, b: a < b))\n",
    "# Which cells are excluded?\n",
    "negf5 = bp.negation(filters[-1])"
   ]
  },
  {
   "cell_type": "markdown",
   "metadata": {},
   "source": [
    "Image 1: size-filtered cells"
   ]
  },
  {
   "cell_type": "code",
   "execution_count": 62,
   "metadata": {},
   "outputs": [],
   "source": [
    "disp_filt1 = bp.CombinationFilter(negf1, negf2, Main.union)"
   ]
  },
  {
   "cell_type": "code",
   "execution_count": 64,
   "metadata": {},
   "outputs": [
    {
     "data": {
      "text/plain": [
       "'./manuscript_images/A1f/size_filter.tiff'"
      ]
     },
     "execution_count": 64,
     "metadata": {},
     "output_type": "execute_result"
    }
   ],
   "source": [
    "%%julia\n",
    "\n",
    "# Folder where the filtered cell images will be stored\n",
    "filterfolder = \"./manuscript_images/\"\n",
    "\n",
    "# Define the substitution for channel paths\n",
    "rgbrgx = [[\"nuclei_clahe\" => \"black\"], [\"nuclei_clahe\" => \"membrane_clahe\"], []]\n",
    "\n",
    "# Access Python objects\n",
    "xp = py\"xp\"\n",
    "disp_filt1 = py\"disp_filt1\"\n",
    "fov = py\"fov\"\n",
    "\n",
    "# If something is filtered out\n",
    "if !isempty(filter_entries(xp, disp_filt1))\n",
    "    diagnostic_images(xp, disp_filt1, :url,\n",
    "                        path = filterfolder,\n",
    "                        rgb = rgbrgx,\n",
    "                        center = true,\n",
    "                        show = false, saveimages = true, \n",
    "                        savelimit = 1, # How many example images do you want?\n",
    "                        keepsubfolders = 1)\n",
    "\n",
    "    # Move filtered image to keep individual filters separate\n",
    "    mv(joinpath(filterfolder, string(fov), \"nuclei_clahe.tiff\"), \n",
    "        joinpath(filterfolder, string(fov), \"size_filter.tiff\"),\n",
    "        force=true)\n",
    "end"
   ]
  },
  {
   "cell_type": "markdown",
   "metadata": {},
   "source": [
    "Image 2: gold-filtered cells"
   ]
  },
  {
   "cell_type": "code",
   "execution_count": 65,
   "metadata": {},
   "outputs": [
    {
     "data": {
      "text/plain": [
       "'./manuscript_images/A1f/gold_filter.tiff'"
      ]
     },
     "execution_count": 65,
     "metadata": {},
     "output_type": "execute_result"
    }
   ],
   "source": [
    "%%julia\n",
    "\n",
    "# Folder where the filtered cell images will be stored\n",
    "filterfolder = \"./manuscript_images/\"\n",
    "\n",
    "# Define the substitution for channel paths\n",
    "rgbrgx = [[\"nuclei_clahe\" => \"Au_16\"], [\"nuclei_clahe\" => \"Au_16\"], []]\n",
    "\n",
    "# Access Python objects\n",
    "xp = py\"xp\"\n",
    "disp_filt1 = py\"negf5\"\n",
    "fov = py\"fov\"\n",
    "\n",
    "# If something is filtered out\n",
    "if !isempty(filter_entries(xp, disp_filt1))\n",
    "    diagnostic_images(xp, disp_filt1, :url,\n",
    "                        path = filterfolder,\n",
    "                        rgb = rgbrgx,\n",
    "                        center = true,\n",
    "                        show = false, saveimages = true, \n",
    "                        savelimit = 1, # How many example images do you want?\n",
    "                        keepsubfolders = 1)\n",
    "\n",
    "    # Move filtered image to keep individual filters separate\n",
    "    mv(joinpath(filterfolder, string(fov), \"nuclei_clahe.tiff\"), \n",
    "        joinpath(filterfolder, string(fov), \"gold_filter.tiff\"),\n",
    "        force=true)\n",
    "end"
   ]
  },
  {
   "cell_type": "markdown",
   "metadata": {},
   "source": [
    "## Cell type annotation example"
   ]
  },
  {
   "cell_type": "code",
   "execution_count": 96,
   "metadata": {},
   "outputs": [],
   "source": [
    "import pandas as pd\n",
    "import numpy as np\n",
    "from collections import defaultdict\n",
    "from skimage import io"
   ]
  },
  {
   "cell_type": "code",
   "execution_count": 74,
   "metadata": {},
   "outputs": [],
   "source": [
    "# Fov to annotation\n",
    "fov = \"A3o\""
   ]
  },
  {
   "cell_type": "code",
   "execution_count": 83,
   "metadata": {},
   "outputs": [],
   "source": [
    "# Load cell type annotation\n",
    "annot = pd.read_csv(\"/data/annotation_consensus.csv\", header = None)\n",
    "annot = annot.loc[annot[0] == fov, 1:]"
   ]
  },
  {
   "cell_type": "code",
   "execution_count": 84,
   "metadata": {},
   "outputs": [],
   "source": [
    "# Load cell masks\n",
    "cell_masks = io.imread(f\"/data/{fov}/segmentation_filtered.tiff\")"
   ]
  },
  {
   "cell_type": "code",
   "execution_count": 97,
   "metadata": {},
   "outputs": [],
   "source": [
    "# Define a cell type to color mapping\n",
    "cell_type_to_color = defaultdict(lambda: (255, 0, 255)) # Default to immune color\n",
    "cell_type_to_color[\"Unclear\"] = [200, 200, 200]\n",
    "cell_type_to_color[\"CAF\"] = [0, 255, 0]\n",
    "cell_type_to_color[\"Cancer_cell\"] = [255, 255, 0]\n",
    "cell_type_to_color[\"Endothelial_cell\"] = [0, 255, 255]"
   ]
  },
  {
   "cell_type": "code",
   "execution_count": 102,
   "metadata": {},
   "outputs": [],
   "source": [
    "# Cell IDs should match\n",
    "assert np.max(cell_masks) == annot[1].max()\n",
    "\n",
    "# We go from a grey-scale image to a RGB image\n",
    "annotated_masks = np.zeros((cell_masks.shape[0], cell_masks.shape[1], 3), dtype = np.uint8)\n",
    "\n",
    "# For each pixel \n",
    "for i in range(annotated_masks.shape[0]):\n",
    "    for j in range(annotated_masks.shape[1]):\n",
    "        cell_id = cell_masks[i, j]\n",
    "        if cell_id != 0:\n",
    "            cell_type = annot.loc[annot[1] == cell_id, 2].values[0]\n",
    "            annotated_masks[i, j] = cell_type_to_color[cell_type]"
   ]
  },
  {
   "cell_type": "code",
   "execution_count": 105,
   "metadata": {},
   "outputs": [],
   "source": [
    "io.imsave(f\"./manuscript_images/{fov}/annotation.tiff\", annotated_masks)"
   ]
  }
 ],
 "metadata": {
  "kernelspec": {
   "display_name": "Python 3 (ipykernel)",
   "language": "python",
   "name": "python3"
  }
 },
 "nbformat": 4,
 "nbformat_minor": 2
}
