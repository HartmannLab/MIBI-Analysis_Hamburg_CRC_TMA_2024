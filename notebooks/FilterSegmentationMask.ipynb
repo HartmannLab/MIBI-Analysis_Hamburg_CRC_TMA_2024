{
 "cells": [
  {
   "cell_type": "markdown",
   "metadata": {},
   "source": [
    "# Segmentation mask filtering\n",
    "This ensures that cells filtered out in a cell table are removed from corresponding. Objects are NOT renumbered (such that they still match labelling from the cell table)."
   ]
  },
  {
   "cell_type": "markdown",
   "metadata": {},
   "source": [
    "## Load Python libraries"
   ]
  },
  {
   "cell_type": "code",
   "execution_count": null,
   "metadata": {},
   "outputs": [],
   "source": [
    "import os\n",
    "import pandas as pd\n",
    "from PIL import Image\n",
    "import numpy as np"
   ]
  },
  {
   "cell_type": "markdown",
   "metadata": {},
   "source": [
    "## Set up"
   ]
  },
  {
   "cell_type": "code",
   "execution_count": null,
   "metadata": {},
   "outputs": [],
   "source": [
    "# Location of input / output files\n",
    "# No change needed if you provided location in the Docker run command\n",
    "input_dir = \"/data/\"\n",
    "output_dir = input_dir # same as input, new filtered segmentation mask\n",
    "# Name of segmentation mask file\n",
    "seg_file = \"cellpose_filtered.tiff\""
   ]
  },
  {
   "cell_type": "markdown",
   "metadata": {},
   "source": [
    "## Filtering"
   ]
  },
  {
   "cell_type": "code",
   "execution_count": null,
   "metadata": {},
   "outputs": [],
   "source": [
    "all_markers = pd.read_csv(\"/data/cell_table.csv\", index_col=0)\n",
    "# List only folders in /data directory\n",
    "fovs = [f for f in os.listdir(\"/data/\") \n",
    "        if os.path.isdir(f\"/data/{f}\")\n",
    "        and f[0] != \".\"]"
   ]
  },
  {
   "cell_type": "code",
   "execution_count": null,
   "metadata": {},
   "outputs": [],
   "source": [
    "for fov in fovs:\n",
    "    labs = all_markers[all_markers[\"fov\"] == fov][\"label\"]\n",
    "    seg = np.array(Image.open(f\"{input_dir}/{fov}/{seg_file}\"))\n",
    "    filt_mask = np.isin(seg, labs)\n",
    "    seg[~filt_mask] = 0\n",
    "    Image.fromarray(seg).save(f\"{output_dir}/{fov}/segmentation_filtered.tiff\")"
   ]
  }
 ],
 "metadata": {
  "kernelspec": {
   "display_name": "Python 3 (ipykernel)",
   "language": "python",
   "name": "python3"
  },
  "language_info": {
   "codemirror_mode": {
    "name": "ipython",
    "version": 3
   },
   "file_extension": ".py",
   "mimetype": "text/x-python",
   "name": "python",
   "nbconvert_exporter": "python",
   "pygments_lexer": "ipython3",
   "version": "3.11.4"
  }
 },
 "nbformat": 4,
 "nbformat_minor": 2
}
